{
 "cells": [
  {
   "cell_type": "code",
   "execution_count": 1,
   "metadata": {},
   "outputs": [],
   "source": [
    "import utils\n",
    "import gensim"
   ]
  },
  {
   "cell_type": "code",
   "execution_count": 2,
   "metadata": {},
   "outputs": [],
   "source": [
    "model = gensim.models.FastText.load(\"model.model\")"
   ]
  },
  {
   "cell_type": "code",
   "execution_count": 3,
   "metadata": {},
   "outputs": [],
   "source": [
    "most_similars_precalc = {word : model.wv.most_similar(word, topn = 3) for word in model.wv.index2word}"
   ]
  },
  {
   "cell_type": "code",
   "execution_count": 4,
   "metadata": {},
   "outputs": [
    {
     "name": "stdout",
     "output_type": "stream",
     "text": [
      "<UNK> [('collins', 0.8035780191421509), ('colin', 0.7875848412513733), ('orchestra', 0.7732594609260559)]\n",
      "the [(\"'the\", 0.5721551179885864), ('theo', 0.49171945452690125), ('forsythe', 0.4505270719528198)]\n",
      "and [('andy', 0.40729665756225586), ('andre', 0.38291192054748535), ('\\x97', 0.3555228114128113)]\n",
      "a [('another', 0.3351508378982544), (\"'a\", 0.3136712908744812), ('an', 0.26707687973976135)]\n",
      "of [('amongst', 0.38848626613616943), ('including', 0.38612014055252075), ('roof', 0.378084659576416)]\n",
      "to [('puerto', 0.6723020076751709), ('auto', 0.6493955850601196), ('ghetto', 0.62141352891922)]\n",
      "is [('was', 0.7622289061546326), (\"isn't\", 0.6452545523643494), (\"here's\", 0.5208658576011658)]\n",
      "br [('spoiler', 0.5589567422866821), ('spoilers', 0.5530575513839722), ('anyway', 0.5000160932540894)]\n",
      "in [('during', 0.5630651712417603), ('durbin', 0.495525985956192), ('inc', 0.4877608120441437)]\n",
      "it [('item', 0.7631620168685913), ('it´s', 0.7187873125076294), ('iturbi', 0.6797153949737549)]\n"
     ]
    }
   ],
   "source": [
    "for i, (key, value) in enumerate(most_similars_precalc.items()):\n",
    "    if i == 10:\n",
    "        break\n",
    "    print(key, value)"
   ]
  },
  {
   "cell_type": "code",
   "execution_count": null,
   "metadata": {},
   "outputs": [],
   "source": []
  }
 ],
 "metadata": {
  "kernelspec": {
   "display_name": "Python 3",
   "language": "python",
   "name": "python3"
  },
  "language_info": {
   "codemirror_mode": {
    "name": "ipython",
    "version": 3
   },
   "file_extension": ".py",
   "mimetype": "text/x-python",
   "name": "python",
   "nbconvert_exporter": "python",
   "pygments_lexer": "ipython3",
   "version": "3.7.6"
  }
 },
 "nbformat": 4,
 "nbformat_minor": 4
}
