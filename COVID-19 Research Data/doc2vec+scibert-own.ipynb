{
 "cells": [
  {
   "cell_type": "code",
   "execution_count": 1,
   "metadata": {},
   "outputs": [],
   "source": [
    "import os\n",
    "import re\n",
    "import json\n",
    "import utils\n",
    "import scipy\n",
    "import torch\n",
    "import random\n",
    "import gensim\n",
    "import warnings\n",
    "\n",
    "import numpy as np\n",
    "import pandas as pd\n",
    "\n",
    "from tasks import *\n",
    "from pprint import pprint\n",
    "from transformers import *\n",
    "from tqdm.notebook import tqdm\n",
    "from sklearn.cluster import KMeans\n",
    "from sklearn.neighbors import NearestNeighbors"
   ]
  },
  {
   "cell_type": "code",
   "execution_count": 2,
   "metadata": {},
   "outputs": [
    {
     "data": {
      "text/plain": [
       "(40152, 11)"
      ]
     },
     "execution_count": 2,
     "metadata": {},
     "output_type": "execute_result"
    }
   ],
   "source": [
    "complete_df = pd.read_csv(\"data/clean_df.csv\")\n",
    "complete_df.shape"
   ]
  },
  {
   "cell_type": "code",
   "execution_count": 3,
   "metadata": {},
   "outputs": [
    {
     "data": {
      "text/html": [
       "<div>\n",
       "<style scoped>\n",
       "    .dataframe tbody tr th:only-of-type {\n",
       "        vertical-align: middle;\n",
       "    }\n",
       "\n",
       "    .dataframe tbody tr th {\n",
       "        vertical-align: top;\n",
       "    }\n",
       "\n",
       "    .dataframe thead th {\n",
       "        text-align: right;\n",
       "    }\n",
       "</style>\n",
       "<table border=\"1\" class=\"dataframe\">\n",
       "  <thead>\n",
       "    <tr style=\"text-align: right;\">\n",
       "      <th></th>\n",
       "      <th>Unnamed: 0</th>\n",
       "      <th>Unnamed: 0.1</th>\n",
       "      <th>paper_id</th>\n",
       "      <th>title</th>\n",
       "      <th>authors</th>\n",
       "      <th>affiliations</th>\n",
       "      <th>abstract</th>\n",
       "      <th>text</th>\n",
       "      <th>bibliography</th>\n",
       "      <th>raw_authors</th>\n",
       "      <th>raw_bibliography</th>\n",
       "    </tr>\n",
       "  </thead>\n",
       "  <tbody>\n",
       "    <tr>\n",
       "      <th>0</th>\n",
       "      <td>0</td>\n",
       "      <td>0</td>\n",
       "      <td>6f005a0677f24f697c1ec3ce065ec4144519e357</td>\n",
       "      <td>Antiviral Mechanisms of Human Defensins Introd...</td>\n",
       "      <td>Sarah S Wilson, Mayim E Wiens, Jason G Smith</td>\n",
       "      <td>Sarah S Wilson (University of Washington, 1705...</td>\n",
       "      <td>Defensins are an effector component of the inn...</td>\n",
       "      <td>Defensins are one of the most abundant classes...</td>\n",
       "      <td>Direct inactivation of viruses by human granul...</td>\n",
       "      <td>[{'first': 'Sarah', 'middle': ['S'], 'last': '...</td>\n",
       "      <td>{'BIBREF0': {'ref_id': 'b0', 'title': 'Direct ...</td>\n",
       "    </tr>\n",
       "    <tr>\n",
       "      <th>1</th>\n",
       "      <td>1</td>\n",
       "      <td>1</td>\n",
       "      <td>4994fa72322bbf19120592304d92629226948d8e</td>\n",
       "      <td>Rapid Identification of Malaria Vaccine Candid...</td>\n",
       "      <td>V Villard, G W Agak, G Frank, A Jafarshad, C S...</td>\n",
       "      <td>V Villard, G W Agak, G Frank, A Jafarshad, C S...</td>\n",
       "      <td>To identify malaria antigens for vaccine devel...</td>\n",
       "      <td>Human Plasmodium falciparum (Pf) infection is ...</td>\n",
       "      <td>Identification of vaccine candidates against s...</td>\n",
       "      <td>[{'first': 'V', 'middle': [], 'last': 'Villard...</td>\n",
       "      <td>{'BIBREF0': {'ref_id': 'b0', 'title': 'Identif...</td>\n",
       "    </tr>\n",
       "  </tbody>\n",
       "</table>\n",
       "</div>"
      ],
      "text/plain": [
       "   Unnamed: 0  Unnamed: 0.1                                  paper_id  \\\n",
       "0           0             0  6f005a0677f24f697c1ec3ce065ec4144519e357   \n",
       "1           1             1  4994fa72322bbf19120592304d92629226948d8e   \n",
       "\n",
       "                                               title  \\\n",
       "0  Antiviral Mechanisms of Human Defensins Introd...   \n",
       "1  Rapid Identification of Malaria Vaccine Candid...   \n",
       "\n",
       "                                             authors  \\\n",
       "0       Sarah S Wilson, Mayim E Wiens, Jason G Smith   \n",
       "1  V Villard, G W Agak, G Frank, A Jafarshad, C S...   \n",
       "\n",
       "                                        affiliations  \\\n",
       "0  Sarah S Wilson (University of Washington, 1705...   \n",
       "1  V Villard, G W Agak, G Frank, A Jafarshad, C S...   \n",
       "\n",
       "                                            abstract  \\\n",
       "0  Defensins are an effector component of the inn...   \n",
       "1  To identify malaria antigens for vaccine devel...   \n",
       "\n",
       "                                                text  \\\n",
       "0  Defensins are one of the most abundant classes...   \n",
       "1  Human Plasmodium falciparum (Pf) infection is ...   \n",
       "\n",
       "                                        bibliography  \\\n",
       "0  Direct inactivation of viruses by human granul...   \n",
       "1  Identification of vaccine candidates against s...   \n",
       "\n",
       "                                         raw_authors  \\\n",
       "0  [{'first': 'Sarah', 'middle': ['S'], 'last': '...   \n",
       "1  [{'first': 'V', 'middle': [], 'last': 'Villard...   \n",
       "\n",
       "                                    raw_bibliography  \n",
       "0  {'BIBREF0': {'ref_id': 'b0', 'title': 'Direct ...  \n",
       "1  {'BIBREF0': {'ref_id': 'b0', 'title': 'Identif...  "
      ]
     },
     "execution_count": 3,
     "metadata": {},
     "output_type": "execute_result"
    }
   ],
   "source": [
    "complete_df.head(2)"
   ]
  },
  {
   "cell_type": "code",
   "execution_count": 4,
   "metadata": {},
   "outputs": [
    {
     "data": {
      "text/html": [
       "<div>\n",
       "<style scoped>\n",
       "    .dataframe tbody tr th:only-of-type {\n",
       "        vertical-align: middle;\n",
       "    }\n",
       "\n",
       "    .dataframe tbody tr th {\n",
       "        vertical-align: top;\n",
       "    }\n",
       "\n",
       "    .dataframe thead th {\n",
       "        text-align: right;\n",
       "    }\n",
       "</style>\n",
       "<table border=\"1\" class=\"dataframe\">\n",
       "  <thead>\n",
       "    <tr style=\"text-align: right;\">\n",
       "      <th></th>\n",
       "      <th>Unnamed: 0</th>\n",
       "      <th>Unnamed: 0.1</th>\n",
       "    </tr>\n",
       "  </thead>\n",
       "  <tbody>\n",
       "    <tr>\n",
       "      <th>count</th>\n",
       "      <td>40152.000000</td>\n",
       "      <td>40152.000000</td>\n",
       "    </tr>\n",
       "    <tr>\n",
       "      <th>mean</th>\n",
       "      <td>29705.053248</td>\n",
       "      <td>29705.053248</td>\n",
       "    </tr>\n",
       "    <tr>\n",
       "      <th>std</th>\n",
       "      <td>17183.494309</td>\n",
       "      <td>17183.494309</td>\n",
       "    </tr>\n",
       "    <tr>\n",
       "      <th>min</th>\n",
       "      <td>0.000000</td>\n",
       "      <td>0.000000</td>\n",
       "    </tr>\n",
       "    <tr>\n",
       "      <th>25%</th>\n",
       "      <td>14787.750000</td>\n",
       "      <td>14787.750000</td>\n",
       "    </tr>\n",
       "    <tr>\n",
       "      <th>50%</th>\n",
       "      <td>29717.000000</td>\n",
       "      <td>29717.000000</td>\n",
       "    </tr>\n",
       "    <tr>\n",
       "      <th>75%</th>\n",
       "      <td>44551.250000</td>\n",
       "      <td>44551.250000</td>\n",
       "    </tr>\n",
       "    <tr>\n",
       "      <th>max</th>\n",
       "      <td>59560.000000</td>\n",
       "      <td>59560.000000</td>\n",
       "    </tr>\n",
       "  </tbody>\n",
       "</table>\n",
       "</div>"
      ],
      "text/plain": [
       "         Unnamed: 0  Unnamed: 0.1\n",
       "count  40152.000000  40152.000000\n",
       "mean   29705.053248  29705.053248\n",
       "std    17183.494309  17183.494309\n",
       "min        0.000000      0.000000\n",
       "25%    14787.750000  14787.750000\n",
       "50%    29717.000000  29717.000000\n",
       "75%    44551.250000  44551.250000\n",
       "max    59560.000000  59560.000000"
      ]
     },
     "execution_count": 4,
     "metadata": {},
     "output_type": "execute_result"
    }
   ],
   "source": [
    "complete_df.describe()"
   ]
  },
  {
   "cell_type": "code",
   "execution_count": 5,
   "metadata": {},
   "outputs": [
    {
     "data": {
      "text/plain": [
       "(38265, 11)"
      ]
     },
     "execution_count": 5,
     "metadata": {},
     "output_type": "execute_result"
    }
   ],
   "source": [
    "# Keep only texts with minimal number of words \n",
    "\n",
    "complete_df = complete_df[complete_df['text'].apply(lambda x: len(re.findall(r\"(?i)\\b[a-z]+\\b\", x))) > 1000]                                         \n",
    "complete_df.shape"
   ]
  },
  {
   "cell_type": "code",
   "execution_count": 6,
   "metadata": {},
   "outputs": [],
   "source": [
    "frac_of_articles = 1\n",
    "train_df  = complete_df.sample(frac = frac_of_articles, random_state = 42)\n",
    "train_corpus = (list(utils.read_corpus(train_df, 'abstract'))) "
   ]
  },
  {
   "cell_type": "code",
   "execution_count": 7,
   "metadata": {},
   "outputs": [],
   "source": [
    "# Using distributed memory model\n",
    "\n",
    "model = gensim.models.doc2vec.Doc2Vec(dm = 1, vector_size = 50, min_count = 10, dm_mean = 1, epochs = 20, seed = 42, workers = 6)\n",
    "model.build_vocab(train_corpus)\n",
    "model.train(train_corpus, total_examples = model.corpus_count, epochs = model.epochs)"
   ]
  },
  {
   "cell_type": "code",
   "execution_count": 8,
   "metadata": {},
   "outputs": [],
   "source": [
    "list_of_tasks = [task_1, task_2, task_3, task_4, task_5, task_6, task_7, task_8, task_9]"
   ]
  },
  {
   "cell_type": "code",
   "execution_count": 9,
   "metadata": {},
   "outputs": [],
   "source": [
    "abstract_vectors = model.docvecs.vectors_docs\n",
    "array_of_tasks = [utils.get_doc_vector(task, model) for task in list_of_tasks]"
   ]
  },
  {
   "cell_type": "code",
   "execution_count": 10,
   "metadata": {},
   "outputs": [],
   "source": [
    "train_df['abstract_vector'] = [vec for vec in abstract_vectors]"
   ]
  },
  {
   "cell_type": "markdown",
   "metadata": {},
   "source": [
    "### Nearest Neigbors search"
   ]
  },
  {
   "cell_type": "code",
   "execution_count": 11,
   "metadata": {},
   "outputs": [
    {
     "data": {
      "text/plain": [
       "(37302, 12)"
      ]
     },
     "execution_count": 11,
     "metadata": {},
     "output_type": "execute_result"
    }
   ],
   "source": [
    "train_df = train_df[train_df['abstract'].apply(lambda x: len(re.findall(r\"(?i)\\b[a-z]+\\b\", x))) > 40]\n",
    "train_df.shape"
   ]
  },
  {
   "cell_type": "code",
   "execution_count": 12,
   "metadata": {},
   "outputs": [],
   "source": [
    "train_array = train_df['abstract_vector'].values.tolist()"
   ]
  },
  {
   "cell_type": "code",
   "execution_count": 13,
   "metadata": {},
   "outputs": [],
   "source": [
    "ball_tree = NearestNeighbors(algorithm = 'ball_tree', leaf_size = 20).fit(train_array)"
   ]
  },
  {
   "cell_type": "code",
   "execution_count": 14,
   "metadata": {},
   "outputs": [],
   "source": [
    "# Query for all tasks\n",
    "\n",
    "distances, indices = ball_tree.kneighbors(array_of_tasks, n_neighbors = 3)"
   ]
  },
  {
   "cell_type": "code",
   "execution_count": 15,
   "metadata": {},
   "outputs": [
    {
     "name": "stdout",
     "output_type": "stream",
     "text": [
      "================================================================================ \n",
      "\n",
      "Task = What do we know about vaccines and therapeutics? What has been published concerning research and development and evaluation efforts of vaccines and therapeutics?\n",
      "Effectiveness of drugs being developed and tried to treat COVID-19 patients.\n",
      "Clinical and bench trials to investigate less common viral inhibitors against COVID-19 such as naproxen, clarithromycin, and minocyclinethat that may exert effects on viral replication.\n",
      "Methods evaluating potential complication of Antibody-Dependent Enhancement (ADE) in vaccine recipients.\n",
      "Exploration of use of best animal models and their predictive value for a human vaccine.\n",
      "Capabilities to discover a therapeutic (not vaccine) for the disease, and clinical effectiveness studies to discover therapeutics, to include antiviral agents.\n",
      "Alternative models to aid decision makers in determining how to prioritize and distribute scarce, newly proven therapeutics as production ramps up. This could include identifying approaches for expanding production capacity to ensure equitable and timely distribution to populations in need.\n",
      "Efforts targeted at a universal coronavirus vaccine.\n",
      "Efforts to develop animal models and standardize challenge studies\n",
      "Efforts to develop prophylaxis clinical studies and prioritize in healthcare workers\n",
      "Approaches to evaluate risk for enhanced disease after vaccination\n",
      "Assays to evaluate vaccine immune response and process development for vaccines, alongside suitable animal models [in conjunction with therapeutics]\n",
      "\n",
      " Text index = 30481 \n",
      " Distance = 3.895807994066761 \n",
      " Title: Discovery and development of safe-in-man broad-spectrum antiviral agents \n",
      " Abstract extract: Drug discovery and development Broad-spectrum antiviral agents BSAAs A B S T R A C T Viral diseases are one of the leading causes of morbidity and mortality in the world. Virus-specific vaccines and antiviral drugs are the most powerful tools to combat viral diseases. However, broadspectrum antiviral agents (BSAAs, i.e. compounds targeting viruses belonging to two or more viral families) could provide additional protection of the general population from emerging and re-emerging viral diseases, reinforcing the arsenal of available antiviral options. Here, we review discovery and development of BSAAs and summarize the information on 120 safe-in-man agents in a freely accessible database (https://drugvirus.info/). Future and ongoing pre-clinical and clinical studies will increase the number of BSAAs, expand the spectrum of their indications, and identify drug combinations for treatment of emerging and re-emerging viral infections as well as co-infections.\n",
      "\n",
      "\n",
      " Text index = 19196 \n",
      " Distance = 3.9136059555612177 \n",
      " Title: Potential Vaccines and Post-Exposure Treatments for Filovirus Infections \n",
      " Abstract extract: Viruses of the family Filoviridae represent significant health risks as emerging infectious diseases as well as potentially engineered biothreats. While many research efforts have been published offering possibilities toward the mitigation of filoviral infection, there remain no sanctioned therapeutic or vaccine strategies. Current progress in the development of filovirus therapeutics and vaccines is outlined herein with respect to their current level of testing, evaluation, and proximity toward human implementation, specifically with regard to human clinical trials, nonhuman primate studies, small animal studies, and in vitro development. Contemporary methods of supportive care and previous treatment approaches for human patients are also discussed.\n",
      "\n",
      "\n",
      " Text index = 13612 \n",
      " Distance = 3.9698878241997626 \n",
      " Title: viruses Neutralizing Monoclonal Antibodies as Promising Therapeutics against Middle East Respiratory Syndrome Coronavirus Infection \n",
      " Abstract extract: Since emerging in 2012, Middle East Respiratory Syndrome Coronavirus (MERS-CoV) has been a global public health threat with a high fatality rate and worldwide distribution. There are no approved vaccines or therapies for MERS until now. Passive immunotherapy with neutralizing monoclonal antibodies (mAbs) is an effective prophylactic and therapeutic reagent against emerging viruses. In this article, we review current advances in neutralizing mAbs against MERS-CoV. The receptor-binding domain (RBD) in the spike protein of MERS-CoV is a major target, and mouse, camel, or human-derived neutralizing mAbs targeting RBD have been developed. A major problem with neutralizing mAb therapy is mutant escape under selective pressure, which can be solved by combination of neutralizing mAbs targeting different epitopes. Neutralizing mAbs are currently under preclinical evaluation, and they are promising candidate therapeutic agents against MERS-CoV infection.\n",
      "\n",
      "\n"
     ]
    }
   ],
   "source": [
    "print(\"=\"*80, f\"\\n\\nTask = {list_of_tasks[3]}\\n\", )\n",
    "df =  train_df.iloc[indices[3]]\n",
    "abstracts = df['abstract']\n",
    "titles = df['title']\n",
    "dist = distances[3]\n",
    "for l in range(len(dist)):\n",
    "    print(f\" Text index = {indices[3][l]} \\n Distance = {distances[3][l]} \\n Title: {titles.iloc[l]} \\n Abstract extract: {abstracts.iloc[l]}\\n\\n\")"
   ]
  },
  {
   "cell_type": "markdown",
   "metadata": {},
   "source": [
    "## Level 2 Abstraction using SciBERT"
   ]
  },
  {
   "cell_type": "code",
   "execution_count": 67,
   "metadata": {},
   "outputs": [],
   "source": [
    "model = AutoModelWithLMHead.from_pretrained('models/COVID-scibert-latest').to('cuda')\n",
    "tokenizer = AutoTokenizer.from_pretrained('models/COVID-scibert-tokenizer')"
   ]
  },
  {
   "cell_type": "code",
   "execution_count": 68,
   "metadata": {},
   "outputs": [],
   "source": [
    "number_top_matches = 3"
   ]
  },
  {
   "cell_type": "code",
   "execution_count": 69,
   "metadata": {},
   "outputs": [],
   "source": [
    "def convert(sentence):\n",
    "    with torch.no_grad():\n",
    "        vector = model(torch.tensor(tokenizer.encode(sentence, add_special_tokens = True, padding = True, truncation = True)).to('cuda').unsqueeze(0))[0][0].cpu().numpy().flatten().tolist()\n",
    "    return vector"
   ]
  },
  {
   "cell_type": "code",
   "execution_count": 94,
   "metadata": {},
   "outputs": [],
   "source": [
    "query = 'What are the possible medications against COVID-19?' \n",
    "query_embeddings = convert(query)"
   ]
  },
  {
   "cell_type": "code",
   "execution_count": 95,
   "metadata": {},
   "outputs": [],
   "source": [
    "def truncate(vector):\n",
    "    if(len(vector) < len(query_embeddings)):\n",
    "        for i in range(len(vector), len(query_embeddings)):\n",
    "            vector.append(0.0)\n",
    "        return vector\n",
    "    else:\n",
    "        return vector[:len(query_embeddings)]"
   ]
  },
  {
   "cell_type": "code",
   "execution_count": 97,
   "metadata": {},
   "outputs": [
    {
     "name": "stdout",
     "output_type": "stream",
     "text": [
      "================================================================================ \n",
      "\n",
      "Task = \n",
      "\n",
      " What do we know about vaccines and therapeutics? What has been published concerning research and development and evaluation efforts of vaccines and therapeutics?\n",
      "Effectiveness of drugs being developed and tried to treat COVID-19 patients.\n",
      "Clinical and bench trials to investigate less common viral inhibitors against COVID-19 such as naproxen, clarithromycin, and minocyclinethat that may exert effects on viral replication.\n",
      "Methods evaluating potential complication of Antibody-Dependent Enhancement (ADE) in vaccine recipients.\n",
      "Exploration of use of best animal models and their predictive value for a human vaccine.\n",
      "Capabilities to discover a therapeutic (not vaccine) for the disease, and clinical effectiveness studies to discover therapeutics, to include antiviral agents.\n",
      "Alternative models to aid decision makers in determining how to prioritize and distribute scarce, newly proven therapeutics as production ramps up. This could include identifying approaches for expanding production capacity to ensure equitable and timely distribution to populations in need.\n",
      "Efforts targeted at a universal coronavirus vaccine.\n",
      "Efforts to develop animal models and standardize challenge studies\n",
      "Efforts to develop prophylaxis clinical studies and prioritize in healthcare workers\n",
      "Approaches to evaluate risk for enhanced disease after vaccination\n",
      "Assays to evaluate vaccine immune response and process development for vaccines, alongside suitable animal models [in conjunction with therapeutics]\n",
      "\n",
      "\n",
      "\n",
      "======================\n",
      "\n",
      "\n",
      "Searching in Abstracts\n",
      "\n",
      "\n",
      "======================\n",
      "\n",
      "\n",
      "Abstract: Drug discovery and development Broad-spectrum antiviral agents BSAAs A B S T R A C T Viral diseases are one of the leading causes of morbidity and mortality in the world. Virus-specific vaccines and antiviral drugs are the most powerful tools to combat viral diseases. However, broadspectrum antiviral agents (BSAAs, i.e. compounds targeting viruses belonging to two or more viral families) could provide additional protection of the general population from emerging and re-emerging viral diseases, reinforcing the arsenal of available antiviral options. Here, we review discovery and development of BSAAs and summarize the information on 120 safe-in-man agents in a freely accessible database (https://drugvirus.info/). Future and ongoing pre-clinical and clinical studies will increase the number of BSAAs, expand the spectrum of their indications, and identify drug combinations for treatment of emerging and re-emerging viral infections as well as co-infections.\n",
      "\n",
      "\n",
      "======================\n",
      "\n",
      "\n",
      "Query: What are the possible medications against COVID-19?\n",
      "\n",
      "Top 3 most similar abstracts are:\n",
      "e (Cosine Score: 0.8492)\n",
      "info/) (Cosine Score: 0.8441)\n",
      "Virus-specific vaccines and antiviral drugs are the most powerful tools to combat viral diseases (Cosine Score: 0.8352)\n",
      "\n",
      "\n",
      "======================\n",
      "\n",
      "\n",
      "Abstract: Viruses of the family Filoviridae represent significant health risks as emerging infectious diseases as well as potentially engineered biothreats. While many research efforts have been published offering possibilities toward the mitigation of filoviral infection, there remain no sanctioned therapeutic or vaccine strategies. Current progress in the development of filovirus therapeutics and vaccines is outlined herein with respect to their current level of testing, evaluation, and proximity toward human implementation, specifically with regard to human clinical trials, nonhuman primate studies, small animal studies, and in vitro development. Contemporary methods of supportive care and previous treatment approaches for human patients are also discussed.\n",
      "\n",
      "\n",
      "======================\n",
      "\n",
      "\n",
      "Query: What are the possible medications against COVID-19?\n",
      "\n",
      "Top 3 most similar abstracts are:\n",
      "Viruses of the family Filoviridae represent significant health risks as emerging infectious diseases as well as potentially engineered biothreats (Cosine Score: 0.8378)\n",
      "Current progress in the development of filovirus therapeutics and vaccines is outlined herein with respect to their current level of testing, evaluation, and proximity toward human implementation, specifically with regard to human clinical trials, nonhuman primate studies, small animal studies, and in vitro development (Cosine Score: 0.8121)\n",
      "Contemporary methods of supportive care and previous treatment approaches for human patients are also discussed (Cosine Score: 0.8077)\n",
      "\n",
      "\n",
      "======================\n",
      "\n",
      "\n",
      "Abstract: Since emerging in 2012, Middle East Respiratory Syndrome Coronavirus (MERS-CoV) has been a global public health threat with a high fatality rate and worldwide distribution. There are no approved vaccines or therapies for MERS until now. Passive immunotherapy with neutralizing monoclonal antibodies (mAbs) is an effective prophylactic and therapeutic reagent against emerging viruses. In this article, we review current advances in neutralizing mAbs against MERS-CoV. The receptor-binding domain (RBD) in the spike protein of MERS-CoV is a major target, and mouse, camel, or human-derived neutralizing mAbs targeting RBD have been developed. A major problem with neutralizing mAb therapy is mutant escape under selective pressure, which can be solved by combination of neutralizing mAbs targeting different epitopes. Neutralizing mAbs are currently under preclinical evaluation, and they are promising candidate therapeutic agents against MERS-CoV infection.\n",
      "\n",
      "\n",
      "======================\n",
      "\n",
      "\n",
      "Query: What are the possible medications against COVID-19?\n",
      "\n",
      "Top 3 most similar abstracts are:\n",
      "Since emerging in 2012, Middle East Respiratory Syndrome Coronavirus (MERS-CoV) has been a global public health threat with a high fatality rate and worldwide distribution (Cosine Score: 0.8664)\n",
      "There are no approved vaccines or therapies for MERS until now (Cosine Score: 0.8545)\n",
      "The receptor-binding domain (RBD) in the spike protein of MERS-CoV is a major target, and mouse, camel, or human-derived neutralizing mAbs targeting RBD have been developed (Cosine Score: 0.8541)\n"
     ]
    }
   ],
   "source": [
    "print(\"=\"*80, f\"\\n\\nTask = \\n\\n {list_of_tasks[3]}\\n\", )\n",
    "\n",
    "print(\"\\n\\n======================\\n\\n\")\n",
    "print(\"Searching in Abstracts\")\n",
    "    \n",
    "dfs =  train_df.iloc[indices[3]]\n",
    "abstracts = [i.split(\".\") for i in df['abstract']]\n",
    "for abstract in abstracts:\n",
    "    print(\"\\n\\n======================\\n\\n\")\n",
    "    print(\"Abstract:\", '.'.join(abstract))\n",
    "    abstracts_vector = [truncate(convert(i)) for i in abstract if not(len(i) < 5)]\n",
    "    if(len(np.array(abstracts_vector).shape) != 2):\n",
    "        abstracts_vector = [abstracts_vector]\n",
    "    distance = scipy.spatial.distance.cdist(padded_query_embeddings, abstracts_vector, \"cosine\")[0]\n",
    "\n",
    "    results = zip(range(len(distance)), distance)\n",
    "    results = sorted(results, key = lambda x: x[1])\n",
    "    \n",
    "    print(\"\\n\\n======================\\n\\n\")\n",
    "    print(\"Query:\", query)\n",
    "    print(\"\\nTop 3 most similar abstracts are:\")\n",
    "\n",
    "    for idx, dist in results[0:number_top_matches]:\n",
    "        print(abstract[idx].strip(), \"(Cosine Score: %.4f)\" % (1-dist))"
   ]
  },
  {
   "cell_type": "code",
   "execution_count": null,
   "metadata": {},
   "outputs": [],
   "source": []
  }
 ],
 "metadata": {
  "kernelspec": {
   "display_name": "Python 3",
   "language": "python",
   "name": "python3"
  },
  "language_info": {
   "codemirror_mode": {
    "name": "ipython",
    "version": 3
   },
   "file_extension": ".py",
   "mimetype": "text/x-python",
   "name": "python",
   "nbconvert_exporter": "python",
   "pygments_lexer": "ipython3",
   "version": "3.8.3"
  }
 },
 "nbformat": 4,
 "nbformat_minor": 4
}
