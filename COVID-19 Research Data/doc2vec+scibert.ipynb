{
 "cells": [
  {
   "cell_type": "code",
   "execution_count": 1,
   "metadata": {},
   "outputs": [],
   "source": [
    "import os\n",
    "import re\n",
    "import json\n",
    "import utils\n",
    "import scipy\n",
    "import torch\n",
    "import random\n",
    "import gensim\n",
    "import warnings\n",
    "\n",
    "import numpy as np\n",
    "import pandas as pd\n",
    "\n",
    "from tasks import *\n",
    "from pprint import pprint\n",
    "from transformers import *\n",
    "from tqdm.notebook import tqdm\n",
    "from sklearn.cluster import KMeans\n",
    "from sklearn.neighbors import NearestNeighbors"
   ]
  },
  {
   "cell_type": "code",
   "execution_count": 2,
   "metadata": {},
   "outputs": [
    {
     "data": {
      "text/plain": [
       "(40152, 11)"
      ]
     },
     "execution_count": 2,
     "metadata": {},
     "output_type": "execute_result"
    }
   ],
   "source": [
    "complete_df = pd.read_csv(\"data/clean_df.csv\")\n",
    "complete_df.shape"
   ]
  },
  {
   "cell_type": "code",
   "execution_count": 3,
   "metadata": {},
   "outputs": [
    {
     "data": {
      "text/html": [
       "<div>\n",
       "<style scoped>\n",
       "    .dataframe tbody tr th:only-of-type {\n",
       "        vertical-align: middle;\n",
       "    }\n",
       "\n",
       "    .dataframe tbody tr th {\n",
       "        vertical-align: top;\n",
       "    }\n",
       "\n",
       "    .dataframe thead th {\n",
       "        text-align: right;\n",
       "    }\n",
       "</style>\n",
       "<table border=\"1\" class=\"dataframe\">\n",
       "  <thead>\n",
       "    <tr style=\"text-align: right;\">\n",
       "      <th></th>\n",
       "      <th>Unnamed: 0</th>\n",
       "      <th>Unnamed: 0.1</th>\n",
       "      <th>paper_id</th>\n",
       "      <th>title</th>\n",
       "      <th>authors</th>\n",
       "      <th>affiliations</th>\n",
       "      <th>abstract</th>\n",
       "      <th>text</th>\n",
       "      <th>bibliography</th>\n",
       "      <th>raw_authors</th>\n",
       "      <th>raw_bibliography</th>\n",
       "    </tr>\n",
       "  </thead>\n",
       "  <tbody>\n",
       "    <tr>\n",
       "      <th>0</th>\n",
       "      <td>0</td>\n",
       "      <td>0</td>\n",
       "      <td>6f005a0677f24f697c1ec3ce065ec4144519e357</td>\n",
       "      <td>Antiviral Mechanisms of Human Defensins Introd...</td>\n",
       "      <td>Sarah S Wilson, Mayim E Wiens, Jason G Smith</td>\n",
       "      <td>Sarah S Wilson (University of Washington, 1705...</td>\n",
       "      <td>Defensins are an effector component of the inn...</td>\n",
       "      <td>Defensins are one of the most abundant classes...</td>\n",
       "      <td>Direct inactivation of viruses by human granul...</td>\n",
       "      <td>[{'first': 'Sarah', 'middle': ['S'], 'last': '...</td>\n",
       "      <td>{'BIBREF0': {'ref_id': 'b0', 'title': 'Direct ...</td>\n",
       "    </tr>\n",
       "    <tr>\n",
       "      <th>1</th>\n",
       "      <td>1</td>\n",
       "      <td>1</td>\n",
       "      <td>4994fa72322bbf19120592304d92629226948d8e</td>\n",
       "      <td>Rapid Identification of Malaria Vaccine Candid...</td>\n",
       "      <td>V Villard, G W Agak, G Frank, A Jafarshad, C S...</td>\n",
       "      <td>V Villard, G W Agak, G Frank, A Jafarshad, C S...</td>\n",
       "      <td>To identify malaria antigens for vaccine devel...</td>\n",
       "      <td>Human Plasmodium falciparum (Pf) infection is ...</td>\n",
       "      <td>Identification of vaccine candidates against s...</td>\n",
       "      <td>[{'first': 'V', 'middle': [], 'last': 'Villard...</td>\n",
       "      <td>{'BIBREF0': {'ref_id': 'b0', 'title': 'Identif...</td>\n",
       "    </tr>\n",
       "  </tbody>\n",
       "</table>\n",
       "</div>"
      ],
      "text/plain": [
       "   Unnamed: 0  Unnamed: 0.1                                  paper_id  \\\n",
       "0           0             0  6f005a0677f24f697c1ec3ce065ec4144519e357   \n",
       "1           1             1  4994fa72322bbf19120592304d92629226948d8e   \n",
       "\n",
       "                                               title  \\\n",
       "0  Antiviral Mechanisms of Human Defensins Introd...   \n",
       "1  Rapid Identification of Malaria Vaccine Candid...   \n",
       "\n",
       "                                             authors  \\\n",
       "0       Sarah S Wilson, Mayim E Wiens, Jason G Smith   \n",
       "1  V Villard, G W Agak, G Frank, A Jafarshad, C S...   \n",
       "\n",
       "                                        affiliations  \\\n",
       "0  Sarah S Wilson (University of Washington, 1705...   \n",
       "1  V Villard, G W Agak, G Frank, A Jafarshad, C S...   \n",
       "\n",
       "                                            abstract  \\\n",
       "0  Defensins are an effector component of the inn...   \n",
       "1  To identify malaria antigens for vaccine devel...   \n",
       "\n",
       "                                                text  \\\n",
       "0  Defensins are one of the most abundant classes...   \n",
       "1  Human Plasmodium falciparum (Pf) infection is ...   \n",
       "\n",
       "                                        bibliography  \\\n",
       "0  Direct inactivation of viruses by human granul...   \n",
       "1  Identification of vaccine candidates against s...   \n",
       "\n",
       "                                         raw_authors  \\\n",
       "0  [{'first': 'Sarah', 'middle': ['S'], 'last': '...   \n",
       "1  [{'first': 'V', 'middle': [], 'last': 'Villard...   \n",
       "\n",
       "                                    raw_bibliography  \n",
       "0  {'BIBREF0': {'ref_id': 'b0', 'title': 'Direct ...  \n",
       "1  {'BIBREF0': {'ref_id': 'b0', 'title': 'Identif...  "
      ]
     },
     "execution_count": 3,
     "metadata": {},
     "output_type": "execute_result"
    }
   ],
   "source": [
    "complete_df.head(2)"
   ]
  },
  {
   "cell_type": "code",
   "execution_count": 4,
   "metadata": {},
   "outputs": [
    {
     "data": {
      "text/html": [
       "<div>\n",
       "<style scoped>\n",
       "    .dataframe tbody tr th:only-of-type {\n",
       "        vertical-align: middle;\n",
       "    }\n",
       "\n",
       "    .dataframe tbody tr th {\n",
       "        vertical-align: top;\n",
       "    }\n",
       "\n",
       "    .dataframe thead th {\n",
       "        text-align: right;\n",
       "    }\n",
       "</style>\n",
       "<table border=\"1\" class=\"dataframe\">\n",
       "  <thead>\n",
       "    <tr style=\"text-align: right;\">\n",
       "      <th></th>\n",
       "      <th>Unnamed: 0</th>\n",
       "      <th>Unnamed: 0.1</th>\n",
       "    </tr>\n",
       "  </thead>\n",
       "  <tbody>\n",
       "    <tr>\n",
       "      <th>count</th>\n",
       "      <td>40152.000000</td>\n",
       "      <td>40152.000000</td>\n",
       "    </tr>\n",
       "    <tr>\n",
       "      <th>mean</th>\n",
       "      <td>29705.053248</td>\n",
       "      <td>29705.053248</td>\n",
       "    </tr>\n",
       "    <tr>\n",
       "      <th>std</th>\n",
       "      <td>17183.494309</td>\n",
       "      <td>17183.494309</td>\n",
       "    </tr>\n",
       "    <tr>\n",
       "      <th>min</th>\n",
       "      <td>0.000000</td>\n",
       "      <td>0.000000</td>\n",
       "    </tr>\n",
       "    <tr>\n",
       "      <th>25%</th>\n",
       "      <td>14787.750000</td>\n",
       "      <td>14787.750000</td>\n",
       "    </tr>\n",
       "    <tr>\n",
       "      <th>50%</th>\n",
       "      <td>29717.000000</td>\n",
       "      <td>29717.000000</td>\n",
       "    </tr>\n",
       "    <tr>\n",
       "      <th>75%</th>\n",
       "      <td>44551.250000</td>\n",
       "      <td>44551.250000</td>\n",
       "    </tr>\n",
       "    <tr>\n",
       "      <th>max</th>\n",
       "      <td>59560.000000</td>\n",
       "      <td>59560.000000</td>\n",
       "    </tr>\n",
       "  </tbody>\n",
       "</table>\n",
       "</div>"
      ],
      "text/plain": [
       "         Unnamed: 0  Unnamed: 0.1\n",
       "count  40152.000000  40152.000000\n",
       "mean   29705.053248  29705.053248\n",
       "std    17183.494309  17183.494309\n",
       "min        0.000000      0.000000\n",
       "25%    14787.750000  14787.750000\n",
       "50%    29717.000000  29717.000000\n",
       "75%    44551.250000  44551.250000\n",
       "max    59560.000000  59560.000000"
      ]
     },
     "execution_count": 4,
     "metadata": {},
     "output_type": "execute_result"
    }
   ],
   "source": [
    "complete_df.describe()"
   ]
  },
  {
   "cell_type": "code",
   "execution_count": 5,
   "metadata": {},
   "outputs": [
    {
     "data": {
      "text/plain": [
       "(38265, 11)"
      ]
     },
     "execution_count": 5,
     "metadata": {},
     "output_type": "execute_result"
    }
   ],
   "source": [
    "# Keep only texts with minimal number of words \n",
    "\n",
    "complete_df = complete_df[complete_df['text'].apply(lambda x: len(re.findall(r\"(?i)\\b[a-z]+\\b\", x))) > 1000]                                         \n",
    "complete_df.shape"
   ]
  },
  {
   "cell_type": "code",
   "execution_count": 6,
   "metadata": {},
   "outputs": [],
   "source": [
    "frac_of_articles = 1\n",
    "train_df  = complete_df.sample(frac = frac_of_articles, random_state = 42)\n",
    "train_corpus = (list(utils.read_corpus(train_df, 'abstract'))) "
   ]
  },
  {
   "cell_type": "code",
   "execution_count": 7,
   "metadata": {},
   "outputs": [],
   "source": [
    "# Using distributed memory model\n",
    "\n",
    "model = gensim.models.doc2vec.Doc2Vec(dm = 1, vector_size = 50, min_count = 10, dm_mean = 1, epochs = 20, seed = 42, workers = 6)\n",
    "model.build_vocab(train_corpus)\n",
    "model.train(train_corpus, total_examples = model.corpus_count, epochs = model.epochs)"
   ]
  },
  {
   "cell_type": "code",
   "execution_count": 8,
   "metadata": {},
   "outputs": [],
   "source": [
    "list_of_tasks = [task_1, task_2, task_3, task_4, task_5, task_6, task_7, task_8, task_9]"
   ]
  },
  {
   "cell_type": "code",
   "execution_count": 9,
   "metadata": {},
   "outputs": [],
   "source": [
    "abstract_vectors = model.docvecs.vectors_docs\n",
    "array_of_tasks = [utils.get_doc_vector(task, model) for task in list_of_tasks]"
   ]
  },
  {
   "cell_type": "code",
   "execution_count": 10,
   "metadata": {},
   "outputs": [],
   "source": [
    "train_df['abstract_vector'] = [vec for vec in abstract_vectors]"
   ]
  },
  {
   "cell_type": "markdown",
   "metadata": {},
   "source": [
    "### Nearest Neigbors search"
   ]
  },
  {
   "cell_type": "code",
   "execution_count": 11,
   "metadata": {},
   "outputs": [
    {
     "data": {
      "text/plain": [
       "(37302, 12)"
      ]
     },
     "execution_count": 11,
     "metadata": {},
     "output_type": "execute_result"
    }
   ],
   "source": [
    "train_df = train_df[train_df['abstract'].apply(lambda x: len(re.findall(r\"(?i)\\b[a-z]+\\b\", x))) > 40]\n",
    "train_df.shape"
   ]
  },
  {
   "cell_type": "code",
   "execution_count": 12,
   "metadata": {},
   "outputs": [],
   "source": [
    "train_array = train_df['abstract_vector'].values.tolist()"
   ]
  },
  {
   "cell_type": "code",
   "execution_count": 13,
   "metadata": {},
   "outputs": [],
   "source": [
    "ball_tree = NearestNeighbors(algorithm = 'ball_tree', leaf_size = 20).fit(train_array)"
   ]
  },
  {
   "cell_type": "code",
   "execution_count": 14,
   "metadata": {},
   "outputs": [],
   "source": [
    "# Query for all tasks\n",
    "\n",
    "distances, indices = ball_tree.kneighbors(array_of_tasks, n_neighbors = 3)"
   ]
  },
  {
   "cell_type": "code",
   "execution_count": 15,
   "metadata": {},
   "outputs": [
    {
     "name": "stdout",
     "output_type": "stream",
     "text": [
      "================================================================================ \n",
      "\n",
      "Task = What do we know about vaccines and therapeutics? What has been published concerning research and development and evaluation efforts of vaccines and therapeutics?\n",
      "Effectiveness of drugs being developed and tried to treat COVID-19 patients.\n",
      "Clinical and bench trials to investigate less common viral inhibitors against COVID-19 such as naproxen, clarithromycin, and minocyclinethat that may exert effects on viral replication.\n",
      "Methods evaluating potential complication of Antibody-Dependent Enhancement (ADE) in vaccine recipients.\n",
      "Exploration of use of best animal models and their predictive value for a human vaccine.\n",
      "Capabilities to discover a therapeutic (not vaccine) for the disease, and clinical effectiveness studies to discover therapeutics, to include antiviral agents.\n",
      "Alternative models to aid decision makers in determining how to prioritize and distribute scarce, newly proven therapeutics as production ramps up. This could include identifying approaches for expanding production capacity to ensure equitable and timely distribution to populations in need.\n",
      "Efforts targeted at a universal coronavirus vaccine.\n",
      "Efforts to develop animal models and standardize challenge studies\n",
      "Efforts to develop prophylaxis clinical studies and prioritize in healthcare workers\n",
      "Approaches to evaluate risk for enhanced disease after vaccination\n",
      "Assays to evaluate vaccine immune response and process development for vaccines, alongside suitable animal models [in conjunction with therapeutics]\n",
      "\n",
      " Text index = 30481 \n",
      " Distance = 3.799408589357361 \n",
      " Title: Discovery and development of safe-in-man broad-spectrum antiviral agents \n",
      " Abstract extract: Drug discovery and development Broad-spectrum antiviral agents BSAAs A B S T R A C T Viral diseases are one of the leading causes of morbidity and mortality in the world. Virus-specific vaccines and antiviral drugs are the most powerful tools to combat viral diseases. However, broadspectrum antiviral agents (BSAAs, i.e. compounds targeting viruses belonging to two or more viral families) could provide additional protection of the general population from emerging and re-emerging viral diseases, reinforcing the arsenal of available antiviral options. Here, we review discovery and development of BSAAs and summarize the information on 120 safe-in-man agents in a freely accessible database (https://drugvirus.info/). Future and ongoing pre-clinical and clinical studies will increase the number of BSAAs, expand the spectrum of their indications, and identify drug combinations for treatment of emerging and re-emerging viral infections as well as co-infections.\n",
      "\n",
      "\n",
      " Text index = 31158 \n",
      " Distance = 3.947985526715005 \n",
      " Title: PEGylated Adenoviruses: From Mice to Monkeys \n",
      " Abstract extract: Covalent modification with polyethylene glycol (PEG), a non-toxic polymer used in food, cosmetic and pharmaceutical preparations for over 60 years, can profoundly influence the pharmacokinetic, pharmacologic and toxciologic profile of protein and peptide-based therapeutics. This review summarizes the history of PEGylation and PEG chemistry and highlights the value of this technology in the context of the design and development of recombinant viruses for gene transfer, vaccination and diagnostic purposes. Specific emphasis is placed on the application of this technology to the adenovirus, the most potent viral vector with the most highly characterized toxicity profile to date, in several animal models.\n",
      "\n",
      "\n",
      " Text index = 26291 \n",
      " Distance = 4.025814259367003 \n",
      " Title: Perspectives towards antiviral drug discovery against Ebola virus \n",
      " Abstract extract: Ebola virus disease (EVD), caused by Ebola viruses, resulted in more than 11 500 deaths according to a recent 2018 WHO report. With mortality rates up to 90%, it is nowadays one of the most deadly infectious diseases. However, no Food and Drug Administrationapproved Ebola drugs or vaccines are available yet with the mainstay of therapy being supportive care. The high fatality rate and absence of effective treatment or vaccination make Ebola virus a category-A biothreat pathogen. Fortunately, a series of investigational countermeasures have been developed to control and prevent this global threat. This review summarizes the recent therapeutic advances and ongoing research progress from research and development to clinical trials in the development of small-molecule antiviral drugs, small-interference RNA molecules, phosphorodiamidate morpholino oligomers, fulllength monoclonal antibodies, and vaccines. Moreover, difficulties are highlighted in the search for effective countermeasures against EVD with additional focus on the interplay between available in silico prediction methods and their evidenced potential in antiviral drug discovery.\n",
      "\n",
      "\n"
     ]
    }
   ],
   "source": [
    "print(\"=\"*80, f\"\\n\\nTask = {list_of_tasks[3]}\\n\", )\n",
    "df =  train_df.iloc[indices[3]]\n",
    "abstracts = df['abstract']\n",
    "titles = df['title']\n",
    "dist = distances[3]\n",
    "for l in range(len(dist)):\n",
    "    print(f\" Text index = {indices[3][l]} \\n Distance = {distances[3][l]} \\n Title: {titles.iloc[l]} \\n Abstract extract: {abstracts.iloc[l]}\\n\\n\")"
   ]
  },
  {
   "cell_type": "markdown",
   "metadata": {},
   "source": [
    "## Level 2 Abstraction using SciBERT"
   ]
  },
  {
   "cell_type": "code",
   "execution_count": 16,
   "metadata": {},
   "outputs": [],
   "source": [
    "tokenizer = AutoTokenizer.from_pretrained('allenai/scibert_scivocab_uncased')\n",
    "transformer = AutoModel.from_pretrained('allenai/scibert_scivocab_uncased').to('cuda')"
   ]
  },
  {
   "cell_type": "code",
   "execution_count": 17,
   "metadata": {},
   "outputs": [],
   "source": [
    "number_top_matches = 3"
   ]
  },
  {
   "cell_type": "code",
   "execution_count": 18,
   "metadata": {},
   "outputs": [],
   "source": [
    "def convert(sentence):\n",
    "    tokenized_sentence = tokenizer.tokenize(sentence)\n",
    "    indexed_tokens = tokenizer.convert_tokens_to_ids(tokenized_sentence)\n",
    "    with torch.no_grad():\n",
    "        vector = transformer(torch.LongTensor([indexed_tokens]).to('cuda'))[1].cpu().numpy().tolist()\n",
    "    return vector[0]"
   ]
  },
  {
   "cell_type": "code",
   "execution_count": 19,
   "metadata": {},
   "outputs": [],
   "source": [
    "query = 'What are the possible medications against COVID-19?' \n",
    "query_embeddings = convert(query)"
   ]
  },
  {
   "cell_type": "code",
   "execution_count": 20,
   "metadata": {},
   "outputs": [
    {
     "name": "stdout",
     "output_type": "stream",
     "text": [
      "================================================================================ \n",
      "\n",
      "Task = \n",
      "\n",
      " What do we know about vaccines and therapeutics? What has been published concerning research and development and evaluation efforts of vaccines and therapeutics?\n",
      "Effectiveness of drugs being developed and tried to treat COVID-19 patients.\n",
      "Clinical and bench trials to investigate less common viral inhibitors against COVID-19 such as naproxen, clarithromycin, and minocyclinethat that may exert effects on viral replication.\n",
      "Methods evaluating potential complication of Antibody-Dependent Enhancement (ADE) in vaccine recipients.\n",
      "Exploration of use of best animal models and their predictive value for a human vaccine.\n",
      "Capabilities to discover a therapeutic (not vaccine) for the disease, and clinical effectiveness studies to discover therapeutics, to include antiviral agents.\n",
      "Alternative models to aid decision makers in determining how to prioritize and distribute scarce, newly proven therapeutics as production ramps up. This could include identifying approaches for expanding production capacity to ensure equitable and timely distribution to populations in need.\n",
      "Efforts targeted at a universal coronavirus vaccine.\n",
      "Efforts to develop animal models and standardize challenge studies\n",
      "Efforts to develop prophylaxis clinical studies and prioritize in healthcare workers\n",
      "Approaches to evaluate risk for enhanced disease after vaccination\n",
      "Assays to evaluate vaccine immune response and process development for vaccines, alongside suitable animal models [in conjunction with therapeutics]\n",
      "\n",
      "\n",
      "\n",
      "======================\n",
      "\n",
      "\n",
      "Searching in Abstracts\n",
      "\n",
      "\n",
      "======================\n",
      "\n",
      "\n",
      "Abstract: Drug discovery and development Broad-spectrum antiviral agents BSAAs A B S T R A C T Viral diseases are one of the leading causes of morbidity and mortality in the world. Virus-specific vaccines and antiviral drugs are the most powerful tools to combat viral diseases. However, broadspectrum antiviral agents (BSAAs, i.e. compounds targeting viruses belonging to two or more viral families) could provide additional protection of the general population from emerging and re-emerging viral diseases, reinforcing the arsenal of available antiviral options. Here, we review discovery and development of BSAAs and summarize the information on 120 safe-in-man agents in a freely accessible database (https://drugvirus.info/). Future and ongoing pre-clinical and clinical studies will increase the number of BSAAs, expand the spectrum of their indications, and identify drug combinations for treatment of emerging and re-emerging viral infections as well as co-infections.\n",
      "\n",
      "\n",
      "======================\n",
      "\n",
      "\n",
      "Query: What are the possible medications against COVID-19?\n",
      "\n",
      "Top 3 most similar sentences are:\n",
      "However, broadspectrum antiviral agents (BSAAs, i (Cosine Score: 0.8313)\n",
      "Drug discovery and development Broad-spectrum antiviral agents BSAAs A B S T R A C T Viral diseases are one of the leading causes of morbidity and mortality in the world (Cosine Score: 0.7901)\n",
      "info/) (Cosine Score: 0.7230)\n",
      "\n",
      "\n",
      "======================\n",
      "\n",
      "\n",
      "Abstract: Covalent modification with polyethylene glycol (PEG), a non-toxic polymer used in food, cosmetic and pharmaceutical preparations for over 60 years, can profoundly influence the pharmacokinetic, pharmacologic and toxciologic profile of protein and peptide-based therapeutics. This review summarizes the history of PEGylation and PEG chemistry and highlights the value of this technology in the context of the design and development of recombinant viruses for gene transfer, vaccination and diagnostic purposes. Specific emphasis is placed on the application of this technology to the adenovirus, the most potent viral vector with the most highly characterized toxicity profile to date, in several animal models.\n",
      "\n",
      "\n",
      "======================\n",
      "\n",
      "\n",
      "Query: What are the possible medications against COVID-19?\n",
      "\n",
      "Top 3 most similar sentences are:\n",
      "This review summarizes the history of PEGylation and PEG chemistry and highlights the value of this technology in the context of the design and development of recombinant viruses for gene transfer, vaccination and diagnostic purposes (Cosine Score: 0.7990)\n",
      "Covalent modification with polyethylene glycol (PEG), a non-toxic polymer used in food, cosmetic and pharmaceutical preparations for over 60 years, can profoundly influence the pharmacokinetic, pharmacologic and toxciologic profile of protein and peptide-based therapeutics (Cosine Score: 0.6458)\n",
      "Specific emphasis is placed on the application of this technology to the adenovirus, the most potent viral vector with the most highly characterized toxicity profile to date, in several animal models (Cosine Score: 0.5618)\n",
      "\n",
      "\n",
      "======================\n",
      "\n",
      "\n",
      "Abstract: Ebola virus disease (EVD), caused by Ebola viruses, resulted in more than 11 500 deaths according to a recent 2018 WHO report. With mortality rates up to 90%, it is nowadays one of the most deadly infectious diseases. However, no Food and Drug Administrationapproved Ebola drugs or vaccines are available yet with the mainstay of therapy being supportive care. The high fatality rate and absence of effective treatment or vaccination make Ebola virus a category-A biothreat pathogen. Fortunately, a series of investigational countermeasures have been developed to control and prevent this global threat. This review summarizes the recent therapeutic advances and ongoing research progress from research and development to clinical trials in the development of small-molecule antiviral drugs, small-interference RNA molecules, phosphorodiamidate morpholino oligomers, fulllength monoclonal antibodies, and vaccines. Moreover, difficulties are highlighted in the search for effective countermeasures against EVD with additional focus on the interplay between available in silico prediction methods and their evidenced potential in antiviral drug discovery.\n",
      "\n",
      "\n",
      "======================\n",
      "\n",
      "\n",
      "Query: What are the possible medications against COVID-19?\n",
      "\n",
      "Top 3 most similar sentences are:\n",
      "This review summarizes the recent therapeutic advances and ongoing research progress from research and development to clinical trials in the development of small-molecule antiviral drugs, small-interference RNA molecules, phosphorodiamidate morpholino oligomers, fulllength monoclonal antibodies, and vaccines (Cosine Score: 0.8401)\n",
      "The high fatality rate and absence of effective treatment or vaccination make Ebola virus a category-A biothreat pathogen (Cosine Score: 0.7627)\n",
      "Moreover, difficulties are highlighted in the search for effective countermeasures against EVD with additional focus on the interplay between available in silico prediction methods and their evidenced potential in antiviral drug discovery (Cosine Score: 0.7322)\n",
      "\n",
      "\n",
      "======================\n",
      "\n",
      "\n",
      "Searching in Texts\n",
      "\n",
      "\n",
      "======================\n",
      "\n",
      "\n",
      "Text: ['Viruses are one of the major causes of morbidity and mortality in the world (DALYs and Collaborators, 2018; Disease et al', ', 2018; Howard and Fletcher, 2012; WHO, 2015) ', ' Antiviral drugs and vaccines are used to fight viral infections in human (De Clercq and Li, 2016; Marston et al', ', 2014) ', ' Previously, there has been a focus on \"one drug, one virus\" dogma, which relied on targeting virusspecific factors', ' A counterpoint to this is the \"one drug, multiple viruses\" paradigm, which came with the discovery of broadspectrum antiviral agents (BSAAs), small-molecules that inhibit a wide range of human viruses (Bekerman and Einav, 2015; de Clercq and Montgomery, 1983; Debing et al', ', 2015; Ianevski et al', ', 2019; Rada and Dragun, 1977; Sidwell et al', ', 1972) ', ' This paradigm was based on the observation that different viruses utilize similar pathways and host factors to replicate inside a cell (Bosl et al', ', 2019) ', ' Although the concept of BSAAs has been around for almost 50 years, the field received a new impetus with recent outbreaks of Ebola, Zika, Dengue, influenza and other viral infections, the discovery of novel host-directed agents, as well as development of drug repositioning methodology', 'Drug repurposing, also called repositioning, redirecting, reprofiling, is a strategy for generating additional value from an existing drug by targeting disease other than that for which it was originally intended (Nishimura and Hara, 2018; Pushpakom et al', ', 2019) ', ' This has significant advantages over new drug discovery since chemical synthesis steps, manufacturing processes, reliable safety, and pharmacokinetic properties in pre-clinical (animal model) and early clinical developmental phases (phase 0, I and IIa) are already available (Figure 1) ', ' Therefore, repositioning of launched or even failed drugs to viral diseases provides unique translational opportunities, including a substantially higher probability of success to market as compared with developing new virus-specific drugs and vaccines, and a significantly reduced cost and timeline to clinical availability Pizzorno et al', ', 2019; Zheng et al', ', 2018) ', 'Here, we detail the steps of BSAA repurposing, from discovery of novel antiviral activities in cell culture to post-market studies', 'Moreover, we summarized currently available information on BSAAs in freely available database, focusing on those antivirals, which have been already tested in human as antivirals, antibacterials, antiprotozoals, anthelmintics, etc', ' Finally, we discuss future perspectives of using safe-in-man BSAAs for treatment of emerging and re-emerging viral infections as well as viral and bacterial co-infections', 'Discovery of novel BSAA activities in immortalized cell cultures and co-culturesThe discovery of novel activities of BSAAs starts with exposing cells to the candidate antiviral agent at different concentrations and infecting the cells with a virus or mock', ' Immortalized cancerous cell cultures and co-cultures, which express appropriate viral receptors, are most commonly used in this first step', ' The halfmaximal cytotoxic concentrations (CC 50 ) for a compound are calculated based on their dose-response curves obtained on mockinfected cells', ' The half-maximal effective concentrations (EC 50 ) are calculated based on the analysis of curves obtained on infected cells', ' Statistical analyses can help to determine if the differences between CC 50 and EC 50 are significant, given the inherent variability of the experiment (Meneghini and Hamasaki, 1967) ', ' A relative effectiveness of a drug is defined as selectivity index (SI = CC 50 /EC 50 )', 'Cell viability assays and cell death assays are commonly used to assess the cytotoxicity and efficacy of BSAAs ( Figure 2A )', ' Cell viability assays include MTT, MTS, resazurin or similar assays, mitochondrial membrane potential-dependent dyes-based assays, esterase cleaved dye-based assays, ATP-ADP assays, and assays that measure glycolytic flux and oxygen consumption', ' Other cell death assays include LDH enzyme leakage assays, membrane impermeable dye-based assays, and apoptosis assays, such as Annexin V, TUNEL, and caspase assays (Shen et al', ', 2019) ', ' For example, the Cell Titer Glo (CTG) assay quantifies ATP, an indicator of metabolically active living cells, whereas Cell Tox Green assay uses fluorescent asymmetric cyanine dye that stains the DNA of dead cells (Bosl et al', ', 2019; Bulanova et al', ', 2017; Ianevski et al', ', 2018; Muller et al', ', 2014) ', ' Viral strains or cell lines expressing reporter proteins are also used to assess the efficacy of BSAAs in infected cells', ' For example, TZM-bl cells expressing firefly luciferase under control of HIV-1 LTR promoter allowed quantitation of BSAA action on HIV-1 infection (tat-protein expression by integrated HIV-1 provirus) using firefly luciferase assay (Sarzotti-Kelsoe et al', ', 2014; Xing et al', ', 2016) ', ' RFP-expressing RVFV, nanoLuc-expressing CHIKV and RRV, as well as GFP-expressing FLUAV, HCV and HMPV also allowed identification of novel activities of several BSAAs (Andersen et al', ', 2019b; Bosl et al', ', 2019; de Graaf et al', ', 2007; Habjan et al', ', 2008; Ianevski et al', ', 2018; Jupille et al', ', 2011; Kittel et al', ', 2004; Lee et al', ', 2017; Utt et al', ', 2016) ', ' In addition, qPCR/RT-qPCR, RNA/DNA sequencing, RNA/DNA hybridization, immuno-and plaque assays as well as CRISPR-Cas9 systems could be used for detection of inhibitory effects of BSAAs (Boonham et al', ', 2014; Fischer et al', ', 2017; Konig et al', ', 2019; Laamiri et al', ', 2018; Landry, 1990; Perez et al', ', 2013; Sashital, 2018; Zhou et al', ', 2018) ', ' Interestingly, CRISPR-Cas9, siRNA and shRNA approaches were used for identification of BSAA targets (Deans et al', ', 2016; Puschnik et al', ', 2017) ', 'Novel anti-HSV-2 and anti-EV1 activities of emetine were discovered recently using CTG/plaque assays in human nonmalignant RPE cells', ' Moreover, novel antiviral activities of the drug were identified using RFP-expressing RVFV, and GFP-expressing HMPV or FLUAV strains in RPE cells (Andersen et al', ', 2019a) ', ' Given that emetine also inhibits ZIKV, EBOV, RABV, CMV, HCoV-OC43 and HIV-1 infections (Chaves Valadao et al', ', 2015; MacGibeny et al', ', 2018; Mukhopadhyay et al', ', 2016; Shen et al', ', 2019; Yang et al', ', 2018) , and that it is an FDA-approved anti-protozoal drug, it may represent a promising safe-in-man BSAA candidate', 'Immortalized cell cultures/co-cultures and reporter viral strains represent excellent model systems for the discovery of novel activities of safe-in-man BSAAs', ' However, these genetically modified systems have certain limitations (attenuated or incomplete virus replication cycle, accumulation of mutations during repeated cell and virus passaging, defective innate immune responses and viral counter-responses, etc', ') (Carter and Shieh, 2015) ', ' Thereby, novel antiviral activities of BSAAs should be further validated in primary human cells using different viral strains (including wild-type viruses), different viral loads, different times of compound addition, different endpoint measurements and compound concentration range', ' Primary cell cultures give more accurate images of drug responses (Alves et al', ', 2018; Denisova et al', ', 2012; Koban et al', ', 2018; Postnikova et al', ', 2018) ', ' They have a low population doubling level and therefore more closely recapitulate the physiological conditions observed in vivo', 'Primary cells are cells isolated directly from tissues or blood using enzymatic or mechanical methods', ' The cells are characterized by their high degrees of specialization, are often fully differentiated and thus require defined culture conditions (serum-free media) in order to preserve their original phenotype', ' Peripheral blood mononuclear (PBMC), placental, amniotic and fetal primary cultures as well as vaginal/cervical epithelial and male germ cells have been used intensively to validate BSAA activity (Barrows et al', ', 2016; Denisova et al', ', 2012; Fink et al', ', 2018; Rausch et al', ', 2017; Robinson et al', ', 2018) ', ' Although primary cell cultures are relevant systems for validation of BSAAs, there are technical difficulties limiting their use, such as ethical issues, purity of population of primary cells, and limited shelf life of the cells', ' In addition, age, race, sex and other genetic and epigenetic factors of donor cells should be considered to determine common biological effect across a significant number of donors thereby avoiding minor variants (Lee et al', ', 2014; Zhang et al', ', 2013) ', 'The obstacles associated with use of human primary cell cultures can be bypassed using human embryonic stem cells (ESCs) and human induced pluripotent stem cells (iPSCs)', ' ESCs are isolated from surplus human embryos, whereas iPSCs are obtained by reprogramming somatic cells', ' These cells proliferate extensively and retain multi-lineage activity, which allows them to generate virtually any cell type of the body', ' The ESCs-and iPSC-derived cells have been used successfully to investigate the efficacy of several BSAAs against HBV, ZIKV, CHIKV and HSV-1 infections (Table S1 ) (Ferreira et al', ', 2019; Iwasawa et al', ', 2019; Lanko et al', ', 2017; Simonin et al', ', 2019; Xia et al', ', 2017; Zhou et al']\n"
     ]
    },
    {
     "name": "stdout",
     "output_type": "stream",
     "text": [
      "\n",
      "\n",
      "======================\n",
      "\n",
      "\n",
      "Query: What are the possible medications against COVID-19?\n",
      "\n",
      "Top 3 most similar sentences are:\n",
      "Therefore, repositioning of launched or even failed drugs to viral diseases provides unique translational opportunities, including a substantially higher probability of success to market as compared with developing new virus-specific drugs and vaccines, and a significantly reduced cost and timeline to clinical availability Pizzorno et al \n",
      "(Cosine Score: 0.8575)\n",
      ") \n",
      "(Cosine Score: 0.8475)\n",
      "For example, a cocktail of nitazoxanide, favipiravir, and niclosamide could be developed for the treatment of viruses belonging to 11 families \n",
      "(Cosine Score: 0.8321)\n",
      "\n",
      "\n",
      "======================\n",
      "\n",
      "\n",
      "Text: ['Polyethylene glycol (PEG) is one of the most versatile polymers synthesized', ' This amphiphilic, chemically inert polymer consists of repeating units of ethylene oxide, which can be arranged in either linear or branched configurations, creating a series of compounds of different molecular weights with unique properties [1] ', ' A demonstrated lack of immunogenicity, toxicity and antigenicity, subsequent (A) The core molecule, linear poly(ethylene) glycol, a diol, with two free hydroxyl groups; (B) Monomethoxy poly(ethylene) glycol (mPEG)', ' The single hydroxyl group is the site of attachment for a variety of reactive groups suitable for conjugation to nucleophilic functional groups on proteins such as lysine; (C) A branched PEG molecule in which two linear mPEGs activated with either succinimidyl carbonate or benzotriazole are linked to the \\uf0b5and \\uf065-amino groups of lysine', ' These molecules offer the advantage of adding two PEG molecules at each attachment site, affording broader protection from proteolysis and the immune response without reducing bioactivity; (D) Multi-arm PEG', ' These compounds, generally prepared with hexaglycerine at the core, offer multiple hydroxyl groups for attachment of many copies of the same or several different reactive groups for protein and peptide conjugation; (E) Forked shaped PEG', ' Fork-shaped PEGs provide multiple reactive groups in close proximity at one or both ends (Panel F) of the PEG chain, where X represents functional groups', ' Early on, lysine, one of the most plentiful amino acids present in many proteins, was identified as the primary site for attachment of PEG residues and could be modified with a wide selection of chemical moieties (Figure 3 ) [10] , commonly used for PEGylation of both free \\uf0b5and \\uf065-amino groups on peptides and proteins', ' Protocols employing these molecules are often plagued with the presence of impurities and non-specific attachment to residues, allowing for inconsistencies between production lots', ' These chemistries are also restricted to low molecular weight polymers', ' Once attached to a bioactive molecule, they are relatively unstable and tend to degrade soon after administration in vivo', ' These PEG derivatives have been developed for specific attachment to cysteine residues on proteins and peptides', ' (A) PEG-maleimide is able to conjugate to free thiols under acidic (pH 6-7) conditions, however, this compound is not stable in water and the ring is susceptible to opening or addition of water across the double bond', ' (B) PEG-orthopyridyl disulfide reacts specifically with sulfhydryl groups under both acidic and basic conditions (pH 3-10) to form a disulfide bond with proteins which are stable except in a reducing environment when the linkage is converted to a thiol', ' (C) PEG-iodoacetamide, reacts slowly with thiol residues to form stable thioether bonds in mildly basic media', ' Use of this compound is advantageous in the context that, by strong acid hydrolysis, modification of a protein with this compound gives rise to a stable cysteine conjugate, carboxymethylcysteine that can be identified and quantified by standard amino acid sequencing techniques to verify the degree of modification of the parent protein', ' It is also important to note that any reaction employing this polymer should be performed under dark conditions in order to prevent the production of free iodine that may react with other amino acids such as tyrosine', ' (D) PEG-vinyl sulfone reacts slowly with thiols to form a stable thioester linkage to proteins under slightly basic conditions (pH [7] [8] ', ' This process will proceed at a faster rate if the pH is increased', ' However, under these conditions, PEGvinyl sulfone may also react with free lysines', ' Use of any of these compounds is dictated by protein solubility/stability under reaction conditions defined by the PEGylation chemistry, availability/accessibility of cysteine residues on the protein surface, desired speed of reaction and availability of methodology for characterization of protein conjugates', 'Today, PEGylation processes focus on select amino acids, such as thiol groups on cysteine residues, as primary sites for attachment, thereby minimizing random attachment of PEG to the protein surface and the amount of heterogeneous conjugates in a given preparation [12] ', ' Improved site-specific PEGylation with these reagents minimizes loss of biological activity through enhanced preservation of the native protein structure', ' Complex, branched second generation PEG molecules have also been shown to maintain pH and thermal stability, reduce immunogenicity and protect modified proteins from proteolysis to a much higher degree than those modified with first generation chemistries [4, 5] ', ' Further refinement of these molecules led to the development of heterofunctional PEGs that directly link the protein of interest to another molecule used for targeting specific cells and tissues', ' A general schematic of PEGylation strategies is summarized in Figure 5 ', ' Figure 5 ', ' The Building Blocks of a PEGylated Therapeutic', ' Once a therapeutic molecule amenable to PEGylation is identified, the appropriate PEG chemistry must be selected', ' Properties such as size, symmetry, and bifunctionality must be considered and adopted according to the desired application', ' The linker used for covalent attachment of PEG must also be evaluated with respect to the strength of the bond created as well as its affinity for certain residues on the bioactive molecule', ' Receptor-specific peptides, proteins and molecular sensors have been tethered to PEGylated therapeutics for cellular and tissue specific targeting', 'Davis and Abuchowski were the first to modify two model proteins, bovine serum albumin and liver catalase, with methoxypolyethylene glycols (mPEG) of 1,900 and 5,000 Daltons (Da) using cyanuric chloride and 2,4,6-trichloro-8-triazine as the coupling agents, respectively [13, 14] ', ' One of their prime findings, that when PEG is properly coupled to a protein or an enzyme, the modified product loses its immunogenicity in vivo, laid the groundwork for additional studies that suggested that protein antigens modified by this technique may not only fail to induce an immune response but may be tolerogenic', ' This phenomenon was first reported by Lee et al', ' when intravenous administration of PEGylated ovalbumin (PEG-OVA) 4 hours before sensitizing with dinitrophenylated OVA (DNP-OVA) suppressed the primary anti-DNP-OVA and anti-OVA IgE responses in both mice and rats', ' These animals also responded very poorly to additional doses of DNP-OVA', ' In contrast, injection of unmodified OVA did not alter the ability of the animals to mount IgE responses to DNP-OVA [15] ', ' Additional reports have been written summarizing similar transitions for other allergens including ragweed pollen extract, uricase, L-asparaginase, hen egg lysozyme, and bovine gamma globulin and other antibodies to non-immunogenic, tolerogenic derivatives through PEGylation [16] [17] [18] [19] [20] [21] [22] [23] [24] [25] ', 'Although it has been shown that repeat administration of each of these PEGylated allergens significantly reduces IgM, IgG and IgE antibody levels against the native antigen, it has also been found that the degree of suppression depends on the immunological state at the time of treatment, the nature of allergen and the dose', ' Suppression of the antibody-mediated response was best observed in mice without measurable anti-allergen antibodies, while the weakest suppression was observed in mice with high levels of antibodies at the time of treatment [26] ', ' Additional studies have found that PEGylated allergens can induce a long-term suppression of the antibody response [15, 18, 21, 26, 27] ', ' For example, administration of PEGylated human monoclonal immunoglobulins (HIgG) suppressed the anti-HIgG antibody response by more than 95% for over 300 days after a series of seven injections of the immunizing antigen in mice [21] ', ' While the exact mechanism by which this phenomenon occurs remains unknown, adoptive transfer of splenocytes from animals given several doses of PEGylated compounds to naïve animals suggests that PEG-modified allergens activate antigen-specific CD8 + suppressor T cells [15, 18, 27, 28] ', ' Since proliferation of suppressor T cells and the associated production of factors that dampen the immune response is dependent upon the concentration of circulating antigen during the tolerization process, slowing of antigen processing and extending the half-life of the antigen by PEGylation most likely plays a major role in the immunosuppressive capacity of the conjugates [17,24,25]', 'As data continued to suggest that PEGylated biomolecules were less immunogenic than their native counterparts, many interested in preventing immunorejection during transplantation began to apply this process to intact, viable cells and tissues', ' Modification of type A and type B human red blood cells (RBCs) with mPEG did not compromise the structure, function and viability of the cell and prevented agglutination by anti-A and anti-B antisera, respectively [29-31]', ' PEGylation of ovine RBCs prolonged their survival when transfused into mice [30] ', ' PEGylation of lymphocytes can inhibit MHC class II activation and proliferation of T cells, as was demonstrated in an in vivo model of transfusion-associated graft versus host disease [31] [32] [33] ', ' Adoptive transfer of PEGylated splenocytes isolated from C57BL/6 mice to lethally irradiated Balb/c mice extended survival time from 7 to 10 days [34]', ' PEGylation reduced proliferation in the donor T cell population, suggesting that the loss of T cell responsiveness is likely due to disruption interactions between the T cells and antigen presenting cells necessary to mount an immune response [32] ', ' It has also been suggested that this weak, ineffective co-stimulation of alloreactive T cells induces apoptosis, leading to tolerance of donor tissue [34] ', ' This phenomenon has been further exemplified in diabetic rat models where PEGylation improved pancreatic islet viability, facilitated engraftment and re-established blood glucose homeostasis [34, 35] ', ' Additional studies demonstrated that PEGylation efficiently blocked recognition of the transplants by immune cells, allowing them to remain stably functional in diabetic recipients for several weeks [35-38]', 'Approval of Adagen\\uf0d2 (Pegademase) for the treatment of severe combined immunodeficiency disease (SCID) by the U', 'S', ' FDA in the early 1990s illustrated the potential for PEGylation to significantly impact modern therapeutics', ' The half-life of this product, bovine adenosine deaminase randomly modified with 5 kDa PEG molecules, increased from less than 30 min to 28 hr for the conjugated counterpart [39] ', ' This, along with the fact that the modified enzyme preparation could evoke 1,800 times the activity per milliliter of red blood cells alone [40] , marked notable progress in the area of enzyme replacement therapy by minimizing the number of doses needed to achieve a therapeutic effect, eliminating the need for blood transfusion and avoiding the risk of iron overload and transfusion-associated viral infection [11] ', ' In a similar manner, therapeutic use of L-asparaginase for acute lymphoblastic leukemia was hindered by the fact that frequent intramuscular injections, necessary for therapeutic efficacy, also induced strong hypersensitivity reactions, rendering the enzyme ineffective in many patients [41] ', ' Covalent attachment of 5 kDa PEG to this enzyme four years later reduced its immunogenicity and the necessity for frequent dosing, allowing for successful use in those with hypersensitivity to the unmodified enzyme [42] [43] [44] ', ' Within the last 10 years, improvements in polymer homogeneity and PEGylation chemistry have produced many potent, wellcharacterized, protein-based therapeutics', ' Therapeutic PEGylated proteins currently marketed in the United States and Europe are summarized in Table 1 ', ' Two marketed products of PEGylated interferon alpha (IFN-\\uf0b5), PEGIntron (Schering Plough) and PEGASYS (Roche), illustrate how different PEG chemistries can affect the pharmacokinetic profile of a biologically active protein', ' PEGIntron (IFN-\\uf0b52b) contains a single chain 12kDa PEG attached to His34 via a urethane bond [45] ', ' Although this modification significantly extends the elimination halflife and reduces the clearance of the protein (Table 2) , the conjugate is hydrolytically unstable in plasma and when stored at ambient temperatures [46] ', ' The activity of this preparation relative to the unmodified protein is 28% [47] ', ' In contrast, PEGASYS (IFN\\uf0b5-2a) contains branched 40 kDa PEG molecules attached to lysine residues via an amide bond [48] ', ' This conjugate, with greater in vitro and in vivo stability has a significantly longer half life than PEGIntron and reduces the clearance of the protein by a factor of 100, overshadowing the fact that the modified protein retains only 7% of the relative activity of the unmodified protein (Table 2 ) [47] ', ' Despite their differences, both products have greater anti-viral action than their native counterparts, reducing administration schedules from three times a week to once weekly [49, 50] ', ' Granulocyte-colony stimulating factor (G-CSF) and an anti-TNF-\\uf0b5 Fab\\uf0a2 have been conjugated to PEG in order to increase the overall size of the molecule', ' In the case of Pegfilgrastim (Neublasta\\uf0d2:PEGylated G-CSF), the increase in size minimizes renal clearance of the drug, prolongs the circulation time and stimulates the proliferation and differentiation of neutrophils which, in turn, aid in clearing the compound once therapeutic levels are attained [51] ', ' Certolizumab pegol (Cimzia\\uf0d2), the Fab\\uf0a2 fragment of a humanized anti-tumor necrosis factor-\\uf061 (TNF\\uf061) monoclonal antibody linked to a branched 40 kDa PEG maleimide at a single cysteine residue, demonstrates a prolonged circulating time in blood, such that a single monthly subcutaneous injection is sufficient for therapeutic efficacy', ' In addition, increasing the size of this molecule by PEGylation allows it to preferentially accumulate in inflamed tissue, where its therapeutic effect is primarily needed [46]', 'Gene therapy has gained significant attention over the past two decades as a potential method for diverse applications including the correction of inherited genetic and neurodegenerative disorders, as well as the treatment of cancer, cardiovascular and infectious diseases [52, 53] ', ' Despite encouraging pre-clinical results, practical use of this technology has been hindered by inefficient delivery to specific cellular targets and immune responses to both the vector selected for gene transfer and the transgene product', ' Rapid clearance from the circulation by the complement system and the immunogenicity associated with non-viral and viral vectors alike were the primary reasons for applying PEGylation technology to gene delivery vectors', ' In this regard, PEGylation was initially used for non-viral vectors and eventually for viral vectors as the immune response became the most significant limitation to therapeutic gene transfer', ' Additional efforts soon recognized that advanced PEG chemistries accommodated attachment of specific ligands to the vectors, making them less promiscuous and promoting tissue and cell-specific gene expression', 'Non-viral gene transfer is a method by which DNA is formulated with cationic lipids and/or polymers to create dense particles that are delivered to target cells by physical means such as direct injection, electroporation or gene gun [54] ', ' These particles, however, are often rapidly sequestered in the reticuloendothelial system (RES), and are removed from the bloodstream within minutes after systemic administration [55, 56] ', ' PEGylation was primarily used to reduce the rate at which these vectors are cleared to improve therapeutic efficacy', ' This has been achieved by PEGylating preparations containing branched polyethylenenimine/\\uf062-cyclodextrin/DNA polyplexes as well as simple DNA/chitosan mixtures [57] [58] [59] ', ' In both cases, this modification minimized aggregate formation under physiological conditions and prolonged circulation time, thereby reducing uptake by macrophages and improving overall transduction efficiency of each system', ' Numerous reports have shown that PEGylation also reduces binding of DNA complexes to plasma proteins and minimizes toxicity while improving the stability, solubility and, in turn, transfection efficiency of these non-viral preparations [52, 57, [60] [61] [62] [63] [64] [65] ', ' Results from these studies and data accumulated from clinical trials with viral vectors soon prompted development of PEGylation strategies for viruses', 'Although viral vectors, unlike their non-viral counterparts, are extremely efficient at inducing transgene expression in cellular targets, their clinical utility is hindered by significant immunogenicity and toxicity', ' Covalent modification of proteins contained in the virus coat with PEG has been shown to improve both the physicochemical and biological properties of several recombinant viruses used for gene transfer (Table 3) including adeno-associated virus (AAV) [66, 67] , pseudotyped lentivirus [68] , retrovirus [69, 70] , and baculovirus [71] ', 'PEGylation has also been used to modify influenza virosomes, virus-like particles synthesized from capsid proteins, to minimize host immunological responses [72, 73] ', ' While results with many viral vectors have been minimal, there has been a significant effort in developing PEGylation protocols for one of the most potent vectors with a highly characterized toxicity profile to date, the adenovirus', ' Table 3 ', ' Current Summary of PEGylated Viruses and the Reported Impact of Modification', 'Model Biological effects Ref', 'Conjugation of AAV with monomethoxy poly(ethylene) glycols activated by tresyl chloride (TMPEG) and succinimidyl succinate (SSPEG) chemistries did not compromise transduction efficiency', 'PEGylation with either 2 kDa or 5 kDa PEG at 1:1, 10:1, 100:1 and 1000:1 PEG:lysine ratios did not compromise transduction efficiency', ' Conjugation of rAAV with 2 kDa PEG at the 1000:1 PEG lysine ratio protected from serum neutralization', 'in vivo SSPEG and TMPEG improved gene transduction in the lung without compromising transduction efficiency in the liver and muscle', ' TMPEG reduced Th1-type response', ' Successful readministration of virus after iv injection was achieved by modification with TMPEG', ' Table 3 ']\n"
     ]
    },
    {
     "name": "stdout",
     "output_type": "stream",
     "text": [
      "\n",
      "\n",
      "======================\n",
      "\n",
      "\n",
      "Query: What are the possible medications against COVID-19?\n",
      "\n",
      "Top 3 most similar sentences are:\n",
      "The exact mechanisms by which these vectors with a reduced immunogenic profile can induce strong anti-antigenic immune responses are currently unknown \n",
      "(Cosine Score: 0.8646)\n",
      "When given systemically, the half-life unmodified adenovirus is less than 2 minutes [89] \n",
      "(Cosine Score: 0.8621)\n",
      "Table 3 \n",
      "(Cosine Score: 0.8563)\n",
      "\n",
      "\n",
      "======================\n",
      "\n",
      "\n",
      "Text: ['EVD outbreaks, of which the first on 8 May (May-June 2018Equateur province DRC outbreak) and the second on 1 August (August-present, 2018, Kivu province DRC outbreak)', ' The first outbreak resulted in 54 EVD cases (38 confirmed and 16 probable) and 33 deaths (overall case-fatality ratio of 61%) as of 24 July, 2018 (declared the end of this outbreak), 29 while the latter is ongoing, which includes 238 cases (203 confirmed and 35 probable) and 155 deaths resulting in a case-fatality rate of 65', '1% (as of 21 October, 2018) ', ' 30 Preclinical efforts toward specific EBOV countermeasures have been enduring for years with first treatment and vaccine clinical trials conducted during the 2013 to 2016 EBOV outbreak in West-Africa', ' [31] [32] [33] [34] [35] [36] [37] During the DRC outbreaks, the countermeasures were evaluated in West-Africa EVD outbreak and demonstrated their clinical efficacy', ' In addition, a small number of studies (case reports) exists for the experi countermeasures has been enduring mental use of anti-Ebola antiviral and vaccine leads', ' [38] [39] [40] [41] EBOV vaccine development has already been covered in previously published reviews', ' 34, [42] [43] [44] [45] In brief, the recent update includes the development of replication-competent rVSV-ZEBOV (rVSV) used in May-June 2018 Equateur DRC outbreak in a ring vaccination trial (Phase III; NCT03161366), which proved to be well tolerated with improved efficacy and safety', ' 35, 36 Currently, rVSV is being investigated along with other investigational therapeutics in the ongoing Kivu DRC outbreak (Phase II; NCT03719586)', ' A second update includes Ad26-ZEBOV/MVA-BN-Filo prime-boost vaccine evidenced as safe and well tolerated', ' 46, 47 Both rVSV and Ad26-ZEBOV/MVA-BN-Filo prime-boost vaccine have been evaluated in Phases I, II, and III clinical trials', ' Other nonreplicating vaccines are virus-vector-based evidenced to be highly effective in non-human primates (NHPs)', ' [48] [49] [50] [51] [52] [53] The current study is focused on the therapeutic advancement towards EVD and the challenges encountered', 'Identification of suitable biological drug targets is the primary step towards therapeutic development', ' 54, 55 Validated through a combination of genetic, 56 biochemical, 57, 58 structural, and computational strategies, 54 ,55 a variety of drug targets have been identified in both host and pathogen', ' 59 Encased in a lipid envelope, filoviruses are filamentous in shape', ' 60 Linear, nonsegmented, negative-sense single-stranded RNA encodes a 19-kb genome containing the genetic information for seven structural proteins and considered as potential drug targets, namely transcription activator VP30, polymerase cofactor VP35, matrix proteins VP40 and VP24, nucleoprotein (NP), glycoprotein (GP), and RNA-dependent RNA polymerase (L)', ' 61, 62 The structure and function of these proteins aided in deciphering the molecular mechanisms of filovirus lifecycle and have been explanatorily reviewed in a series of three reviews by Martin et al', ', describing aspects of filovirus entry, 63 replication cycle, 64 assembly, and budding', ' 65 Briefly, GP, a heterodimeric complex of GP 1,2 surface protein, orchestrates viral entry into the host cell and participates in virus egress', ' 66 Due to the major role of GP 1,2 in viral entry, numerous approaches targeting the entry process have been explored to block EBOV replication at an early stage, namely immune-based therapies, [67] [68] [69] [70] peptide-based antiviral molecules, a broad range of small molecules, reviewed by Rhein and Maury, 71 and more specific entry inhibitors targeting the fusion events characterized by the GP 2 /NPC1 (Niemann-Pick C1) interaction', ' 72, 73 After entry by macropinocytosis, replication and transcription cycles involve the releasing of viral nucleocapsids into the host cell cytoplasm, resulting in the synthesis of new viral proteins and genomes', ' The whole process of assembly and budding is coordinated by NP, VP24, and VP40, and enhanced by GP', ' 74 NP binds to the viral RNA and creates RNP complex with polymerase L and viral proteins VP24, VP30, and VP35', ' 75 VP30 and NP play an important role in the RNA-binding activity', ' 75 The multifunctional protein, VP35, suppresses host-innate immunity and has been found to be involved in transcription/replication processes together with nucleocapsid assembly', ' 76, 77 The interactions between these proteins (ie, NP-NP and NP-VP35) are essential to regulate the formation of the EBOV replication complex for efficient transcription/replication', ' Blocking this nucleocapsid formation by proteinprotein interaction inhibitors can lead to potential inhibition of EBOV', ' for example, VP35-derived peptide (first identified NP ligand) that specifically binds to NP, blocks NP oligomerization and causes the release of RNA from NP-RNA complex', ' 78, 79 Other studies identified 18β-glycyrrhetinic acid and licochalcone-A 80 to potentially disrupt the association of NP-RNA complexes, aptamers, 81 pyrrolidinone compounds, 82 and recently MCCB4 (ene-thiazolidinedione group-containing compound), 83 that specifically lead to specific VP35-NP interaction', ' VP24 functions as nucleocapsid maturation factor 84 and transcription/replication modulator', ' 85 Additionally, it has been identified as a target for protein-protein interaction inhibitors, namely for a macrocyclic peptide inhibitor VP24-KPNA5 (karyopherin α5) which specifically disrupt VP24-KPNA interaction', ' 86 VP40 is a matrix protein which coordinates with VP24 toward viral assembly, budding, 87 and regulation of viral transcription', ' 88 All structural/functional features and recent advances for these crucial regulatory proteins, essential in viral messenger RNA (mRNA) synthesis and genome replication, have been critically reviewed 64 and therefore constitute key targets for designing EBOV-specific drugs', 'Key strategies recognized to combat EBOV include: (i) directly targeting the virus, (ii) modulating the host factors or immune response, and (iii) disease management', ' Critically targeting the viral lifecycle is among the most popular strategies for EBOV therapeutics', ' 61, 63, [89] [90] [91] This is done either by targeting the initial binding and/or entry of the virus into the host cells or the later viral replication and packaging', ' EBOV antiviral compounds mainly encompass small molecules, antisense therapies, and immunotherapeutic drugs', ' Current treatment of EVD is centered upon modulating coagulation and maintaining oxygen levels in Ebola patients', ' 13, [92] [93] [94] Because of these therapeutic interventions, sustenance and recovery have been reported', 'However, significant improvement might be observed as a result of an adequate level of support care', ' 27, 92, 93, 95, 96 To date, no commercial vaccines or specific therapies are available for EBOV', ' However, various studies have been reported that explain the comprehensive development of vaccines, 11, 42, 43, 61 small-molecule inhibitors, 90,91,97-103 and repurposed Food and Drug Administration (FDA) approved drugs against Ebola', ' 90, 100, [104] [105] [106] [107] [108] [109] [110] Table 1 provides an overview of anti-EBOV compounds and their level of efficacy, reported in either IC 50 or EC 50 , in vitro assays against EBOV, clinical status, and observational studies', ' By the end of the West-Africa EBOV outbreak, GS-5734 clearly indicated 100% protection of rhesus monkeys following lethal EBOV challenge 113 and an improved highly potent in vitro efficacy against Mayinga and Makona strains as compared to favipiravir', ' 112 Moreover, GS-5734 has been recently administered for the first time to a newborn baby', ' 127 BCX4430 has been tested against for its broad-spectrum inhibition of various viruses including, arenaviruses, bunyaviruses, coronaviruses, paramyxoviruses, and flaviviruses', ' 89, 128, 129 Additionally, animal survival efficacy accounted for 90% to 100% in mice 128 and 67% to 100% in rhesus monkeys using increased doses of BCX4430', ' 111 Favipiravir (T-705) remained a potential anti-EBOV candidate during the West-Africa outbreak 94, 130 and has reported up to 100% survival rate in EBOV-infected mice even with the lowest oral dose of 37', '5 mg/ kg once daily', ' In comparison, NHP resulted in 17% to 50% survival rate', ' 94, 115 Among various FDA screens, multiple compounds including amodiaquine, diphenylpyraline, ketotifen, diphenoxylate were reported to inhibit EBOV replication, while others including, verapamil, dronedarone, sertraline, toremifene, chloroquine, teicoplanin, and amiodarone were considered EBOV entry inhibitors', ' 90, 100, 104, 110 Very recently, tilorone (EC 50 = 0', '23 μM) was reported to be the most potent small-molecule inhibitor with a single-daily dose of 25 and 50 mg/kg intraperitoneal and proved efficacious in protecting 90% of mice from a lethal EBOV challenge', ' 116 Some of these inhibitors are shown in Figure 1 ', 'Other studies include the identification of coumarin-based antihistamine-like molecules, 131 68 To identify the most protective combination, ZMapp was introduced as a combination of three EBOV-GP mAbs (13C6, 2G4, and 4G7) and demonstrated 100% protection for rhesus monkeys', ' 70 The functional mechanism of binding of ZMapp has been described for its neutralizing activity targeting the GP base and glycan cap', ' 137 Further studies reported the further optimization of ZMapp against NHPs by using two chimeric mAbs (13C6 and 2G4), designated as MIL77, which protected all EBOV (Makona strain) infected rhesus monkeys', ' 138 Very recently, adeno-associated virus-mediated mAb 5D2 or 7C9 delivers 100% protection against mouse-adapted EBOV infection, whereas neutralizing mAb 2G4 revealed 83% protection', ' 139 Also, a coformulated cocktails REGN3470-3471-3479 (three human 3-mAb cocktails REGN3470, REGN3471, and REGN3479 in 1:1:1 ratio) is currently being evaluated and proved safe and well tolerated with no observed immunogenicity after a randomized, first-in-human Phase I clinical trial (NCT002777151)', ' 37 Other therapeutics include the nucleic acid-based inhibitors with phosphorodiamidate morpholino oligomers (PMOs) and small-interference RNAs (siRNAs), involved in promoting degradation of mRNA transcripts and constitute two essential classes of antisense therapies', ' 102, 140, 141 Both compounds target vital proteins involved in EBOV transcription/translation processes VP24, VP35, and viral polymerase L', ' The development underlying the modification of PMOs and siRNA has been elaborated 142 and recently reviewed', ' 143 In silico methods in drug discovery hold great potential and may prove beneficial at any stage in the preclinical development of drug candidates', ' 168 Especially, areas like target validation, the design of compound libraries, 169 Protein modeling plays a significant role in the drug discovery process', ' The goal of homology modeling is structure prediction from a known sequence with accuracy comparable to experimentally resolved structures', ' [176] [177] [178] Restrictions linked with this technique are the presence of inserts and loop sequences, which cannot be accurately predicted in the absence of a three-dimensional (3D) crystal structure', ' 179 The gap between known protein sequences and identified protein structures is significantly growing', ' Given an enormous amount of data through a vast array of DNA sequencing MIRZA ET AL', 'techniques available, experimental structure identification techniques require attention', ' 180 Computational techniques are actively exploited in the pharmaceutical industry for the prediction of 3D protein models', ' 124, 168 To expand the scope of computational methods and to improve model accuracy, efforts are being made continuously', ' These approaches help to predict the tertiary structure of a protein through its amino acid sequence to combat this issue', ' 176 Depending on the available information, these methods can be characterized as either de novo or homology modeling', ' Templatebased modeling also referred to as homology modeling or comparative modeling, is the most trusted method for model design', ' 176 Similar folding properties of the members of a protein family with the core structure unaffected by modifications in the sequence are fundamental criteria governing homology modeling', ' 181 Contrary to these predictions, the experiments demonstrated lower activity and binding potential of these compounds, therefore, negating the prediction made', ' Later, the in silico refinements of these compounds using MD revealed the interruption of keyStepwise drug discovery process from target identification, hit-to-lead optimization, and clinical trials along with the progress in the development of small-molecule inhibitors against EBOV', ' ADMET, absorption, distribution, metabolism, excretion, and toxicity; HTS, high through-put screen; PDB, protein data bank; PK, pharmacokinetics; QSAR, quantitative structure-activity relationship; R&D, research and development; SAR, structure-activity relationship interactions between sulphonamide ligands and the receptor due to an additional water molecule', ' The migration of this water molecule from outside explained the reduced activity of these compounds when tested experimentally', ' 196 In another study by Cavalli et al, 197 MD simulations were used as a platform to discern several different docked complexes of propidium and human acetylcholinesterase and most stable structures identified which correlated with the experimentally verified binding modes', 'Interestingly, MD simulation assisted in the discovery and development of antiviral drugs', ' 198 Hit-to-lead optimization is the most essential phase to closely examine the chemical scaffold concerning its absorption, distribution, metabolism, and excretion (ADME) challenges in the drug discovery process', ' In silico ligand-profiling 210,211 benefited from the boost of repurposing drugs 91, 104, 108, 194 and the notion of designing drugs with controlled selectivity profiles', ' 212 This approach is aimed at: (i) The utilization of phenotypic screening hits to predict potential targets and their mechanism of action, (ii) identifying off-targets potentially responsible for adverse reactions and side effects, and (iii) careful analysis of ADMET (absorption, distribution, metabolism, excretion, and toxicity) parameters to propose potential hits', 'Another useful in silico method, particularly beneficial for lead optimization, is quantitative structure-property relationship (QSPR) modeling which is useful for the identification of key structural features responsible for interacting with the target protein', ' For many ADME endpoints measured in the pharmaceutical industry, QSPR models have prospectively shown their ability to extract knowledge from a wide variety of chemical scaffolds proving their utility as predictive models', ' 213 QSPR models, based on machine learning techniques, are desirable to achieve the optimal potency and ADMEproperties', ' To reduce the risk of failure in trials, a useful QSAR/QSPR model is necessary to accurately predict the activity of a compound for each drug discovery project', ' However, these models do not provide adequate information about the modifications that should be made to the tested compound in the next cycle of drug design', ' To address this issue, the matched molecular pair analysis technique is another promising approach', ' This method assesses the mean effect of different substituents on various ADME parameters, such as: (i) permeability, 214 (ii) solubility, 215 (iii) clearance, 214 and (iv) cytochrome P450 inhibition', ' 147 The design of a new scaffold that interacts with the desired pharmacological target can be benefitted based on these findings', ' Molecular substitutions that are closely linked with the molecular properties can guide the design of such scaffolds', ' Several studies are reporting the use of quantitative structure-activity relationship modeling in lead optimization', ' [216] [217] [218] [219] Computational drug discovery has proven to accelerate the challenging process of designing and optimizing new drug candidates', 'Hierarchical virtual screening of ligand-based and structure-based methods delineated their validity in finding potential hits, even in the early phase of drug discovery', ' Because of the increased efficiency onEbola hit-to-lead optimization, an interplay between the several stages of in silico drug design has been depicted in Figure 3 ', ' Because of the rapid development of faster architectures and comprehensive algorithms for high-level computations, the impact of computational structure-based drug design on antiviral drug discovery and lead optimization will have a more profound impact in future years', ' Not only hit identification but also elucidation of its biological target has provided information for use in drug discovery research']\n"
     ]
    },
    {
     "name": "stdout",
     "output_type": "stream",
     "text": [
      "\n",
      "\n",
      "======================\n",
      "\n",
      "\n",
      "Query: What are the possible medications against COVID-19?\n",
      "\n",
      "Top 3 most similar sentences are:\n",
      "These approaches help to predict the tertiary structure of a protein through its amino acid sequence to combat this issue \n",
      "(Cosine Score: 0.8475)\n",
      "Critically targeting the viral lifecycle is among the most popular strategies for EBOV therapeutics \n",
      "(Cosine Score: 0.8374)\n",
      "Several studies are reporting the use of quantitative structure-activity relationship modeling in lead optimization \n",
      "(Cosine Score: 0.8329)\n"
     ]
    }
   ],
   "source": [
    "print(\"=\"*80, f\"\\n\\nTask = \\n\\n {list_of_tasks[3]}\\n\", )\n",
    "\n",
    "print(\"\\n\\n======================\\n\\n\")\n",
    "print(\"Searching in Abstracts\")\n",
    "    \n",
    "dfs =  train_df.iloc[indices[3]]\n",
    "abstracts = [i.split(\".\") for i in df['abstract']]\n",
    "for abstract in abstracts:\n",
    "    print(\"\\n\\n======================\\n\\n\")\n",
    "    print(\"Abstract:\", '.'.join(abstract))\n",
    "    abstracts_vector = [convert(i) for i in abstract if not(len(i) < 5)]\n",
    "    distance = scipy.spatial.distance.cdist([query_embeddings], abstracts_vector, \"cosine\")[0]\n",
    "\n",
    "    results = zip(range(len(distance)), distance)\n",
    "    results = sorted(results, key = lambda x: x[1])\n",
    "    \n",
    "    print(\"\\n\\n======================\\n\\n\")\n",
    "    print(\"Query:\", query)\n",
    "    print(\"\\nTop 3 most similar sentences are:\")\n",
    "\n",
    "    for idx, dist in results[0:number_top_matches]:\n",
    "        print(abstract[idx].strip(), \"(Cosine Score: %.4f)\" % (1-dist))\n",
    "\n",
    "        \n",
    "print(\"\\n\\n======================\\n\\n\")\n",
    "print(\"Searching in Texts\")\n",
    "\n",
    "texts = [i.split(\".\") for i in df['text']]\n",
    "for text in texts:\n",
    "    print(\"\\n\\n======================\\n\\n\")\n",
    "    print(\"Text:\", text[:100])\n",
    "    text_vector = [convert(i) for i in text if not(len(i) < 5)]\n",
    "    distance = scipy.spatial.distance.cdist([query_embeddings], text_vector, \"cosine\")[0]\n",
    "\n",
    "    results = zip(range(len(distance)), distance)\n",
    "    results = sorted(results, key = lambda x: x[1])\n",
    "\n",
    "    print(\"\\n\\n======================\\n\\n\")\n",
    "    print(\"Query:\", query)\n",
    "    print(\"\\nTop 3 most similar sentences are:\")\n",
    "\n",
    "    for idx, dist in results[0:number_top_matches]:\n",
    "        print(text[idx].strip(), \"\\n(Cosine Score: %.4f)\" % (1-dist))"
   ]
  },
  {
   "cell_type": "code",
   "execution_count": null,
   "metadata": {},
   "outputs": [],
   "source": []
  }
 ],
 "metadata": {
  "kernelspec": {
   "display_name": "Python 3",
   "language": "python",
   "name": "python3"
  },
  "language_info": {
   "codemirror_mode": {
    "name": "ipython",
    "version": 3
   },
   "file_extension": ".py",
   "mimetype": "text/x-python",
   "name": "python",
   "nbconvert_exporter": "python",
   "pygments_lexer": "ipython3",
   "version": "3.7.7"
  }
 },
 "nbformat": 4,
 "nbformat_minor": 4
}
