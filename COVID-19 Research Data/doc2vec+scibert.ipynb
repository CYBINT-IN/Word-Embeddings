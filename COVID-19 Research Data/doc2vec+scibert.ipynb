{
 "cells": [
  {
   "cell_type": "code",
   "execution_count": 1,
   "metadata": {},
   "outputs": [],
   "source": [
    "import os\n",
    "import re\n",
    "import json\n",
    "import utils\n",
    "import scipy\n",
    "import torch\n",
    "import random\n",
    "import gensim\n",
    "import warnings\n",
    "\n",
    "import numpy as np\n",
    "import pandas as pd\n",
    "\n",
    "from tasks import *\n",
    "from pprint import pprint\n",
    "from transformers import *\n",
    "from tqdm.notebook import tqdm\n",
    "from sklearn.cluster import KMeans\n",
    "from sklearn.neighbors import NearestNeighbors"
   ]
  },
  {
   "cell_type": "code",
   "execution_count": 2,
   "metadata": {},
   "outputs": [
    {
     "data": {
      "text/plain": [
       "(40152, 11)"
      ]
     },
     "execution_count": 2,
     "metadata": {},
     "output_type": "execute_result"
    }
   ],
   "source": [
    "complete_df = pd.read_csv(\"data/clean_df.csv\")\n",
    "complete_df.shape"
   ]
  },
  {
   "cell_type": "code",
   "execution_count": 3,
   "metadata": {},
   "outputs": [
    {
     "data": {
      "text/html": [
       "<div>\n",
       "<style scoped>\n",
       "    .dataframe tbody tr th:only-of-type {\n",
       "        vertical-align: middle;\n",
       "    }\n",
       "\n",
       "    .dataframe tbody tr th {\n",
       "        vertical-align: top;\n",
       "    }\n",
       "\n",
       "    .dataframe thead th {\n",
       "        text-align: right;\n",
       "    }\n",
       "</style>\n",
       "<table border=\"1\" class=\"dataframe\">\n",
       "  <thead>\n",
       "    <tr style=\"text-align: right;\">\n",
       "      <th></th>\n",
       "      <th>Unnamed: 0</th>\n",
       "      <th>Unnamed: 0.1</th>\n",
       "      <th>paper_id</th>\n",
       "      <th>title</th>\n",
       "      <th>authors</th>\n",
       "      <th>affiliations</th>\n",
       "      <th>abstract</th>\n",
       "      <th>text</th>\n",
       "      <th>bibliography</th>\n",
       "      <th>raw_authors</th>\n",
       "      <th>raw_bibliography</th>\n",
       "    </tr>\n",
       "  </thead>\n",
       "  <tbody>\n",
       "    <tr>\n",
       "      <th>0</th>\n",
       "      <td>0</td>\n",
       "      <td>0</td>\n",
       "      <td>6f005a0677f24f697c1ec3ce065ec4144519e357</td>\n",
       "      <td>Antiviral Mechanisms of Human Defensins Introd...</td>\n",
       "      <td>Sarah S Wilson, Mayim E Wiens, Jason G Smith</td>\n",
       "      <td>Sarah S Wilson (University of Washington, 1705...</td>\n",
       "      <td>Defensins are an effector component of the inn...</td>\n",
       "      <td>Defensins are one of the most abundant classes...</td>\n",
       "      <td>Direct inactivation of viruses by human granul...</td>\n",
       "      <td>[{'first': 'Sarah', 'middle': ['S'], 'last': '...</td>\n",
       "      <td>{'BIBREF0': {'ref_id': 'b0', 'title': 'Direct ...</td>\n",
       "    </tr>\n",
       "    <tr>\n",
       "      <th>1</th>\n",
       "      <td>1</td>\n",
       "      <td>1</td>\n",
       "      <td>4994fa72322bbf19120592304d92629226948d8e</td>\n",
       "      <td>Rapid Identification of Malaria Vaccine Candid...</td>\n",
       "      <td>V Villard, G W Agak, G Frank, A Jafarshad, C S...</td>\n",
       "      <td>V Villard, G W Agak, G Frank, A Jafarshad, C S...</td>\n",
       "      <td>To identify malaria antigens for vaccine devel...</td>\n",
       "      <td>Human Plasmodium falciparum (Pf) infection is ...</td>\n",
       "      <td>Identification of vaccine candidates against s...</td>\n",
       "      <td>[{'first': 'V', 'middle': [], 'last': 'Villard...</td>\n",
       "      <td>{'BIBREF0': {'ref_id': 'b0', 'title': 'Identif...</td>\n",
       "    </tr>\n",
       "  </tbody>\n",
       "</table>\n",
       "</div>"
      ],
      "text/plain": [
       "   Unnamed: 0  Unnamed: 0.1                                  paper_id  \\\n",
       "0           0             0  6f005a0677f24f697c1ec3ce065ec4144519e357   \n",
       "1           1             1  4994fa72322bbf19120592304d92629226948d8e   \n",
       "\n",
       "                                               title  \\\n",
       "0  Antiviral Mechanisms of Human Defensins Introd...   \n",
       "1  Rapid Identification of Malaria Vaccine Candid...   \n",
       "\n",
       "                                             authors  \\\n",
       "0       Sarah S Wilson, Mayim E Wiens, Jason G Smith   \n",
       "1  V Villard, G W Agak, G Frank, A Jafarshad, C S...   \n",
       "\n",
       "                                        affiliations  \\\n",
       "0  Sarah S Wilson (University of Washington, 1705...   \n",
       "1  V Villard, G W Agak, G Frank, A Jafarshad, C S...   \n",
       "\n",
       "                                            abstract  \\\n",
       "0  Defensins are an effector component of the inn...   \n",
       "1  To identify malaria antigens for vaccine devel...   \n",
       "\n",
       "                                                text  \\\n",
       "0  Defensins are one of the most abundant classes...   \n",
       "1  Human Plasmodium falciparum (Pf) infection is ...   \n",
       "\n",
       "                                        bibliography  \\\n",
       "0  Direct inactivation of viruses by human granul...   \n",
       "1  Identification of vaccine candidates against s...   \n",
       "\n",
       "                                         raw_authors  \\\n",
       "0  [{'first': 'Sarah', 'middle': ['S'], 'last': '...   \n",
       "1  [{'first': 'V', 'middle': [], 'last': 'Villard...   \n",
       "\n",
       "                                    raw_bibliography  \n",
       "0  {'BIBREF0': {'ref_id': 'b0', 'title': 'Direct ...  \n",
       "1  {'BIBREF0': {'ref_id': 'b0', 'title': 'Identif...  "
      ]
     },
     "execution_count": 3,
     "metadata": {},
     "output_type": "execute_result"
    }
   ],
   "source": [
    "complete_df.head(2)"
   ]
  },
  {
   "cell_type": "code",
   "execution_count": 4,
   "metadata": {},
   "outputs": [
    {
     "data": {
      "text/html": [
       "<div>\n",
       "<style scoped>\n",
       "    .dataframe tbody tr th:only-of-type {\n",
       "        vertical-align: middle;\n",
       "    }\n",
       "\n",
       "    .dataframe tbody tr th {\n",
       "        vertical-align: top;\n",
       "    }\n",
       "\n",
       "    .dataframe thead th {\n",
       "        text-align: right;\n",
       "    }\n",
       "</style>\n",
       "<table border=\"1\" class=\"dataframe\">\n",
       "  <thead>\n",
       "    <tr style=\"text-align: right;\">\n",
       "      <th></th>\n",
       "      <th>Unnamed: 0</th>\n",
       "      <th>Unnamed: 0.1</th>\n",
       "    </tr>\n",
       "  </thead>\n",
       "  <tbody>\n",
       "    <tr>\n",
       "      <th>count</th>\n",
       "      <td>40152.000000</td>\n",
       "      <td>40152.000000</td>\n",
       "    </tr>\n",
       "    <tr>\n",
       "      <th>mean</th>\n",
       "      <td>29705.053248</td>\n",
       "      <td>29705.053248</td>\n",
       "    </tr>\n",
       "    <tr>\n",
       "      <th>std</th>\n",
       "      <td>17183.494309</td>\n",
       "      <td>17183.494309</td>\n",
       "    </tr>\n",
       "    <tr>\n",
       "      <th>min</th>\n",
       "      <td>0.000000</td>\n",
       "      <td>0.000000</td>\n",
       "    </tr>\n",
       "    <tr>\n",
       "      <th>25%</th>\n",
       "      <td>14787.750000</td>\n",
       "      <td>14787.750000</td>\n",
       "    </tr>\n",
       "    <tr>\n",
       "      <th>50%</th>\n",
       "      <td>29717.000000</td>\n",
       "      <td>29717.000000</td>\n",
       "    </tr>\n",
       "    <tr>\n",
       "      <th>75%</th>\n",
       "      <td>44551.250000</td>\n",
       "      <td>44551.250000</td>\n",
       "    </tr>\n",
       "    <tr>\n",
       "      <th>max</th>\n",
       "      <td>59560.000000</td>\n",
       "      <td>59560.000000</td>\n",
       "    </tr>\n",
       "  </tbody>\n",
       "</table>\n",
       "</div>"
      ],
      "text/plain": [
       "         Unnamed: 0  Unnamed: 0.1\n",
       "count  40152.000000  40152.000000\n",
       "mean   29705.053248  29705.053248\n",
       "std    17183.494309  17183.494309\n",
       "min        0.000000      0.000000\n",
       "25%    14787.750000  14787.750000\n",
       "50%    29717.000000  29717.000000\n",
       "75%    44551.250000  44551.250000\n",
       "max    59560.000000  59560.000000"
      ]
     },
     "execution_count": 4,
     "metadata": {},
     "output_type": "execute_result"
    }
   ],
   "source": [
    "complete_df.describe()"
   ]
  },
  {
   "cell_type": "code",
   "execution_count": 5,
   "metadata": {},
   "outputs": [
    {
     "data": {
      "text/plain": [
       "(38265, 11)"
      ]
     },
     "execution_count": 5,
     "metadata": {},
     "output_type": "execute_result"
    }
   ],
   "source": [
    "# Keep only texts with minimal number of words \n",
    "\n",
    "complete_df = complete_df[complete_df['text'].apply(lambda x: len(re.findall(r\"(?i)\\b[a-z]+\\b\", x))) > 1000]                                         \n",
    "complete_df.shape"
   ]
  },
  {
   "cell_type": "code",
   "execution_count": 6,
   "metadata": {},
   "outputs": [],
   "source": [
    "frac_of_articles = 1\n",
    "train_df  = complete_df.sample(frac = frac_of_articles, random_state = 42)\n",
    "train_corpus = (list(utils.read_corpus(train_df, 'abstract'))) "
   ]
  },
  {
   "cell_type": "code",
   "execution_count": 7,
   "metadata": {},
   "outputs": [],
   "source": [
    "# Using distributed memory model\n",
    "\n",
    "model = gensim.models.doc2vec.Doc2Vec(dm = 1, vector_size = 50, min_count = 10, dm_mean = 1, epochs = 20, seed = 42, workers = 6)\n",
    "model.build_vocab(train_corpus)\n",
    "model.train(train_corpus, total_examples = model.corpus_count, epochs = model.epochs)"
   ]
  },
  {
   "cell_type": "code",
   "execution_count": 8,
   "metadata": {},
   "outputs": [],
   "source": [
    "list_of_tasks = [task_1, task_2, task_3, task_4, task_5, task_6, task_7, task_8, task_9]"
   ]
  },
  {
   "cell_type": "code",
   "execution_count": 9,
   "metadata": {},
   "outputs": [],
   "source": [
    "abstract_vectors = model.docvecs.vectors_docs\n",
    "array_of_tasks = [utils.get_doc_vector(task, model) for task in list_of_tasks]"
   ]
  },
  {
   "cell_type": "code",
   "execution_count": 10,
   "metadata": {},
   "outputs": [],
   "source": [
    "train_df['abstract_vector'] = [vec for vec in abstract_vectors]"
   ]
  },
  {
   "cell_type": "markdown",
   "metadata": {},
   "source": [
    "### Nearest Neigbors search"
   ]
  },
  {
   "cell_type": "code",
   "execution_count": 11,
   "metadata": {},
   "outputs": [
    {
     "data": {
      "text/plain": [
       "(37302, 12)"
      ]
     },
     "execution_count": 11,
     "metadata": {},
     "output_type": "execute_result"
    }
   ],
   "source": [
    "train_df = train_df[train_df['abstract'].apply(lambda x: len(re.findall(r\"(?i)\\b[a-z]+\\b\", x))) > 40]\n",
    "train_df.shape"
   ]
  },
  {
   "cell_type": "code",
   "execution_count": 12,
   "metadata": {},
   "outputs": [],
   "source": [
    "train_array = train_df['abstract_vector'].values.tolist()"
   ]
  },
  {
   "cell_type": "code",
   "execution_count": 13,
   "metadata": {},
   "outputs": [],
   "source": [
    "ball_tree = NearestNeighbors(algorithm = 'ball_tree', leaf_size = 20).fit(train_array)"
   ]
  },
  {
   "cell_type": "code",
   "execution_count": 14,
   "metadata": {},
   "outputs": [],
   "source": [
    "# Query for all tasks\n",
    "\n",
    "distances, indices = ball_tree.kneighbors(array_of_tasks, n_neighbors = 3)"
   ]
  },
  {
   "cell_type": "code",
   "execution_count": 15,
   "metadata": {},
   "outputs": [
    {
     "name": "stdout",
     "output_type": "stream",
     "text": [
      "================================================================================ \n",
      "\n",
      "Task = What do we know about vaccines and therapeutics? What has been published concerning research and development and evaluation efforts of vaccines and therapeutics?\n",
      "Effectiveness of drugs being developed and tried to treat COVID-19 patients.\n",
      "Clinical and bench trials to investigate less common viral inhibitors against COVID-19 such as naproxen, clarithromycin, and minocyclinethat that may exert effects on viral replication.\n",
      "Methods evaluating potential complication of Antibody-Dependent Enhancement (ADE) in vaccine recipients.\n",
      "Exploration of use of best animal models and their predictive value for a human vaccine.\n",
      "Capabilities to discover a therapeutic (not vaccine) for the disease, and clinical effectiveness studies to discover therapeutics, to include antiviral agents.\n",
      "Alternative models to aid decision makers in determining how to prioritize and distribute scarce, newly proven therapeutics as production ramps up. This could include identifying approaches for expanding production capacity to ensure equitable and timely distribution to populations in need.\n",
      "Efforts targeted at a universal coronavirus vaccine.\n",
      "Efforts to develop animal models and standardize challenge studies\n",
      "Efforts to develop prophylaxis clinical studies and prioritize in healthcare workers\n",
      "Approaches to evaluate risk for enhanced disease after vaccination\n",
      "Assays to evaluate vaccine immune response and process development for vaccines, alongside suitable animal models [in conjunction with therapeutics]\n",
      "\n",
      " Text index = 35972 \n",
      " Distance = 3.8042225498901416 \n",
      " Title: Inhibition of infection caused by severe acute respiratory syndrome-associated coronavirus by equine neutralizing antibody in aged mice ☆ \n",
      " Abstract extract: The high susceptibility of elderly to severe acute respiratory syndrome-associated coronavirus (SARS-CoV) indicates how crucial it is to protect the elderly by various strategies. Aged BALB/c mice displayed a high susceptibility to SARS-CoV and have been a valuable platform for evaluation of strategies against SARS-CoV infection. In this study, we confirmed the validity of this model using various methods, and verified that equine anti-SARS-CoV F(ab') 2 can prevent aged animals from SARS-CoV infection. In a therapeutic setting, treatment with anti-SARS-CoV F(ab') 2 decreased viral load more than several thousand folds in the lungs. Thus, this antibody should be a potential candidate for treatment of elderly patients suffering from SARS.\n",
      "\n",
      "\n",
      " Text index = 19196 \n",
      " Distance = 3.845412180835748 \n",
      " Title: Potential Vaccines and Post-Exposure Treatments for Filovirus Infections \n",
      " Abstract extract: Viruses of the family Filoviridae represent significant health risks as emerging infectious diseases as well as potentially engineered biothreats. While many research efforts have been published offering possibilities toward the mitigation of filoviral infection, there remain no sanctioned therapeutic or vaccine strategies. Current progress in the development of filovirus therapeutics and vaccines is outlined herein with respect to their current level of testing, evaluation, and proximity toward human implementation, specifically with regard to human clinical trials, nonhuman primate studies, small animal studies, and in vitro development. Contemporary methods of supportive care and previous treatment approaches for human patients are also discussed.\n",
      "\n",
      "\n",
      " Text index = 26291 \n",
      " Distance = 3.8779172324865123 \n",
      " Title: Perspectives towards antiviral drug discovery against Ebola virus \n",
      " Abstract extract: Ebola virus disease (EVD), caused by Ebola viruses, resulted in more than 11 500 deaths according to a recent 2018 WHO report. With mortality rates up to 90%, it is nowadays one of the most deadly infectious diseases. However, no Food and Drug Administrationapproved Ebola drugs or vaccines are available yet with the mainstay of therapy being supportive care. The high fatality rate and absence of effective treatment or vaccination make Ebola virus a category-A biothreat pathogen. Fortunately, a series of investigational countermeasures have been developed to control and prevent this global threat. This review summarizes the recent therapeutic advances and ongoing research progress from research and development to clinical trials in the development of small-molecule antiviral drugs, small-interference RNA molecules, phosphorodiamidate morpholino oligomers, fulllength monoclonal antibodies, and vaccines. Moreover, difficulties are highlighted in the search for effective countermeasures against EVD with additional focus on the interplay between available in silico prediction methods and their evidenced potential in antiviral drug discovery.\n",
      "\n",
      "\n"
     ]
    }
   ],
   "source": [
    "print(\"=\"*80, f\"\\n\\nTask = {list_of_tasks[3]}\\n\", )\n",
    "df =  train_df.iloc[indices[3]]\n",
    "abstracts = df['abstract']\n",
    "titles = df['title']\n",
    "dist = distances[3]\n",
    "for l in range(len(dist)):\n",
    "    print(f\" Text index = {indices[3][l]} \\n Distance = {distances[3][l]} \\n Title: {titles.iloc[l]} \\n Abstract extract: {abstracts.iloc[l]}\\n\\n\")"
   ]
  },
  {
   "cell_type": "markdown",
   "metadata": {},
   "source": [
    "## Level 2 Abstraction using SciBERT"
   ]
  },
  {
   "cell_type": "code",
   "execution_count": 16,
   "metadata": {},
   "outputs": [],
   "source": [
    "tokenizer = AutoTokenizer.from_pretrained('allenai/scibert_scivocab_uncased')\n",
    "transformer = AutoModel.from_pretrained('allenai/scibert_scivocab_uncased').to('cuda')"
   ]
  },
  {
   "cell_type": "code",
   "execution_count": 33,
   "metadata": {},
   "outputs": [],
   "source": [
    "number_top_matches = 3"
   ]
  },
  {
   "cell_type": "code",
   "execution_count": 54,
   "metadata": {},
   "outputs": [],
   "source": [
    "def convert(sentence):\n",
    "    tokenized_sentence = tokenizer.tokenize(sentence)\n",
    "    indexed_tokens = tokenizer.convert_tokens_to_ids(tokenized_sentence)\n",
    "    with torch.no_grad():\n",
    "        vector = transformer(torch.LongTensor([indexed_tokens]).to('cuda'))[1].cpu().numpy().tolist()\n",
    "    return vector[0]"
   ]
  },
  {
   "cell_type": "code",
   "execution_count": 55,
   "metadata": {},
   "outputs": [],
   "source": [
    "query = 'What are the possible medications against COVID-19?' \n",
    "query_embeddings = convert(query)"
   ]
  },
  {
   "cell_type": "code",
   "execution_count": 62,
   "metadata": {},
   "outputs": [
    {
     "name": "stdout",
     "output_type": "stream",
     "text": [
      "================================================================================ \n",
      "\n",
      "Task = \n",
      "\n",
      " What do we know about vaccines and therapeutics? What has been published concerning research and development and evaluation efforts of vaccines and therapeutics?\n",
      "Effectiveness of drugs being developed and tried to treat COVID-19 patients.\n",
      "Clinical and bench trials to investigate less common viral inhibitors against COVID-19 such as naproxen, clarithromycin, and minocyclinethat that may exert effects on viral replication.\n",
      "Methods evaluating potential complication of Antibody-Dependent Enhancement (ADE) in vaccine recipients.\n",
      "Exploration of use of best animal models and their predictive value for a human vaccine.\n",
      "Capabilities to discover a therapeutic (not vaccine) for the disease, and clinical effectiveness studies to discover therapeutics, to include antiviral agents.\n",
      "Alternative models to aid decision makers in determining how to prioritize and distribute scarce, newly proven therapeutics as production ramps up. This could include identifying approaches for expanding production capacity to ensure equitable and timely distribution to populations in need.\n",
      "Efforts targeted at a universal coronavirus vaccine.\n",
      "Efforts to develop animal models and standardize challenge studies\n",
      "Efforts to develop prophylaxis clinical studies and prioritize in healthcare workers\n",
      "Approaches to evaluate risk for enhanced disease after vaccination\n",
      "Assays to evaluate vaccine immune response and process development for vaccines, alongside suitable animal models [in conjunction with therapeutics]\n",
      "\n",
      "\n",
      "\n",
      "======================\n",
      "\n",
      "\n",
      "Searching in Abstracts\n",
      "\n",
      "\n",
      "======================\n",
      "\n",
      "\n",
      "Abstract: The high susceptibility of elderly to severe acute respiratory syndrome-associated coronavirus (SARS-CoV) indicates how crucial it is to protect the elderly by various strategies. Aged BALB/c mice displayed a high susceptibility to SARS-CoV and have been a valuable platform for evaluation of strategies against SARS-CoV infection. In this study, we confirmed the validity of this model using various methods, and verified that equine anti-SARS-CoV F(ab') 2 can prevent aged animals from SARS-CoV infection. In a therapeutic setting, treatment with anti-SARS-CoV F(ab') 2 decreased viral load more than several thousand folds in the lungs. Thus, this antibody should be a potential candidate for treatment of elderly patients suffering from SARS.\n",
      "\n",
      "\n",
      "======================\n",
      "\n",
      "\n",
      "Query: What are the possible medications against COVID-19?\n",
      "\n",
      "Top 3 most similar sentences are:\n",
      "Aged BALB/c mice displayed a high susceptibility to SARS-CoV and have been a valuable platform for evaluation of strategies against SARS-CoV infection (Cosine Score: 0.7396)\n",
      "The high susceptibility of elderly to severe acute respiratory syndrome-associated coronavirus (SARS-CoV) indicates how crucial it is to protect the elderly by various strategies (Cosine Score: 0.7050)\n",
      "Thus, this antibody should be a potential candidate for treatment of elderly patients suffering from SARS (Cosine Score: 0.7025)\n",
      "\n",
      "\n",
      "======================\n",
      "\n",
      "\n",
      "Abstract: Viruses of the family Filoviridae represent significant health risks as emerging infectious diseases as well as potentially engineered biothreats. While many research efforts have been published offering possibilities toward the mitigation of filoviral infection, there remain no sanctioned therapeutic or vaccine strategies. Current progress in the development of filovirus therapeutics and vaccines is outlined herein with respect to their current level of testing, evaluation, and proximity toward human implementation, specifically with regard to human clinical trials, nonhuman primate studies, small animal studies, and in vitro development. Contemporary methods of supportive care and previous treatment approaches for human patients are also discussed.\n",
      "\n",
      "\n",
      "======================\n",
      "\n",
      "\n",
      "Query: What are the possible medications against COVID-19?\n",
      "\n",
      "Top 3 most similar sentences are:\n",
      "Current progress in the development of filovirus therapeutics and vaccines is outlined herein with respect to their current level of testing, evaluation, and proximity toward human implementation, specifically with regard to human clinical trials, nonhuman primate studies, small animal studies, and in vitro development (Cosine Score: 0.7768)\n",
      "Viruses of the family Filoviridae represent significant health risks as emerging infectious diseases as well as potentially engineered biothreats (Cosine Score: 0.7704)\n",
      "While many research efforts have been published offering possibilities toward the mitigation of filoviral infection, there remain no sanctioned therapeutic or vaccine strategies (Cosine Score: 0.7653)\n",
      "\n",
      "\n",
      "======================\n",
      "\n",
      "\n",
      "Abstract: Ebola virus disease (EVD), caused by Ebola viruses, resulted in more than 11 500 deaths according to a recent 2018 WHO report. With mortality rates up to 90%, it is nowadays one of the most deadly infectious diseases. However, no Food and Drug Administrationapproved Ebola drugs or vaccines are available yet with the mainstay of therapy being supportive care. The high fatality rate and absence of effective treatment or vaccination make Ebola virus a category-A biothreat pathogen. Fortunately, a series of investigational countermeasures have been developed to control and prevent this global threat. This review summarizes the recent therapeutic advances and ongoing research progress from research and development to clinical trials in the development of small-molecule antiviral drugs, small-interference RNA molecules, phosphorodiamidate morpholino oligomers, fulllength monoclonal antibodies, and vaccines. Moreover, difficulties are highlighted in the search for effective countermeasures against EVD with additional focus on the interplay between available in silico prediction methods and their evidenced potential in antiviral drug discovery.\n",
      "\n",
      "\n",
      "======================\n",
      "\n",
      "\n",
      "Query: What are the possible medications against COVID-19?\n",
      "\n",
      "Top 3 most similar sentences are:\n",
      "This review summarizes the recent therapeutic advances and ongoing research progress from research and development to clinical trials in the development of small-molecule antiviral drugs, small-interference RNA molecules, phosphorodiamidate morpholino oligomers, fulllength monoclonal antibodies, and vaccines (Cosine Score: 0.8401)\n",
      "The high fatality rate and absence of effective treatment or vaccination make Ebola virus a category-A biothreat pathogen (Cosine Score: 0.7627)\n",
      "Moreover, difficulties are highlighted in the search for effective countermeasures against EVD with additional focus on the interplay between available in silico prediction methods and their evidenced potential in antiviral drug discovery (Cosine Score: 0.7322)\n",
      "\n",
      "\n",
      "======================\n",
      "\n",
      "\n",
      "Searching in Texts\n",
      "\n",
      "\n",
      "======================\n",
      "\n",
      "\n",
      "Text: ['The incidence of severe acute respiratory syndrome (SARS) has been controlled, and widespread infections have not re-emerged since the initial outbreak in 2002 and 2003 [1, 2] ', ' However, its mysterious animal origins [3] and strong infectivity necessitates further studies on how to control its replication in affected individuals', ' Retrospective studies have shown that elderly patients with SARS experienced high mortality and morbidity [4] [5] [6] [7] [8] [9] , suggesting that susceptibility to SARS-associated coronavirus (SARS-CoV) could be correlated with aging', ' Based upon this observation, Roberts and colleagues established an aged mouse model that has a longer course of virus replication and more severe pathological changes in the respiratory tract than what is observed in young mice [10] , which indicates that it is an appropriate animal model paralleling aged humans, in terms of susceptibility to SARS-CoV', 'Adoptive antibody transfer has been used to prevent and treat infectious diseases with a long history [11] ', ' It thus provides a candidate strategy for protection of host from SARS-CoV infection', ' Yo and colleagues found that infusion of convalescent plasma resulted in beneficial clinical outcomes in SARS patients [12] ', ' Subbarao et al verified that passive transfer of SARS-CoV specific antisera reduces pulmonary viral titres in mice infected with SARS-CoV [13] , indicating that hyperimmune sera against SARS-CoV could protect against this viral infection', ' On the other hand, equine antiserum has been successfully used to control various virus infections, such as rabies [14] , HBV [15, 16] , and HIV [17, 18] ', \" Based on these evidence of the feasibility that equine antibody can be used for human diseases, we have developed an equine anti-SARS-CoV F(ab') 2 that can provide excellent protection from this virus infection, that we previously have tested in a BALB/c model [19] \", 'However, vigorous tests in animal models must be conducted before further clinical trials to insure its efficacy', ' In this study, we confirmed the aged mouse model using additional assessing methods than previously reported [10] , and then tested the equine anti-SARS-CoV antibody in this model, in both preventive and therapeutic settings', ' As expected, the antibody exhibited a complete preventive effect and a considerable therapeutic role against SARS-CoV infection in this animal model, providing strong evidence for potential application for this antibody in future clinical test', 'SARS-CoV (strains BJ-01 Genbank accession number AY278488, isolated during 10 Feb to 15 Mar 2003) was maintained in the Institute of Microbiology Epidemiology, AMMS, China, and propagated in Vero cells', ' The virus was released from infected cells by three freeze-thaw cycles and the titre was determined to be 1', '13 × 10 7 of 50% tissue culture infective doses (TCID 50 )/mL', ' All operations with SARS-CoV were performed in the Bio-Safety Level 3 (BSL-3) laboratory', 'To evaluate the susceptibility of aged BALB/c mice (12-14 months) to SARS-CoV infection, following light anesthe-tization with isoflurane, 1 × 10 4 TCID 50 of 100 μL SARS-CoV particle suspension was administered intra nasally (i', 'n', ') to the animals on day 0', ' Four mice from each group were sacrificed on days 1, 3, 5, 7, and 9 post infection (p', 'i', ')', ' The lungs of experimental animals were removed and homogenized in a 10% (w/v) suspension of Leibovitz L-15 medium (Invitrogen)', ' The viral titres and copies in the homogenates were then determined using cytopathic effect (CPE) and TaqMan realtime quantitative RT-PCR (qRT-PCR) assays, as described below', ' The pathology and the localization of SARS-CoV in the lungs of infected animals were determined by pathological observation and immunohistochemistry (IHC), as described below', \"To investigate the preventive role of the equine anti-SARS-CoV F(ab') 2 against the SARS-CoV infection, following anesthetization, the aged mice were injected intra peritoneally (i\", 'p', \") with the anti-SARS-CoV F(ab') 2 (1, 2, or 4 mg/kg body weight) or non-immunized normal horse antibody (4 mg/kg body weight), as a negative control, on day −1, the day before viral infection\", ' Twenty-four hours later (day 0), the aged mice were challenged i', 'n', ' with 1 × 10 4 TCID 50 of SARS-CoV, and were sacrificed on day 2 p', 'i', ' The viral titre, copy and localization, as well as the pathologic changes in the infected animal lung were then determined with CPE, qRT-PCR, IHC, and pathological observation methods', \"To evaluate the therapeutic role of anti-SARS-CoV F(ab') 2 against SARS-CoV infection in the aged mice, the animals received i\", 'p', ' 100 μL of 1×10 4 TCID 50 SARS-CoV on day 0, followed by i', 'p', \" injection of the F(ab') 2 (10, 20, or 40 mg/kg body weight) or normal horse antibody (40 mg/kg) lacking neutralizing activity as a negative control on day 1 p\", 'i', ' The viral titre, copy and localization, as well as the pathologic changes in the infected animal lung were determined on day 3 and 4 p', 'i', ' respectively', 'The real-time quantitative TaqMan PCR and CPE assays were used to determine SARS-CoV titre and copies in the lungs of SARS-CoV infected or mock infected aged mice', ' As described previously [19] , the number of SARS-CoV N gene copies was determined by qPCR and the CPE assays were conducted on cultured Vero E6 cells', \"Aged mice were anesthetized with isoflurane and euthanized by cervical dislocation on the indicated day following virus administration or anti-SARS-CoV F(ab') 2 injections\", ' The lung tissue was fixed with 10% neutral buffered formalin, embedded in a paraffin block, and processed for routine histology and IHC (avidin-biotin peroxidase complex technique, ABC) detections as described by Subbarao et al [13] ', \" For IHC, the purified equine anti-SARS-CoV IgG (1:10,000) was used as the detecting antibody and 3,3'-diaminobenzidine (DAB) as the chromogenic substrate\", \"Statistical analyses were performed by 1-way ANOVA or/ and multiple comparison (Scheffe) and Student's t test\", ' All graphs represent the mean ± SEM', 'Virus titres increased from day 1 p', 'i', ', and peaked (about 1 × 10 8 TCID 50 /g lung tissue) on day 3 p', 'i', ' (Fig', ' 1A )', ' Titres sustained at high level until day 5 p', 'i', ' (about 1 × 10 6 TCID 50 /g), but decreased rapidly thereafter to undetectable levels by day 7 p', 'i', ' (Fig', ' 1A) , similar to that observed by Roberts [10] ', ' The qRT-PCR assays verified the course of the viral titre changes (Fig', ' 1B) ', ' On days 1 and 3 p', 'i', ', the virus experienced its peak copies of 1 × 10 10 /g lung tissue', ' However, on day 7 p', 'i', ', when viral titres were undetectable by CPE assay, several thousand copies of virus could still be detected with qRT-PCR (Fig', ' 1B) ', 'The severity of pathology was concordant with the amount of virus in the lung', ' The course of pathological changes was observed systemically', ' On day 1 p', 'i', ', the pathological changes were mild and the lung tissue construction roughly remained normal, except for some small vessel dilatation and congestion, and edema in alveolar spaces (Fig', ' 2C , arrows), compared with normal mouse lung ( Fig', ' 2A )', ' Viral invasion of bronchial epithelial cells and, to a less extent, alveolar epithelial cells adjacent to the bronchi were observed (Fig', ' 2D )', ' On day 3 p', 'i', ', there was a large degree of inflammatory cell infiltration, mainly involving mononuclear cells and lymphocytes, around the bronchi (Fig', ' 2E , arrows)', ' We observed focal hemorrhages around small vessels (Fig', ' 2E , arrowhead), interstitial pneumonia, and shedding of bronchial epithelial cells into the bronchial lumen ( Fig', ' 2E arrow and F)', ' In addition to bronchial epithelial cells, alveolar epithelial cells were infected extensively (Fig', ' 2F )', ' On day 5 p', 'i', ', there was considerable inflammatory cell infiltration that surrounded the bronchi', ' Shedding of epithelial cells and diffusion of blood cells into bronchial lumen were observed ( Fig', ' 2G arrow and arrowhead) ', ' There was obvious effusion in the bronchial lumen, as well', ' The interstitial pneumonia had become more severe than that observed on day 3 p', 'i', ' (Fig', ' 2G) ', ' A large viral load was also observed in animal lungs on this day (Fig']\n"
     ]
    },
    {
     "name": "stdout",
     "output_type": "stream",
     "text": [
      "\n",
      "\n",
      "======================\n",
      "\n",
      "\n",
      "Query: What are the possible medications against COVID-19?\n",
      "\n",
      "Top 3 most similar sentences are:\n",
      "On the same day, animal lungs showed mild to moderate interstitial pneumonia and lung consolidation, but the morphological structure of the lung was roughly normal (Panel 2M and 2N) \n",
      "(Cosine Score: 0.8456)\n",
      "Yo and colleagues found that infusion of convalescent plasma resulted in beneficial clinical outcomes in SARS patients [12] \n",
      "(Cosine Score: 0.8407)\n",
      ", and peaked (about 1 × 10 8 TCID 50 /g lung tissue) on day 3 p \n",
      "(Cosine Score: 0.8330)\n",
      "\n",
      "\n",
      "======================\n",
      "\n",
      "\n",
      "Text: ['The family Filoviridae includes two accepted genera, Ebolavirus and Marburgvirus', ' The genus Ebolavirus includes five species (each represented by a single virus): Zaire ebolavirus (Ebola virus, EBOV), Sudan ebolavirus (Sudan virus, SUDV), Reston ebolavirus (Reston virus, RESTV), Taï Forest ebolavirus (Tai Forest virus, TAFV), and Bundibugyo ebolavirus (Bundibugyo virus, BDBV)', ' The genus Marburgvirus includes a single species, Marburg marburgvirus, which has two members: Marburg virus (MARV) and Ravn virus (RAVV) [1, 2] ', ' In 1967, the first cases of filoviral infection were documented in three simultaneous outbreaks in West Germany and Yugoslavia', ' The virus responsible for the outbreaks was named \"Marburg virus\" after the German city of Marburg in which it was first recognized [3, 4] ', ' From documented instances of infection, it seems that the members of the filovirus genera may exist in quite opposite climates of Africa with marburgvirus infections occurring more frequently in the dry woodlands, while ebolavirus infections occur more frequently in rain forests [5] ', ' More than 40 years of effort have focused on the search for the reservoir of these viruses in Africa, and while the search is still ongoing, recent evidence indicates that bats may be reservoirs for both marburgviruses and ebolaviruses [1, [6] [7] [8] [9] [10] [11] ', ' However, the recent outbreak of RESTV in domestic pigs in the Philippines demonstrated the potential for animals other than primates and bats to be infected and potentially spread or amplify outbreaks [12] ', 'Filoviruses are named for their long, filamentous shape which can been seen on the order of micrometers in length, while their width is more narrow (usually around 80 nm) with little fluctuation [13] ', ' Contained within this filamentous virus is a single, 19-kb negative-sense RNA genome that encodes seven proteins [14, 15] ', ' The seven filoviral proteins are the glycoprotein (GP), the polymerase (L), the nucleoprotein (NP), a secondary matrix protein (VP24), the transcriptional activator (VP30), the polymerase cofactor (VP35), and the matrix protein (VP40) [16, 17] ', ' Homotrimers of the viral GP cover the surface of the virion, and this viral GP is believed to be the sole host attachment factor for filoviruses [6, 18] ', ' Candidates for filoviral receptor and co-factors include transferrin, DC-SIGN, TIM-1, and NPC1 [16, [19] [20] [21] [22] ', ' After entry, filoviruses replicate their genomes and viral proteins in the cytoplasm using a RNA-dependent RNA-polymerase which is carried in with the virus', 'Wild-type filovirus infection has been associated with severe case fatality rates in humans, as high as 90% [15] ', ' In humans, filovirus infection is characterized by an abrupt onset of flu-like illness, after an initial incubation period of 2-21 days', ' Following this initial illness, signs and symptoms of disease include anorexia, nausea, vomiting, chest pain, cough, edema, postural hypotension, neurologic complications, petechiae, and mucosal hemorrhage', ' There have also been several observed wild-type filovirus outbreaks among great apes in Africa that have demonstrated similarly high mortality rates [23] ', ' In an effort to create cost and time-effective models of filoviral disease for the development of vaccines and therapeutics, small animals, such as mice and guinea pigs, are often used', ' However, these animals usually demonstrate significant resistance to wild-type filovirus infection, and only demonstrate mortality rates similar to primates when the filovirus in question has been adapted to the model species [24] ', ' Due to the difficulties in evaluating wild-type filovirus infection in small animals and the generally high level of immune protection correlates derived from non-human primate (NHP) models of infection, therapeutics and vaccines are ultimately evaluated in NHP species for efficacy against filovirus', ' Of the NHP models available for filovirus study, rhesus and cynomolgus macaques have been the most highly characterized and utilized for therapeutic and vaccine development, respectively', ' However, the starting point of vaccine and therapeutic development remains small animal models due to the cost, ethical, and time-associated benefits [17] ', ' This review will highlight the current research into filovirus vaccines and therapeutics', 'The current clinical standard for filoviral infection is supportive care as there are currently no FDA-approved treatment strategies', ' Supportive care consists of oral fluid rehydration, oral medication, nutritional supplementation, and psychosocial support [25] ', ' Nasogastric feeding tubes and i', 'v', ' administration of both fluids and medication are increasingly considered supportive care where possible during outbreak scenarios to prevent dehydration and facilitate support of blood pressure [25, 26] ', ' However, given the limited equipment and laboratory support during outbreaks, care must be taken to prevent overaggressive fluid administration [27] ', ' Fluid replacement was evaluated briefly in rhesus macaques, and while there was no significant benefit to survival, a less severe renal compromise was observed [28] ', ' While supportive care may (or may not) reduce the overall case fatality rate in humans, the true impact of simple interventions such as fluid management has yet to be fully evaluated and the potential for benefit in combination with direct antiviral measures has yet to be assessed [29] ', 'Treatment of filovirus infection with passive transfer of antibodies is an attractive therapy', ' While there have been conflicting results in vitro, in animals, and in humans, recent breakthroughs have solidified the potential for this strategy of intervention', ' In addition, there have been a number of immunotherapies developed for other agents, such as respiratory syncytial virus (RSV), which can provide potential roadmaps or precedence to facilitate the advancement of these products through the necessary regulatory hurdles [30, 31] ', ' Transfer of immune serum for the treatment of filovirus infection in humans has previously been attempted', ' However, interpretation of these results has been cautious due to the study conditions as well as the uncertainty of the disease stage at which the individuals were treated [6] ', ' As a result, much attention has focused on animal studies evaluating candidate products', ' While many of the early studies in mice and guinea pigs were successful, these successes did not translate to NHP studies and tempered the enthusiasm for further evaluation of candidate products', ' [6, [32] [33] [34] [35] ', ' When similar passive transfer strategies were attempted in NHPs, viremia onset and outward signs of disease were reduced, but the treatment did not affect survivorship [36] [37] [38] ', ' In addition, the suggestion that antibodies could enhance filovirus infections in vitro caused further concern [39] [40] [41] ', 'However, recently a series of experiments have made researchers, developers, and funding agencies reconsider the potential of this category of products for filoviruses', ' Both polyclonal and monoclonal passive therapies have been shown to be efficacious in rodents for filovirus infection [42] [43] [44] ', ' Furthermore, evidence of enhancing antibodies exists in the antibody response to EBOV [38] ', ' More recent studies have demonstrated protection in macaques with polyclonal and monoclonal passive therapy [45] [46] [47] ', ' These sources of monoclonal antibodies have ranged from murine monoclonal antibodies to recombinant-derived cloned human monoclonal antibodies from survivors of filovirus infection [37, 43] ', 'Development of new antibodies to be used for post-exposure treatment is on-going', ' In one study, an antibody (13F6) targeting the EBOV GP mucin-like domain was generated and subsequently shown to protect 100% of mice against a lethal EBOV challenge when given 2 days post-exposure [44] ', ' This antibody was then modified to generate h-13F6, a human recombinant antibody', ' This human recombinant antibody also significantly protected mice against a lethal challenge of EBOV [48] ', ' In another method, a recombinant VSVΔG/EBOVGP was used to generate a total of 8 monoclonal antibodies which were subsequently characterized', ' All 8 monoclonal antibodies improved survival rate of mice (33%-100%) against a high-dose lethal challenge by mouse-adapted EBOV [49] ', ' Another antibody, KZ52, was isolated from the bone marrow of a human survivor of EBOV infection and is specific for the complex of GP1and GP2 [50] ', ' KZ52 neutralized EBOV in vitro and offered protection from lethal EBOV challenge in a rodent model [43] , but was non-protective in NHPs [37] ', ' Table 1 3', '1', '1', ' DNA VaccinesThe first clinical trials involving filovirus vaccines were based off of plasmids expressing EBOV NP and GP as well as SUDV GP [51] ', ' This strategy proved safe in 27 subjects involved with phase I testing', ' However, the prime/boost DNA vaccine strategy covering four separate plasmid doses administered three times each was ineffective at creating durable immunity as evidenced by the near non-existent antibody titer in these subjects after 1 year [51] ', ' While clinical trials with this vaccine have halted, it may be possible that this strategy can supplement another vaccine technology in a prime/boost capacity', ' While no vaccines or therapeutics are currently licensed for use by the FDA, phase I clinical trial safety tests have been performed on one particular platform for an EBOV vaccine', ' This vaccine is based on a replication deficient, recombinant adenovirus serotype 5 (rAd5) vector genetically engineered to carry the genes for EBOV glycoprotein (GP (Z)) and SUDV glycoprotein (GP (S/G))', ' As a common human pathogen, this vector vaccine utilized the broad-tropism of the adenovirus vector to infect cells and once inside the inserted ebolavirus glycoproteins are expressed', ' Upon expression of these inserted ebolavirus genes, the host immune system will recognize them as foreign and mount a response against them', ' The advancement of this vaccine technology to phase I trials manifested from its ability to provide 100% protection among cynomolgus macaques vaccinated 28-35 days prior to challenge and its ability to generate potent humoral and cell-mediated immune responses [52, 53] ', 'In the clinical trial participants remained asymptomatic after a single vaccination with either 2 × 10 9 or 2 × 10 10 viral particles [54] ', ' Furthermore, for both doses of the vaccine significant antibody titers were observed at 4 weeks post-vaccination with 100% and 55% of participants receiving 2 × 10 10 viral particles being positive for GP (S/G) and GP (Z), respectively', ' Significant antibody titers were observed again at 48 weeks post-vaccination and, while decreased from 4 weeks, demonstrated the potential durability of this vaccine over time [54] ', ' T-cell activation was also examined for these individuals and found to directly correlate with the dose administered, but to a lesser extent than the previously mentioned antibody response', ' CD4 + activation was observed with greater frequency than CD8 + activation in those receiving the vaccine', ' Importantly, these results were obtained in the context of significant pre-existing immunity to Ad5 as pre-entry evaluation of antibody titers revealed that 50% of participants were positive against Ad5, showing that pre-existing immunity to Ad5 still resulted in protection against EBOV [54] ', ' While this study shows great promise, further development and additional studies in NHPs and humans are needed', ' Table 1 3', 'In addition to the adenovirus platform in clinical trials, additional variations of the rAd5 vaccine are also in development and have been evaluated in NHP models', ' Based on the adenovirus vector platform, the complex adenovirus (CAdVax) technology substantially increased the genetic payload capacity of the vector, up to 7 kB', ' Additionally, this strategy involved the blending of four separate vectors expressing the glycoproteins of EBOV, SUDV, and MARV along with the nucleoproteins of EBOV and MARV', ' When administered in a prime/boost strategy, this technology offered 100% protection against EBOV, SUDV, and MARV [55] ', ' Another variation of the CAdVax system designed to express modified EBOV glycoprotein and SUDV glycoprotein was effective in protecting against both parenteral and aerosol challenge when administered in a prime/boost strategy [56] ', ' Both implementations of the CAdVax technology demonstrated significant antibody titers', 'Further improvement upon the adenovirus-based EBOV vaccine technology is ongoing', ' Richardson et al', ' reformatted the genetic insert for the vector which included the addition of a cytomegalovirus (CMV)-chicken β-actin hybrid promoter, optimized codons and a consensus Kozak sequence [57] ', ' These improvements led to three-to seven-fold increases in EBOV glycoprotein expression', ' Neutralizing antibody titers were found at doses as low as 10 4 infectious forming units (IFU) with comparable titers requiring 10 7 IFU of the unmodified vaccine in mice', ' These modifications demonstrated 100% protection of mice at doses two orders of magnitude lower than the unmodified vaccine', ' Interestingly, at 30 min post-challenge, the modified Ad-CMVZGP/Ad-CAGoptZGP offered 100% protection compared to the 22% protection of mice offered from the original vaccine [57] ', ' This vector format has also recently showed promise when administered sublingually in mice, therefore eliminating the complexities of parenteral administration such as the necessity for sterile tools, aseptic chemicals, and the risks of potential blood-borne pathogen exposure [58] ', 'While this adenovirus vector vaccine technology is promising, demonstrations that pre-existing immunity to the Ad5 vector depressed the desired immune response may impede its implementation', ' In efforts to circumvent issues of pre-existing immunity to Ad5, Geisbert et al', ' sought out a less prevalent serovariation [59] ', ' In their study, a heterologous prime/boost strategy with recombinant adenovirus serotypes 26 and 35 carrying GP (Z) and GP (S/G) demonstrated complete protection among NHPs', ' Each of these vectors was capable of stimulating humoral and cell-mediated immune responses in the context of NHPs pre-vaccinated with rAd5 as evidenced by antibody titers reaching an order of magnitude above those achieved in rAd5 vaccinated subjects (1:32,000 compared to 1:6,800), and CD8 + intracellular cytokine staining was 4', '7-fold greater among heterologous prime/boosted subjects (0', '41% compared to 0', '09%) [59] ', 'Rhabdoviruses have recently offered unique vaccine platforms to generate both genus/species specific immunity as well as potential for cross-protective immunity for filoviruses', ' For example, based on an attenuated recombinant vesicular stomatitis virus (rVSV), the replication-competent virus expresses the glycoprotein of the target filovirus in place of its wild-type membrane glycoprotein', ' As this virus is primarily an agricultural pathogen, pre-existing immunity interfering with the desired immune response and subsequent protection is unlikely [60] ']\n"
     ]
    },
    {
     "name": "stdout",
     "output_type": "stream",
     "text": [
      "\n",
      "\n",
      "======================\n",
      "\n",
      "\n",
      "Query: What are the possible medications against COVID-19?\n",
      "\n",
      "Top 3 most similar sentences are:\n",
      "reformatted the genetic insert for the vector which included the addition of a cytomegalovirus (CMV)-chicken β-actin hybrid promoter, optimized codons and a consensus Kozak sequence [57] \n",
      "(Cosine Score: 0.8636)\n",
      "Richardson et al \n",
      "(Cosine Score: 0.8613)\n",
      "This vaccine was also up to 100% effective following a lethal EBOV infection in mice (vaccine dose-dependent) [92, 93] \n",
      "(Cosine Score: 0.8469)\n",
      "\n",
      "\n",
      "======================\n",
      "\n",
      "\n",
      "Text: ['EVD outbreaks, of which the first on 8 May (May-June 2018Equateur province DRC outbreak) and the second on 1 August (August-present, 2018, Kivu province DRC outbreak)', ' The first outbreak resulted in 54 EVD cases (38 confirmed and 16 probable) and 33 deaths (overall case-fatality ratio of 61%) as of 24 July, 2018 (declared the end of this outbreak), 29 while the latter is ongoing, which includes 238 cases (203 confirmed and 35 probable) and 155 deaths resulting in a case-fatality rate of 65', '1% (as of 21 October, 2018) ', ' 30 Preclinical efforts toward specific EBOV countermeasures have been enduring for years with first treatment and vaccine clinical trials conducted during the 2013 to 2016 EBOV outbreak in West-Africa', ' [31] [32] [33] [34] [35] [36] [37] During the DRC outbreaks, the countermeasures were evaluated in West-Africa EVD outbreak and demonstrated their clinical efficacy', ' In addition, a small number of studies (case reports) exists for the experi countermeasures has been enduring mental use of anti-Ebola antiviral and vaccine leads', ' [38] [39] [40] [41] EBOV vaccine development has already been covered in previously published reviews', ' 34, [42] [43] [44] [45] In brief, the recent update includes the development of replication-competent rVSV-ZEBOV (rVSV) used in May-June 2018 Equateur DRC outbreak in a ring vaccination trial (Phase III; NCT03161366), which proved to be well tolerated with improved efficacy and safety', ' 35, 36 Currently, rVSV is being investigated along with other investigational therapeutics in the ongoing Kivu DRC outbreak (Phase II; NCT03719586)', ' A second update includes Ad26-ZEBOV/MVA-BN-Filo prime-boost vaccine evidenced as safe and well tolerated', ' 46, 47 Both rVSV and Ad26-ZEBOV/MVA-BN-Filo prime-boost vaccine have been evaluated in Phases I, II, and III clinical trials', ' Other nonreplicating vaccines are virus-vector-based evidenced to be highly effective in non-human primates (NHPs)', ' [48] [49] [50] [51] [52] [53] The current study is focused on the therapeutic advancement towards EVD and the challenges encountered', 'Identification of suitable biological drug targets is the primary step towards therapeutic development', ' 54, 55 Validated through a combination of genetic, 56 biochemical, 57, 58 structural, and computational strategies, 54 ,55 a variety of drug targets have been identified in both host and pathogen', ' 59 Encased in a lipid envelope, filoviruses are filamentous in shape', ' 60 Linear, nonsegmented, negative-sense single-stranded RNA encodes a 19-kb genome containing the genetic information for seven structural proteins and considered as potential drug targets, namely transcription activator VP30, polymerase cofactor VP35, matrix proteins VP40 and VP24, nucleoprotein (NP), glycoprotein (GP), and RNA-dependent RNA polymerase (L)', ' 61, 62 The structure and function of these proteins aided in deciphering the molecular mechanisms of filovirus lifecycle and have been explanatorily reviewed in a series of three reviews by Martin et al', ', describing aspects of filovirus entry, 63 replication cycle, 64 assembly, and budding', ' 65 Briefly, GP, a heterodimeric complex of GP 1,2 surface protein, orchestrates viral entry into the host cell and participates in virus egress', ' 66 Due to the major role of GP 1,2 in viral entry, numerous approaches targeting the entry process have been explored to block EBOV replication at an early stage, namely immune-based therapies, [67] [68] [69] [70] peptide-based antiviral molecules, a broad range of small molecules, reviewed by Rhein and Maury, 71 and more specific entry inhibitors targeting the fusion events characterized by the GP 2 /NPC1 (Niemann-Pick C1) interaction', ' 72, 73 After entry by macropinocytosis, replication and transcription cycles involve the releasing of viral nucleocapsids into the host cell cytoplasm, resulting in the synthesis of new viral proteins and genomes', ' The whole process of assembly and budding is coordinated by NP, VP24, and VP40, and enhanced by GP', ' 74 NP binds to the viral RNA and creates RNP complex with polymerase L and viral proteins VP24, VP30, and VP35', ' 75 VP30 and NP play an important role in the RNA-binding activity', ' 75 The multifunctional protein, VP35, suppresses host-innate immunity and has been found to be involved in transcription/replication processes together with nucleocapsid assembly', ' 76, 77 The interactions between these proteins (ie, NP-NP and NP-VP35) are essential to regulate the formation of the EBOV replication complex for efficient transcription/replication', ' Blocking this nucleocapsid formation by proteinprotein interaction inhibitors can lead to potential inhibition of EBOV', ' for example, VP35-derived peptide (first identified NP ligand) that specifically binds to NP, blocks NP oligomerization and causes the release of RNA from NP-RNA complex', ' 78, 79 Other studies identified 18β-glycyrrhetinic acid and licochalcone-A 80 to potentially disrupt the association of NP-RNA complexes, aptamers, 81 pyrrolidinone compounds, 82 and recently MCCB4 (ene-thiazolidinedione group-containing compound), 83 that specifically lead to specific VP35-NP interaction', ' VP24 functions as nucleocapsid maturation factor 84 and transcription/replication modulator', ' 85 Additionally, it has been identified as a target for protein-protein interaction inhibitors, namely for a macrocyclic peptide inhibitor VP24-KPNA5 (karyopherin α5) which specifically disrupt VP24-KPNA interaction', ' 86 VP40 is a matrix protein which coordinates with VP24 toward viral assembly, budding, 87 and regulation of viral transcription', ' 88 All structural/functional features and recent advances for these crucial regulatory proteins, essential in viral messenger RNA (mRNA) synthesis and genome replication, have been critically reviewed 64 and therefore constitute key targets for designing EBOV-specific drugs', 'Key strategies recognized to combat EBOV include: (i) directly targeting the virus, (ii) modulating the host factors or immune response, and (iii) disease management', ' Critically targeting the viral lifecycle is among the most popular strategies for EBOV therapeutics', ' 61, 63, [89] [90] [91] This is done either by targeting the initial binding and/or entry of the virus into the host cells or the later viral replication and packaging', ' EBOV antiviral compounds mainly encompass small molecules, antisense therapies, and immunotherapeutic drugs', ' Current treatment of EVD is centered upon modulating coagulation and maintaining oxygen levels in Ebola patients', ' 13, [92] [93] [94] Because of these therapeutic interventions, sustenance and recovery have been reported', 'However, significant improvement might be observed as a result of an adequate level of support care', ' 27, 92, 93, 95, 96 To date, no commercial vaccines or specific therapies are available for EBOV', ' However, various studies have been reported that explain the comprehensive development of vaccines, 11, 42, 43, 61 small-molecule inhibitors, 90,91,97-103 and repurposed Food and Drug Administration (FDA) approved drugs against Ebola', ' 90, 100, [104] [105] [106] [107] [108] [109] [110] Table 1 provides an overview of anti-EBOV compounds and their level of efficacy, reported in either IC 50 or EC 50 , in vitro assays against EBOV, clinical status, and observational studies', ' By the end of the West-Africa EBOV outbreak, GS-5734 clearly indicated 100% protection of rhesus monkeys following lethal EBOV challenge 113 and an improved highly potent in vitro efficacy against Mayinga and Makona strains as compared to favipiravir', ' 112 Moreover, GS-5734 has been recently administered for the first time to a newborn baby', ' 127 BCX4430 has been tested against for its broad-spectrum inhibition of various viruses including, arenaviruses, bunyaviruses, coronaviruses, paramyxoviruses, and flaviviruses', ' 89, 128, 129 Additionally, animal survival efficacy accounted for 90% to 100% in mice 128 and 67% to 100% in rhesus monkeys using increased doses of BCX4430', ' 111 Favipiravir (T-705) remained a potential anti-EBOV candidate during the West-Africa outbreak 94, 130 and has reported up to 100% survival rate in EBOV-infected mice even with the lowest oral dose of 37', '5 mg/ kg once daily', ' In comparison, NHP resulted in 17% to 50% survival rate', ' 94, 115 Among various FDA screens, multiple compounds including amodiaquine, diphenylpyraline, ketotifen, diphenoxylate were reported to inhibit EBOV replication, while others including, verapamil, dronedarone, sertraline, toremifene, chloroquine, teicoplanin, and amiodarone were considered EBOV entry inhibitors', ' 90, 100, 104, 110 Very recently, tilorone (EC 50 = 0', '23 μM) was reported to be the most potent small-molecule inhibitor with a single-daily dose of 25 and 50 mg/kg intraperitoneal and proved efficacious in protecting 90% of mice from a lethal EBOV challenge', ' 116 Some of these inhibitors are shown in Figure 1 ', 'Other studies include the identification of coumarin-based antihistamine-like molecules, 131 68 To identify the most protective combination, ZMapp was introduced as a combination of three EBOV-GP mAbs (13C6, 2G4, and 4G7) and demonstrated 100% protection for rhesus monkeys', ' 70 The functional mechanism of binding of ZMapp has been described for its neutralizing activity targeting the GP base and glycan cap', ' 137 Further studies reported the further optimization of ZMapp against NHPs by using two chimeric mAbs (13C6 and 2G4), designated as MIL77, which protected all EBOV (Makona strain) infected rhesus monkeys', ' 138 Very recently, adeno-associated virus-mediated mAb 5D2 or 7C9 delivers 100% protection against mouse-adapted EBOV infection, whereas neutralizing mAb 2G4 revealed 83% protection', ' 139 Also, a coformulated cocktails REGN3470-3471-3479 (three human 3-mAb cocktails REGN3470, REGN3471, and REGN3479 in 1:1:1 ratio) is currently being evaluated and proved safe and well tolerated with no observed immunogenicity after a randomized, first-in-human Phase I clinical trial (NCT002777151)', ' 37 Other therapeutics include the nucleic acid-based inhibitors with phosphorodiamidate morpholino oligomers (PMOs) and small-interference RNAs (siRNAs), involved in promoting degradation of mRNA transcripts and constitute two essential classes of antisense therapies', ' 102, 140, 141 Both compounds target vital proteins involved in EBOV transcription/translation processes VP24, VP35, and viral polymerase L', ' The development underlying the modification of PMOs and siRNA has been elaborated 142 and recently reviewed', ' 143 In silico methods in drug discovery hold great potential and may prove beneficial at any stage in the preclinical development of drug candidates', ' 168 Especially, areas like target validation, the design of compound libraries, 169 Protein modeling plays a significant role in the drug discovery process', ' The goal of homology modeling is structure prediction from a known sequence with accuracy comparable to experimentally resolved structures', ' [176] [177] [178] Restrictions linked with this technique are the presence of inserts and loop sequences, which cannot be accurately predicted in the absence of a three-dimensional (3D) crystal structure', ' 179 The gap between known protein sequences and identified protein structures is significantly growing', ' Given an enormous amount of data through a vast array of DNA sequencing MIRZA ET AL', 'techniques available, experimental structure identification techniques require attention', ' 180 Computational techniques are actively exploited in the pharmaceutical industry for the prediction of 3D protein models', ' 124, 168 To expand the scope of computational methods and to improve model accuracy, efforts are being made continuously', ' These approaches help to predict the tertiary structure of a protein through its amino acid sequence to combat this issue', ' 176 Depending on the available information, these methods can be characterized as either de novo or homology modeling', ' Templatebased modeling also referred to as homology modeling or comparative modeling, is the most trusted method for model design', ' 176 Similar folding properties of the members of a protein family with the core structure unaffected by modifications in the sequence are fundamental criteria governing homology modeling', ' 181 Contrary to these predictions, the experiments demonstrated lower activity and binding potential of these compounds, therefore, negating the prediction made', ' Later, the in silico refinements of these compounds using MD revealed the interruption of keyStepwise drug discovery process from target identification, hit-to-lead optimization, and clinical trials along with the progress in the development of small-molecule inhibitors against EBOV', ' ADMET, absorption, distribution, metabolism, excretion, and toxicity; HTS, high through-put screen; PDB, protein data bank; PK, pharmacokinetics; QSAR, quantitative structure-activity relationship; R&D, research and development; SAR, structure-activity relationship interactions between sulphonamide ligands and the receptor due to an additional water molecule', ' The migration of this water molecule from outside explained the reduced activity of these compounds when tested experimentally', ' 196 In another study by Cavalli et al, 197 MD simulations were used as a platform to discern several different docked complexes of propidium and human acetylcholinesterase and most stable structures identified which correlated with the experimentally verified binding modes', 'Interestingly, MD simulation assisted in the discovery and development of antiviral drugs', ' 198 Hit-to-lead optimization is the most essential phase to closely examine the chemical scaffold concerning its absorption, distribution, metabolism, and excretion (ADME) challenges in the drug discovery process', ' In silico ligand-profiling 210,211 benefited from the boost of repurposing drugs 91, 104, 108, 194 and the notion of designing drugs with controlled selectivity profiles', ' 212 This approach is aimed at: (i) The utilization of phenotypic screening hits to predict potential targets and their mechanism of action, (ii) identifying off-targets potentially responsible for adverse reactions and side effects, and (iii) careful analysis of ADMET (absorption, distribution, metabolism, excretion, and toxicity) parameters to propose potential hits', 'Another useful in silico method, particularly beneficial for lead optimization, is quantitative structure-property relationship (QSPR) modeling which is useful for the identification of key structural features responsible for interacting with the target protein', ' For many ADME endpoints measured in the pharmaceutical industry, QSPR models have prospectively shown their ability to extract knowledge from a wide variety of chemical scaffolds proving their utility as predictive models', ' 213 QSPR models, based on machine learning techniques, are desirable to achieve the optimal potency and ADMEproperties', ' To reduce the risk of failure in trials, a useful QSAR/QSPR model is necessary to accurately predict the activity of a compound for each drug discovery project', ' However, these models do not provide adequate information about the modifications that should be made to the tested compound in the next cycle of drug design', ' To address this issue, the matched molecular pair analysis technique is another promising approach', ' This method assesses the mean effect of different substituents on various ADME parameters, such as: (i) permeability, 214 (ii) solubility, 215 (iii) clearance, 214 and (iv) cytochrome P450 inhibition', ' 147 The design of a new scaffold that interacts with the desired pharmacological target can be benefitted based on these findings', ' Molecular substitutions that are closely linked with the molecular properties can guide the design of such scaffolds', ' Several studies are reporting the use of quantitative structure-activity relationship modeling in lead optimization', ' [216] [217] [218] [219] Computational drug discovery has proven to accelerate the challenging process of designing and optimizing new drug candidates', 'Hierarchical virtual screening of ligand-based and structure-based methods delineated their validity in finding potential hits, even in the early phase of drug discovery', ' Because of the increased efficiency onEbola hit-to-lead optimization, an interplay between the several stages of in silico drug design has been depicted in Figure 3 ', ' Because of the rapid development of faster architectures and comprehensive algorithms for high-level computations, the impact of computational structure-based drug design on antiviral drug discovery and lead optimization will have a more profound impact in future years', ' Not only hit identification but also elucidation of its biological target has provided information for use in drug discovery research']\n"
     ]
    },
    {
     "name": "stdout",
     "output_type": "stream",
     "text": [
      "\n",
      "\n",
      "======================\n",
      "\n",
      "\n",
      "Query: What are the possible medications against COVID-19?\n",
      "\n",
      "Top 3 most similar sentences are:\n",
      "These approaches help to predict the tertiary structure of a protein through its amino acid sequence to combat this issue \n",
      "(Cosine Score: 0.8475)\n",
      "Critically targeting the viral lifecycle is among the most popular strategies for EBOV therapeutics \n",
      "(Cosine Score: 0.8374)\n",
      "Several studies are reporting the use of quantitative structure-activity relationship modeling in lead optimization \n",
      "(Cosine Score: 0.8329)\n"
     ]
    }
   ],
   "source": [
    "print(\"=\"*80, f\"\\n\\nTask = \\n\\n {list_of_tasks[3]}\\n\", )\n",
    "\n",
    "print(\"\\n\\n======================\\n\\n\")\n",
    "print(\"Searching in Abstracts\")\n",
    "    \n",
    "dfs =  train_df.iloc[indices[3]]\n",
    "abstracts = [i.split(\".\") for i in df['abstract']]\n",
    "for abstract in abstracts:\n",
    "    print(\"\\n\\n======================\\n\\n\")\n",
    "    print(\"Abstract:\", '.'.join(abstract))\n",
    "    abstracts_vector = [convert(i) for i in abstract if not(len(i) < 5)]\n",
    "    distance = scipy.spatial.distance.cdist([query_embeddings], abstracts_vector, \"cosine\")[0]\n",
    "\n",
    "    results = zip(range(len(distance)), distance)\n",
    "    results = sorted(results, key = lambda x: x[1])\n",
    "    \n",
    "    print(\"\\n\\n======================\\n\\n\")\n",
    "    print(\"Query:\", query)\n",
    "    print(\"\\nTop 3 most similar sentences are:\")\n",
    "\n",
    "    for idx, dist in results[0:number_top_matches]:\n",
    "        print(abstract[idx].strip(), \"(Cosine Score: %.4f)\" % (1-dist))\n",
    "\n",
    "        \n",
    "print(\"\\n\\n======================\\n\\n\")\n",
    "print(\"Searching in Texts\")\n",
    "\n",
    "texts = [i.split(\".\") for i in df['text']]\n",
    "for text in texts:\n",
    "    print(\"\\n\\n======================\\n\\n\")\n",
    "    print(\"Text:\", text[:100])\n",
    "    text_vector = [convert(i) for i in text if not(len(i) < 5)]\n",
    "    distance = scipy.spatial.distance.cdist([query_embeddings], text_vector, \"cosine\")[0]\n",
    "\n",
    "    results = zip(range(len(distance)), distance)\n",
    "    results = sorted(results, key = lambda x: x[1])\n",
    "\n",
    "    print(\"\\n\\n======================\\n\\n\")\n",
    "    print(\"Query:\", query)\n",
    "    print(\"\\nTop 3 most similar sentences are:\")\n",
    "\n",
    "    for idx, dist in results[0:number_top_matches]:\n",
    "        print(text[idx].strip(), \"\\n(Cosine Score: %.4f)\" % (1-dist))"
   ]
  },
  {
   "cell_type": "code",
   "execution_count": null,
   "metadata": {},
   "outputs": [],
   "source": []
  }
 ],
 "metadata": {
  "kernelspec": {
   "display_name": "Python 3",
   "language": "python",
   "name": "python3"
  },
  "language_info": {
   "codemirror_mode": {
    "name": "ipython",
    "version": 3
   },
   "file_extension": ".py",
   "mimetype": "text/x-python",
   "name": "python",
   "nbconvert_exporter": "python",
   "pygments_lexer": "ipython3",
   "version": "3.8.3"
  }
 },
 "nbformat": 4,
 "nbformat_minor": 4
}
