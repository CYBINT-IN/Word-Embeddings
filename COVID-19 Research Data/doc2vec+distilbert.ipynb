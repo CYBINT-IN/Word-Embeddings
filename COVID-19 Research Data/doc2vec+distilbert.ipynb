{
 "cells": [
  {
   "cell_type": "code",
   "execution_count": 1,
   "metadata": {},
   "outputs": [],
   "source": [
    "import os\n",
    "import re\n",
    "import json\n",
    "import utils\n",
    "import scipy\n",
    "import random\n",
    "import gensim\n",
    "import warnings\n",
    "\n",
    "import numpy as np\n",
    "import pandas as pd\n",
    "\n",
    "from tasks import *\n",
    "from pprint import pprint\n",
    "from tqdm.notebook import tqdm\n",
    "from sklearn.cluster import KMeans\n",
    "from sklearn.neighbors import NearestNeighbors\n",
    "from sentence_transformers import SentenceTransformer"
   ]
  },
  {
   "cell_type": "code",
   "execution_count": 2,
   "metadata": {},
   "outputs": [
    {
     "data": {
      "text/plain": [
       "(40152, 11)"
      ]
     },
     "execution_count": 2,
     "metadata": {},
     "output_type": "execute_result"
    }
   ],
   "source": [
    "complete_df = pd.read_csv(\"data/clean_df.csv\")\n",
    "complete_df.shape"
   ]
  },
  {
   "cell_type": "code",
   "execution_count": 3,
   "metadata": {},
   "outputs": [
    {
     "data": {
      "text/html": [
       "<div>\n",
       "<style scoped>\n",
       "    .dataframe tbody tr th:only-of-type {\n",
       "        vertical-align: middle;\n",
       "    }\n",
       "\n",
       "    .dataframe tbody tr th {\n",
       "        vertical-align: top;\n",
       "    }\n",
       "\n",
       "    .dataframe thead th {\n",
       "        text-align: right;\n",
       "    }\n",
       "</style>\n",
       "<table border=\"1\" class=\"dataframe\">\n",
       "  <thead>\n",
       "    <tr style=\"text-align: right;\">\n",
       "      <th></th>\n",
       "      <th>Unnamed: 0</th>\n",
       "      <th>Unnamed: 0.1</th>\n",
       "      <th>paper_id</th>\n",
       "      <th>title</th>\n",
       "      <th>authors</th>\n",
       "      <th>affiliations</th>\n",
       "      <th>abstract</th>\n",
       "      <th>text</th>\n",
       "      <th>bibliography</th>\n",
       "      <th>raw_authors</th>\n",
       "      <th>raw_bibliography</th>\n",
       "    </tr>\n",
       "  </thead>\n",
       "  <tbody>\n",
       "    <tr>\n",
       "      <th>0</th>\n",
       "      <td>0</td>\n",
       "      <td>0</td>\n",
       "      <td>6f005a0677f24f697c1ec3ce065ec4144519e357</td>\n",
       "      <td>Antiviral Mechanisms of Human Defensins Introd...</td>\n",
       "      <td>Sarah S Wilson, Mayim E Wiens, Jason G Smith</td>\n",
       "      <td>Sarah S Wilson (University of Washington, 1705...</td>\n",
       "      <td>Defensins are an effector component of the inn...</td>\n",
       "      <td>Defensins are one of the most abundant classes...</td>\n",
       "      <td>Direct inactivation of viruses by human granul...</td>\n",
       "      <td>[{'first': 'Sarah', 'middle': ['S'], 'last': '...</td>\n",
       "      <td>{'BIBREF0': {'ref_id': 'b0', 'title': 'Direct ...</td>\n",
       "    </tr>\n",
       "    <tr>\n",
       "      <th>1</th>\n",
       "      <td>1</td>\n",
       "      <td>1</td>\n",
       "      <td>4994fa72322bbf19120592304d92629226948d8e</td>\n",
       "      <td>Rapid Identification of Malaria Vaccine Candid...</td>\n",
       "      <td>V Villard, G W Agak, G Frank, A Jafarshad, C S...</td>\n",
       "      <td>V Villard, G W Agak, G Frank, A Jafarshad, C S...</td>\n",
       "      <td>To identify malaria antigens for vaccine devel...</td>\n",
       "      <td>Human Plasmodium falciparum (Pf) infection is ...</td>\n",
       "      <td>Identification of vaccine candidates against s...</td>\n",
       "      <td>[{'first': 'V', 'middle': [], 'last': 'Villard...</td>\n",
       "      <td>{'BIBREF0': {'ref_id': 'b0', 'title': 'Identif...</td>\n",
       "    </tr>\n",
       "  </tbody>\n",
       "</table>\n",
       "</div>"
      ],
      "text/plain": [
       "   Unnamed: 0  Unnamed: 0.1                                  paper_id  \\\n",
       "0           0             0  6f005a0677f24f697c1ec3ce065ec4144519e357   \n",
       "1           1             1  4994fa72322bbf19120592304d92629226948d8e   \n",
       "\n",
       "                                               title  \\\n",
       "0  Antiviral Mechanisms of Human Defensins Introd...   \n",
       "1  Rapid Identification of Malaria Vaccine Candid...   \n",
       "\n",
       "                                             authors  \\\n",
       "0       Sarah S Wilson, Mayim E Wiens, Jason G Smith   \n",
       "1  V Villard, G W Agak, G Frank, A Jafarshad, C S...   \n",
       "\n",
       "                                        affiliations  \\\n",
       "0  Sarah S Wilson (University of Washington, 1705...   \n",
       "1  V Villard, G W Agak, G Frank, A Jafarshad, C S...   \n",
       "\n",
       "                                            abstract  \\\n",
       "0  Defensins are an effector component of the inn...   \n",
       "1  To identify malaria antigens for vaccine devel...   \n",
       "\n",
       "                                                text  \\\n",
       "0  Defensins are one of the most abundant classes...   \n",
       "1  Human Plasmodium falciparum (Pf) infection is ...   \n",
       "\n",
       "                                        bibliography  \\\n",
       "0  Direct inactivation of viruses by human granul...   \n",
       "1  Identification of vaccine candidates against s...   \n",
       "\n",
       "                                         raw_authors  \\\n",
       "0  [{'first': 'Sarah', 'middle': ['S'], 'last': '...   \n",
       "1  [{'first': 'V', 'middle': [], 'last': 'Villard...   \n",
       "\n",
       "                                    raw_bibliography  \n",
       "0  {'BIBREF0': {'ref_id': 'b0', 'title': 'Direct ...  \n",
       "1  {'BIBREF0': {'ref_id': 'b0', 'title': 'Identif...  "
      ]
     },
     "execution_count": 3,
     "metadata": {},
     "output_type": "execute_result"
    }
   ],
   "source": [
    "complete_df.head(2)"
   ]
  },
  {
   "cell_type": "code",
   "execution_count": 4,
   "metadata": {},
   "outputs": [
    {
     "data": {
      "text/html": [
       "<div>\n",
       "<style scoped>\n",
       "    .dataframe tbody tr th:only-of-type {\n",
       "        vertical-align: middle;\n",
       "    }\n",
       "\n",
       "    .dataframe tbody tr th {\n",
       "        vertical-align: top;\n",
       "    }\n",
       "\n",
       "    .dataframe thead th {\n",
       "        text-align: right;\n",
       "    }\n",
       "</style>\n",
       "<table border=\"1\" class=\"dataframe\">\n",
       "  <thead>\n",
       "    <tr style=\"text-align: right;\">\n",
       "      <th></th>\n",
       "      <th>Unnamed: 0</th>\n",
       "      <th>Unnamed: 0.1</th>\n",
       "    </tr>\n",
       "  </thead>\n",
       "  <tbody>\n",
       "    <tr>\n",
       "      <th>count</th>\n",
       "      <td>40152.000000</td>\n",
       "      <td>40152.000000</td>\n",
       "    </tr>\n",
       "    <tr>\n",
       "      <th>mean</th>\n",
       "      <td>29705.053248</td>\n",
       "      <td>29705.053248</td>\n",
       "    </tr>\n",
       "    <tr>\n",
       "      <th>std</th>\n",
       "      <td>17183.494309</td>\n",
       "      <td>17183.494309</td>\n",
       "    </tr>\n",
       "    <tr>\n",
       "      <th>min</th>\n",
       "      <td>0.000000</td>\n",
       "      <td>0.000000</td>\n",
       "    </tr>\n",
       "    <tr>\n",
       "      <th>25%</th>\n",
       "      <td>14787.750000</td>\n",
       "      <td>14787.750000</td>\n",
       "    </tr>\n",
       "    <tr>\n",
       "      <th>50%</th>\n",
       "      <td>29717.000000</td>\n",
       "      <td>29717.000000</td>\n",
       "    </tr>\n",
       "    <tr>\n",
       "      <th>75%</th>\n",
       "      <td>44551.250000</td>\n",
       "      <td>44551.250000</td>\n",
       "    </tr>\n",
       "    <tr>\n",
       "      <th>max</th>\n",
       "      <td>59560.000000</td>\n",
       "      <td>59560.000000</td>\n",
       "    </tr>\n",
       "  </tbody>\n",
       "</table>\n",
       "</div>"
      ],
      "text/plain": [
       "         Unnamed: 0  Unnamed: 0.1\n",
       "count  40152.000000  40152.000000\n",
       "mean   29705.053248  29705.053248\n",
       "std    17183.494309  17183.494309\n",
       "min        0.000000      0.000000\n",
       "25%    14787.750000  14787.750000\n",
       "50%    29717.000000  29717.000000\n",
       "75%    44551.250000  44551.250000\n",
       "max    59560.000000  59560.000000"
      ]
     },
     "execution_count": 4,
     "metadata": {},
     "output_type": "execute_result"
    }
   ],
   "source": [
    "complete_df.describe()"
   ]
  },
  {
   "cell_type": "code",
   "execution_count": 5,
   "metadata": {},
   "outputs": [
    {
     "data": {
      "text/plain": [
       "(38265, 11)"
      ]
     },
     "execution_count": 5,
     "metadata": {},
     "output_type": "execute_result"
    }
   ],
   "source": [
    "# Keep only texts with minimal number of words \n",
    "\n",
    "complete_df = complete_df[complete_df['text'].apply(lambda x: len(re.findall(r\"(?i)\\b[a-z]+\\b\", x))) > 1000]                                         \n",
    "complete_df.shape"
   ]
  },
  {
   "cell_type": "code",
   "execution_count": 6,
   "metadata": {},
   "outputs": [],
   "source": [
    "frac_of_articles = 1\n",
    "train_df  = complete_df.sample(frac = frac_of_articles, random_state = 42)\n",
    "train_corpus = (list(utils.read_corpus(train_df, 'abstract'))) "
   ]
  },
  {
   "cell_type": "code",
   "execution_count": 7,
   "metadata": {},
   "outputs": [],
   "source": [
    "# Using distributed memory model\n",
    "\n",
    "model = gensim.models.doc2vec.Doc2Vec(dm = 1, vector_size = 50, min_count = 10, dm_mean = 1, epochs = 20, seed = 42, workers = 6)\n",
    "model.build_vocab(train_corpus)\n",
    "model.train(train_corpus, total_examples = model.corpus_count, epochs = model.epochs)"
   ]
  },
  {
   "cell_type": "code",
   "execution_count": 8,
   "metadata": {},
   "outputs": [],
   "source": [
    "list_of_tasks = [task_1, task_2, task_3, task_4, task_5, task_6, task_7, task_8, task_9]"
   ]
  },
  {
   "cell_type": "code",
   "execution_count": 9,
   "metadata": {},
   "outputs": [],
   "source": [
    "abstract_vectors = model.docvecs.vectors_docs\n",
    "array_of_tasks = [utils.get_doc_vector(task, model) for task in list_of_tasks]"
   ]
  },
  {
   "cell_type": "code",
   "execution_count": 10,
   "metadata": {},
   "outputs": [],
   "source": [
    "train_df['abstract_vector'] = [vec for vec in abstract_vectors]"
   ]
  },
  {
   "cell_type": "markdown",
   "metadata": {},
   "source": [
    "### Nearest Neigbors search"
   ]
  },
  {
   "cell_type": "code",
   "execution_count": 11,
   "metadata": {},
   "outputs": [
    {
     "data": {
      "text/plain": [
       "(37302, 12)"
      ]
     },
     "execution_count": 11,
     "metadata": {},
     "output_type": "execute_result"
    }
   ],
   "source": [
    "train_df = train_df[train_df['abstract'].apply(lambda x: len(re.findall(r\"(?i)\\b[a-z]+\\b\", x))) > 40]\n",
    "train_df.shape"
   ]
  },
  {
   "cell_type": "code",
   "execution_count": 12,
   "metadata": {},
   "outputs": [],
   "source": [
    "train_array = train_df['abstract_vector'].values.tolist()"
   ]
  },
  {
   "cell_type": "code",
   "execution_count": 13,
   "metadata": {},
   "outputs": [],
   "source": [
    "ball_tree = NearestNeighbors(algorithm = 'ball_tree', leaf_size = 20).fit(train_array)"
   ]
  },
  {
   "cell_type": "code",
   "execution_count": 14,
   "metadata": {},
   "outputs": [],
   "source": [
    "# Query for all tasks\n",
    "\n",
    "distances, indices = ball_tree.kneighbors(array_of_tasks, n_neighbors = 3)"
   ]
  },
  {
   "cell_type": "code",
   "execution_count": 16,
   "metadata": {},
   "outputs": [
    {
     "name": "stdout",
     "output_type": "stream",
     "text": [
      "================================================================================ \n",
      "\n",
      "Task = What do we know about vaccines and therapeutics? What has been published concerning research and development and evaluation efforts of vaccines and therapeutics?\n",
      "Effectiveness of drugs being developed and tried to treat COVID-19 patients.\n",
      "Clinical and bench trials to investigate less common viral inhibitors against COVID-19 such as naproxen, clarithromycin, and minocyclinethat that may exert effects on viral replication.\n",
      "Methods evaluating potential complication of Antibody-Dependent Enhancement (ADE) in vaccine recipients.\n",
      "Exploration of use of best animal models and their predictive value for a human vaccine.\n",
      "Capabilities to discover a therapeutic (not vaccine) for the disease, and clinical effectiveness studies to discover therapeutics, to include antiviral agents.\n",
      "Alternative models to aid decision makers in determining how to prioritize and distribute scarce, newly proven therapeutics as production ramps up. This could include identifying approaches for expanding production capacity to ensure equitable and timely distribution to populations in need.\n",
      "Efforts targeted at a universal coronavirus vaccine.\n",
      "Efforts to develop animal models and standardize challenge studies\n",
      "Efforts to develop prophylaxis clinical studies and prioritize in healthcare workers\n",
      "Approaches to evaluate risk for enhanced disease after vaccination\n",
      "Assays to evaluate vaccine immune response and process development for vaccines, alongside suitable animal models [in conjunction with therapeutics]\n",
      "\n",
      " Text index = 31077 \n",
      " Distance = 3.8863382765642633 \n",
      " Title: Utility of the aged BALB/c mouse model to demonstrate prevention and control strategies for Severe Acute Respiratory Syndrome coronavirus (SARS-CoV) \n",
      " Abstract extract: The causative agent of Severe Acute Respiratory Syndrome (SARS) was identified as a coronavirus (CoV) following the outbreak of 2002-2003. There are currently no licensed vaccines or treatments for SARS-CoV infections. Potential prevention and control strategies that show promise in vitro must be evaluated in animal models. The aged BALB/c mouse model for SARS supports a high level of viral replication in association with clinical illness and disease that mimics SARS in the elderly. We tested two preventive strategies, vaccination and passive transfer of serum antibody, to determine the extent of protection achieved against SARS-CoV challenge in this model. These approaches were able to achieve or induce antibody titers sufficient to reduce viral load, protect from weight loss and reduce or eliminate histopathologic changes in the lungs of aged mice. This study validates the utility of the aged BALB/c mouse model for evaluation of the efficacy of vaccines and immunoprophylaxis. Published by Elsevier Ltd.\n",
      "\n",
      "\n",
      " Text index = 17484 \n",
      " Distance = 4.038035518270088 \n",
      " Title: Passive Transfer of A Germline-like Neutralizing Human Monoclonal Antibody Protects Transgenic Mice Against Lethal Middle East Respiratory Syndrome Coronavirus Infection \n",
      " Abstract extract: Arabian Peninsula. To date, no approved medical countermeasures (MCM) are available to combat MERS-CoV infections. Several neutralizing human monoclonal antibodies (mAbs), including m336, a germline-like human mAb, have been chosen as promising MCM for MERS-CoV. However, their clinical development has been hindered by the lack of a robust animal model that recapitulate the morbidity and mortality of human infections. We assessed the prophylactic and therapeutic efficacy of m336 by using well-characterized transgenic mice shown to be highly sensitive to MERS-CoV infection and disease. We found that mice treated with m336 prior to or post lethal MERS-CoV challenging were fully protected, compared to control mice which sufferered from profound weight loss and uniform death within days after infection. Taken together, these results support further development of m336 and other human monoclonal antibodies as potential therapeutics for MERS-CoV infection.\n",
      "\n",
      "\n",
      " Text index = 26291 \n",
      " Distance = 4.075624863521734 \n",
      " Title: Perspectives towards antiviral drug discovery against Ebola virus \n",
      " Abstract extract: Ebola virus disease (EVD), caused by Ebola viruses, resulted in more than 11 500 deaths according to a recent 2018 WHO report. With mortality rates up to 90%, it is nowadays one of the most deadly infectious diseases. However, no Food and Drug Administrationapproved Ebola drugs or vaccines are available yet with the mainstay of therapy being supportive care. The high fatality rate and absence of effective treatment or vaccination make Ebola virus a category-A biothreat pathogen. Fortunately, a series of investigational countermeasures have been developed to control and prevent this global threat. This review summarizes the recent therapeutic advances and ongoing research progress from research and development to clinical trials in the development of small-molecule antiviral drugs, small-interference RNA molecules, phosphorodiamidate morpholino oligomers, fulllength monoclonal antibodies, and vaccines. Moreover, difficulties are highlighted in the search for effective countermeasures against EVD with additional focus on the interplay between available in silico prediction methods and their evidenced potential in antiviral drug discovery.\n",
      "\n",
      "\n"
     ]
    }
   ],
   "source": [
    "print(\"=\"*80, f\"\\n\\nTask = {list_of_tasks[3]}\\n\", )\n",
    "df =  train_df.iloc[indices[3]]\n",
    "abstracts = df['abstract']\n",
    "titles = df['title']\n",
    "dist = distances[3]\n",
    "for l in range(len(dist)):\n",
    "    print(f\" Text index = {indices[3][l]} \\n Distance = {distances[3][l]} \\n Title: {titles.iloc[l]} \\n Abstract extract: {abstracts.iloc[l]}\\n\\n\")"
   ]
  },
  {
   "cell_type": "markdown",
   "metadata": {},
   "source": [
    "## Level 2 Abstraction using SciBERT"
   ]
  },
  {
   "cell_type": "code",
   "execution_count": 17,
   "metadata": {},
   "outputs": [
    {
     "name": "stderr",
     "output_type": "stream",
     "text": [
      "/home/tanmay/anaconda3/envs/torch/lib/python3.8/site-packages/transformers/tokenization_utils.py:828: FutureWarning: Parameter max_len is deprecated and will be removed in a future release. Use model_max_length instead.\n",
      "  warnings.warn(\n"
     ]
    }
   ],
   "source": [
    "transformer = SentenceTransformer('distilbert-base-nli-mean-tokens')"
   ]
  },
  {
   "cell_type": "code",
   "execution_count": 18,
   "metadata": {},
   "outputs": [],
   "source": [
    "number_top_matches = 3\n",
    "query = 'What are the possible medications against COVID-19?' \n",
    "queries = [query]\n",
    "query_embeddings = transformer.encode(queries)"
   ]
  },
  {
   "cell_type": "code",
   "execution_count": 19,
   "metadata": {},
   "outputs": [
    {
     "name": "stdout",
     "output_type": "stream",
     "text": [
      "================================================================================ \n",
      "\n",
      "Task = \n",
      "\n",
      " What do we know about vaccines and therapeutics? What has been published concerning research and development and evaluation efforts of vaccines and therapeutics?\n",
      "Effectiveness of drugs being developed and tried to treat COVID-19 patients.\n",
      "Clinical and bench trials to investigate less common viral inhibitors against COVID-19 such as naproxen, clarithromycin, and minocyclinethat that may exert effects on viral replication.\n",
      "Methods evaluating potential complication of Antibody-Dependent Enhancement (ADE) in vaccine recipients.\n",
      "Exploration of use of best animal models and their predictive value for a human vaccine.\n",
      "Capabilities to discover a therapeutic (not vaccine) for the disease, and clinical effectiveness studies to discover therapeutics, to include antiviral agents.\n",
      "Alternative models to aid decision makers in determining how to prioritize and distribute scarce, newly proven therapeutics as production ramps up. This could include identifying approaches for expanding production capacity to ensure equitable and timely distribution to populations in need.\n",
      "Efforts targeted at a universal coronavirus vaccine.\n",
      "Efforts to develop animal models and standardize challenge studies\n",
      "Efforts to develop prophylaxis clinical studies and prioritize in healthcare workers\n",
      "Approaches to evaluate risk for enhanced disease after vaccination\n",
      "Assays to evaluate vaccine immune response and process development for vaccines, alongside suitable animal models [in conjunction with therapeutics]\n",
      "\n",
      "\n",
      "\n",
      "======================\n",
      "\n",
      "\n",
      "Searching in Abstracts\n",
      "\n",
      "\n",
      "======================\n",
      "\n",
      "\n",
      "Abstract: The causative agent of Severe Acute Respiratory Syndrome (SARS) was identified as a coronavirus (CoV\n",
      "\n",
      "\n",
      "======================\n",
      "\n",
      "\n",
      "Query: What are the possible medications against COVID-19?\n",
      "\n",
      "Top 3 most similar sentences are:\n",
      "We tested two preventive strategies, vaccination and passive transfer of serum antibody, to determine the extent of protection achieved against SARS-CoV challenge in this model (Cosine Score: 0.6374)\n",
      "Published by Elsevier Ltd (Cosine Score: 0.5791)\n",
      "The causative agent of Severe Acute Respiratory Syndrome (SARS) was identified as a coronavirus (CoV) following the outbreak of 2002-2003 (Cosine Score: 0.5253)\n",
      "\n",
      "\n",
      "======================\n",
      "\n",
      "\n",
      "Abstract: Arabian Peninsula. To date, no approved medical countermeasures (MCM) are available to combat MERS-C\n",
      "\n",
      "\n",
      "======================\n",
      "\n",
      "\n",
      "Query: What are the possible medications against COVID-19?\n",
      "\n",
      "Top 3 most similar sentences are:\n",
      "Several neutralizing human monoclonal antibodies (mAbs), including m336, a germline-like human mAb, have been chosen as promising MCM for MERS-CoV (Cosine Score: 0.5547)\n",
      "However, their clinical development has been hindered by the lack of a robust animal model that recapitulate the morbidity and mortality of human infections (Cosine Score: 0.5227)\n",
      "Taken together, these results support further development of m336 and other human monoclonal antibodies as potential therapeutics for MERS-CoV infection (Cosine Score: 0.5202)\n",
      "\n",
      "\n",
      "======================\n",
      "\n",
      "\n",
      "Abstract: Ebola virus disease (EVD), caused by Ebola viruses, resulted in more than 11 500 deaths according to\n",
      "\n",
      "\n",
      "======================\n",
      "\n",
      "\n",
      "Query: What are the possible medications against COVID-19?\n",
      "\n",
      "Top 3 most similar sentences are:\n",
      "Moreover, difficulties are highlighted in the search for effective countermeasures against EVD with additional focus on the interplay between available in silico prediction methods and their evidenced potential in antiviral drug discovery (Cosine Score: 0.7287)\n",
      "This review summarizes the recent therapeutic advances and ongoing research progress from research and development to clinical trials in the development of small-molecule antiviral drugs, small-interference RNA molecules, phosphorodiamidate morpholino oligomers, fulllength monoclonal antibodies, and vaccines (Cosine Score: 0.5731)\n",
      "Fortunately, a series of investigational countermeasures have been developed to control and prevent this global threat (Cosine Score: 0.5232)\n",
      "\n",
      "\n",
      "======================\n",
      "\n",
      "\n",
      "Searching in Texts\n",
      "\n",
      "\n",
      "======================\n",
      "\n",
      "\n",
      "Text: The agent that caused the 2002-2003 Severe Acute Respiratory Syndrome (SARS) outbreak was identified\n",
      "\n",
      "\n",
      "======================\n",
      "\n",
      "\n",
      "Query: What are the possible medications against COVID-19?\n",
      "\n",
      "Top 3 most similar sentences are:\n",
      "for evaluation of histopathologic changes \n",
      "(Cosine Score: 0.6897)\n",
      "injection, to determine the neutralizing antibody level achieved \n",
      "(Cosine Score: 0.6528)\n",
      "Protection from rVSV vectored vaccines is mediated by strong humoral and cytotoxic T lymphocyte (CTL) responses \n",
      "(Cosine Score: 0.6470)\n",
      "\n",
      "\n",
      "======================\n",
      "\n",
      "\n",
      "Text: Scientific RepoRts | 6:31629 | DOI: 10.1038/srep31629 and long-term threat to people, particularly t\n",
      "\n",
      "\n",
      "======================\n",
      "\n",
      "\n",
      "Query: What are the possible medications against COVID-19?\n",
      "\n",
      "Top 3 most similar sentences are:\n",
      "These results suggest that combinational use of 4C2h and m336 may exhibit synergistic antiviral effect against both wild-type strains and escape mutants (if any) of MERS-CoV \n",
      "(Cosine Score: 0.6688)\n",
      "Therefore, neutralizing antibodies capable of blocking such interaction could be promising preventive and/or therapeutic candidates \n",
      "(Cosine Score: 0.6460)\n",
      "Testing in humans is needed for its potential use as a therapeutic for the treatment of MERS-CoV-infected patients \n",
      "(Cosine Score: 0.6431)\n",
      "\n",
      "\n",
      "======================\n",
      "\n",
      "\n",
      "Text: EVD outbreaks, of which the first on 8 May (May-June 2018Equateur province DRC outbreak) and the sec\n",
      "\n",
      "\n",
      "======================\n",
      "\n",
      "\n",
      "Query: What are the possible medications against COVID-19?\n",
      "\n",
      "Top 3 most similar sentences are:\n",
      "Interestingly, MD simulation assisted in the discovery and development of antiviral drugs \n",
      "(Cosine Score: 0.7071)\n",
      "127 BCX4430 has been tested against for its broad-spectrum inhibition of various viruses including, arenaviruses, bunyaviruses, coronaviruses, paramyxoviruses, and flaviviruses \n",
      "(Cosine Score: 0.6890)\n",
      "Blocking this nucleocapsid formation by proteinprotein interaction inhibitors can lead to potential inhibition of EBOV \n",
      "(Cosine Score: 0.6859)\n"
     ]
    }
   ],
   "source": [
    "print(\"=\"*80, f\"\\n\\nTask = \\n\\n {list_of_tasks[3]}\\n\", )\n",
    "\n",
    "print(\"\\n\\n======================\\n\\n\")\n",
    "print(\"Searching in Abstracts\")\n",
    "    \n",
    "dfs =  train_df.iloc[indices[3]]\n",
    "abstracts = [i.split(\".\") for i in df['abstract']]\n",
    "for abstract in abstracts:\n",
    "    print(\"\\n\\n======================\\n\\n\")\n",
    "    print(\"Abstract:\", \".\".join(abstract)[:100])\n",
    "    abstracts_vector = transformer.encode(abstract)\n",
    "    distance = scipy.spatial.distance.cdist(query_embeddings, abstracts_vector, \"cosine\")[0]\n",
    "\n",
    "    results = zip(range(len(distance)), distance)\n",
    "    results = sorted(results, key = lambda x: x[1])\n",
    "    \n",
    "    print(\"\\n\\n======================\\n\\n\")\n",
    "    print(\"Query:\", query)\n",
    "    print(\"\\nTop 3 most similar sentences are:\")\n",
    "\n",
    "    for idx, dist in results[0:number_top_matches]:\n",
    "        print(abstract[idx].strip(), \"(Cosine Score: %.4f)\" % (1-dist))\n",
    "\n",
    "        \n",
    "print(\"\\n\\n======================\\n\\n\")\n",
    "print(\"Searching in Texts\")\n",
    "\n",
    "texts = [i.split(\".\") for i in df['text']]\n",
    "for text in texts:\n",
    "    print(\"\\n\\n======================\\n\\n\")\n",
    "    print(\"Text:\", \".\".join(text)[:100])\n",
    "    text_vector = transformer.encode(text)\n",
    "    distance = scipy.spatial.distance.cdist(query_embeddings, text_vector, \"cosine\")[0]\n",
    "\n",
    "    results = zip(range(len(distance)), distance)\n",
    "    results = sorted(results, key = lambda x: x[1])\n",
    "\n",
    "    print(\"\\n\\n======================\\n\\n\")\n",
    "    print(\"Query:\", query)\n",
    "    print(\"\\nTop 3 most similar sentences are:\")\n",
    "\n",
    "    for idx, dist in results[0:number_top_matches]:\n",
    "        print(text[idx].strip(), \"\\n(Cosine Score: %.4f)\" % (1-dist))"
   ]
  },
  {
   "cell_type": "code",
   "execution_count": null,
   "metadata": {},
   "outputs": [],
   "source": []
  }
 ],
 "metadata": {
  "kernelspec": {
   "display_name": "Python 3",
   "language": "python",
   "name": "python3"
  },
  "language_info": {
   "codemirror_mode": {
    "name": "ipython",
    "version": 3
   },
   "file_extension": ".py",
   "mimetype": "text/x-python",
   "name": "python",
   "nbconvert_exporter": "python",
   "pygments_lexer": "ipython3",
   "version": "3.8.3"
  }
 },
 "nbformat": 4,
 "nbformat_minor": 4
}
