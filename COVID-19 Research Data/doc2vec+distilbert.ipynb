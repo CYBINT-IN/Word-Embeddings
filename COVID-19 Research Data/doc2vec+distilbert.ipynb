{
 "cells": [
  {
   "cell_type": "code",
   "execution_count": 1,
   "metadata": {},
   "outputs": [
    {
     "name": "stderr",
     "output_type": "stream",
     "text": [
      "/home/tanmay/anaconda3/lib/python3.7/site-packages/sklearn/utils/deprecation.py:144: FutureWarning: The sklearn.metrics.classification module is  deprecated in version 0.22 and will be removed in version 0.24. The corresponding classes / functions should instead be imported from sklearn.metrics. Anything that cannot be imported from sklearn.metrics is now part of the private API.\n",
      "  warnings.warn(message, FutureWarning)\n"
     ]
    }
   ],
   "source": [
    "import os\n",
    "import re\n",
    "import json\n",
    "import utils\n",
    "import scipy\n",
    "import random\n",
    "import gensim\n",
    "import warnings\n",
    "\n",
    "import numpy as np\n",
    "import pandas as pd\n",
    "\n",
    "from tasks import *\n",
    "from pprint import pprint\n",
    "from tqdm.notebook import tqdm\n",
    "from sklearn.cluster import KMeans\n",
    "from sklearn.neighbors import NearestNeighbors\n",
    "from yellowbrick.cluster import KElbowVisualizer\n",
    "from sentence_transformers import SentenceTransformer\n",
    "\n",
    "warnings.filterwarnings('ignore')"
   ]
  },
  {
   "cell_type": "code",
   "execution_count": 2,
   "metadata": {},
   "outputs": [
    {
     "data": {
      "text/plain": [
       "(40152, 11)"
      ]
     },
     "execution_count": 2,
     "metadata": {},
     "output_type": "execute_result"
    }
   ],
   "source": [
    "complete_df = pd.read_csv(\"data/clean_df.csv\")\n",
    "complete_df.shape"
   ]
  },
  {
   "cell_type": "code",
   "execution_count": 3,
   "metadata": {},
   "outputs": [
    {
     "data": {
      "text/html": [
       "<div>\n",
       "<style scoped>\n",
       "    .dataframe tbody tr th:only-of-type {\n",
       "        vertical-align: middle;\n",
       "    }\n",
       "\n",
       "    .dataframe tbody tr th {\n",
       "        vertical-align: top;\n",
       "    }\n",
       "\n",
       "    .dataframe thead th {\n",
       "        text-align: right;\n",
       "    }\n",
       "</style>\n",
       "<table border=\"1\" class=\"dataframe\">\n",
       "  <thead>\n",
       "    <tr style=\"text-align: right;\">\n",
       "      <th></th>\n",
       "      <th>Unnamed: 0</th>\n",
       "      <th>Unnamed: 0.1</th>\n",
       "      <th>paper_id</th>\n",
       "      <th>title</th>\n",
       "      <th>authors</th>\n",
       "      <th>affiliations</th>\n",
       "      <th>abstract</th>\n",
       "      <th>text</th>\n",
       "      <th>bibliography</th>\n",
       "      <th>raw_authors</th>\n",
       "      <th>raw_bibliography</th>\n",
       "    </tr>\n",
       "  </thead>\n",
       "  <tbody>\n",
       "    <tr>\n",
       "      <th>0</th>\n",
       "      <td>0</td>\n",
       "      <td>0</td>\n",
       "      <td>6f005a0677f24f697c1ec3ce065ec4144519e357</td>\n",
       "      <td>Antiviral Mechanisms of Human Defensins Introd...</td>\n",
       "      <td>Sarah S Wilson, Mayim E Wiens, Jason G Smith</td>\n",
       "      <td>Sarah S Wilson (University of Washington, 1705...</td>\n",
       "      <td>Defensins are an effector component of the inn...</td>\n",
       "      <td>Defensins are one of the most abundant classes...</td>\n",
       "      <td>Direct inactivation of viruses by human granul...</td>\n",
       "      <td>[{'first': 'Sarah', 'middle': ['S'], 'last': '...</td>\n",
       "      <td>{'BIBREF0': {'ref_id': 'b0', 'title': 'Direct ...</td>\n",
       "    </tr>\n",
       "    <tr>\n",
       "      <th>1</th>\n",
       "      <td>1</td>\n",
       "      <td>1</td>\n",
       "      <td>4994fa72322bbf19120592304d92629226948d8e</td>\n",
       "      <td>Rapid Identification of Malaria Vaccine Candid...</td>\n",
       "      <td>V Villard, G W Agak, G Frank, A Jafarshad, C S...</td>\n",
       "      <td>V Villard, G W Agak, G Frank, A Jafarshad, C S...</td>\n",
       "      <td>To identify malaria antigens for vaccine devel...</td>\n",
       "      <td>Human Plasmodium falciparum (Pf) infection is ...</td>\n",
       "      <td>Identification of vaccine candidates against s...</td>\n",
       "      <td>[{'first': 'V', 'middle': [], 'last': 'Villard...</td>\n",
       "      <td>{'BIBREF0': {'ref_id': 'b0', 'title': 'Identif...</td>\n",
       "    </tr>\n",
       "  </tbody>\n",
       "</table>\n",
       "</div>"
      ],
      "text/plain": [
       "   Unnamed: 0  Unnamed: 0.1                                  paper_id  \\\n",
       "0           0             0  6f005a0677f24f697c1ec3ce065ec4144519e357   \n",
       "1           1             1  4994fa72322bbf19120592304d92629226948d8e   \n",
       "\n",
       "                                               title  \\\n",
       "0  Antiviral Mechanisms of Human Defensins Introd...   \n",
       "1  Rapid Identification of Malaria Vaccine Candid...   \n",
       "\n",
       "                                             authors  \\\n",
       "0       Sarah S Wilson, Mayim E Wiens, Jason G Smith   \n",
       "1  V Villard, G W Agak, G Frank, A Jafarshad, C S...   \n",
       "\n",
       "                                        affiliations  \\\n",
       "0  Sarah S Wilson (University of Washington, 1705...   \n",
       "1  V Villard, G W Agak, G Frank, A Jafarshad, C S...   \n",
       "\n",
       "                                            abstract  \\\n",
       "0  Defensins are an effector component of the inn...   \n",
       "1  To identify malaria antigens for vaccine devel...   \n",
       "\n",
       "                                                text  \\\n",
       "0  Defensins are one of the most abundant classes...   \n",
       "1  Human Plasmodium falciparum (Pf) infection is ...   \n",
       "\n",
       "                                        bibliography  \\\n",
       "0  Direct inactivation of viruses by human granul...   \n",
       "1  Identification of vaccine candidates against s...   \n",
       "\n",
       "                                         raw_authors  \\\n",
       "0  [{'first': 'Sarah', 'middle': ['S'], 'last': '...   \n",
       "1  [{'first': 'V', 'middle': [], 'last': 'Villard...   \n",
       "\n",
       "                                    raw_bibliography  \n",
       "0  {'BIBREF0': {'ref_id': 'b0', 'title': 'Direct ...  \n",
       "1  {'BIBREF0': {'ref_id': 'b0', 'title': 'Identif...  "
      ]
     },
     "execution_count": 3,
     "metadata": {},
     "output_type": "execute_result"
    }
   ],
   "source": [
    "complete_df.head(2)"
   ]
  },
  {
   "cell_type": "code",
   "execution_count": 4,
   "metadata": {},
   "outputs": [
    {
     "data": {
      "text/html": [
       "<div>\n",
       "<style scoped>\n",
       "    .dataframe tbody tr th:only-of-type {\n",
       "        vertical-align: middle;\n",
       "    }\n",
       "\n",
       "    .dataframe tbody tr th {\n",
       "        vertical-align: top;\n",
       "    }\n",
       "\n",
       "    .dataframe thead th {\n",
       "        text-align: right;\n",
       "    }\n",
       "</style>\n",
       "<table border=\"1\" class=\"dataframe\">\n",
       "  <thead>\n",
       "    <tr style=\"text-align: right;\">\n",
       "      <th></th>\n",
       "      <th>Unnamed: 0</th>\n",
       "      <th>Unnamed: 0.1</th>\n",
       "    </tr>\n",
       "  </thead>\n",
       "  <tbody>\n",
       "    <tr>\n",
       "      <th>count</th>\n",
       "      <td>40152.000000</td>\n",
       "      <td>40152.000000</td>\n",
       "    </tr>\n",
       "    <tr>\n",
       "      <th>mean</th>\n",
       "      <td>29705.053248</td>\n",
       "      <td>29705.053248</td>\n",
       "    </tr>\n",
       "    <tr>\n",
       "      <th>std</th>\n",
       "      <td>17183.494309</td>\n",
       "      <td>17183.494309</td>\n",
       "    </tr>\n",
       "    <tr>\n",
       "      <th>min</th>\n",
       "      <td>0.000000</td>\n",
       "      <td>0.000000</td>\n",
       "    </tr>\n",
       "    <tr>\n",
       "      <th>25%</th>\n",
       "      <td>14787.750000</td>\n",
       "      <td>14787.750000</td>\n",
       "    </tr>\n",
       "    <tr>\n",
       "      <th>50%</th>\n",
       "      <td>29717.000000</td>\n",
       "      <td>29717.000000</td>\n",
       "    </tr>\n",
       "    <tr>\n",
       "      <th>75%</th>\n",
       "      <td>44551.250000</td>\n",
       "      <td>44551.250000</td>\n",
       "    </tr>\n",
       "    <tr>\n",
       "      <th>max</th>\n",
       "      <td>59560.000000</td>\n",
       "      <td>59560.000000</td>\n",
       "    </tr>\n",
       "  </tbody>\n",
       "</table>\n",
       "</div>"
      ],
      "text/plain": [
       "         Unnamed: 0  Unnamed: 0.1\n",
       "count  40152.000000  40152.000000\n",
       "mean   29705.053248  29705.053248\n",
       "std    17183.494309  17183.494309\n",
       "min        0.000000      0.000000\n",
       "25%    14787.750000  14787.750000\n",
       "50%    29717.000000  29717.000000\n",
       "75%    44551.250000  44551.250000\n",
       "max    59560.000000  59560.000000"
      ]
     },
     "execution_count": 4,
     "metadata": {},
     "output_type": "execute_result"
    }
   ],
   "source": [
    "complete_df.describe()"
   ]
  },
  {
   "cell_type": "code",
   "execution_count": 5,
   "metadata": {},
   "outputs": [
    {
     "data": {
      "text/plain": [
       "(38265, 11)"
      ]
     },
     "execution_count": 5,
     "metadata": {},
     "output_type": "execute_result"
    }
   ],
   "source": [
    "# Keep only texts with minimal number of words \n",
    "\n",
    "complete_df = complete_df[complete_df['text'].apply(lambda x: len(re.findall(r\"(?i)\\b[a-z]+\\b\", x))) > 1000]                                         \n",
    "complete_df.shape"
   ]
  },
  {
   "cell_type": "code",
   "execution_count": 6,
   "metadata": {},
   "outputs": [],
   "source": [
    "frac_of_articles = 1\n",
    "train_df  = complete_df.sample(frac = frac_of_articles, random_state = 42)\n",
    "train_corpus = (list(utils.read_corpus(train_df, 'abstract'))) "
   ]
  },
  {
   "cell_type": "code",
   "execution_count": 7,
   "metadata": {},
   "outputs": [],
   "source": [
    "# Using distributed memory model\n",
    "\n",
    "model = gensim.models.doc2vec.Doc2Vec(dm = 1, vector_size = 50, min_count = 10, dm_mean = 1, epochs = 20, seed = 42, workers = 6)\n",
    "model.build_vocab(train_corpus)\n",
    "model.train(train_corpus, total_examples = model.corpus_count, epochs = model.epochs)"
   ]
  },
  {
   "cell_type": "code",
   "execution_count": 8,
   "metadata": {},
   "outputs": [],
   "source": [
    "list_of_tasks = [task_1, task_2, task_3, task_4, task_5, task_6, task_7, task_8, task_9]"
   ]
  },
  {
   "cell_type": "code",
   "execution_count": 9,
   "metadata": {},
   "outputs": [],
   "source": [
    "abstract_vectors = model.docvecs.vectors_docs\n",
    "array_of_tasks = [utils.get_doc_vector(task, model) for task in list_of_tasks]"
   ]
  },
  {
   "cell_type": "code",
   "execution_count": 10,
   "metadata": {},
   "outputs": [],
   "source": [
    "train_df['abstract_vector'] = [vec for vec in abstract_vectors]"
   ]
  },
  {
   "cell_type": "markdown",
   "metadata": {},
   "source": [
    "### Nearest Neigbors search"
   ]
  },
  {
   "cell_type": "code",
   "execution_count": 11,
   "metadata": {},
   "outputs": [
    {
     "name": "stderr",
     "output_type": "stream",
     "text": [
      "100%|██████████| 245M/245M [00:47<00:00, 5.13MB/s] \n"
     ]
    }
   ],
   "source": [
    "transformer = SentenceTransformer('distilbert-base-nli-mean-tokens')"
   ]
  },
  {
   "cell_type": "code",
   "execution_count": 12,
   "metadata": {},
   "outputs": [
    {
     "data": {
      "text/plain": [
       "(37302, 12)"
      ]
     },
     "execution_count": 12,
     "metadata": {},
     "output_type": "execute_result"
    }
   ],
   "source": [
    "train_df = train_df[train_df['abstract'].apply(lambda x: len(re.findall(r\"(?i)\\b[a-z]+\\b\", x))) > 40]\n",
    "train_df.shape"
   ]
  },
  {
   "cell_type": "code",
   "execution_count": 13,
   "metadata": {},
   "outputs": [],
   "source": [
    "train_array = train_df['abstract_vector'].values.tolist()"
   ]
  },
  {
   "cell_type": "code",
   "execution_count": 14,
   "metadata": {},
   "outputs": [],
   "source": [
    "ball_tree = NearestNeighbors(algorithm = 'ball_tree', leaf_size = 20).fit(train_array)"
   ]
  },
  {
   "cell_type": "code",
   "execution_count": 15,
   "metadata": {},
   "outputs": [],
   "source": [
    "# Query for all tasks\n",
    "\n",
    "distances, indices = ball_tree.kneighbors(array_of_tasks, n_neighbors = 3)"
   ]
  },
  {
   "cell_type": "code",
   "execution_count": 33,
   "metadata": {},
   "outputs": [],
   "source": [
    "number_top_matches = 3\n",
    "query = 'What are the possible medications against COVID-19?' \n",
    "queries = [query]\n",
    "query_embeddings = transformer.encode(queries)"
   ]
  },
  {
   "cell_type": "code",
   "execution_count": 32,
   "metadata": {},
   "outputs": [
    {
     "name": "stdout",
     "output_type": "stream",
     "text": [
      "================================================================================ \n",
      "\n",
      "Task = What do we know about vaccines and therapeutics? What has been published concerning research and development and evaluation efforts of vaccines and therapeutics?\n",
      "Effectiveness of drugs being developed and tried to treat COVID-19 patients.\n",
      "Clinical and bench trials to investigate less common viral inhibitors against COVID-19 such as naproxen, clarithromycin, and minocyclinethat that may exert effects on viral replication.\n",
      "Methods evaluating potential complication of Antibody-Dependent Enhancement (ADE) in vaccine recipients.\n",
      "Exploration of use of best animal models and their predictive value for a human vaccine.\n",
      "Capabilities to discover a therapeutic (not vaccine) for the disease, and clinical effectiveness studies to discover therapeutics, to include antiviral agents.\n",
      "Alternative models to aid decision makers in determining how to prioritize and distribute scarce, newly proven therapeutics as production ramps up. This could include identifying approaches for expanding production capacity to ensure equitable and timely distribution to populations in need.\n",
      "Efforts targeted at a universal coronavirus vaccine.\n",
      "Efforts to develop animal models and standardize challenge studies\n",
      "Efforts to develop prophylaxis clinical studies and prioritize in healthcare workers\n",
      "Approaches to evaluate risk for enhanced disease after vaccination\n",
      "Assays to evaluate vaccine immune response and process development for vaccines, alongside suitable animal models [in conjunction with therapeutics]\n",
      "\n",
      " Text index = 30481 \n",
      " Distance = 3.8271104020106987 \n",
      " Title: Discovery and development of safe-in-man broad-spectrum antiviral agents \n",
      " Abstract extract: Drug discovery and development Broad-spectrum antiviral agents BSAAs A B S T R A C T Viral diseases are one of the leading causes of morbidity and mortality in the world. Virus-specific vaccines and antiviral drugs are the most powerful tools to combat viral diseases. However, broadspectrum antiviral agents (BSAAs, i.e. compounds targeting viruses belonging to two or more viral families) could provide additional protection of the general population from emerging and re-emerging viral diseases, reinforcing the arsenal of available antiviral options. Here, we review discovery and development of BSAAs and summarize the information on 120 safe-in-man agents in a freely accessible database (https://drugvirus.info/). Future and ongoing pre-clinical and clinical studies will increase the number of BSAAs, expand the spectrum of their indications, and identify drug combinations for treatment of emerging and re-emerging viral infections as well as co-infections.\n",
      "\n",
      "\n",
      " Text index = 31158 \n",
      " Distance = 3.833245525805658 \n",
      " Title: PEGylated Adenoviruses: From Mice to Monkeys \n",
      " Abstract extract: Covalent modification with polyethylene glycol (PEG), a non-toxic polymer used in food, cosmetic and pharmaceutical preparations for over 60 years, can profoundly influence the pharmacokinetic, pharmacologic and toxciologic profile of protein and peptide-based therapeutics. This review summarizes the history of PEGylation and PEG chemistry and highlights the value of this technology in the context of the design and development of recombinant viruses for gene transfer, vaccination and diagnostic purposes. Specific emphasis is placed on the application of this technology to the adenovirus, the most potent viral vector with the most highly characterized toxicity profile to date, in several animal models.\n",
      "\n",
      "\n",
      " Text index = 31077 \n",
      " Distance = 3.962359287523786 \n",
      " Title: Utility of the aged BALB/c mouse model to demonstrate prevention and control strategies for Severe Acute Respiratory Syndrome coronavirus (SARS-CoV) \n",
      " Abstract extract: The causative agent of Severe Acute Respiratory Syndrome (SARS) was identified as a coronavirus (CoV) following the outbreak of 2002-2003. There are currently no licensed vaccines or treatments for SARS-CoV infections. Potential prevention and control strategies that show promise in vitro must be evaluated in animal models. The aged BALB/c mouse model for SARS supports a high level of viral replication in association with clinical illness and disease that mimics SARS in the elderly. We tested two preventive strategies, vaccination and passive transfer of serum antibody, to determine the extent of protection achieved against SARS-CoV challenge in this model. These approaches were able to achieve or induce antibody titers sufficient to reduce viral load, protect from weight loss and reduce or eliminate histopathologic changes in the lungs of aged mice. This study validates the utility of the aged BALB/c mouse model for evaluation of the efficacy of vaccines and immunoprophylaxis. Published by Elsevier Ltd.\n",
      "\n",
      "\n"
     ]
    }
   ],
   "source": [
    "print(\"=\"*80, f\"\\n\\nTask = {list_of_tasks[3]}\\n\", )\n",
    "df =  train_df.iloc[indices[3]]\n",
    "abstracts = df['abstract']\n",
    "titles = df['title']\n",
    "dist = distances[3]\n",
    "for l in range(len(dist)):\n",
    "    print(f\" Text index = {indices[3][l]} \\n Distance = {distances[3][l]} \\n Title: {titles.iloc[l]} \\n Abstract extract: {abstracts.iloc[l]}\\n\\n\")"
   ]
  },
  {
   "cell_type": "code",
   "execution_count": null,
   "metadata": {},
   "outputs": [
    {
     "name": "stdout",
     "output_type": "stream",
     "text": [
      "================================================================================ \n",
      "\n",
      "Task\n",
      "\n",
      " = What do we know about vaccines and therapeutics? What has been published concerning research and development and evaluation efforts of vaccines and therapeutics?\n",
      "Effectiveness of drugs being developed and tried to treat COVID-19 patients.\n",
      "Clinical and bench trials to investigate less common viral inhibitors against COVID-19 such as naproxen, clarithromycin, and minocyclinethat that may exert effects on viral replication.\n",
      "Methods evaluating potential complication of Antibody-Dependent Enhancement (ADE) in vaccine recipients.\n",
      "Exploration of use of best animal models and their predictive value for a human vaccine.\n",
      "Capabilities to discover a therapeutic (not vaccine) for the disease, and clinical effectiveness studies to discover therapeutics, to include antiviral agents.\n",
      "Alternative models to aid decision makers in determining how to prioritize and distribute scarce, newly proven therapeutics as production ramps up. This could include identifying approaches for expanding production capacity to ensure equitable and timely distribution to populations in need.\n",
      "Efforts targeted at a universal coronavirus vaccine.\n",
      "Efforts to develop animal models and standardize challenge studies\n",
      "Efforts to develop prophylaxis clinical studies and prioritize in healthcare workers\n",
      "Approaches to evaluate risk for enhanced disease after vaccination\n",
      "Assays to evaluate vaccine immune response and process development for vaccines, alongside suitable animal models [in conjunction with therapeutics]\n",
      "\n",
      "\n",
      "\n",
      "======================\n",
      "\n",
      "\n",
      "Searching in Abstracts\n",
      "\n",
      "\n",
      "======================\n",
      "\n",
      "\n",
      "Abstract: ['Drug discovery and development Broad-spectrum antiviral agents BSAAs A B S T R A C T Viral diseases are one of the leading causes of morbidity and mortality in the world', ' Virus-specific vaccines and antiviral drugs are the most powerful tools to combat viral diseases', ' However, broadspectrum antiviral agents (BSAAs, i', 'e', ' compounds targeting viruses belonging to two or more viral families) could provide additional protection of the general population from emerging and re-emerging viral diseases, reinforcing the arsenal of available antiviral options', ' Here, we review discovery and development of BSAAs and summarize the information on 120 safe-in-man agents in a freely accessible database (https://drugvirus', 'info/)', ' Future and ongoing pre-clinical and clinical studies will increase the number of BSAAs, expand the spectrum of their indications, and identify drug combinations for treatment of emerging and re-emerging viral infections as well as co-infections', '']\n",
      "\n",
      "\n",
      "======================\n",
      "\n",
      "\n",
      "Query: What are the possible medications against COVID-19?\n",
      "\n",
      "Top 3 most similar sentences are:\n",
      "However, broadspectrum antiviral agents (BSAAs, i (Cosine Score: 0.6702)\n",
      "compounds targeting viruses belonging to two or more viral families) could provide additional protection of the general population from emerging and re-emerging viral diseases, reinforcing the arsenal of available antiviral options (Cosine Score: 0.5621)\n",
      "Drug discovery and development Broad-spectrum antiviral agents BSAAs A B S T R A C T Viral diseases are one of the leading causes of morbidity and mortality in the world (Cosine Score: 0.4997)\n",
      "\n",
      "\n",
      "======================\n",
      "\n",
      "\n",
      "Abstract: ['Covalent modification with polyethylene glycol (PEG), a non-toxic polymer used in food, cosmetic and pharmaceutical preparations for over 60 years, can profoundly influence the pharmacokinetic, pharmacologic and toxciologic profile of protein and peptide-based therapeutics', ' This review summarizes the history of PEGylation and PEG chemistry and highlights the value of this technology in the context of the design and development of recombinant viruses for gene transfer, vaccination and diagnostic purposes', ' Specific emphasis is placed on the application of this technology to the adenovirus, the most potent viral vector with the most highly characterized toxicity profile to date, in several animal models', '']\n",
      "\n",
      "\n",
      "======================\n",
      "\n",
      "\n",
      "Query: What are the possible medications against COVID-19?\n",
      "\n",
      "Top 3 most similar sentences are:\n",
      "Covalent modification with polyethylene glycol (PEG), a non-toxic polymer used in food, cosmetic and pharmaceutical preparations for over 60 years, can profoundly influence the pharmacokinetic, pharmacologic and toxciologic profile of protein and peptide-based therapeutics (Cosine Score: 0.5520)\n",
      "This review summarizes the history of PEGylation and PEG chemistry and highlights the value of this technology in the context of the design and development of recombinant viruses for gene transfer, vaccination and diagnostic purposes (Cosine Score: 0.5462)\n",
      "Specific emphasis is placed on the application of this technology to the adenovirus, the most potent viral vector with the most highly characterized toxicity profile to date, in several animal models (Cosine Score: 0.4170)\n",
      "\n",
      "\n",
      "======================\n",
      "\n",
      "\n",
      "Abstract: ['The causative agent of Severe Acute Respiratory Syndrome (SARS) was identified as a coronavirus (CoV) following the outbreak of 2002-2003', ' There are currently no licensed vaccines or treatments for SARS-CoV infections', ' Potential prevention and control strategies that show promise in vitro must be evaluated in animal models', ' The aged BALB/c mouse model for SARS supports a high level of viral replication in association with clinical illness and disease that mimics SARS in the elderly', ' We tested two preventive strategies, vaccination and passive transfer of serum antibody, to determine the extent of protection achieved against SARS-CoV challenge in this model', ' These approaches were able to achieve or induce antibody titers sufficient to reduce viral load, protect from weight loss and reduce or eliminate histopathologic changes in the lungs of aged mice', ' This study validates the utility of the aged BALB/c mouse model for evaluation of the efficacy of vaccines and immunoprophylaxis', ' Published by Elsevier Ltd', '']\n",
      "\n",
      "\n",
      "======================\n",
      "\n",
      "\n",
      "Query: What are the possible medications against COVID-19?\n",
      "\n",
      "Top 3 most similar sentences are:\n",
      "We tested two preventive strategies, vaccination and passive transfer of serum antibody, to determine the extent of protection achieved against SARS-CoV challenge in this model (Cosine Score: 0.6374)\n",
      "Published by Elsevier Ltd (Cosine Score: 0.5791)\n",
      "The causative agent of Severe Acute Respiratory Syndrome (SARS) was identified as a coronavirus (CoV) following the outbreak of 2002-2003 (Cosine Score: 0.5253)\n",
      "\n",
      "\n",
      "======================\n",
      "\n",
      "\n",
      "Text: ['Viruses are one of the major causes of morbidity and mortality in the world (DALYs and Collaborators, 2018; Disease et al', ', 2018; Howard and Fletcher, 2012; WHO, 2015) ', ' Antiviral drugs and vaccines are used to fight viral infections in human (De Clercq and Li, 2016; Marston et al', ', 2014) ', ' Previously, there has been a focus on \"one drug, one virus\" dogma, which relied on targeting virusspecific factors', ' A counterpoint to this is the \"one drug, multiple viruses\" paradigm, which came with the discovery of broadspectrum antiviral agents (BSAAs), small-molecules that inhibit a wide range of human viruses (Bekerman and Einav, 2015; de Clercq and Montgomery, 1983; Debing et al', ', 2015; Ianevski et al', ', 2019; Rada and Dragun, 1977; Sidwell et al', ', 1972) ', ' This paradigm was based on the observation that different viruses utilize similar pathways and host factors to replicate inside a cell (Bosl et al', ', 2019) ', ' Although the concept of BSAAs has been around for almost 50 years, the field received a new impetus with recent outbreaks of Ebola, Zika, Dengue, influenza and other viral infections, the discovery of novel host-directed agents, as well as development of drug repositioning methodology', 'Drug repurposing, also called repositioning, redirecting, reprofiling, is a strategy for generating additional value from an existing drug by targeting disease other than that for which it was originally intended (Nishimura and Hara, 2018; Pushpakom et al', ', 2019) ', ' This has significant advantages over new drug discovery since chemical synthesis steps, manufacturing processes, reliable safety, and pharmacokinetic properties in pre-clinical (animal model) and early clinical developmental phases (phase 0, I and IIa) are already available (Figure 1) ', ' Therefore, repositioning of launched or even failed drugs to viral diseases provides unique translational opportunities, including a substantially higher probability of success to market as compared with developing new virus-specific drugs and vaccines, and a significantly reduced cost and timeline to clinical availability Pizzorno et al', ', 2019; Zheng et al', ', 2018) ', 'Here, we detail the steps of BSAA repurposing, from discovery of novel antiviral activities in cell culture to post-market studies', 'Moreover, we summarized currently available information on BSAAs in freely available database, focusing on those antivirals, which have been already tested in human as antivirals, antibacterials, antiprotozoals, anthelmintics, etc', ' Finally, we discuss future perspectives of using safe-in-man BSAAs for treatment of emerging and re-emerging viral infections as well as viral and bacterial co-infections', 'Discovery of novel BSAA activities in immortalized cell cultures and co-culturesThe discovery of novel activities of BSAAs starts with exposing cells to the candidate antiviral agent at different concentrations and infecting the cells with a virus or mock', ' Immortalized cancerous cell cultures and co-cultures, which express appropriate viral receptors, are most commonly used in this first step', ' The halfmaximal cytotoxic concentrations (CC 50 ) for a compound are calculated based on their dose-response curves obtained on mockinfected cells', ' The half-maximal effective concentrations (EC 50 ) are calculated based on the analysis of curves obtained on infected cells', ' Statistical analyses can help to determine if the differences between CC 50 and EC 50 are significant, given the inherent variability of the experiment (Meneghini and Hamasaki, 1967) ', ' A relative effectiveness of a drug is defined as selectivity index (SI = CC 50 /EC 50 )', 'Cell viability assays and cell death assays are commonly used to assess the cytotoxicity and efficacy of BSAAs ( Figure 2A )', ' Cell viability assays include MTT, MTS, resazurin or similar assays, mitochondrial membrane potential-dependent dyes-based assays, esterase cleaved dye-based assays, ATP-ADP assays, and assays that measure glycolytic flux and oxygen consumption', ' Other cell death assays include LDH enzyme leakage assays, membrane impermeable dye-based assays, and apoptosis assays, such as Annexin V, TUNEL, and caspase assays (Shen et al', ', 2019) ', ' For example, the Cell Titer Glo (CTG) assay quantifies ATP, an indicator of metabolically active living cells, whereas Cell Tox Green assay uses fluorescent asymmetric cyanine dye that stains the DNA of dead cells (Bosl et al', ', 2019; Bulanova et al', ', 2017; Ianevski et al', ', 2018; Muller et al', ', 2014) ', ' Viral strains or cell lines expressing reporter proteins are also used to assess the efficacy of BSAAs in infected cells', ' For example, TZM-bl cells expressing firefly luciferase under control of HIV-1 LTR promoter allowed quantitation of BSAA action on HIV-1 infection (tat-protein expression by integrated HIV-1 provirus) using firefly luciferase assay (Sarzotti-Kelsoe et al', ', 2014; Xing et al', ', 2016) ', ' RFP-expressing RVFV, nanoLuc-expressing CHIKV and RRV, as well as GFP-expressing FLUAV, HCV and HMPV also allowed identification of novel activities of several BSAAs (Andersen et al', ', 2019b; Bosl et al', ', 2019; de Graaf et al', ', 2007; Habjan et al', ', 2008; Ianevski et al', ', 2018; Jupille et al', ', 2011; Kittel et al', ', 2004; Lee et al', ', 2017; Utt et al', ', 2016) ', ' In addition, qPCR/RT-qPCR, RNA/DNA sequencing, RNA/DNA hybridization, immuno-and plaque assays as well as CRISPR-Cas9 systems could be used for detection of inhibitory effects of BSAAs (Boonham et al', ', 2014; Fischer et al', ', 2017; Konig et al', ', 2019; Laamiri et al', ', 2018; Landry, 1990; Perez et al', ', 2013; Sashital, 2018; Zhou et al', ', 2018) ', ' Interestingly, CRISPR-Cas9, siRNA and shRNA approaches were used for identification of BSAA targets (Deans et al', ', 2016; Puschnik et al', ', 2017) ', 'Novel anti-HSV-2 and anti-EV1 activities of emetine were discovered recently using CTG/plaque assays in human nonmalignant RPE cells', ' Moreover, novel antiviral activities of the drug were identified using RFP-expressing RVFV, and GFP-expressing HMPV or FLUAV strains in RPE cells (Andersen et al', ', 2019a) ', ' Given that emetine also inhibits ZIKV, EBOV, RABV, CMV, HCoV-OC43 and HIV-1 infections (Chaves Valadao et al', ', 2015; MacGibeny et al', ', 2018; Mukhopadhyay et al', ', 2016; Shen et al', ', 2019; Yang et al', ', 2018) , and that it is an FDA-approved anti-protozoal drug, it may represent a promising safe-in-man BSAA candidate', 'Immortalized cell cultures/co-cultures and reporter viral strains represent excellent model systems for the discovery of novel activities of safe-in-man BSAAs', ' However, these genetically modified systems have certain limitations (attenuated or incomplete virus replication cycle, accumulation of mutations during repeated cell and virus passaging, defective innate immune responses and viral counter-responses, etc', ') (Carter and Shieh, 2015) ', ' Thereby, novel antiviral activities of BSAAs should be further validated in primary human cells using different viral strains (including wild-type viruses), different viral loads, different times of compound addition, different endpoint measurements and compound concentration range', ' Primary cell cultures give more accurate images of drug responses (Alves et al', ', 2018; Denisova et al', ', 2012; Koban et al', ', 2018; Postnikova et al', ', 2018) ', ' They have a low population doubling level and therefore more closely recapitulate the physiological conditions observed in vivo', 'Primary cells are cells isolated directly from tissues or blood using enzymatic or mechanical methods', ' The cells are characterized by their high degrees of specialization, are often fully differentiated and thus require defined culture conditions (serum-free media) in order to preserve their original phenotype', ' Peripheral blood mononuclear (PBMC), placental, amniotic and fetal primary cultures as well as vaginal/cervical epithelial and male germ cells have been used intensively to validate BSAA activity (Barrows et al', ', 2016; Denisova et al', ', 2012; Fink et al', ', 2018; Rausch et al', ', 2017; Robinson et al', ', 2018) ', ' Although primary cell cultures are relevant systems for validation of BSAAs, there are technical difficulties limiting their use, such as ethical issues, purity of population of primary cells, and limited shelf life of the cells', ' In addition, age, race, sex and other genetic and epigenetic factors of donor cells should be considered to determine common biological effect across a significant number of donors thereby avoiding minor variants (Lee et al', ', 2014; Zhang et al', ', 2013) ', 'The obstacles associated with use of human primary cell cultures can be bypassed using human embryonic stem cells (ESCs) and human induced pluripotent stem cells (iPSCs)', ' ESCs are isolated from surplus human embryos, whereas iPSCs are obtained by reprogramming somatic cells', ' These cells proliferate extensively and retain multi-lineage activity, which allows them to generate virtually any cell type of the body', ' The ESCs-and iPSC-derived cells have been used successfully to investigate the efficacy of several BSAAs against HBV, ZIKV, CHIKV and HSV-1 infections (Table S1 ) (Ferreira et al', ', 2019; Iwasawa et al', ', 2019; Lanko et al', ', 2017; Simonin et al', ', 2019; Xia et al', ', 2017; Zhou et al']\n"
     ]
    },
    {
     "name": "stdout",
     "output_type": "stream",
     "text": [
      "\n",
      "\n",
      "======================\n",
      "\n",
      "\n",
      "Query: What are the possible medications against COVID-19?\n",
      "\n",
      "Top 3 most similar sentences are:\n",
      "For example, teicoplanin, oritavancin, dalbavancin, monensin and emetine could be repurposed for treatment of COVID-19 (Cosine Score: 0.7966)\n",
      "Drug repurposing, also called repositioning, redirecting, reprofiling, is a strategy for generating additional value from an existing drug by targeting disease other than that for which it was originally intended (Nishimura and Hara, 2018; Pushpakom et al (Cosine Score: 0.7329)\n",
      "Moreover, novel antiviral activities of the drug were identified using RFP-expressing RVFV, and GFP-expressing HMPV or FLUAV strains in RPE cells (Andersen et al (Cosine Score: 0.7186)\n",
      "\n",
      "\n",
      "======================\n",
      "\n",
      "\n",
      "Text: ['Polyethylene glycol (PEG) is one of the most versatile polymers synthesized', ' This amphiphilic, chemically inert polymer consists of repeating units of ethylene oxide, which can be arranged in either linear or branched configurations, creating a series of compounds of different molecular weights with unique properties [1] ', ' A demonstrated lack of immunogenicity, toxicity and antigenicity, subsequent (A) The core molecule, linear poly(ethylene) glycol, a diol, with two free hydroxyl groups; (B) Monomethoxy poly(ethylene) glycol (mPEG)', ' The single hydroxyl group is the site of attachment for a variety of reactive groups suitable for conjugation to nucleophilic functional groups on proteins such as lysine; (C) A branched PEG molecule in which two linear mPEGs activated with either succinimidyl carbonate or benzotriazole are linked to the \\uf0b5and \\uf065-amino groups of lysine', ' These molecules offer the advantage of adding two PEG molecules at each attachment site, affording broader protection from proteolysis and the immune response without reducing bioactivity; (D) Multi-arm PEG', ' These compounds, generally prepared with hexaglycerine at the core, offer multiple hydroxyl groups for attachment of many copies of the same or several different reactive groups for protein and peptide conjugation; (E) Forked shaped PEG', ' Fork-shaped PEGs provide multiple reactive groups in close proximity at one or both ends (Panel F) of the PEG chain, where X represents functional groups', ' Early on, lysine, one of the most plentiful amino acids present in many proteins, was identified as the primary site for attachment of PEG residues and could be modified with a wide selection of chemical moieties (Figure 3 ) [10] , commonly used for PEGylation of both free \\uf0b5and \\uf065-amino groups on peptides and proteins', ' Protocols employing these molecules are often plagued with the presence of impurities and non-specific attachment to residues, allowing for inconsistencies between production lots', ' These chemistries are also restricted to low molecular weight polymers', ' Once attached to a bioactive molecule, they are relatively unstable and tend to degrade soon after administration in vivo', ' These PEG derivatives have been developed for specific attachment to cysteine residues on proteins and peptides', ' (A) PEG-maleimide is able to conjugate to free thiols under acidic (pH 6-7) conditions, however, this compound is not stable in water and the ring is susceptible to opening or addition of water across the double bond', ' (B) PEG-orthopyridyl disulfide reacts specifically with sulfhydryl groups under both acidic and basic conditions (pH 3-10) to form a disulfide bond with proteins which are stable except in a reducing environment when the linkage is converted to a thiol', ' (C) PEG-iodoacetamide, reacts slowly with thiol residues to form stable thioether bonds in mildly basic media', ' Use of this compound is advantageous in the context that, by strong acid hydrolysis, modification of a protein with this compound gives rise to a stable cysteine conjugate, carboxymethylcysteine that can be identified and quantified by standard amino acid sequencing techniques to verify the degree of modification of the parent protein', ' It is also important to note that any reaction employing this polymer should be performed under dark conditions in order to prevent the production of free iodine that may react with other amino acids such as tyrosine', ' (D) PEG-vinyl sulfone reacts slowly with thiols to form a stable thioester linkage to proteins under slightly basic conditions (pH [7] [8] ', ' This process will proceed at a faster rate if the pH is increased', ' However, under these conditions, PEGvinyl sulfone may also react with free lysines', ' Use of any of these compounds is dictated by protein solubility/stability under reaction conditions defined by the PEGylation chemistry, availability/accessibility of cysteine residues on the protein surface, desired speed of reaction and availability of methodology for characterization of protein conjugates', 'Today, PEGylation processes focus on select amino acids, such as thiol groups on cysteine residues, as primary sites for attachment, thereby minimizing random attachment of PEG to the protein surface and the amount of heterogeneous conjugates in a given preparation [12] ', ' Improved site-specific PEGylation with these reagents minimizes loss of biological activity through enhanced preservation of the native protein structure', ' Complex, branched second generation PEG molecules have also been shown to maintain pH and thermal stability, reduce immunogenicity and protect modified proteins from proteolysis to a much higher degree than those modified with first generation chemistries [4, 5] ', ' Further refinement of these molecules led to the development of heterofunctional PEGs that directly link the protein of interest to another molecule used for targeting specific cells and tissues', ' A general schematic of PEGylation strategies is summarized in Figure 5 ', ' Figure 5 ', ' The Building Blocks of a PEGylated Therapeutic', ' Once a therapeutic molecule amenable to PEGylation is identified, the appropriate PEG chemistry must be selected', ' Properties such as size, symmetry, and bifunctionality must be considered and adopted according to the desired application', ' The linker used for covalent attachment of PEG must also be evaluated with respect to the strength of the bond created as well as its affinity for certain residues on the bioactive molecule', ' Receptor-specific peptides, proteins and molecular sensors have been tethered to PEGylated therapeutics for cellular and tissue specific targeting', 'Davis and Abuchowski were the first to modify two model proteins, bovine serum albumin and liver catalase, with methoxypolyethylene glycols (mPEG) of 1,900 and 5,000 Daltons (Da) using cyanuric chloride and 2,4,6-trichloro-8-triazine as the coupling agents, respectively [13, 14] ', ' One of their prime findings, that when PEG is properly coupled to a protein or an enzyme, the modified product loses its immunogenicity in vivo, laid the groundwork for additional studies that suggested that protein antigens modified by this technique may not only fail to induce an immune response but may be tolerogenic', ' This phenomenon was first reported by Lee et al', ' when intravenous administration of PEGylated ovalbumin (PEG-OVA) 4 hours before sensitizing with dinitrophenylated OVA (DNP-OVA) suppressed the primary anti-DNP-OVA and anti-OVA IgE responses in both mice and rats', ' These animals also responded very poorly to additional doses of DNP-OVA', ' In contrast, injection of unmodified OVA did not alter the ability of the animals to mount IgE responses to DNP-OVA [15] ', ' Additional reports have been written summarizing similar transitions for other allergens including ragweed pollen extract, uricase, L-asparaginase, hen egg lysozyme, and bovine gamma globulin and other antibodies to non-immunogenic, tolerogenic derivatives through PEGylation [16] [17] [18] [19] [20] [21] [22] [23] [24] [25] ', 'Although it has been shown that repeat administration of each of these PEGylated allergens significantly reduces IgM, IgG and IgE antibody levels against the native antigen, it has also been found that the degree of suppression depends on the immunological state at the time of treatment, the nature of allergen and the dose', ' Suppression of the antibody-mediated response was best observed in mice without measurable anti-allergen antibodies, while the weakest suppression was observed in mice with high levels of antibodies at the time of treatment [26] ', ' Additional studies have found that PEGylated allergens can induce a long-term suppression of the antibody response [15, 18, 21, 26, 27] ', ' For example, administration of PEGylated human monoclonal immunoglobulins (HIgG) suppressed the anti-HIgG antibody response by more than 95% for over 300 days after a series of seven injections of the immunizing antigen in mice [21] ', ' While the exact mechanism by which this phenomenon occurs remains unknown, adoptive transfer of splenocytes from animals given several doses of PEGylated compounds to naïve animals suggests that PEG-modified allergens activate antigen-specific CD8 + suppressor T cells [15, 18, 27, 28] ', ' Since proliferation of suppressor T cells and the associated production of factors that dampen the immune response is dependent upon the concentration of circulating antigen during the tolerization process, slowing of antigen processing and extending the half-life of the antigen by PEGylation most likely plays a major role in the immunosuppressive capacity of the conjugates [17,24,25]', 'As data continued to suggest that PEGylated biomolecules were less immunogenic than their native counterparts, many interested in preventing immunorejection during transplantation began to apply this process to intact, viable cells and tissues', ' Modification of type A and type B human red blood cells (RBCs) with mPEG did not compromise the structure, function and viability of the cell and prevented agglutination by anti-A and anti-B antisera, respectively [29-31]', ' PEGylation of ovine RBCs prolonged their survival when transfused into mice [30] ', ' PEGylation of lymphocytes can inhibit MHC class II activation and proliferation of T cells, as was demonstrated in an in vivo model of transfusion-associated graft versus host disease [31] [32] [33] ', ' Adoptive transfer of PEGylated splenocytes isolated from C57BL/6 mice to lethally irradiated Balb/c mice extended survival time from 7 to 10 days [34]', ' PEGylation reduced proliferation in the donor T cell population, suggesting that the loss of T cell responsiveness is likely due to disruption interactions between the T cells and antigen presenting cells necessary to mount an immune response [32] ', ' It has also been suggested that this weak, ineffective co-stimulation of alloreactive T cells induces apoptosis, leading to tolerance of donor tissue [34] ', ' This phenomenon has been further exemplified in diabetic rat models where PEGylation improved pancreatic islet viability, facilitated engraftment and re-established blood glucose homeostasis [34, 35] ', ' Additional studies demonstrated that PEGylation efficiently blocked recognition of the transplants by immune cells, allowing them to remain stably functional in diabetic recipients for several weeks [35-38]', 'Approval of Adagen\\uf0d2 (Pegademase) for the treatment of severe combined immunodeficiency disease (SCID) by the U', 'S', ' FDA in the early 1990s illustrated the potential for PEGylation to significantly impact modern therapeutics', ' The half-life of this product, bovine adenosine deaminase randomly modified with 5 kDa PEG molecules, increased from less than 30 min to 28 hr for the conjugated counterpart [39] ', ' This, along with the fact that the modified enzyme preparation could evoke 1,800 times the activity per milliliter of red blood cells alone [40] , marked notable progress in the area of enzyme replacement therapy by minimizing the number of doses needed to achieve a therapeutic effect, eliminating the need for blood transfusion and avoiding the risk of iron overload and transfusion-associated viral infection [11] ', ' In a similar manner, therapeutic use of L-asparaginase for acute lymphoblastic leukemia was hindered by the fact that frequent intramuscular injections, necessary for therapeutic efficacy, also induced strong hypersensitivity reactions, rendering the enzyme ineffective in many patients [41] ', ' Covalent attachment of 5 kDa PEG to this enzyme four years later reduced its immunogenicity and the necessity for frequent dosing, allowing for successful use in those with hypersensitivity to the unmodified enzyme [42] [43] [44] ', ' Within the last 10 years, improvements in polymer homogeneity and PEGylation chemistry have produced many potent, wellcharacterized, protein-based therapeutics', ' Therapeutic PEGylated proteins currently marketed in the United States and Europe are summarized in Table 1 ', ' Two marketed products of PEGylated interferon alpha (IFN-\\uf0b5), PEGIntron (Schering Plough) and PEGASYS (Roche), illustrate how different PEG chemistries can affect the pharmacokinetic profile of a biologically active protein', ' PEGIntron (IFN-\\uf0b52b) contains a single chain 12kDa PEG attached to His34 via a urethane bond [45] ', ' Although this modification significantly extends the elimination halflife and reduces the clearance of the protein (Table 2) , the conjugate is hydrolytically unstable in plasma and when stored at ambient temperatures [46] ', ' The activity of this preparation relative to the unmodified protein is 28% [47] ', ' In contrast, PEGASYS (IFN\\uf0b5-2a) contains branched 40 kDa PEG molecules attached to lysine residues via an amide bond [48] ', ' This conjugate, with greater in vitro and in vivo stability has a significantly longer half life than PEGIntron and reduces the clearance of the protein by a factor of 100, overshadowing the fact that the modified protein retains only 7% of the relative activity of the unmodified protein (Table 2 ) [47] ', ' Despite their differences, both products have greater anti-viral action than their native counterparts, reducing administration schedules from three times a week to once weekly [49, 50] ', ' Granulocyte-colony stimulating factor (G-CSF) and an anti-TNF-\\uf0b5 Fab\\uf0a2 have been conjugated to PEG in order to increase the overall size of the molecule', ' In the case of Pegfilgrastim (Neublasta\\uf0d2:PEGylated G-CSF), the increase in size minimizes renal clearance of the drug, prolongs the circulation time and stimulates the proliferation and differentiation of neutrophils which, in turn, aid in clearing the compound once therapeutic levels are attained [51] ', ' Certolizumab pegol (Cimzia\\uf0d2), the Fab\\uf0a2 fragment of a humanized anti-tumor necrosis factor-\\uf061 (TNF\\uf061) monoclonal antibody linked to a branched 40 kDa PEG maleimide at a single cysteine residue, demonstrates a prolonged circulating time in blood, such that a single monthly subcutaneous injection is sufficient for therapeutic efficacy', ' In addition, increasing the size of this molecule by PEGylation allows it to preferentially accumulate in inflamed tissue, where its therapeutic effect is primarily needed [46]', 'Gene therapy has gained significant attention over the past two decades as a potential method for diverse applications including the correction of inherited genetic and neurodegenerative disorders, as well as the treatment of cancer, cardiovascular and infectious diseases [52, 53] ', ' Despite encouraging pre-clinical results, practical use of this technology has been hindered by inefficient delivery to specific cellular targets and immune responses to both the vector selected for gene transfer and the transgene product', ' Rapid clearance from the circulation by the complement system and the immunogenicity associated with non-viral and viral vectors alike were the primary reasons for applying PEGylation technology to gene delivery vectors', ' In this regard, PEGylation was initially used for non-viral vectors and eventually for viral vectors as the immune response became the most significant limitation to therapeutic gene transfer', ' Additional efforts soon recognized that advanced PEG chemistries accommodated attachment of specific ligands to the vectors, making them less promiscuous and promoting tissue and cell-specific gene expression', 'Non-viral gene transfer is a method by which DNA is formulated with cationic lipids and/or polymers to create dense particles that are delivered to target cells by physical means such as direct injection, electroporation or gene gun [54] ', ' These particles, however, are often rapidly sequestered in the reticuloendothelial system (RES), and are removed from the bloodstream within minutes after systemic administration [55, 56] ', ' PEGylation was primarily used to reduce the rate at which these vectors are cleared to improve therapeutic efficacy', ' This has been achieved by PEGylating preparations containing branched polyethylenenimine/\\uf062-cyclodextrin/DNA polyplexes as well as simple DNA/chitosan mixtures [57] [58] [59] ', ' In both cases, this modification minimized aggregate formation under physiological conditions and prolonged circulation time, thereby reducing uptake by macrophages and improving overall transduction efficiency of each system', ' Numerous reports have shown that PEGylation also reduces binding of DNA complexes to plasma proteins and minimizes toxicity while improving the stability, solubility and, in turn, transfection efficiency of these non-viral preparations [52, 57, [60] [61] [62] [63] [64] [65] ', ' Results from these studies and data accumulated from clinical trials with viral vectors soon prompted development of PEGylation strategies for viruses', 'Although viral vectors, unlike their non-viral counterparts, are extremely efficient at inducing transgene expression in cellular targets, their clinical utility is hindered by significant immunogenicity and toxicity', ' Covalent modification of proteins contained in the virus coat with PEG has been shown to improve both the physicochemical and biological properties of several recombinant viruses used for gene transfer (Table 3) including adeno-associated virus (AAV) [66, 67] , pseudotyped lentivirus [68] , retrovirus [69, 70] , and baculovirus [71] ', 'PEGylation has also been used to modify influenza virosomes, virus-like particles synthesized from capsid proteins, to minimize host immunological responses [72, 73] ', ' While results with many viral vectors have been minimal, there has been a significant effort in developing PEGylation protocols for one of the most potent vectors with a highly characterized toxicity profile to date, the adenovirus', ' Table 3 ', ' Current Summary of PEGylated Viruses and the Reported Impact of Modification', 'Model Biological effects Ref', 'Conjugation of AAV with monomethoxy poly(ethylene) glycols activated by tresyl chloride (TMPEG) and succinimidyl succinate (SSPEG) chemistries did not compromise transduction efficiency', 'PEGylation with either 2 kDa or 5 kDa PEG at 1:1, 10:1, 100:1 and 1000:1 PEG:lysine ratios did not compromise transduction efficiency', ' Conjugation of rAAV with 2 kDa PEG at the 1000:1 PEG lysine ratio protected from serum neutralization', 'in vivo SSPEG and TMPEG improved gene transduction in the lung without compromising transduction efficiency in the liver and muscle', ' TMPEG reduced Th1-type response', ' Successful readministration of virus after iv injection was achieved by modification with TMPEG', ' Table 3 ']\n"
     ]
    }
   ],
   "source": [
    "print(\"=\"*80, f\"\\n\\nTask\\n\\n = {list_of_tasks[3]}\\n\", )\n",
    "\n",
    "print(\"\\n\\n======================\\n\\n\")\n",
    "print(\"Searching in Abstracts\")\n",
    "    \n",
    "dfs =  train_df.iloc[indices[3]]\n",
    "abstracts = [i.split(\".\") for i in df['abstract']]\n",
    "for abstract in abstracts:\n",
    "    print(\"\\n\\n======================\\n\\n\")\n",
    "    print(\"Abstract:\", abstract[:100])\n",
    "    abstracts_vector = transformer.encode(abstract)\n",
    "    distance = scipy.spatial.distance.cdist(query_embeddings, abstracts_vector, \"cosine\")[0]\n",
    "\n",
    "    results = zip(range(len(distance)), distance)\n",
    "    results = sorted(results, key = lambda x: x[1])\n",
    "    \n",
    "    print(\"\\n\\n======================\\n\\n\")\n",
    "    print(\"Query:\", query)\n",
    "    print(\"\\nTop 3 most similar sentences are:\")\n",
    "\n",
    "    for idx, dist in results[0:number_top_matches]:\n",
    "        print(abstract[idx].strip(), \"(Cosine Score: %.4f)\" % (1-dist))\n",
    "\n",
    "        \n",
    "print(\"\\n\\n======================\\n\\n\")\n",
    "print(\"Searching in Abstracs\")\n",
    "\n",
    "texts = [i.split(\".\") for i in df['text']]\n",
    "for text in texts:\n",
    "    print(\"\\n\\n======================\\n\\n\")\n",
    "    print(\"Text:\", text[:100])\n",
    "    text_vector = transformer.encode(text)\n",
    "    distance = scipy.spatial.distance.cdist(query_embeddings, text_vector, \"cosine\")[0]\n",
    "\n",
    "    results = zip(range(len(distance)), distance)\n",
    "    results = sorted(results, key = lambda x: x[1])\n",
    "\n",
    "    print(\"\\n\\n======================\\n\\n\")\n",
    "    print(\"Query:\", query)\n",
    "    print(\"\\nTop 3 most similar sentences are:\")\n",
    "\n",
    "    for idx, dist in results[0:number_top_matches]:\n",
    "        print(text[idx].strip(), \"(Cosine Score: %.4f)\" % (1-dist))"
   ]
  },
  {
   "cell_type": "code",
   "execution_count": null,
   "metadata": {},
   "outputs": [],
   "source": []
  }
 ],
 "metadata": {
  "kernelspec": {
   "display_name": "Python 3",
   "language": "python",
   "name": "python3"
  },
  "language_info": {
   "codemirror_mode": {
    "name": "ipython",
    "version": 3
   },
   "file_extension": ".py",
   "mimetype": "text/x-python",
   "name": "python",
   "nbconvert_exporter": "python",
   "pygments_lexer": "ipython3",
   "version": "3.7.7"
  }
 },
 "nbformat": 4,
 "nbformat_minor": 4
}
