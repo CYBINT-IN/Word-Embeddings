{
 "cells": [
  {
   "cell_type": "code",
   "execution_count": 1,
   "metadata": {},
   "outputs": [
    {
     "name": "stderr",
     "output_type": "stream",
     "text": [
      "/home/tanmay/anaconda3/lib/python3.7/site-packages/sklearn/utils/deprecation.py:144: FutureWarning: The sklearn.metrics.classification module is  deprecated in version 0.22 and will be removed in version 0.24. The corresponding classes / functions should instead be imported from sklearn.metrics. Anything that cannot be imported from sklearn.metrics is now part of the private API.\n",
      "  warnings.warn(message, FutureWarning)\n"
     ]
    }
   ],
   "source": [
    "import os\n",
    "import re\n",
    "import json\n",
    "import utils\n",
    "import scipy\n",
    "import random\n",
    "import gensim\n",
    "import warnings\n",
    "\n",
    "import numpy as np\n",
    "import pandas as pd\n",
    "\n",
    "from tasks import *\n",
    "from pprint import pprint\n",
    "from tqdm.notebook import tqdm\n",
    "from sklearn.cluster import KMeans\n",
    "from sklearn.neighbors import NearestNeighbors\n",
    "from yellowbrick.cluster import KElbowVisualizer\n",
    "from sentence_transformers import SentenceTransformer\n",
    "\n",
    "warnings.filterwarnings('ignore')"
   ]
  },
  {
   "cell_type": "code",
   "execution_count": 2,
   "metadata": {},
   "outputs": [
    {
     "data": {
      "text/plain": [
       "(40152, 11)"
      ]
     },
     "execution_count": 2,
     "metadata": {},
     "output_type": "execute_result"
    }
   ],
   "source": [
    "complete_df = pd.read_csv(\"data/clean_df.csv\")\n",
    "complete_df.shape"
   ]
  },
  {
   "cell_type": "code",
   "execution_count": 3,
   "metadata": {},
   "outputs": [
    {
     "data": {
      "text/html": [
       "<div>\n",
       "<style scoped>\n",
       "    .dataframe tbody tr th:only-of-type {\n",
       "        vertical-align: middle;\n",
       "    }\n",
       "\n",
       "    .dataframe tbody tr th {\n",
       "        vertical-align: top;\n",
       "    }\n",
       "\n",
       "    .dataframe thead th {\n",
       "        text-align: right;\n",
       "    }\n",
       "</style>\n",
       "<table border=\"1\" class=\"dataframe\">\n",
       "  <thead>\n",
       "    <tr style=\"text-align: right;\">\n",
       "      <th></th>\n",
       "      <th>Unnamed: 0</th>\n",
       "      <th>Unnamed: 0.1</th>\n",
       "      <th>paper_id</th>\n",
       "      <th>title</th>\n",
       "      <th>authors</th>\n",
       "      <th>affiliations</th>\n",
       "      <th>abstract</th>\n",
       "      <th>text</th>\n",
       "      <th>bibliography</th>\n",
       "      <th>raw_authors</th>\n",
       "      <th>raw_bibliography</th>\n",
       "    </tr>\n",
       "  </thead>\n",
       "  <tbody>\n",
       "    <tr>\n",
       "      <th>0</th>\n",
       "      <td>0</td>\n",
       "      <td>0</td>\n",
       "      <td>6f005a0677f24f697c1ec3ce065ec4144519e357</td>\n",
       "      <td>Antiviral Mechanisms of Human Defensins Introd...</td>\n",
       "      <td>Sarah S Wilson, Mayim E Wiens, Jason G Smith</td>\n",
       "      <td>Sarah S Wilson (University of Washington, 1705...</td>\n",
       "      <td>Defensins are an effector component of the inn...</td>\n",
       "      <td>Defensins are one of the most abundant classes...</td>\n",
       "      <td>Direct inactivation of viruses by human granul...</td>\n",
       "      <td>[{'first': 'Sarah', 'middle': ['S'], 'last': '...</td>\n",
       "      <td>{'BIBREF0': {'ref_id': 'b0', 'title': 'Direct ...</td>\n",
       "    </tr>\n",
       "    <tr>\n",
       "      <th>1</th>\n",
       "      <td>1</td>\n",
       "      <td>1</td>\n",
       "      <td>4994fa72322bbf19120592304d92629226948d8e</td>\n",
       "      <td>Rapid Identification of Malaria Vaccine Candid...</td>\n",
       "      <td>V Villard, G W Agak, G Frank, A Jafarshad, C S...</td>\n",
       "      <td>V Villard, G W Agak, G Frank, A Jafarshad, C S...</td>\n",
       "      <td>To identify malaria antigens for vaccine devel...</td>\n",
       "      <td>Human Plasmodium falciparum (Pf) infection is ...</td>\n",
       "      <td>Identification of vaccine candidates against s...</td>\n",
       "      <td>[{'first': 'V', 'middle': [], 'last': 'Villard...</td>\n",
       "      <td>{'BIBREF0': {'ref_id': 'b0', 'title': 'Identif...</td>\n",
       "    </tr>\n",
       "  </tbody>\n",
       "</table>\n",
       "</div>"
      ],
      "text/plain": [
       "   Unnamed: 0  Unnamed: 0.1                                  paper_id  \\\n",
       "0           0             0  6f005a0677f24f697c1ec3ce065ec4144519e357   \n",
       "1           1             1  4994fa72322bbf19120592304d92629226948d8e   \n",
       "\n",
       "                                               title  \\\n",
       "0  Antiviral Mechanisms of Human Defensins Introd...   \n",
       "1  Rapid Identification of Malaria Vaccine Candid...   \n",
       "\n",
       "                                             authors  \\\n",
       "0       Sarah S Wilson, Mayim E Wiens, Jason G Smith   \n",
       "1  V Villard, G W Agak, G Frank, A Jafarshad, C S...   \n",
       "\n",
       "                                        affiliations  \\\n",
       "0  Sarah S Wilson (University of Washington, 1705...   \n",
       "1  V Villard, G W Agak, G Frank, A Jafarshad, C S...   \n",
       "\n",
       "                                            abstract  \\\n",
       "0  Defensins are an effector component of the inn...   \n",
       "1  To identify malaria antigens for vaccine devel...   \n",
       "\n",
       "                                                text  \\\n",
       "0  Defensins are one of the most abundant classes...   \n",
       "1  Human Plasmodium falciparum (Pf) infection is ...   \n",
       "\n",
       "                                        bibliography  \\\n",
       "0  Direct inactivation of viruses by human granul...   \n",
       "1  Identification of vaccine candidates against s...   \n",
       "\n",
       "                                         raw_authors  \\\n",
       "0  [{'first': 'Sarah', 'middle': ['S'], 'last': '...   \n",
       "1  [{'first': 'V', 'middle': [], 'last': 'Villard...   \n",
       "\n",
       "                                    raw_bibliography  \n",
       "0  {'BIBREF0': {'ref_id': 'b0', 'title': 'Direct ...  \n",
       "1  {'BIBREF0': {'ref_id': 'b0', 'title': 'Identif...  "
      ]
     },
     "execution_count": 3,
     "metadata": {},
     "output_type": "execute_result"
    }
   ],
   "source": [
    "complete_df.head(2)"
   ]
  },
  {
   "cell_type": "code",
   "execution_count": 4,
   "metadata": {},
   "outputs": [
    {
     "data": {
      "text/html": [
       "<div>\n",
       "<style scoped>\n",
       "    .dataframe tbody tr th:only-of-type {\n",
       "        vertical-align: middle;\n",
       "    }\n",
       "\n",
       "    .dataframe tbody tr th {\n",
       "        vertical-align: top;\n",
       "    }\n",
       "\n",
       "    .dataframe thead th {\n",
       "        text-align: right;\n",
       "    }\n",
       "</style>\n",
       "<table border=\"1\" class=\"dataframe\">\n",
       "  <thead>\n",
       "    <tr style=\"text-align: right;\">\n",
       "      <th></th>\n",
       "      <th>Unnamed: 0</th>\n",
       "      <th>Unnamed: 0.1</th>\n",
       "    </tr>\n",
       "  </thead>\n",
       "  <tbody>\n",
       "    <tr>\n",
       "      <th>count</th>\n",
       "      <td>40152.000000</td>\n",
       "      <td>40152.000000</td>\n",
       "    </tr>\n",
       "    <tr>\n",
       "      <th>mean</th>\n",
       "      <td>29705.053248</td>\n",
       "      <td>29705.053248</td>\n",
       "    </tr>\n",
       "    <tr>\n",
       "      <th>std</th>\n",
       "      <td>17183.494309</td>\n",
       "      <td>17183.494309</td>\n",
       "    </tr>\n",
       "    <tr>\n",
       "      <th>min</th>\n",
       "      <td>0.000000</td>\n",
       "      <td>0.000000</td>\n",
       "    </tr>\n",
       "    <tr>\n",
       "      <th>25%</th>\n",
       "      <td>14787.750000</td>\n",
       "      <td>14787.750000</td>\n",
       "    </tr>\n",
       "    <tr>\n",
       "      <th>50%</th>\n",
       "      <td>29717.000000</td>\n",
       "      <td>29717.000000</td>\n",
       "    </tr>\n",
       "    <tr>\n",
       "      <th>75%</th>\n",
       "      <td>44551.250000</td>\n",
       "      <td>44551.250000</td>\n",
       "    </tr>\n",
       "    <tr>\n",
       "      <th>max</th>\n",
       "      <td>59560.000000</td>\n",
       "      <td>59560.000000</td>\n",
       "    </tr>\n",
       "  </tbody>\n",
       "</table>\n",
       "</div>"
      ],
      "text/plain": [
       "         Unnamed: 0  Unnamed: 0.1\n",
       "count  40152.000000  40152.000000\n",
       "mean   29705.053248  29705.053248\n",
       "std    17183.494309  17183.494309\n",
       "min        0.000000      0.000000\n",
       "25%    14787.750000  14787.750000\n",
       "50%    29717.000000  29717.000000\n",
       "75%    44551.250000  44551.250000\n",
       "max    59560.000000  59560.000000"
      ]
     },
     "execution_count": 4,
     "metadata": {},
     "output_type": "execute_result"
    }
   ],
   "source": [
    "complete_df.describe()"
   ]
  },
  {
   "cell_type": "code",
   "execution_count": 5,
   "metadata": {},
   "outputs": [
    {
     "data": {
      "text/plain": [
       "(38265, 11)"
      ]
     },
     "execution_count": 5,
     "metadata": {},
     "output_type": "execute_result"
    }
   ],
   "source": [
    "# Keep only texts with minimal number of words \n",
    "\n",
    "complete_df = complete_df[complete_df['text'].apply(lambda x: len(re.findall(r\"(?i)\\b[a-z]+\\b\", x))) > 1000]                                         \n",
    "complete_df.shape"
   ]
  },
  {
   "cell_type": "code",
   "execution_count": 6,
   "metadata": {},
   "outputs": [],
   "source": [
    "frac_of_articles = 1\n",
    "train_df  = complete_df.sample(frac = frac_of_articles, random_state = 42)\n",
    "train_corpus = (list(utils.read_corpus(train_df, 'abstract'))) "
   ]
  },
  {
   "cell_type": "code",
   "execution_count": 7,
   "metadata": {},
   "outputs": [],
   "source": [
    "# Using distributed memory model\n",
    "\n",
    "model = gensim.models.doc2vec.Doc2Vec(dm = 1, vector_size = 50, min_count = 10, dm_mean = 1, epochs = 20, seed = 42, workers = 6)\n",
    "model.build_vocab(train_corpus)\n",
    "model.train(train_corpus, total_examples = model.corpus_count, epochs = model.epochs)"
   ]
  },
  {
   "cell_type": "code",
   "execution_count": 8,
   "metadata": {},
   "outputs": [],
   "source": [
    "list_of_tasks = [task_1, task_2, task_3, task_4, task_5, task_6, task_7, task_8, task_9]"
   ]
  },
  {
   "cell_type": "code",
   "execution_count": 9,
   "metadata": {},
   "outputs": [],
   "source": [
    "abstract_vectors = model.docvecs.vectors_docs\n",
    "array_of_tasks = [utils.get_doc_vector(task, model) for task in list_of_tasks]"
   ]
  },
  {
   "cell_type": "code",
   "execution_count": 10,
   "metadata": {},
   "outputs": [],
   "source": [
    "train_df['abstract_vector'] = [vec for vec in abstract_vectors]"
   ]
  },
  {
   "cell_type": "markdown",
   "metadata": {},
   "source": [
    "### Nearest Neigbors search"
   ]
  },
  {
   "cell_type": "code",
   "execution_count": 11,
   "metadata": {},
   "outputs": [],
   "source": [
    "transformer = SentenceTransformer('distilbert-base-nli-mean-tokens')"
   ]
  },
  {
   "cell_type": "code",
   "execution_count": 12,
   "metadata": {},
   "outputs": [
    {
     "data": {
      "text/plain": [
       "(37302, 12)"
      ]
     },
     "execution_count": 12,
     "metadata": {},
     "output_type": "execute_result"
    }
   ],
   "source": [
    "train_df = train_df[train_df['abstract'].apply(lambda x: len(re.findall(r\"(?i)\\b[a-z]+\\b\", x))) > 40]\n",
    "train_df.shape"
   ]
  },
  {
   "cell_type": "code",
   "execution_count": 13,
   "metadata": {},
   "outputs": [],
   "source": [
    "train_array = train_df['abstract_vector'].values.tolist()"
   ]
  },
  {
   "cell_type": "code",
   "execution_count": 14,
   "metadata": {},
   "outputs": [],
   "source": [
    "ball_tree = NearestNeighbors(algorithm = 'ball_tree', leaf_size = 20).fit(train_array)"
   ]
  },
  {
   "cell_type": "code",
   "execution_count": 15,
   "metadata": {},
   "outputs": [],
   "source": [
    "# Query for all tasks\n",
    "\n",
    "distances, indices = ball_tree.kneighbors(array_of_tasks, n_neighbors = 3)"
   ]
  },
  {
   "cell_type": "code",
   "execution_count": 16,
   "metadata": {},
   "outputs": [],
   "source": [
    "number_top_matches = 3\n",
    "query = 'What are the possible medications against COVID-19?' \n",
    "queries = [query]\n",
    "query_embeddings = transformer.encode(queries)"
   ]
  },
  {
   "cell_type": "code",
   "execution_count": 17,
   "metadata": {},
   "outputs": [
    {
     "name": "stdout",
     "output_type": "stream",
     "text": [
      "================================================================================ \n",
      "\n",
      "Task = What do we know about vaccines and therapeutics? What has been published concerning research and development and evaluation efforts of vaccines and therapeutics?\n",
      "Effectiveness of drugs being developed and tried to treat COVID-19 patients.\n",
      "Clinical and bench trials to investigate less common viral inhibitors against COVID-19 such as naproxen, clarithromycin, and minocyclinethat that may exert effects on viral replication.\n",
      "Methods evaluating potential complication of Antibody-Dependent Enhancement (ADE) in vaccine recipients.\n",
      "Exploration of use of best animal models and their predictive value for a human vaccine.\n",
      "Capabilities to discover a therapeutic (not vaccine) for the disease, and clinical effectiveness studies to discover therapeutics, to include antiviral agents.\n",
      "Alternative models to aid decision makers in determining how to prioritize and distribute scarce, newly proven therapeutics as production ramps up. This could include identifying approaches for expanding production capacity to ensure equitable and timely distribution to populations in need.\n",
      "Efforts targeted at a universal coronavirus vaccine.\n",
      "Efforts to develop animal models and standardize challenge studies\n",
      "Efforts to develop prophylaxis clinical studies and prioritize in healthcare workers\n",
      "Approaches to evaluate risk for enhanced disease after vaccination\n",
      "Assays to evaluate vaccine immune response and process development for vaccines, alongside suitable animal models [in conjunction with therapeutics]\n",
      "\n",
      " Text index = 30481 \n",
      " Distance = 3.8894289774126523 \n",
      " Title: Discovery and development of safe-in-man broad-spectrum antiviral agents \n",
      " Abstract extract: Drug discovery and development Broad-spectrum antiviral agents BSAAs A B S T R A C T Viral diseases are one of the leading causes of morbidity and mortality in the world. Virus-specific vaccines and antiviral drugs are the most powerful tools to combat viral diseases. However, broadspectrum antiviral agents (BSAAs, i.e. compounds targeting viruses belonging to two or more viral families) could provide additional protection of the general population from emerging and re-emerging viral diseases, reinforcing the arsenal of available antiviral options. Here, we review discovery and development of BSAAs and summarize the information on 120 safe-in-man agents in a freely accessible database (https://drugvirus.info/). Future and ongoing pre-clinical and clinical studies will increase the number of BSAAs, expand the spectrum of their indications, and identify drug combinations for treatment of emerging and re-emerging viral infections as well as co-infections.\n",
      "\n",
      "\n",
      " Text index = 28118 \n",
      " Distance = 4.01104140795725 \n",
      " Title: Development of Medical Countermeasures to Middle East Respiratory Syndrome Coronavirus ONLINE REPORT \n",
      " Abstract extract: Preclinical development of and research on potential Middle East respiratory syndrome coronavirus (MERS-CoV) medical countermeasures remain preliminary; advancements are needed before most countermeasures are ready to be tested in human clinical trials. Research priorities include standardization of animal models and virus stocks for studying disease pathogenesis and efficacy of medical countermeasures; development of MERS-CoV diagnostics; improved access to nonhuman primates to support preclinical research; studies to better understand and control MERS-CoV disease, including vaccination studies in camels; and development of a standardized clinical trial protocol. Partnering with clinical trial networks in affected countries to evaluate safety and efficacy of investigational therapeutics will strengthen efforts to identify successful medical countermeasures.\n",
      "\n",
      "\n",
      " Text index = 31077 \n",
      " Distance = 4.0519278875505425 \n",
      " Title: Utility of the aged BALB/c mouse model to demonstrate prevention and control strategies for Severe Acute Respiratory Syndrome coronavirus (SARS-CoV) \n",
      " Abstract extract: The causative agent of Severe Acute Respiratory Syndrome (SARS) was identified as a coronavirus (CoV) following the outbreak of 2002-2003. There are currently no licensed vaccines or treatments for SARS-CoV infections. Potential prevention and control strategies that show promise in vitro must be evaluated in animal models. The aged BALB/c mouse model for SARS supports a high level of viral replication in association with clinical illness and disease that mimics SARS in the elderly. We tested two preventive strategies, vaccination and passive transfer of serum antibody, to determine the extent of protection achieved against SARS-CoV challenge in this model. These approaches were able to achieve or induce antibody titers sufficient to reduce viral load, protect from weight loss and reduce or eliminate histopathologic changes in the lungs of aged mice. This study validates the utility of the aged BALB/c mouse model for evaluation of the efficacy of vaccines and immunoprophylaxis. Published by Elsevier Ltd.\n",
      "\n",
      "\n"
     ]
    }
   ],
   "source": [
    "print(\"=\"*80, f\"\\n\\nTask = {list_of_tasks[3]}\\n\", )\n",
    "df =  train_df.iloc[indices[3]]\n",
    "abstracts = df['abstract']\n",
    "titles = df['title']\n",
    "dist = distances[3]\n",
    "for l in range(len(dist)):\n",
    "    print(f\" Text index = {indices[3][l]} \\n Distance = {distances[3][l]} \\n Title: {titles.iloc[l]} \\n Abstract extract: {abstracts.iloc[l]}\\n\\n\")"
   ]
  },
  {
   "cell_type": "code",
   "execution_count": 18,
   "metadata": {},
   "outputs": [
    {
     "name": "stdout",
     "output_type": "stream",
     "text": [
      "================================================================================ \n",
      "\n",
      "Task = \n",
      "\n",
      " What do we know about vaccines and therapeutics? What has been published concerning research and development and evaluation efforts of vaccines and therapeutics?\n",
      "Effectiveness of drugs being developed and tried to treat COVID-19 patients.\n",
      "Clinical and bench trials to investigate less common viral inhibitors against COVID-19 such as naproxen, clarithromycin, and minocyclinethat that may exert effects on viral replication.\n",
      "Methods evaluating potential complication of Antibody-Dependent Enhancement (ADE) in vaccine recipients.\n",
      "Exploration of use of best animal models and their predictive value for a human vaccine.\n",
      "Capabilities to discover a therapeutic (not vaccine) for the disease, and clinical effectiveness studies to discover therapeutics, to include antiviral agents.\n",
      "Alternative models to aid decision makers in determining how to prioritize and distribute scarce, newly proven therapeutics as production ramps up. This could include identifying approaches for expanding production capacity to ensure equitable and timely distribution to populations in need.\n",
      "Efforts targeted at a universal coronavirus vaccine.\n",
      "Efforts to develop animal models and standardize challenge studies\n",
      "Efforts to develop prophylaxis clinical studies and prioritize in healthcare workers\n",
      "Approaches to evaluate risk for enhanced disease after vaccination\n",
      "Assays to evaluate vaccine immune response and process development for vaccines, alongside suitable animal models [in conjunction with therapeutics]\n",
      "\n",
      "\n",
      "\n",
      "======================\n",
      "\n",
      "\n",
      "Searching in Abstracts\n",
      "\n",
      "\n",
      "======================\n",
      "\n",
      "\n",
      "Abstract: ['Drug discovery and development Broad-spectrum antiviral agents BSAAs A B S T R A C T Viral diseases are one of the leading causes of morbidity and mortality in the world', ' Virus-specific vaccines and antiviral drugs are the most powerful tools to combat viral diseases', ' However, broadspectrum antiviral agents (BSAAs, i', 'e', ' compounds targeting viruses belonging to two or more viral families) could provide additional protection of the general population from emerging and re-emerging viral diseases, reinforcing the arsenal of available antiviral options', ' Here, we review discovery and development of BSAAs and summarize the information on 120 safe-in-man agents in a freely accessible database (https://drugvirus', 'info/)', ' Future and ongoing pre-clinical and clinical studies will increase the number of BSAAs, expand the spectrum of their indications, and identify drug combinations for treatment of emerging and re-emerging viral infections as well as co-infections', '']\n",
      "\n",
      "\n",
      "======================\n",
      "\n",
      "\n",
      "Query: What are the possible medications against COVID-19?\n",
      "\n",
      "Top 3 most similar sentences are:\n",
      "However, broadspectrum antiviral agents (BSAAs, i (Cosine Score: 0.6702)\n",
      "compounds targeting viruses belonging to two or more viral families) could provide additional protection of the general population from emerging and re-emerging viral diseases, reinforcing the arsenal of available antiviral options (Cosine Score: 0.5621)\n",
      "Drug discovery and development Broad-spectrum antiviral agents BSAAs A B S T R A C T Viral diseases are one of the leading causes of morbidity and mortality in the world (Cosine Score: 0.4997)\n",
      "\n",
      "\n",
      "======================\n",
      "\n",
      "\n",
      "Abstract: ['Preclinical development of and research on potential Middle East respiratory syndrome coronavirus (MERS-CoV) medical countermeasures remain preliminary; advancements are needed before most countermeasures are ready to be tested in human clinical trials', ' Research priorities include standardization of animal models and virus stocks for studying disease pathogenesis and efficacy of medical countermeasures; development of MERS-CoV diagnostics; improved access to nonhuman primates to support preclinical research; studies to better understand and control MERS-CoV disease, including vaccination studies in camels; and development of a standardized clinical trial protocol', ' Partnering with clinical trial networks in affected countries to evaluate safety and efficacy of investigational therapeutics will strengthen efforts to identify successful medical countermeasures', '']\n",
      "\n",
      "\n",
      "======================\n",
      "\n",
      "\n",
      "Query: What are the possible medications against COVID-19?\n",
      "\n",
      "Top 3 most similar sentences are:\n",
      "Partnering with clinical trial networks in affected countries to evaluate safety and efficacy of investigational therapeutics will strengthen efforts to identify successful medical countermeasures (Cosine Score: 0.5481)\n",
      "Preclinical development of and research on potential Middle East respiratory syndrome coronavirus (MERS-CoV) medical countermeasures remain preliminary; advancements are needed before most countermeasures are ready to be tested in human clinical trials (Cosine Score: 0.5394)\n",
      "Research priorities include standardization of animal models and virus stocks for studying disease pathogenesis and efficacy of medical countermeasures; development of MERS-CoV diagnostics; improved access to nonhuman primates to support preclinical research; studies to better understand and control MERS-CoV disease, including vaccination studies in camels; and development of a standardized clinical trial protocol (Cosine Score: 0.4899)\n",
      "\n",
      "\n",
      "======================\n",
      "\n",
      "\n",
      "Abstract: ['The causative agent of Severe Acute Respiratory Syndrome (SARS) was identified as a coronavirus (CoV) following the outbreak of 2002-2003', ' There are currently no licensed vaccines or treatments for SARS-CoV infections', ' Potential prevention and control strategies that show promise in vitro must be evaluated in animal models', ' The aged BALB/c mouse model for SARS supports a high level of viral replication in association with clinical illness and disease that mimics SARS in the elderly', ' We tested two preventive strategies, vaccination and passive transfer of serum antibody, to determine the extent of protection achieved against SARS-CoV challenge in this model', ' These approaches were able to achieve or induce antibody titers sufficient to reduce viral load, protect from weight loss and reduce or eliminate histopathologic changes in the lungs of aged mice', ' This study validates the utility of the aged BALB/c mouse model for evaluation of the efficacy of vaccines and immunoprophylaxis', ' Published by Elsevier Ltd', '']\n",
      "\n",
      "\n",
      "======================\n",
      "\n",
      "\n",
      "Query: What are the possible medications against COVID-19?\n",
      "\n",
      "Top 3 most similar sentences are:\n",
      "We tested two preventive strategies, vaccination and passive transfer of serum antibody, to determine the extent of protection achieved against SARS-CoV challenge in this model (Cosine Score: 0.6374)\n",
      "Published by Elsevier Ltd (Cosine Score: 0.5791)\n",
      "The causative agent of Severe Acute Respiratory Syndrome (SARS) was identified as a coronavirus (CoV) following the outbreak of 2002-2003 (Cosine Score: 0.5253)\n",
      "\n",
      "\n",
      "======================\n",
      "\n",
      "\n",
      "Searching in Texts\n",
      "\n",
      "\n",
      "======================\n",
      "\n",
      "\n",
      "Text: ['Viruses are one of the major causes of morbidity and mortality in the world (DALYs and Collaborators, 2018; Disease et al', ', 2018; Howard and Fletcher, 2012; WHO, 2015) ', ' Antiviral drugs and vaccines are used to fight viral infections in human (De Clercq and Li, 2016; Marston et al', ', 2014) ', ' Previously, there has been a focus on \"one drug, one virus\" dogma, which relied on targeting virusspecific factors', ' A counterpoint to this is the \"one drug, multiple viruses\" paradigm, which came with the discovery of broadspectrum antiviral agents (BSAAs), small-molecules that inhibit a wide range of human viruses (Bekerman and Einav, 2015; de Clercq and Montgomery, 1983; Debing et al', ', 2015; Ianevski et al', ', 2019; Rada and Dragun, 1977; Sidwell et al', ', 1972) ', ' This paradigm was based on the observation that different viruses utilize similar pathways and host factors to replicate inside a cell (Bosl et al', ', 2019) ', ' Although the concept of BSAAs has been around for almost 50 years, the field received a new impetus with recent outbreaks of Ebola, Zika, Dengue, influenza and other viral infections, the discovery of novel host-directed agents, as well as development of drug repositioning methodology', 'Drug repurposing, also called repositioning, redirecting, reprofiling, is a strategy for generating additional value from an existing drug by targeting disease other than that for which it was originally intended (Nishimura and Hara, 2018; Pushpakom et al', ', 2019) ', ' This has significant advantages over new drug discovery since chemical synthesis steps, manufacturing processes, reliable safety, and pharmacokinetic properties in pre-clinical (animal model) and early clinical developmental phases (phase 0, I and IIa) are already available (Figure 1) ', ' Therefore, repositioning of launched or even failed drugs to viral diseases provides unique translational opportunities, including a substantially higher probability of success to market as compared with developing new virus-specific drugs and vaccines, and a significantly reduced cost and timeline to clinical availability Pizzorno et al', ', 2019; Zheng et al', ', 2018) ', 'Here, we detail the steps of BSAA repurposing, from discovery of novel antiviral activities in cell culture to post-market studies', 'Moreover, we summarized currently available information on BSAAs in freely available database, focusing on those antivirals, which have been already tested in human as antivirals, antibacterials, antiprotozoals, anthelmintics, etc', ' Finally, we discuss future perspectives of using safe-in-man BSAAs for treatment of emerging and re-emerging viral infections as well as viral and bacterial co-infections', 'Discovery of novel BSAA activities in immortalized cell cultures and co-culturesThe discovery of novel activities of BSAAs starts with exposing cells to the candidate antiviral agent at different concentrations and infecting the cells with a virus or mock', ' Immortalized cancerous cell cultures and co-cultures, which express appropriate viral receptors, are most commonly used in this first step', ' The halfmaximal cytotoxic concentrations (CC 50 ) for a compound are calculated based on their dose-response curves obtained on mockinfected cells', ' The half-maximal effective concentrations (EC 50 ) are calculated based on the analysis of curves obtained on infected cells', ' Statistical analyses can help to determine if the differences between CC 50 and EC 50 are significant, given the inherent variability of the experiment (Meneghini and Hamasaki, 1967) ', ' A relative effectiveness of a drug is defined as selectivity index (SI = CC 50 /EC 50 )', 'Cell viability assays and cell death assays are commonly used to assess the cytotoxicity and efficacy of BSAAs ( Figure 2A )', ' Cell viability assays include MTT, MTS, resazurin or similar assays, mitochondrial membrane potential-dependent dyes-based assays, esterase cleaved dye-based assays, ATP-ADP assays, and assays that measure glycolytic flux and oxygen consumption', ' Other cell death assays include LDH enzyme leakage assays, membrane impermeable dye-based assays, and apoptosis assays, such as Annexin V, TUNEL, and caspase assays (Shen et al', ', 2019) ', ' For example, the Cell Titer Glo (CTG) assay quantifies ATP, an indicator of metabolically active living cells, whereas Cell Tox Green assay uses fluorescent asymmetric cyanine dye that stains the DNA of dead cells (Bosl et al', ', 2019; Bulanova et al', ', 2017; Ianevski et al', ', 2018; Muller et al', ', 2014) ', ' Viral strains or cell lines expressing reporter proteins are also used to assess the efficacy of BSAAs in infected cells', ' For example, TZM-bl cells expressing firefly luciferase under control of HIV-1 LTR promoter allowed quantitation of BSAA action on HIV-1 infection (tat-protein expression by integrated HIV-1 provirus) using firefly luciferase assay (Sarzotti-Kelsoe et al', ', 2014; Xing et al', ', 2016) ', ' RFP-expressing RVFV, nanoLuc-expressing CHIKV and RRV, as well as GFP-expressing FLUAV, HCV and HMPV also allowed identification of novel activities of several BSAAs (Andersen et al', ', 2019b; Bosl et al', ', 2019; de Graaf et al', ', 2007; Habjan et al', ', 2008; Ianevski et al', ', 2018; Jupille et al', ', 2011; Kittel et al', ', 2004; Lee et al', ', 2017; Utt et al', ', 2016) ', ' In addition, qPCR/RT-qPCR, RNA/DNA sequencing, RNA/DNA hybridization, immuno-and plaque assays as well as CRISPR-Cas9 systems could be used for detection of inhibitory effects of BSAAs (Boonham et al', ', 2014; Fischer et al', ', 2017; Konig et al', ', 2019; Laamiri et al', ', 2018; Landry, 1990; Perez et al', ', 2013; Sashital, 2018; Zhou et al', ', 2018) ', ' Interestingly, CRISPR-Cas9, siRNA and shRNA approaches were used for identification of BSAA targets (Deans et al', ', 2016; Puschnik et al', ', 2017) ', 'Novel anti-HSV-2 and anti-EV1 activities of emetine were discovered recently using CTG/plaque assays in human nonmalignant RPE cells', ' Moreover, novel antiviral activities of the drug were identified using RFP-expressing RVFV, and GFP-expressing HMPV or FLUAV strains in RPE cells (Andersen et al', ', 2019a) ', ' Given that emetine also inhibits ZIKV, EBOV, RABV, CMV, HCoV-OC43 and HIV-1 infections (Chaves Valadao et al', ', 2015; MacGibeny et al', ', 2018; Mukhopadhyay et al', ', 2016; Shen et al', ', 2019; Yang et al', ', 2018) , and that it is an FDA-approved anti-protozoal drug, it may represent a promising safe-in-man BSAA candidate', 'Immortalized cell cultures/co-cultures and reporter viral strains represent excellent model systems for the discovery of novel activities of safe-in-man BSAAs', ' However, these genetically modified systems have certain limitations (attenuated or incomplete virus replication cycle, accumulation of mutations during repeated cell and virus passaging, defective innate immune responses and viral counter-responses, etc', ') (Carter and Shieh, 2015) ', ' Thereby, novel antiviral activities of BSAAs should be further validated in primary human cells using different viral strains (including wild-type viruses), different viral loads, different times of compound addition, different endpoint measurements and compound concentration range', ' Primary cell cultures give more accurate images of drug responses (Alves et al', ', 2018; Denisova et al', ', 2012; Koban et al', ', 2018; Postnikova et al', ', 2018) ', ' They have a low population doubling level and therefore more closely recapitulate the physiological conditions observed in vivo', 'Primary cells are cells isolated directly from tissues or blood using enzymatic or mechanical methods', ' The cells are characterized by their high degrees of specialization, are often fully differentiated and thus require defined culture conditions (serum-free media) in order to preserve their original phenotype', ' Peripheral blood mononuclear (PBMC), placental, amniotic and fetal primary cultures as well as vaginal/cervical epithelial and male germ cells have been used intensively to validate BSAA activity (Barrows et al', ', 2016; Denisova et al', ', 2012; Fink et al', ', 2018; Rausch et al', ', 2017; Robinson et al', ', 2018) ', ' Although primary cell cultures are relevant systems for validation of BSAAs, there are technical difficulties limiting their use, such as ethical issues, purity of population of primary cells, and limited shelf life of the cells', ' In addition, age, race, sex and other genetic and epigenetic factors of donor cells should be considered to determine common biological effect across a significant number of donors thereby avoiding minor variants (Lee et al', ', 2014; Zhang et al', ', 2013) ', 'The obstacles associated with use of human primary cell cultures can be bypassed using human embryonic stem cells (ESCs) and human induced pluripotent stem cells (iPSCs)', ' ESCs are isolated from surplus human embryos, whereas iPSCs are obtained by reprogramming somatic cells', ' These cells proliferate extensively and retain multi-lineage activity, which allows them to generate virtually any cell type of the body', ' The ESCs-and iPSC-derived cells have been used successfully to investigate the efficacy of several BSAAs against HBV, ZIKV, CHIKV and HSV-1 infections (Table S1 ) (Ferreira et al', ', 2019; Iwasawa et al', ', 2019; Lanko et al', ', 2017; Simonin et al', ', 2019; Xia et al', ', 2017; Zhou et al']\n"
     ]
    },
    {
     "name": "stdout",
     "output_type": "stream",
     "text": [
      "\n",
      "\n",
      "======================\n",
      "\n",
      "\n",
      "Query: What are the possible medications against COVID-19?\n",
      "\n",
      "Top 3 most similar sentences are:\n",
      "For example, teicoplanin, oritavancin, dalbavancin, monensin and emetine could be repurposed for treatment of COVID-19 (Cosine Score: 0.7966)\n",
      "Drug repurposing, also called repositioning, redirecting, reprofiling, is a strategy for generating additional value from an existing drug by targeting disease other than that for which it was originally intended (Nishimura and Hara, 2018; Pushpakom et al (Cosine Score: 0.7329)\n",
      "Moreover, novel antiviral activities of the drug were identified using RFP-expressing RVFV, and GFP-expressing HMPV or FLUAV strains in RPE cells (Andersen et al (Cosine Score: 0.7186)\n",
      "\n",
      "\n",
      "======================\n",
      "\n",
      "\n",
      "Text: ['F rom September 2012 through April 27, 2016, a total of 1,728 laboratory-confirmed Middle East respiratory syndrome coronavirus (MERS-CoV) infections, leading to 624 deaths (36% case-fatality proportion), had been reported to the World Health Organization (WHO) (1) ', ' Most infections (75%) have been identified in Saudi Arabia (2) ', ' Zoonotic transmission from exposure to MERS-CoV-infected Arabian camels, known as dromedaries, or their raw milk and limited, nonsustained human-to-human transmission have been reported, including large outbreaks in healthcare facilities (3) (4) (5) ', ' The recovery of infectious MERS-CoV in virus cultures of specimens from bed sheets, bedrails, intravenous fluid hangers, and radiograph equipment indicates the potential for fomite transmission of the virus in hospitals providing care for MERS-CoV patients (6) ', ' However, sustained human-to-human transmission has not been documented, and some case-patients have no identified source of exposure to MERS-CoV', ' As of April 2016, a total of 26 countries had reported locally acquired or exported cases from the Arabian Peninsula, including 2 cases in the United States identified during May 2014 in healthcare personnel who became ill after working in Saudi Arabia (7, 8) ', ' A traveler who visited Saudi Arabia, Qatar, the United Arab Emirates, and Bahrain and then returned to South Korea infected with MERS-CoV in mid-2015 triggered 184 MERS-CoV cases, resulting in 38 deaths in multiple health facilities and 1 additional case in a person who traveled to China (9, 10) ', 'Human infections with MERS-CoV are expected to continue to occur on the Arabian Peninsula because of the prevalence of MERS-CoV in dromedaries and the cultural importance of these camels (i', 'e', ', for food, milk, and racing purposes) in the region', ' During the 2003 outbreak of severe acute respiratory syndrome (SARS) in China, civet cats, the suspected reservoir of SARS coronavirus (SARS-CoV), were culled aggressively; no outbreaks were identified after 2004', ' In contrast, culling of camels is culturally impractical in the Middle East, and MERS-CoV zoonotic infections of humans have continued since 2012', 'The potential for emergence of MERS-CoV mutations that could facilitate sustained community transmission and global dissemination cannot be predicted', ' No vaccines against or specific treatments for human infection with SARS-CoV, MERS-CoV, or other coronaviruses have been approved', ' Since 2013, efforts have focused on furthering development of animal models, vaccines, and therapies against MERS-CoV (11,12)', ' In this report, we update the current state of development for MERS-CoV medical countermeasures, including regulatory challenges in the United States, and draw attention to areas in immediate need of increased infrastructure support for development of these countermeasures', 'persons at higher risk for more severe disease, including persons >65 years of age and those with chronic medical conditions', ' Therapeutic drugs with specific activity against MERS-CoV (e', 'g', ', antiviral drugs, immunotherapeutic treatments) or that target the host immune response could be used for treatment of human illness caused by MERS-CoV infection or for pre-or postexposure prophylaxis', ' Before human clinical trials of potential MERS-CoV medical countermeasures are started, proof-of-concept data must be obtained from in vivo studies of experimentally infected animals', \" Such data may indicate a product's potential efficacy and provide a mechanism for selection of available medical countermeasure candidates\", ' In addition, MERS-CoV vaccines could be developed for animals and used for vaccination of dromedaries on the Arabian Peninsula and in source countries for camel imports to the Horn of Africa to reduce MERS-CoV transmission among camels and possibly from camels to humans', 'Preclinical development of MERS-CoV medical countermeasures has been hindered by several factors, including limited data on the natural history of MERS-CoV infection in humans; the lack of a small animal model that is naturally susceptible to MERS-CoV; and the inability to consistently replicate severe human disease in MERS-CoV-infected nonhuman primates (NHPs)', ' Another factor is limited access to clinical samples and recent virus isolates; for example, a MERS-CoV strain isolated from a patient in 2012, rather than a more recently isolated strain, is currently used by most investigators worldwide', 'Small animal and NHP models are useful for testing potential medical countermeasures for efficacy (Table 1) ', ' Studies in mice, both dipeptidyl peptidase-4 (DPP4 or cluster differentiation 26) transduced and transgenic, and in rabbits, hamsters, and ferrets have been reviewed elsewhere (16, 20, 21) ', ' These small animal models have been used for screening potential MERS-CoV medical countermeasures (13, 14, 22) ', 'The major NHP models under development include rhesus macaques and common marmosets (17, 18, 23) ', ' Overall, common marmosets appear to be better suited than rhesus macaques for therapeutic studies designed to target severe disease because marmosets show slightly slower onset of illness and longer duration and severity of disease and their small size requires lower doses of therapeutic drugs', ' However, the marmoset model has not been standardized and is not consistent between laboratories (18, 24, 25) ', ' Furthermore, the size of marmosets substantially limits sequential blood sampling for virologic or pharmacokinetic testing', ' Challenges to the development of NHP models include determination and standardization of the optimal MERS-CoV challenge dose and of the volume and route of exposure, as well as the limited availability of NHPs, especially marmosets', 'Large animal models in development include camels and camelids such as alpacas (19, 26, 27) ', ' These models may be vital in understanding the virology and immunology of MERS-CoV infection in dromedaries, a natural host', ' In addition, serologic evidence of MERS-CoV infection in alpacas has been reported in Qatar (28) ', ' Major gaps for all animal models include a lack of consensus and availability of the optimal animal model to replicate severe human illness from MERS-CoV infection; limited availability of currently or recently circulating MERS-CoV strains; the lack of understanding of clinically relevant symptoms that can be incorporated into clinical scores or used as a signal to begin treatment in animal models; and competition for funding, laboratory space, availability of animals, and expertise with other emerging or reemerging infectious diseases, such as Ebola virus disease and Zika virus disease', ' (29, 30) ', ' The Secretary of the US Department of Health and Human Services declared a potential public health emergency on May 29, 2013, regarding MERS-CoV infection that could have a high potential to affect national security or the health and security of US citizens living abroad', ' The US Food and Drug Administration (FDA) subsequently issued an emergency use authorization to the Centers for Diseases Control and Prevention (CDC) for an in vitro molecular diagnostic test to diagnose MERS-CoV infection in multiple types of clinical specimens from symptomatic patients', ' The use of this test was later expanded to include the ability to test asymptomatic contacts of a person infected with MERS-CoV who traveled from Saudi Arabia to the United States', ' The CDC made this test available to multiple US public health laboratories, the US Department of Defense, and WHO laboratories worldwide', \" Although the test has been distributed extensively, it is limited in terms of the CDC's ability to scale up the supply of reagents to support a surge in MERS-CoV cases in the United States and in other countries where the test has been made available\", ' Therefore, an emergency use authorization was issued on July 17, 2015, for the commercially developed RealStar MERS-CoV RT-PCR Kit U', 'S', ' (Altona Diagnostics GmbH, Hamburg, Germany) for use in the in vitro qualitative detection of MERS-CoV RNA in tracheal aspirate or tracheal secretion samples (31) ', ' Although this commercial assay is a first step in bridging the diagnostic test availability gap in case of a surge scenario, the current coverage, at least in the United States, is insufficient until alternative, FDA-cleared commercial tests are available (Table 2) ', 'A worldwide gap exists in the lack of readily available, simple, rapid, and accurate diagnostic tests for use in outpatient and inpatient clinical settings where the ability of the facility to use currently available, higher complexity molecular tests is limited', ' The lack of commercial development of MERS-CoV assays may be partially related to the limited availability of clinical specimens and MERS-CoV isolates from infected patients', ' Availability of serum specimens from RT-PCRconfirmed MERS-CoV patients who survived can help facilitate development of serologic tests', ' If paired acute and convalescent serum samples are available, serologic tests can be used to confirm MERS-CoV infection when viral shedding is not detectable, and for surveillance purposes such as measuring population exposures and immunity to MERS-CoV infection', ' No investigational therapeutic drugs have been evaluated for treatment of MERS-CoV patients in prospective randomized controlled clinical trials', ' Potential therapeutic drugs for MERS-CoV patients include available approved drugs with nonspecific properties, such as immunomodulators, small-molecule drugs with broad antiviral activity, repurposed FDA-approved small-molecule drugs that show activity against MERS-CoV in vitro (Table 3 ) (34, 35) , and newly developed monoclonal or polyclonal antibody therapies with specific activity against MERS-CoV (Table 4 ) (54)', 'One promising approach has been to investigate libraries of drugs approved by the FDA and the European Medicines Agency', ' Considering development times and manufacturing requirements for new products, repurposing of existing drugs might potentially facilitate a rapid response to outbreaks of emerging viruses (see Regulatory section for a discussion on repurposing)', ' Other early-stage work on MERS-CoV therapeutics includes studies focusing on the essential viral replication steps of fusion, proteolysis, and RNA polymerization (Table 3 ) (54) ', 'Immunotherapeutics under evaluation consist of convalescent plasma and monoclonal and polyclonal antibodies', ' Most of the monoclonal antibodies in development have specific neutralizing activity against the MERS-CoV spike protein (55, 56) ', ' Platforms are being developed to rapidly discover monoclonal antibodies, either from fully human convalescent blood or from transgenic animals, which can be manufactured on a large scale and are likely to have a good safety profile', ' The most advanced immunotherapeutic for MERS-CoV uses a transchromosomal bovine production system to produce fully human polyclonal MERS-CoV antibodies; a phase I study of this product was recently implemented (57; https://clinicaltrials', 'gov/ct2/ show/NCT02788188)', ' Preliminary results from immunoprophylaxis or treatment studies have shown efficacy of fully human monoclonal or polyclonal antibodies in MERS-CoV-infected mice and NHPs ( profile and a defined set of preclinical toxicology studies, challenges to development of immunotherapeutics include ensuring the absence of antibody-dependent enhancement of disease and reducing the risk for generation of escape mutant viruses that would be resistant to treatment', 'Development of MERS-CoV candidate vaccines was initiated by the National Institute for Allergy and Infectious Diseases at the National Institutes of Health, academic investigators, and several companies (Table 5 )', ' Most candidate vaccines are still being evaluated in animal models', ' They have generally targeted the spike protein of MERS-CoV and are recombinant virus, subunit, DNA, or virus-like vector vaccines (60,63-67)', ' One live-attenuated MERS-CoV candidate vaccine is in early development (66) ', ' Preliminary studies for several other MERS-CoV vaccine candidates have been initiated, and early results demonstrate immunogenicity; 2 have progressed to NHP challenge, and a phase 1 clinical study in adults of 3 different doses of a DNA plasmid vaccine that expresses the MERS-CoV spike protein was started in January 2016 (61) ', ' Ongoing assessment of antigenic evolution of circulating MERS-CoV strains is essential for informing vaccine development (68) ', 'A concern that must be addressed in the development of MERS-CoV vaccines is the potential for causing antibody-dependent enhancement of disease upon virus challenge, such as what was observed with a SARS-CoV candidate vaccine upon SARS-CoV challenge (69) ', ' The lack of a precedent of coronavirus vaccines for humans poses another challenge for the evaluation of MERS-CoV vaccines for humans, although vaccines against other animal coronaviruses are safe and in use in animals', 'Considering the cultural importance of dromedaries on the Arabian Peninsula for meat, milk, and racing, prevention of camel-to-camel MERS-CoV transmission and reduction of spread from dromedaries to humans by camel vaccination is being investigated by government, academic, and commercial investigators (Table 6 )', ' Young camels appear to be at high risk for MERS-CoV infection and could be a priority group for vaccination (73, 74) ; the loss of maternal MERS-CoV antibodies ≈5-6 months after birth suggests a short time window for vaccination (75) ', ' A major challenge to this approach is that dromedaries can be reinfected with MERS-CoV; a study by Farag et al', ' found no correlation between MERS-CoV RNA levels and neutralizing antibodies in camels (76) , suggesting that antibodies may not be protective against infection', ' Because older camels can be reinfected, a camel vaccination strategy may require multiple dosing and booster vaccination to increase effective- in the United States and overseas (19) ', ' In addition, 3 doses of a DNA vaccine containing the MERS-CoV spike protein induced humoral immunity in dromedaries (60) ', ' In a recent study, a modified vaccinia virus Ankara vaccine that expresses the MERS-CoV spike protein was administered intranasally and intramuscularly to dromedaries; when challenged intranasally with MERS-CoV, vaccinated dromedaries had fewer signs of respiratory infection and lower MERS-CoV titers in the upper respiratory tract compared with unvaccinated dromedaries (77) ', ' Alpacas (New World camelids) are being investigated as a suitable proxy for camels because of the lack of available dromedaries in the United States, the high cost of acquiring dromedaries, and the relatively smaller size of alpacas (26, 27) ', 'Regulatory considerations for MERS-CoV medical countermeasures in the United States are focused on a pathway to human clinical trials for drugs and vaccines through submission of investigational new drug applications', ' Investigational new drug submissions must adhere to requirements set forth in the Code of Federal Regulations, Title 21, Part 312 (21 CFR 312; http://www', 'ecfr', 'gov/cgibin/text-idx?tpl=/ecfrbrowse/Title21/21cfr312_main_02', ' tpl)', ' Several guidance documents exist on the FDA website related to virology, microbiology, pharmacology and toxicology, and clinical and medical considerations (78)', ' The most appropriate approval pathway is likely to be product-specific and will require consideration of existing product data, proposed intended use and population for use, and validated endpoints for efficacy predictive of clinical benefit, if any', ' Likewise, data needed for consideration of an emergency use authorization, including dose finding and dose ranging, duration, and safety, can be obtained through sources such as investigational new drug clinical trials', ' Repurposing of drugs approved by the FDA for other illnesses for a MERS-CoV indication can potentially be expedited or accelerated if 1) the mechanism of action for antiviral activity is defined, 2) there is no change to the approved final drug form and route of administration, 3) dosing does not exceed the currently approved dose and duration for the currently indicated population and adequate pharmacokinetics data support this dosing, and 4) the risk-benefit profile is acceptable for the intended population and indication', ' For example, the risk-benefit profile for an approved drug with an oncology indication may be unacceptable if the drug is repurposed for administration to a healthy population for MERS-CoV postexposure prophylaxis', ' However, data requirements to initiate human trials will depend on the characteristics of the drug product and its intended use against MERS-CoV', ' As such, sponsors should consider prioritizing drug development on the basis of the totality of scientific evidence and merit of the drug alone, not on whether the drug has been previously approved', 'In the absence of a standardized and accepted animal model that simulates human disease from MERS-CoV infection, it is unclear how the FDA may be able to expedite licensure or approval when data are lacking', ' The best approach may be collection of preclinical safety data and implementation of adaptive human clinical trials', ' This approach was taken for medical countermeasures in response to the 2013-2016 Ebola virus disease outbreak', 'For diagnostic devices, the current emergency use authorization pathway serves as a fast approach to make products available for emergency public health purposes', ' After an emergency has been terminated, Premarket Notifications for these products should be submitted to FDA for a more thorough evaluation as 510(k)s (http://www', 'fda', 'gov/ e6Emerging Infectious Diseases • www', 'cdc', 'gov/eid • Vol', ' 22, No']\n"
     ]
    },
    {
     "name": "stdout",
     "output_type": "stream",
     "text": [
      "\n",
      "\n",
      "======================\n",
      "\n",
      "\n",
      "Query: What are the possible medications against COVID-19?\n",
      "\n",
      "Top 3 most similar sentences are:\n",
      "Therapeutic drugs with specific activity against MERS-CoV (e (Cosine Score: 0.8067)\n",
      "However, data requirements to initiate human trials will depend on the characteristics of the drug product and its intended use against MERS-CoV (Cosine Score: 0.7185)\n",
      ", antiviral drugs, immunotherapeutic treatments) or that target the host immune response could be used for treatment of human illness caused by MERS-CoV infection or for pre-or postexposure prophylaxis (Cosine Score: 0.7072)\n",
      "\n",
      "\n",
      "======================\n",
      "\n",
      "\n",
      "Text: ['The agent that caused the 2002-2003 Severe Acute Respiratory Syndrome (SARS) outbreak was identified by sequence analysis and immunofluorescence as a coronavirus virus, SARS-CoV', ' SARS-CoV was a zoonosis and although closely related viruses have been identified in civet cats and Chinese horseshoe bats, the animal reservoir from which the virus was introduced into the human population has yet to be definitively identified [1, 2] ', ' Since July 2003, when the SARS outbreak ended, only a few cases of communityacquired and laboratory-acquired infection have occurred', ' The presence of an animal reservoir in nature suggests that the risk of re-introduction of a SARS-like CoV into humans remains, and efforts to develop prevention strategies continue', ' Animal models are needed to effectively test prevention strategies', ' Several animal species, including inbred strains of mice, have been found to support viral replication in the absence of clinical illness [3] ', ' However, an animal model that mimics the natural course of disease affords a more stringent test of potential interventions', ' In several case series of SARS patients advanced age was a risk factor for severe disease, requiring intensive care and ventilatory support, as well as increased mortality [4] [5] [6] ', ' We found that 12-14month old BALB/c mice support high and prolonged levels of viral replication in the lungs, signs of clinical illness and histopathological changes in the lungs including signs of acute and organized diffuse alveolar damage (DAD) [7] ', ' Thus, this model reflected findings in elderly patients with SARS', 'Active and passive immunization are two standard approaches for the prevention of viral infection; both have been considered for SARS and have been evaluated in young (4-6-week old) BALB/c mice [8, 9] ', ' Passive transfer of post-infection hyperimmune antiserum, derived from SARS-CoV infected mice, was shown to be effective in protecting immunologically naïve, young mice from subsequent challenge with intranasally administered SARS-CoV [8] ', ' Attenuated, recombinant vesicular stomatitis virus (rVSV) is known to be a good vector for the expression of foreign proteins inducing both humoral (antibodies) and cell mediated immunity to the expressed proteins [10] ', ' rVSV vaccines expressing HIV Gag and Env proteins, induced a strong and long-lasting antibody recall [11, 12] ', ' An attenuated rVSV virus expressing the SARS-CoV spike (S) protein efficiently expressed SARS-CoV S protein and conferred long-lasting protection from viral challenge in young mice [9] ', ' Here we selected two preventive strategies that were effective in young mice, and evaluated them in old mice to determine if the immunoprophylactic measures that are effective in the young mouse are also effective in the more susceptible aged mouse', ' We tested the efficacy of passive transfer of postinfection murine SARS antiserum and active immunization with an rVSV vaccine encoding the SARS S protein (rVSV-S) in protection from challenge with intranasally administered SARS-CoV in this model', 'Post-infection hyperimmune SARS antiserum was generated in BALB/c mice following both intranasal (i', 'n', ') and intraperitoneal (i', 'p', ') injections of SARS-CoV (Urbani)', ' The efficacy of passive transfer was tested in 12-monthold mice, in groups of 12, that received antiserum by i', 'p', ' injection', ' The negative control group received normal (nonimmune) BALB/c mouse sera (Harlan, Indianapolis, IA); the experimental groups received either undiluted post-infection hyperimmune SARS antiserum or a 1:4 dilution (in PBS) of the antiserum', ' Sera from the recipient mice were collected 24 h after i', 'p', ' injection, to determine the neutralizing antibody level achieved', ' Neutralizing antibody titers were determined by a micro-neutralization assay in Vero cell monolayers [8] ', ' Mice were then challenged i', 'n', ' with 10 5 TCID 50 SARS-CoV (Urbani)', ' On day 2 post-infection (p', 'i', '), when virus titer in the lungs is expected to peak, four mice per group were sacrificed and lungs were harvested to determine levels of virus present [7] ', ' Briefly, lungs were homogenized as a 10% (w/v) suspension, clarified by low speed centrifu-gation, and titered on Vero monolayers in 24-and 96-well plates [8] ', ' Because infectious virus can be neutralized ex vivo in lung homogenates and this can affect virus titers, we confirmed the presence of virus in lung homogenates by quantitative PCR', \" Total RNA was isolated and purified from 10% (w/v) lung homogenates using the RNeasy Mini Kit (Qiagen, Valencia, CA) with an on-column DNase digestion, as per manufacturer's protocol\", ' RNA concentration was determined and 1 g was reverse transcribed using random primers included in the Stratascript First-Strand Synthesis System (Stratagene, La Jolla, CA)', ' PCR reactions were performed at 59 • C for a total of 40 cycles using the Brilliant SYBR Green QPCR Master Mix (Stratagene) on an Mx4000 Multiplex Quantitative PCR System (Stratagene)', ' SARS genomic RNA was amplified using forward primer 28411F (GGTGACGGCAAAATGAAAGAGC) and reverse primer 28725R (GGAGAATTTCCCCTACTG)', ' 18S rRNA was amplified from each sample as an internal control using 18SF (GGTACAGTGAAACTGCGAAT) and 18SR (CAGT-TATCCAAGTAGGAGAG)', ' C T is the cycle number when double stranded DNA was detected above background levels', ' Four mice per group were sacrificed on days 3 and 8 p', 'i', ' for evaluation of histopathologic changes', ' These time points were selected because at day 3 p', 'i', ', viral antigen and focal interstitial inflammation should be present and clearance of antigen accompanied by histopathologic changes indicative of lung repair should be visible by day 8 p', 'i', ' [7] ', ' The lungs were inflated with 10% formalin and processed for histopathological examination', ' Pulmonary histopathology was evaluated and the distribution of SARS-CoV antigens was determined by immunohistochemical (IHC) staining [8] ', 'In the vaccine study, mice received one of the three following interventions by i', 'n', ' inoculation: 1', '4 × 10 4 pfu rVSV-S (the vaccine), 1', '6 × 10 4 pfu rVSV (vector without a foreign gene, as a negative control) [9] or 10 4 TCID 50 SARS-CoV (Urbani) as a positive control for protection from subsequent challenge', ' Sera were collected on day 30 post-vaccination or post-infection to determine neutralizing antibody titers achieved', ' Mice were then challenged 3 days later with 10 5 TCID 50 SARS-CoV (Urbani) to determine the efficacy of the vaccine', ' Four mice per vaccine group were weighed daily for a week', ' On day 2 post-challenge, four mice per group were sacrificed and the lungs harvested to determine titers of infectious virus', 'Passive transfer of undiluted or diluted post-infection SARS-CoV hyperimmune murine antisera achieved significant neutralizing antibody titers in recipient mice (Fig', ' 1) ', ' Mice that received undiluted hyperimmune sera had a mean neutralizing antibody titer of 1:109 ± 11', '5, while mice that received a 1:4 dilution of SARS hyperimmune antisera had Left-hand y-axis: Mean viral titer in lungs is expressed as log 10 TCID 50 /g tissue with a lower limit of detection of 1', '5 log 10 TCID 50 /g, error bars represent the S', 'E', ', * p = 0', '02 pairwise comparison of test groups to control group that received non-immune mouse serum', ' Right-hand y-axis: Reciprocal mean antibody titer, expressed as log 2 , is the dilution of serum antibody that neutralized 100 TCID 50 of SARS-CoV', ' The lower limit of detection was ≤2, error bars represent S', 'E', ', ** p ≤ 0', '0001 pairwise comparison of test groups to control group that received non-immune mouse serum', ' a mean neutralizing titer of 1:18 ± 1', '7', ' In contrast, mice that received the normal (non-immune) mouse serum did not have detectable neutralizing antibodies (titers were below the limit of detection, <1:8)', ' These differences were statistically significant, p ≤ 0', '0001, Mann-Whitney U test', 'Mice that received SARS hyperimmune murine antisera were protected from pulmonary virus replication on challenge with SARS-CoV', ' Virus was not detected in the lungs of mice that received undiluted SARS hyperimmune antiserum', ' Mice that received diluted SARS hyperimmune antiserum had a >100-fold reduction in viral titer as compared to mice that received non-immune mouse serum (10 5', '9±0', '3 and 10 8', '1±0', '5 TCID 50 /g, respectively, p = 0', '02, Mann-Whitney U test)', ' Reductions in titers of infectious virus were confirmed using real-time PCR', ' Data is presented as the mean cycle number (C T ) at which 18S rRNA and N-gene SARS-CoV-specific RNA, respectively, were amplified above background', ' The C T values for mice that received hyperimmune antisera were 15', '9 ± 0', '5 and 33', '0 ± 0', '8, for mice that received a 1:4 dilution of hyperimmune antisera were 16', '5 ± 0', '1 and 20', '8 ± 0', '2 and for mice that received non-immune sera were 15']\n"
     ]
    },
    {
     "name": "stdout",
     "output_type": "stream",
     "text": [
      "\n",
      "\n",
      "======================\n",
      "\n",
      "\n",
      "Query: What are the possible medications against COVID-19?\n",
      "\n",
      "Top 3 most similar sentences are:\n",
      "for evaluation of histopathologic changes (Cosine Score: 0.6897)\n",
      "injection, to determine the neutralizing antibody level achieved (Cosine Score: 0.6528)\n",
      "Protection from rVSV vectored vaccines is mediated by strong humoral and cytotoxic T lymphocyte (CTL) responses (Cosine Score: 0.6470)\n"
     ]
    }
   ],
   "source": [
    "print(\"=\"*80, f\"\\n\\nTask = \\n\\n {list_of_tasks[3]}\\n\", )\n",
    "\n",
    "print(\"\\n\\n======================\\n\\n\")\n",
    "print(\"Searching in Abstracts\")\n",
    "    \n",
    "dfs =  train_df.iloc[indices[3]]\n",
    "abstracts = [i.split(\".\") for i in df['abstract']]\n",
    "for abstract in abstracts:\n",
    "    print(\"\\n\\n======================\\n\\n\")\n",
    "    print(\"Abstract:\", abstract[:100])\n",
    "    abstracts_vector = transformer.encode(abstract)\n",
    "    distance = scipy.spatial.distance.cdist(query_embeddings, abstracts_vector, \"cosine\")[0]\n",
    "\n",
    "    results = zip(range(len(distance)), distance)\n",
    "    results = sorted(results, key = lambda x: x[1])\n",
    "    \n",
    "    print(\"\\n\\n======================\\n\\n\")\n",
    "    print(\"Query:\", query)\n",
    "    print(\"\\nTop 3 most similar sentences are:\")\n",
    "\n",
    "    for idx, dist in results[0:number_top_matches]:\n",
    "        print(abstract[idx].strip(), \"(Cosine Score: %.4f)\" % (1-dist))\n",
    "\n",
    "        \n",
    "print(\"\\n\\n======================\\n\\n\")\n",
    "print(\"Searching in Texts\")\n",
    "\n",
    "texts = [i.split(\".\") for i in df['text']]\n",
    "for text in texts:\n",
    "    print(\"\\n\\n======================\\n\\n\")\n",
    "    print(\"Text:\", text[:100])\n",
    "    text_vector = transformer.encode(text)\n",
    "    distance = scipy.spatial.distance.cdist(query_embeddings, text_vector, \"cosine\")[0]\n",
    "\n",
    "    results = zip(range(len(distance)), distance)\n",
    "    results = sorted(results, key = lambda x: x[1])\n",
    "\n",
    "    print(\"\\n\\n======================\\n\\n\")\n",
    "    print(\"Query:\", query)\n",
    "    print(\"\\nTop 3 most similar sentences are:\")\n",
    "\n",
    "    for idx, dist in results[0:number_top_matches]:\n",
    "        print(text[idx].strip(), \"(Cosine Score: %.4f)\" % (1-dist))"
   ]
  },
  {
   "cell_type": "code",
   "execution_count": null,
   "metadata": {},
   "outputs": [],
   "source": []
  }
 ],
 "metadata": {
  "kernelspec": {
   "display_name": "Python 3",
   "language": "python",
   "name": "python3"
  },
  "language_info": {
   "codemirror_mode": {
    "name": "ipython",
    "version": 3
   },
   "file_extension": ".py",
   "mimetype": "text/x-python",
   "name": "python",
   "nbconvert_exporter": "python",
   "pygments_lexer": "ipython3",
   "version": "3.7.7"
  }
 },
 "nbformat": 4,
 "nbformat_minor": 4
}
