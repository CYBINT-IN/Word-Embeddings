{
 "cells": [
  {
   "cell_type": "code",
   "execution_count": 1,
   "metadata": {},
   "outputs": [],
   "source": [
    "import os\n",
    "import re\n",
    "import json\n",
    "import utils\n",
    "import random\n",
    "import warnings\n",
    "\n",
    "import numpy as np\n",
    "import pandas as pd\n",
    "\n",
    "from tqdm.notebook import tqdm\n",
    "\n",
    "warnings.filterwarnings('ignore')"
   ]
  },
  {
   "cell_type": "code",
   "execution_count": 2,
   "metadata": {},
   "outputs": [
    {
     "name": "stdout",
     "output_type": "stream",
     "text": [
      "Number of articles retrieved from pdf_json articles: 59561\n"
     ]
    }
   ],
   "source": [
    "pdf_json = 'data/document_parses/pdf_json/'\n",
    "filenames = os.listdir(pdf_json)\n",
    "print(\"Number of articles retrieved from pdf_json articles:\", len(filenames))"
   ]
  },
  {
   "cell_type": "code",
   "execution_count": 3,
   "metadata": {},
   "outputs": [
    {
     "data": {
      "application/vnd.jupyter.widget-view+json": {
       "model_id": "66d0712015414acd8532c6a98f7a7769",
       "version_major": 2,
       "version_minor": 0
      },
      "text/plain": [
       "HBox(children=(FloatProgress(value=0.0, max=59561.0), HTML(value='')))"
      ]
     },
     "metadata": {},
     "output_type": "display_data"
    },
    {
     "name": "stdout",
     "output_type": "stream",
     "text": [
      "\n"
     ]
    }
   ],
   "source": [
    "cleaned_files = []\n",
    "\n",
    "for file in tqdm(os.listdir(pdf_json)):\n",
    "    filename = pdf_json + file\n",
    "    file = json.load(open(filename, 'rb'))\n",
    "    features = [\n",
    "        file['paper_id'],\n",
    "        file['metadata']['title'],\n",
    "        utils.format_authors(file['metadata']['authors']),\n",
    "        utils.format_authors(file['metadata']['authors'], \n",
    "                       with_affiliation = True),\n",
    "        utils.format_body(file['abstract']),\n",
    "        utils.format_body(file['body_text']),\n",
    "        utils.format_bib(file['bib_entries']),\n",
    "        file['metadata']['authors'],\n",
    "        file['bib_entries']\n",
    "    ]\n",
    "    \n",
    "    cleaned_files.append(features)\n",
    "    \n",
    "    del file\n",
    "    del features"
   ]
  },
  {
   "cell_type": "code",
   "execution_count": 4,
   "metadata": {},
   "outputs": [
    {
     "data": {
      "text/html": [
       "<div>\n",
       "<style scoped>\n",
       "    .dataframe tbody tr th:only-of-type {\n",
       "        vertical-align: middle;\n",
       "    }\n",
       "\n",
       "    .dataframe tbody tr th {\n",
       "        vertical-align: top;\n",
       "    }\n",
       "\n",
       "    .dataframe thead th {\n",
       "        text-align: right;\n",
       "    }\n",
       "</style>\n",
       "<table border=\"1\" class=\"dataframe\">\n",
       "  <thead>\n",
       "    <tr style=\"text-align: right;\">\n",
       "      <th></th>\n",
       "      <th>paper_id</th>\n",
       "      <th>title</th>\n",
       "      <th>authors</th>\n",
       "      <th>affiliations</th>\n",
       "      <th>abstract</th>\n",
       "      <th>text</th>\n",
       "      <th>bibliography</th>\n",
       "      <th>raw_authors</th>\n",
       "      <th>raw_bibliography</th>\n",
       "    </tr>\n",
       "  </thead>\n",
       "  <tbody>\n",
       "    <tr>\n",
       "      <th>0</th>\n",
       "      <td>6f005a0677f24f697c1ec3ce065ec4144519e357</td>\n",
       "      <td>Antiviral Mechanisms of Human Defensins Introd...</td>\n",
       "      <td>Sarah S Wilson, Mayim E Wiens, Jason G Smith</td>\n",
       "      <td>Sarah S Wilson (University of Washington, 1705...</td>\n",
       "      <td>Defensins are an effector component of the inn...</td>\n",
       "      <td>Defensins are one of the most abundant classes...</td>\n",
       "      <td>Direct inactivation of viruses by human granul...</td>\n",
       "      <td>[{'first': 'Sarah', 'middle': ['S'], 'last': '...</td>\n",
       "      <td>{'BIBREF0': {'ref_id': 'b0', 'title': 'Direct ...</td>\n",
       "    </tr>\n",
       "    <tr>\n",
       "      <th>1</th>\n",
       "      <td>4994fa72322bbf19120592304d92629226948d8e</td>\n",
       "      <td>Rapid Identification of Malaria Vaccine Candid...</td>\n",
       "      <td>V Villard, G W Agak, G Frank, A Jafarshad, C S...</td>\n",
       "      <td>V Villard, G W Agak, G Frank, A Jafarshad, C S...</td>\n",
       "      <td>To identify malaria antigens for vaccine devel...</td>\n",
       "      <td>Human Plasmodium falciparum (Pf) infection is ...</td>\n",
       "      <td>Identification of vaccine candidates against s...</td>\n",
       "      <td>[{'first': 'V', 'middle': [], 'last': 'Villard...</td>\n",
       "      <td>{'BIBREF0': {'ref_id': 'b0', 'title': 'Identif...</td>\n",
       "    </tr>\n",
       "  </tbody>\n",
       "</table>\n",
       "</div>"
      ],
      "text/plain": [
       "                                   paper_id  \\\n",
       "0  6f005a0677f24f697c1ec3ce065ec4144519e357   \n",
       "1  4994fa72322bbf19120592304d92629226948d8e   \n",
       "\n",
       "                                               title  \\\n",
       "0  Antiviral Mechanisms of Human Defensins Introd...   \n",
       "1  Rapid Identification of Malaria Vaccine Candid...   \n",
       "\n",
       "                                             authors  \\\n",
       "0       Sarah S Wilson, Mayim E Wiens, Jason G Smith   \n",
       "1  V Villard, G W Agak, G Frank, A Jafarshad, C S...   \n",
       "\n",
       "                                        affiliations  \\\n",
       "0  Sarah S Wilson (University of Washington, 1705...   \n",
       "1  V Villard, G W Agak, G Frank, A Jafarshad, C S...   \n",
       "\n",
       "                                            abstract  \\\n",
       "0  Defensins are an effector component of the inn...   \n",
       "1  To identify malaria antigens for vaccine devel...   \n",
       "\n",
       "                                                text  \\\n",
       "0  Defensins are one of the most abundant classes...   \n",
       "1  Human Plasmodium falciparum (Pf) infection is ...   \n",
       "\n",
       "                                        bibliography  \\\n",
       "0  Direct inactivation of viruses by human granul...   \n",
       "1  Identification of vaccine candidates against s...   \n",
       "\n",
       "                                         raw_authors  \\\n",
       "0  [{'first': 'Sarah', 'middle': ['S'], 'last': '...   \n",
       "1  [{'first': 'V', 'middle': [], 'last': 'Villard...   \n",
       "\n",
       "                                    raw_bibliography  \n",
       "0  {'BIBREF0': {'ref_id': 'b0', 'title': 'Direct ...  \n",
       "1  {'BIBREF0': {'ref_id': 'b0', 'title': 'Identif...  "
      ]
     },
     "execution_count": 4,
     "metadata": {},
     "output_type": "execute_result"
    }
   ],
   "source": [
    "col_names = [\n",
    "    'paper_id', \n",
    "    'title', \n",
    "    'authors',\n",
    "    'affiliations', \n",
    "    'abstract', \n",
    "    'text', \n",
    "    'bibliography',\n",
    "    'raw_authors',\n",
    "    'raw_bibliography'\n",
    "]\n",
    "\n",
    "clean_df = pd.DataFrame(cleaned_files, columns = col_names)\n",
    "del cleaned_files\n",
    "clean_df.head(2)"
   ]
  },
  {
   "cell_type": "code",
   "execution_count": 6,
   "metadata": {},
   "outputs": [
    {
     "data": {
      "text/plain": [
       "paper_id            0\n",
       "title               0\n",
       "authors             0\n",
       "affiliations        0\n",
       "abstract            0\n",
       "text                0\n",
       "bibliography        0\n",
       "raw_authors         0\n",
       "raw_bibliography    0\n",
       "dtype: int64"
      ]
     },
     "execution_count": 6,
     "metadata": {},
     "output_type": "execute_result"
    }
   ],
   "source": [
    "clean_df.isna().sum()"
   ]
  },
  {
   "cell_type": "code",
   "execution_count": 8,
   "metadata": {},
   "outputs": [],
   "source": [
    "clean_df.to_csv(\"data/clean_df.csv\")"
   ]
  },
  {
   "cell_type": "code",
   "execution_count": null,
   "metadata": {},
   "outputs": [],
   "source": []
  }
 ],
 "metadata": {
  "kernelspec": {
   "display_name": "Python 3",
   "language": "python",
   "name": "python3"
  },
  "language_info": {
   "codemirror_mode": {
    "name": "ipython",
    "version": 3
   },
   "file_extension": ".py",
   "mimetype": "text/x-python",
   "name": "python",
   "nbconvert_exporter": "python",
   "pygments_lexer": "ipython3",
   "version": "3.7.7"
  }
 },
 "nbformat": 4,
 "nbformat_minor": 4
}
