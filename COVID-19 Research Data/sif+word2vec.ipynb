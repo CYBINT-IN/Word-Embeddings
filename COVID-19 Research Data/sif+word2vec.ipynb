{
 "cells": [
  {
   "cell_type": "code",
   "execution_count": 1,
   "metadata": {},
   "outputs": [],
   "source": [
    "import os\n",
    "import re\n",
    "import fse\n",
    "import json\n",
    "import utils\n",
    "import random\n",
    "import gensim\n",
    "import warnings\n",
    "\n",
    "import numpy as np\n",
    "import pandas as pd\n",
    "\n",
    "from tasks import *\n",
    "from pprint import pprint\n",
    "from tqdm.notebook import tqdm\n",
    "from sklearn.neighbors import NearestNeighbors"
   ]
  },
  {
   "cell_type": "code",
   "execution_count": 2,
   "metadata": {},
   "outputs": [
    {
     "name": "stdout",
     "output_type": "stream",
     "text": [
      "Number of articles retrieved from biorxiv: 885\n"
     ]
    }
   ],
   "source": [
    "biorxiv_dir = 'data/biorxiv_medrxiv/biorxiv_medrxiv/'\n",
    "filenames = os.listdir(biorxiv_dir)\n",
    "print(\"Number of articles retrieved from biorxiv:\", len(filenames))"
   ]
  },
  {
   "cell_type": "code",
   "execution_count": 3,
   "metadata": {},
   "outputs": [],
   "source": [
    "all_files = []\n",
    "\n",
    "for filename in filenames:\n",
    "    filename = biorxiv_dir + filename\n",
    "    file = json.load(open(filename, 'rb'))\n",
    "    all_files.append(file)"
   ]
  },
  {
   "cell_type": "code",
   "execution_count": 4,
   "metadata": {},
   "outputs": [
    {
     "data": {
      "application/vnd.jupyter.widget-view+json": {
       "model_id": "0e9cfe806190471d836df659561b67e0",
       "version_major": 2,
       "version_minor": 0
      },
      "text/plain": [
       "HBox(children=(FloatProgress(value=0.0, max=885.0), HTML(value='')))"
      ]
     },
     "metadata": {},
     "output_type": "display_data"
    },
    {
     "name": "stdout",
     "output_type": "stream",
     "text": [
      "\n"
     ]
    }
   ],
   "source": [
    "cleaned_files = []\n",
    "\n",
    "for file in tqdm(all_files):\n",
    "    features = [\n",
    "        file['paper_id'],\n",
    "        file['metadata']['title'],\n",
    "        utils.format_authors(file['metadata']['authors']),\n",
    "        utils.format_authors(file['metadata']['authors'], \n",
    "                       with_affiliation = True),\n",
    "        utils.format_body(file['abstract']),\n",
    "        utils.format_body(file['body_text']),\n",
    "        utils.format_bib(file['bib_entries']),\n",
    "        file['metadata']['authors'],\n",
    "        file['bib_entries']\n",
    "    ]\n",
    "    \n",
    "    cleaned_files.append(features)"
   ]
  },
  {
   "cell_type": "code",
   "execution_count": 5,
   "metadata": {},
   "outputs": [],
   "source": [
    "col_names = [\n",
    "    'paper_id', \n",
    "    'title', \n",
    "    'authors',\n",
    "    'affiliations', \n",
    "    'abstract', \n",
    "    'text', \n",
    "    'bibliography',\n",
    "    'raw_authors',\n",
    "    'raw_bibliography'\n",
    "]\n",
    "\n",
    "clean_df = pd.DataFrame(cleaned_files, columns = col_names)"
   ]
  },
  {
   "cell_type": "code",
   "execution_count": 6,
   "metadata": {},
   "outputs": [
    {
     "name": "stderr",
     "output_type": "stream",
     "text": [
      "100%|██████████| 16959/16959 [06:20<00:00, 44.57it/s]\n",
      "100%|██████████| 16959/16959 [00:43<00:00, 392.67it/s]\n"
     ]
    }
   ],
   "source": [
    "pmc_dir = 'data/custom_license/custom_license/'\n",
    "pmc_files = utils.load_files(pmc_dir)\n",
    "pmc_df = utils.generate_clean_df(pmc_files)"
   ]
  },
  {
   "cell_type": "code",
   "execution_count": 7,
   "metadata": {},
   "outputs": [
    {
     "name": "stderr",
     "output_type": "stream",
     "text": [
      "100%|██████████| 9118/9118 [03:04<00:00, 49.35it/s]\n",
      "100%|██████████| 9118/9118 [00:28<00:00, 323.29it/s]\n"
     ]
    }
   ],
   "source": [
    "comm_dir = 'data/comm_use_subset/comm_use_subset/'\n",
    "comm_files = utils.load_files(comm_dir)\n",
    "comm_df = utils.generate_clean_df(comm_files)"
   ]
  },
  {
   "cell_type": "code",
   "execution_count": 8,
   "metadata": {},
   "outputs": [
    {
     "name": "stderr",
     "output_type": "stream",
     "text": [
      "100%|██████████| 2353/2353 [00:36<00:00, 64.68it/s] \n",
      "100%|██████████| 2353/2353 [00:05<00:00, 404.97it/s]\n"
     ]
    }
   ],
   "source": [
    "noncomm_dir = 'data/noncomm_use_subset/noncomm_use_subset/'\n",
    "noncomm_files = utils.load_files(noncomm_dir)\n",
    "noncomm_df = utils.generate_clean_df(noncomm_files)"
   ]
  },
  {
   "cell_type": "code",
   "execution_count": 9,
   "metadata": {},
   "outputs": [],
   "source": [
    "complete_df = pd.concat([clean_df, pmc_df, comm_df, noncomm_df])"
   ]
  },
  {
   "cell_type": "code",
   "execution_count": 10,
   "metadata": {},
   "outputs": [],
   "source": [
    "complete_df = complete_df[complete_df['text'].apply(lambda x: len(re.findall(r\"(?i)\\b[a-z]+\\b\", x))) > 1000] "
   ]
  },
  {
   "cell_type": "code",
   "execution_count": 11,
   "metadata": {},
   "outputs": [],
   "source": [
    "frac_of_articles = 1\n",
    "train_df  = complete_df.sample(frac = frac_of_articles, random_state = 42)\n",
    "train_corpus = [i.split() for i in train_df[\"abstract\"]] \n",
    "il = fse.IndexedList(train_corpus)"
   ]
  },
  {
   "cell_type": "code",
   "execution_count": 12,
   "metadata": {},
   "outputs": [
    {
     "data": {
      "text/plain": [
       "(16974758, 23391565)"
      ]
     },
     "execution_count": 12,
     "metadata": {},
     "output_type": "execute_result"
    }
   ],
   "source": [
    "model = gensim.models.Word2Vec(min_count = 10, seed = 42, workers = 6)\n",
    "model.build_vocab(train_corpus)\n",
    "model.train(train_corpus, total_examples = model.corpus_count, epochs = model.epochs)"
   ]
  },
  {
   "cell_type": "code",
   "execution_count": 13,
   "metadata": {},
   "outputs": [
    {
     "data": {
      "text/plain": [
       "(20566, 4247590)"
      ]
     },
     "execution_count": 13,
     "metadata": {},
     "output_type": "execute_result"
    }
   ],
   "source": [
    "se = fse.models.SIF(model)\n",
    "se.train(il)"
   ]
  },
  {
   "cell_type": "code",
   "execution_count": 14,
   "metadata": {},
   "outputs": [],
   "source": [
    "vecs = []\n",
    "for i in range(len(se.sv)):\n",
    "    vecs.append(se.sv[i])"
   ]
  },
  {
   "cell_type": "code",
   "execution_count": 15,
   "metadata": {},
   "outputs": [],
   "source": [
    "train_df['abstract_vector'] = vecs"
   ]
  },
  {
   "cell_type": "code",
   "execution_count": 16,
   "metadata": {},
   "outputs": [
    {
     "data": {
      "text/html": [
       "<div>\n",
       "<style scoped>\n",
       "    .dataframe tbody tr th:only-of-type {\n",
       "        vertical-align: middle;\n",
       "    }\n",
       "\n",
       "    .dataframe tbody tr th {\n",
       "        vertical-align: top;\n",
       "    }\n",
       "\n",
       "    .dataframe thead th {\n",
       "        text-align: right;\n",
       "    }\n",
       "</style>\n",
       "<table border=\"1\" class=\"dataframe\">\n",
       "  <thead>\n",
       "    <tr style=\"text-align: right;\">\n",
       "      <th></th>\n",
       "      <th>paper_id</th>\n",
       "      <th>title</th>\n",
       "      <th>authors</th>\n",
       "      <th>affiliations</th>\n",
       "      <th>abstract</th>\n",
       "      <th>text</th>\n",
       "      <th>bibliography</th>\n",
       "      <th>raw_authors</th>\n",
       "      <th>raw_bibliography</th>\n",
       "      <th>abstract_vector</th>\n",
       "    </tr>\n",
       "  </thead>\n",
       "  <tbody>\n",
       "    <tr>\n",
       "      <th>10486</th>\n",
       "      <td>ac93c3f7b9207fea7f888e2c53950c66e96b072f</td>\n",
       "      <td>Importance of Viral Disease in Dairy Cow Ferti...</td>\n",
       "      <td>D Claire Wathes, Chike F Oguejiofor, Carole Th...</td>\n",
       "      <td>D Claire Wathes (Royal Veterinary College, AL9...</td>\n",
       "      <td>Many viral diseases are endemic in cattle popu...</td>\n",
       "      <td>Although viral disease remains a major cause o...</td>\n",
       "      <td>Potential applications for antiviral therapy a...</td>\n",
       "      <td>[{'first': 'D', 'middle': ['Claire'], 'last': ...</td>\n",
       "      <td>{'BIBREF0': {'ref_id': 'b0', 'title': 'Potenti...</td>\n",
       "      <td>[-0.045902386, 0.013377778, 0.10439102, 0.0762...</td>\n",
       "    </tr>\n",
       "    <tr>\n",
       "      <th>10111</th>\n",
       "      <td>118eb919e64fc55d82d5071ae893561a3f4af4b6</td>\n",
       "      <td>Engineering RNA for Targeted siRNA Delivery an...</td>\n",
       "      <td>Peixuan Guo, Oana Coban, Nicholas M Snead, Joe...</td>\n",
       "      <td>Peixuan Guo (University of Cincinnati, 45221, ...</td>\n",
       "      <td>RNA engineering for nanotechnology and medical...</td>\n",
       "      <td>Cationic One research area in the emergent pop...</td>\n",
       "      <td>The developments of semisynthetic DNA-protein ...</td>\n",
       "      <td>[{'first': 'Peixuan', 'middle': [], 'last': 'G...</td>\n",
       "      <td>{'BIBREF0': {'ref_id': 'b0', 'title': 'The dev...</td>\n",
       "      <td>[-0.027020544, -0.27465627, 0.03603824, 0.0558...</td>\n",
       "    </tr>\n",
       "    <tr>\n",
       "      <th>10160</th>\n",
       "      <td>88830e061b50d27536ef609ba2306bacdee78d57</td>\n",
       "      <td>Labouring geography: Negotiating scales, strat...</td>\n",
       "      <td>Steven Tufts, Lydia Savage</td>\n",
       "      <td>Steven Tufts (York University, 4700 Keele Stre...</td>\n",
       "      <td></td>\n",
       "      <td>In our editorial introduction to this themed i...</td>\n",
       "      <td>Geographies of the justice for janitors, L L M...</td>\n",
       "      <td>[{'first': 'Steven', 'middle': [], 'last': 'Tu...</td>\n",
       "      <td>{'BIBREF0': {'ref_id': 'b0', 'title': 'Geograp...</td>\n",
       "      <td>[1.2984944e-07, 1.077821e-07, 1.2727945e-07, 1...</td>\n",
       "    </tr>\n",
       "    <tr>\n",
       "      <th>3634</th>\n",
       "      <td>e10a3c96080f79b0406b3f938edd28236ab6b439</td>\n",
       "      <td>Immunogenicity of a killed Leishmania vaccine ...</td>\n",
       "      <td>Rodolfo Cordeiro Giunchetti, Rodrigo Corrêa-Ol...</td>\n",
       "      <td>Rodolfo Cordeiro Giunchetti (Universidade Fede...</td>\n",
       "      <td>Cellular and humoral immune responses of dogs ...</td>\n",
       "      <td>Canine visceral leishmaniasis (CVL) is caused ...</td>\n",
       "      <td>Leishmaniasis: current situation and new persp...</td>\n",
       "      <td>[{'first': 'Rodolfo', 'middle': ['Cordeiro'], ...</td>\n",
       "      <td>{'BIBREF0': {'ref_id': 'b0', 'title': 'Leishma...</td>\n",
       "      <td>[-0.103918254, -0.024204537, 0.020135406, 0.17...</td>\n",
       "    </tr>\n",
       "    <tr>\n",
       "      <th>3265</th>\n",
       "      <td>cb91fc4ab4d7aff52357bfc8830954bcacdf5f30</td>\n",
       "      <td>In vitro and ex vivo analyses of co-infections...</td>\n",
       "      <td>I Dobrescu, B Levast, K Lai, M Delgado-Ortega,...</td>\n",
       "      <td>I Dobrescu (University of Saskatchewan, 120 Ve...</td>\n",
       "      <td></td>\n",
       "      <td>In vitro and ex vivo analyses of co-infections...</td>\n",
       "      <td>Differential sensitivity of well-differentiate...</td>\n",
       "      <td>[{'first': 'I', 'middle': [], 'last': 'Dobresc...</td>\n",
       "      <td>{'BIBREF0': {'ref_id': 'b0', 'title': 'Differe...</td>\n",
       "      <td>[1.2984944e-07, 1.077821e-07, 1.2727945e-07, 1...</td>\n",
       "    </tr>\n",
       "  </tbody>\n",
       "</table>\n",
       "</div>"
      ],
      "text/plain": [
       "                                       paper_id  \\\n",
       "10486  ac93c3f7b9207fea7f888e2c53950c66e96b072f   \n",
       "10111  118eb919e64fc55d82d5071ae893561a3f4af4b6   \n",
       "10160  88830e061b50d27536ef609ba2306bacdee78d57   \n",
       "3634   e10a3c96080f79b0406b3f938edd28236ab6b439   \n",
       "3265   cb91fc4ab4d7aff52357bfc8830954bcacdf5f30   \n",
       "\n",
       "                                                   title  \\\n",
       "10486  Importance of Viral Disease in Dairy Cow Ferti...   \n",
       "10111  Engineering RNA for Targeted siRNA Delivery an...   \n",
       "10160  Labouring geography: Negotiating scales, strat...   \n",
       "3634   Immunogenicity of a killed Leishmania vaccine ...   \n",
       "3265   In vitro and ex vivo analyses of co-infections...   \n",
       "\n",
       "                                                 authors  \\\n",
       "10486  D Claire Wathes, Chike F Oguejiofor, Carole Th...   \n",
       "10111  Peixuan Guo, Oana Coban, Nicholas M Snead, Joe...   \n",
       "10160                         Steven Tufts, Lydia Savage   \n",
       "3634   Rodolfo Cordeiro Giunchetti, Rodrigo Corrêa-Ol...   \n",
       "3265   I Dobrescu, B Levast, K Lai, M Delgado-Ortega,...   \n",
       "\n",
       "                                            affiliations  \\\n",
       "10486  D Claire Wathes (Royal Veterinary College, AL9...   \n",
       "10111  Peixuan Guo (University of Cincinnati, 45221, ...   \n",
       "10160  Steven Tufts (York University, 4700 Keele Stre...   \n",
       "3634   Rodolfo Cordeiro Giunchetti (Universidade Fede...   \n",
       "3265   I Dobrescu (University of Saskatchewan, 120 Ve...   \n",
       "\n",
       "                                                abstract  \\\n",
       "10486  Many viral diseases are endemic in cattle popu...   \n",
       "10111  RNA engineering for nanotechnology and medical...   \n",
       "10160                                                      \n",
       "3634   Cellular and humoral immune responses of dogs ...   \n",
       "3265                                                       \n",
       "\n",
       "                                                    text  \\\n",
       "10486  Although viral disease remains a major cause o...   \n",
       "10111  Cationic One research area in the emergent pop...   \n",
       "10160  In our editorial introduction to this themed i...   \n",
       "3634   Canine visceral leishmaniasis (CVL) is caused ...   \n",
       "3265   In vitro and ex vivo analyses of co-infections...   \n",
       "\n",
       "                                            bibliography  \\\n",
       "10486  Potential applications for antiviral therapy a...   \n",
       "10111  The developments of semisynthetic DNA-protein ...   \n",
       "10160  Geographies of the justice for janitors, L L M...   \n",
       "3634   Leishmaniasis: current situation and new persp...   \n",
       "3265   Differential sensitivity of well-differentiate...   \n",
       "\n",
       "                                             raw_authors  \\\n",
       "10486  [{'first': 'D', 'middle': ['Claire'], 'last': ...   \n",
       "10111  [{'first': 'Peixuan', 'middle': [], 'last': 'G...   \n",
       "10160  [{'first': 'Steven', 'middle': [], 'last': 'Tu...   \n",
       "3634   [{'first': 'Rodolfo', 'middle': ['Cordeiro'], ...   \n",
       "3265   [{'first': 'I', 'middle': [], 'last': 'Dobresc...   \n",
       "\n",
       "                                        raw_bibliography  \\\n",
       "10486  {'BIBREF0': {'ref_id': 'b0', 'title': 'Potenti...   \n",
       "10111  {'BIBREF0': {'ref_id': 'b0', 'title': 'The dev...   \n",
       "10160  {'BIBREF0': {'ref_id': 'b0', 'title': 'Geograp...   \n",
       "3634   {'BIBREF0': {'ref_id': 'b0', 'title': 'Leishma...   \n",
       "3265   {'BIBREF0': {'ref_id': 'b0', 'title': 'Differe...   \n",
       "\n",
       "                                         abstract_vector  \n",
       "10486  [-0.045902386, 0.013377778, 0.10439102, 0.0762...  \n",
       "10111  [-0.027020544, -0.27465627, 0.03603824, 0.0558...  \n",
       "10160  [1.2984944e-07, 1.077821e-07, 1.2727945e-07, 1...  \n",
       "3634   [-0.103918254, -0.024204537, 0.020135406, 0.17...  \n",
       "3265   [1.2984944e-07, 1.077821e-07, 1.2727945e-07, 1...  "
      ]
     },
     "execution_count": 16,
     "metadata": {},
     "output_type": "execute_result"
    }
   ],
   "source": [
    "train_df.head()"
   ]
  },
  {
   "cell_type": "code",
   "execution_count": 17,
   "metadata": {},
   "outputs": [],
   "source": [
    "list_of_tasks = [task_1, task_2, task_3, task_4, task_5, task_6, task_7, task_8, task_9]"
   ]
  },
  {
   "cell_type": "code",
   "execution_count": 18,
   "metadata": {},
   "outputs": [],
   "source": [
    "def get_sif_vector(string, model):\n",
    "    tmp = (string.split(), 0)\n",
    "    return model.infer([tmp])\n",
    "\n",
    "array_of_tasks = [get_sif_vector(task, se)[0].tolist() for task in list_of_tasks]"
   ]
  },
  {
   "cell_type": "code",
   "execution_count": 19,
   "metadata": {},
   "outputs": [
    {
     "data": {
      "text/plain": [
       "(20123, 10)"
      ]
     },
     "execution_count": 19,
     "metadata": {},
     "output_type": "execute_result"
    }
   ],
   "source": [
    "# Nearest Neigbors search\n",
    "\n",
    "train_df = train_df[train_df['abstract'].apply(lambda x: len(re.findall(r\"(?i)\\b[a-z]+\\b\", x))) > 40]\n",
    "train_df.shape"
   ]
  },
  {
   "cell_type": "code",
   "execution_count": 20,
   "metadata": {},
   "outputs": [
    {
     "name": "stdout",
     "output_type": "stream",
     "text": [
      "================================================================================ \n",
      "\n",
      "Task = What is known about transmission, incubation, and environmental stability of COVID-19? What do we kn\n",
      "\n",
      " Text index = 12626 \n",
      " Distance = 0.6470927481960151 \n",
      " Title: Local risk perception enhances epidemic control \n",
      " Abstract extract: As infectious disease outbreaks emerge, public health agencies often enact vaccination and social distancing measures to slow transmission. Their success depends on not only strategies and resources, \n",
      "\n",
      "\n",
      " Text index = 4189 \n",
      " Distance = 0.6727897296695343 \n",
      " Title: Microbiological Safety of Drinking Water: United States and Global Perspectives \n",
      " Abstract extract: Waterborne disease statistics only begin to estimate the global burden of infectious diseases from contaminated drinking water. Diarrheal disease is dramatically underreported and etiologies seldom di\n",
      "\n",
      "\n",
      " Text index = 4707 \n",
      " Distance = 0.6821205657573667 \n",
      " Title: Role of viral bioaerosols in nosocomial infections and measures for prevention and control \n",
      " Abstract extract: The presence of patients with diverse pathologies in hospitals results in an environment that can be rich in various microorganisms including respiratory and enteric viruses, leading to outbreaks in h\n",
      "\n",
      "\n",
      "================================================================================ \n",
      "\n",
      "Task = What do we know about COVID-19 risk factors? What have we learned from epidemiological studies?\n",
      "Data\n",
      "\n",
      " Text index = 11492 \n",
      " Distance = 0.8912855202031705 \n",
      " Title: Understanding community perceptions, social norms and current practice related to respiratory infection in Bangladesh during 2009: a qualitative formative study \n",
      " Abstract extract: Background: Respiratory infections are the leading cause of childhood deaths in Bangladesh. Promoting respiratory hygiene may reduce infection transmission. This formative research explored community \n",
      "\n",
      "\n",
      " Text index = 11075 \n",
      " Distance = 0.928338847218911 \n",
      " Title: Infections associated with adventure travel: A systematic review \n",
      " Abstract extract: Aim: To review infections associated with adventure travel. Methods: The PubMed, Embase and Scopus databases were searched combining the words infection with the following keywords: rafting, whitewate\n",
      "\n",
      "\n",
      " Text index = 13533 \n",
      " Distance = 0.9309710852003892 \n",
      " Title: Eff ects of smoking and solid-fuel use on COPD, lung cancer, and tuberculosis in China: a time-based, multiple risk factor, modelling study \n",
      " Abstract extract: Background Chronic obstructive pulmonary disease (COPD), lung cancer, and tuberculosis are three leading causes of death in China, where prevalences of smoking and solid-fuel use are also high. We aim\n",
      "\n",
      "\n",
      "================================================================================ \n",
      "\n",
      "Task = What do we know about virus genetics, origin, and evolution? What do we know about the virus origin \n",
      "\n",
      " Text index = 18951 \n",
      " Distance = 0.6327670463344572 \n",
      " Title: When Viruses Don't Go Viral: The Importance of Host Phylogeographic Structure in the Spatial Spread of Arenaviruses \n",
      " Abstract extract: Many emerging infections are RNA virus spillovers from animal reservoirs. Reservoir identification is necessary for predicting the geographic extent of infection risk, but rarely are taxonomic levels \n",
      "\n",
      "\n",
      " Text index = 19267 \n",
      " Distance = 0.6335971300808577 \n",
      " Title: Concerns about Misinterpretation of Recent Scientific Data Implicating Dromedary Camels in Epidemiology of Middle East Respiratory Syndrome (MERS) \n",
      " Abstract extract: T his letter addresses some concerns about two recent articles published by the same authors in mBio (1, 2), specifically many uncertainties regarding the potential applicability of their epidemiologi\n",
      "\n",
      "\n",
      " Text index = 7248 \n",
      " Distance = 0.6458130360778864 \n",
      " Title: viruses Virus Metagenomics in Farm Animals: A Systematic Review \n",
      " Abstract extract: A majority of emerging infectious diseases are of zoonotic origin. Metagenomic Next-Generation Sequencing (mNGS) has been employed to identify uncommon and novel infectious etiologies and characterize\n",
      "\n",
      "\n",
      "================================================================================ \n",
      "\n",
      "Task = What do we know about vaccines and therapeutics? What has been published concerning research and dev\n",
      "\n",
      " Text index = 6983 \n",
      " Distance = 0.7012852524916606 \n",
      " Title: Chikungunya as a paradigm for emerging viral diseases: Evaluating disease impact and hurdles to vaccine development \n",
      " Abstract extract: Chikungunya fever (CHIKF) is an emerging infectious disease caused by an alphavirus transmitted by Aedes spp. mosquitoes. Because mosquito control programs are not highly efficient for outbreak contai\n",
      "\n",
      "\n",
      " Text index = 4852 \n",
      " Distance = 0.7203941366009344 \n",
      " Title: Clinical Trials of Vaccines for Biodefense and Emerging and Neglected Diseases 12 12 Introduction Historical Considerations Regulatory issues Ethical issues Stages of Vaccine Development Overview Pre-IND stage IND stage Phase 1 clinical trials Phase 2 clinical trials Phase 3 clinical trials Phase 4 clinical trials Clinical Trial Protocol Development Background and rationale Objectives and purpose Study design Study population Study agent/interventions Study procedures and evaluations Study schedule Assessment of safety Clinical monitoring Statistical considerations Quality management Ethics/protection of human subjects Data management and record keeping Other considerations II. FUNDAMENTAL ASPECTS OF VACCINOLOGY CLINICAL TRIALS OF VACCINES FOR BIODEFENSE AND EMERGING AND NEGLECTED DISEASES 158 \n",
      " Abstract extract: The development of safe and effective vaccines for the prevention and control of emerging and neglected infectious diseases is an international priority, as is the development of similar control measu\n",
      "\n",
      "\n",
      " Text index = 2899 \n",
      " Distance = 0.7322287871668599 \n",
      " Title: NICEATM-ICCVAM # International Workshop on Alternative Methods to Reduce, Refine, and Replace the Use of Animals in Vaccine Potency and Safety Testing: Non-animal replacement methods for human vaccine potency testing: state of the science and future directions peer-review under responsibility of the National Toxicology Program Interagency Center for the Evaluation of Alternative Toxicological Methods (NICEATM). peer-review under responsibility of the National Toxicology Program Interagency Center for the Evaluation of Alternative Toxicological Methods (NICEATM). peer-review under responsibility of the National Toxicology Program Interagency Center for the Evaluation of Alternative Toxicological Methods (NICEATM) \n",
      " Abstract extract: NICEATM and ICCVAM convened an international workshop to review the state of the science of human and veterinary vaccine potency and safety testing methods, and to identify opportunities to advance ne\n",
      "\n",
      "\n",
      "================================================================================ \n",
      "\n",
      "Task = What do we know about the effectiveness of non-pharmaceutical interventions? What is known about equ\n",
      "\n",
      " Text index = 11084 \n",
      " Distance = 0.6495176023458606 \n",
      " Title: In the eye of the beholder: to make global health estimates useful, make them more socially robust Bringing the indicators home: Country perspective on the utility of global 40 estimates for health indicators (WHO) \n",
      " Abstract extract: A plethora of new development goals and funding institutions have greatly increased the demand for internationally comparable health estimates in recent years, and have brought important new players i\n",
      "\n",
      "\n",
      " Text index = 10726 \n",
      " Distance = 0.6565459389976565 \n",
      " Title: Street-level diplomacy and local enforcement for meat safety in northern Tanzania: knowledge, pragmatism and trust \n",
      " Abstract extract: Background: With increasing demand for red meat in Tanzania comes heightened potential for zoonotic infections in animals and humans that disproportionately affect poor communities. A range of frontli\n",
      "\n",
      "\n",
      " Text index = 8326 \n",
      " Distance = 0.6794283920044332 \n",
      " Title: Strategies for managing risk in a changing aviation environment \n",
      " Abstract extract: Given the increasing volatility in the economic performance of airlines, partially reflecting the dynamics of demand for air transport and the fixed costs associated with the industry, all stakeholder\n",
      "\n",
      "\n",
      "================================================================================ \n",
      "\n",
      "Task = What do we know about diagnostics and surveillance? What has been published concerning systematic, h\n",
      "\n",
      " Text index = 5711 \n",
      " Distance = 0.5951410265568775 \n",
      " Title: Halton et al. A systematic review of community-based interventions for emerging zoonotic infectious diseases in Southeast Asia A systematic review of community-based interventions for emerging zoonotic infectious diseases in Southeast Asia Halton et al. A systematic review of community-based interventions for emerging zoonotic infectious diseases in Southeast Asia Halton et al. A systematic review of community-based interventions for emerging zoonotic infectious diseases in Southeast Asia Implications for practice Halton et al. A systematic review of community-based interventions for emerging zoonotic infectious diseases in Southeast Asia Figure 1: Framework for evaluating the impact of context and behavioural mechanisms on intervention outcomes Review objective/questions \n",
      " Abstract extract: Background Southeast Asia has been at the epicentre of recent epidemics of emerging and re-emerging zoonotic diseases. Community-based surveillance and control interventions have been heavily promoted\n",
      "\n",
      "\n",
      " Text index = 17168 \n",
      " Distance = 0.6254133221337822 \n",
      " Title: High Throughput Sequencing for Detection of Foodborne Pathogens \n",
      " Abstract extract: High-throughput sequencing (HTS) is becoming the state-of-the-art technology for typing of microbial isolates, especially in clinical samples. Yet, its application is still in its infancy for monitori\n",
      "\n",
      "\n",
      " Text index = 16320 \n",
      " Distance = 0.6288838294807861 \n",
      " Title: Non-culturable bioaerosols in indoor settings: Impact on health and molecular approaches for detection \n",
      " Abstract extract: Non-culturable fraction of bioaerosols is important but still misunderstood. Airborne non-culturable agents can be hazardous for human respiratory health. Molecular tools allow the detection of airbor\n",
      "\n",
      "\n",
      "================================================================================ \n",
      "\n",
      "Task = What has been published about medical care? What has been published concerning surge capacity and nu\n",
      "\n",
      " Text index = 7852 \n",
      " Distance = 0.6223933311736556 \n",
      " Title: The Heart and Toxins \n",
      " Abstract extract: lack of physician communication, and poor interpersonal skills. The trial attorneys believe that the threat of litigation makes doctors discharge their services more safely. 7 A deep-seated tension ex\n",
      "\n",
      "\n",
      " Text index = 14218 \n",
      " Distance = 0.6235340211220196 \n",
      " Title: Emergency Department Design \n",
      " Abstract extract: In the United States, hospitals build new emergency departments (EDs) every 15 to 20 years. Renovations of existing EDs occur every 5 to 10 years. The main concerns of ED designers are providing effic\n",
      "\n",
      "\n",
      " Text index = 4200 \n",
      " Distance = 0.6370221691813495 \n",
      " Title: The Future of Emergency Medicine Public Health Research \n",
      " Abstract extract: The distinguishing feature of public health research is its focus on assessing, measuring, and monitoring the health of populations; in contrast, traditional biomedical research focuses on studying di\n",
      "\n",
      "\n",
      "================================================================================ \n",
      "\n",
      "Task = What has been published concerning ethical considerations for research? What has been published conc\n",
      "\n",
      " Text index = 4217 \n",
      " Distance = 0.4938456077914895 \n",
      " Title: Towards evidence-based, GIS-driven national spatial health information infrastructure and surveillance services in the United Kingdom \n",
      " Abstract extract: The term \"Geographic Information Systems\" (GIS) has been added to MeSH in 2003, a step reflecting the importance and growing use of GIS in health and healthcare research and practices. GIS have much m\n",
      "\n",
      "\n",
      " Text index = 5743 \n",
      " Distance = 0.5579966733589196 \n",
      " Title: BMC Public Health Applying the balanced scorecard to local public health performance measurement: deliberations and decisions \n",
      " Abstract extract: Background: All aspects of the heath care sector are being asked to account for their performance. This poses unique challenges for local public health units with their traditional focus on population\n",
      "\n",
      "\n",
      " Text index = 4990 \n",
      " Distance = 0.5690959049511142 \n",
      " Title: Tropical Medicine and Infectious Disease Policy and Science for Global Health Security: Shaping the Course of International Health \n",
      " Abstract extract: The global burden of infectious diseases and the increased attention to natural, accidental, and deliberate biological threats has resulted in significant investment in infectious disease research. Tr\n",
      "\n",
      "\n",
      "================================================================================ \n",
      "\n",
      "Task = What has been published about information sharing and inter-sectoral collaboration? What has been pu\n",
      "\n",
      " Text index = 18711 \n",
      " Distance = 0.5935687876436244 \n",
      " Title: 653-662 Lor et al \n",
      " Abstract extract: Background: Recognizing the importance of having a broad exploration of how cultural perspectives may shape thinking about ethical considerations, the Centers for Disease Control and Prevention (CDC) \n",
      "\n",
      "\n",
      " Text index = 18982 \n",
      " Distance = 0.6092448213969236 \n",
      " Title: Using exercises to improve public health preparedness in Asia, the Middle East and Africa \n",
      " Abstract extract: Background: Exercises are increasingly common tools used by the health sector and other sectors to evaluate their preparedness to respond to public health threats. Exercises provide an opportunity for\n",
      "\n",
      "\n",
      " Text index = 17572 \n",
      " Distance = 0.6503590383360911 \n",
      " Title: INQUIRY: The Journal of Health Care Organization, Provision, and Financing \n",
      " Abstract extract: Physicians play multiple roles in a health system. They typically serve simultaneously as the agent for patients, for insurers, for their own medical practices, and for the hospital facilities where t\n",
      "\n",
      "\n"
     ]
    }
   ],
   "source": [
    "train_array = train_df['abstract_vector'].values.tolist()\n",
    "ball_tree = NearestNeighbors(algorithm = 'ball_tree', leaf_size = 20).fit(train_array)\n",
    "\n",
    "# Query for all tasks\n",
    "distances, indices = ball_tree.kneighbors(array_of_tasks, n_neighbors = 3)\n",
    "for i, info in enumerate(list_of_tasks):\n",
    "    print(\"=\"*80, f\"\\n\\nTask = {info[:100]}\\n\", )\n",
    "    df =  train_df.iloc[indices[i]]\n",
    "    abstracts = df['abstract']\n",
    "    titles = df['title']\n",
    "    dist = distances[i]\n",
    "    for l in range(len(dist)):\n",
    "        print(f\" Text index = {indices[i][l]} \\n Distance = {distances[i][l]} \\n Title: {titles.iloc[l]} \\n Abstract extract: {abstracts.iloc[l][:200]}\\n\\n\")"
   ]
  },
  {
   "cell_type": "code",
   "execution_count": null,
   "metadata": {},
   "outputs": [],
   "source": []
  }
 ],
 "metadata": {
  "kernelspec": {
   "display_name": "Python 3",
   "language": "python",
   "name": "python3"
  },
  "language_info": {
   "codemirror_mode": {
    "name": "ipython",
    "version": 3
   },
   "file_extension": ".py",
   "mimetype": "text/x-python",
   "name": "python",
   "nbconvert_exporter": "python",
   "pygments_lexer": "ipython3",
   "version": "3.7.7"
  }
 },
 "nbformat": 4,
 "nbformat_minor": 4
}
