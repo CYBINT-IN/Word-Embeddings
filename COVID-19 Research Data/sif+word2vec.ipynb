{
 "cells": [
  {
   "cell_type": "code",
   "execution_count": 1,
   "metadata": {},
   "outputs": [],
   "source": [
    "import os\n",
    "import re\n",
    "import fse\n",
    "import json\n",
    "import utils\n",
    "import random\n",
    "import gensim\n",
    "import warnings\n",
    "\n",
    "import numpy as np\n",
    "import pandas as pd\n",
    "\n",
    "from tasks import *\n",
    "from pprint import pprint\n",
    "from tqdm.notebook import tqdm"
   ]
  },
  {
   "cell_type": "code",
   "execution_count": 2,
   "metadata": {},
   "outputs": [
    {
     "name": "stdout",
     "output_type": "stream",
     "text": [
      "Number of articles retrieved from biorxiv: 885\n"
     ]
    }
   ],
   "source": [
    "biorxiv_dir = 'data/biorxiv_medrxiv/biorxiv_medrxiv/'\n",
    "filenames = os.listdir(biorxiv_dir)\n",
    "print(\"Number of articles retrieved from biorxiv:\", len(filenames))"
   ]
  },
  {
   "cell_type": "code",
   "execution_count": 3,
   "metadata": {},
   "outputs": [],
   "source": [
    "all_files = []\n",
    "\n",
    "for filename in filenames:\n",
    "    filename = biorxiv_dir + filename\n",
    "    file = json.load(open(filename, 'rb'))\n",
    "    all_files.append(file)"
   ]
  },
  {
   "cell_type": "code",
   "execution_count": 4,
   "metadata": {},
   "outputs": [
    {
     "data": {
      "application/vnd.jupyter.widget-view+json": {
       "model_id": "89dd1b866ca045e5a1696ec5d507da6c",
       "version_major": 2,
       "version_minor": 0
      },
      "text/plain": [
       "HBox(children=(FloatProgress(value=0.0, max=885.0), HTML(value='')))"
      ]
     },
     "metadata": {},
     "output_type": "display_data"
    },
    {
     "name": "stdout",
     "output_type": "stream",
     "text": [
      "\n"
     ]
    }
   ],
   "source": [
    "cleaned_files = []\n",
    "\n",
    "for file in tqdm(all_files):\n",
    "    features = [\n",
    "        file['paper_id'],\n",
    "        file['metadata']['title'],\n",
    "        utils.format_authors(file['metadata']['authors']),\n",
    "        utils.format_authors(file['metadata']['authors'], \n",
    "                       with_affiliation = True),\n",
    "        utils.format_body(file['abstract']),\n",
    "        utils.format_body(file['body_text']),\n",
    "        utils.format_bib(file['bib_entries']),\n",
    "        file['metadata']['authors'],\n",
    "        file['bib_entries']\n",
    "    ]\n",
    "    \n",
    "    cleaned_files.append(features)"
   ]
  },
  {
   "cell_type": "code",
   "execution_count": 5,
   "metadata": {},
   "outputs": [],
   "source": [
    "col_names = [\n",
    "    'paper_id', \n",
    "    'title', \n",
    "    'authors',\n",
    "    'affiliations', \n",
    "    'abstract', \n",
    "    'text', \n",
    "    'bibliography',\n",
    "    'raw_authors',\n",
    "    'raw_bibliography'\n",
    "]\n",
    "\n",
    "clean_df = pd.DataFrame(cleaned_files, columns = col_names)"
   ]
  },
  {
   "cell_type": "code",
   "execution_count": 6,
   "metadata": {},
   "outputs": [
    {
     "name": "stderr",
     "output_type": "stream",
     "text": [
      "100%|██████████| 16959/16959 [04:50<00:00, 58.34it/s]\n",
      "100%|██████████| 16959/16959 [00:42<00:00, 397.04it/s]\n"
     ]
    }
   ],
   "source": [
    "pmc_dir = 'data/custom_license/custom_license/'\n",
    "pmc_files = utils.load_files(pmc_dir)\n",
    "pmc_df = utils.generate_clean_df(pmc_files)"
   ]
  },
  {
   "cell_type": "code",
   "execution_count": 7,
   "metadata": {},
   "outputs": [
    {
     "name": "stderr",
     "output_type": "stream",
     "text": [
      "100%|██████████| 9118/9118 [02:23<00:00, 63.62it/s]\n",
      "100%|██████████| 9118/9118 [00:26<00:00, 346.75it/s]\n"
     ]
    }
   ],
   "source": [
    "comm_dir = 'data/comm_use_subset/comm_use_subset/'\n",
    "comm_files = utils.load_files(comm_dir)\n",
    "comm_df = utils.generate_clean_df(comm_files)"
   ]
  },
  {
   "cell_type": "code",
   "execution_count": 8,
   "metadata": {},
   "outputs": [
    {
     "name": "stderr",
     "output_type": "stream",
     "text": [
      "100%|██████████| 2353/2353 [00:32<00:00, 71.35it/s] \n",
      "100%|██████████| 2353/2353 [00:04<00:00, 487.72it/s]\n"
     ]
    }
   ],
   "source": [
    "noncomm_dir = 'data/noncomm_use_subset/noncomm_use_subset/'\n",
    "noncomm_files = utils.load_files(noncomm_dir)\n",
    "noncomm_df = utils.generate_clean_df(noncomm_files)"
   ]
  },
  {
   "cell_type": "code",
   "execution_count": 9,
   "metadata": {},
   "outputs": [],
   "source": [
    "complete_df = pd.concat([clean_df, pmc_df, comm_df, noncomm_df])"
   ]
  },
  {
   "cell_type": "code",
   "execution_count": 10,
   "metadata": {},
   "outputs": [],
   "source": [
    "complete_df = complete_df[complete_df['text'].apply(lambda x: len(re.findall(r\"(?i)\\b[a-z]+\\b\", x))) > 1000] "
   ]
  },
  {
   "cell_type": "code",
   "execution_count": 11,
   "metadata": {},
   "outputs": [],
   "source": [
    "frac_of_articles = 1\n",
    "train_df  = complete_df.sample(frac = frac_of_articles, random_state = 42)\n",
    "train_corpus = [i.split() for i in train_df[\"abstract\"]] \n",
    "il = fse.IndexedList(train_corpus)"
   ]
  },
  {
   "cell_type": "code",
   "execution_count": 12,
   "metadata": {},
   "outputs": [
    {
     "data": {
      "text/plain": [
       "(16976173, 23391565)"
      ]
     },
     "execution_count": 12,
     "metadata": {},
     "output_type": "execute_result"
    }
   ],
   "source": [
    "model = gensim.models.Word2Vec(min_count = 10, seed = 42, workers = 6)\n",
    "model.build_vocab(train_corpus)\n",
    "model.train(train_corpus, total_examples = model.corpus_count, epochs = model.epochs)"
   ]
  },
  {
   "cell_type": "code",
   "execution_count": 13,
   "metadata": {},
   "outputs": [],
   "source": [
    "se = fse.models.SIF(model)\n",
    "se.train(il)"
   ]
  },
  {
   "cell_type": "code",
   "execution_count": 33,
   "metadata": {},
   "outputs": [],
   "source": [
    "vecs = []\n",
    "for i in range(len(se.sv)):\n",
    "    vecs.append(se.sv[i])"
   ]
  },
  {
   "cell_type": "code",
   "execution_count": 35,
   "metadata": {},
   "outputs": [],
   "source": [
    "train_df['abstract_vector'] = vecs"
   ]
  },
  {
   "cell_type": "code",
   "execution_count": 36,
   "metadata": {},
   "outputs": [
    {
     "data": {
      "text/html": [
       "<div>\n",
       "<style scoped>\n",
       "    .dataframe tbody tr th:only-of-type {\n",
       "        vertical-align: middle;\n",
       "    }\n",
       "\n",
       "    .dataframe tbody tr th {\n",
       "        vertical-align: top;\n",
       "    }\n",
       "\n",
       "    .dataframe thead th {\n",
       "        text-align: right;\n",
       "    }\n",
       "</style>\n",
       "<table border=\"1\" class=\"dataframe\">\n",
       "  <thead>\n",
       "    <tr style=\"text-align: right;\">\n",
       "      <th></th>\n",
       "      <th>paper_id</th>\n",
       "      <th>title</th>\n",
       "      <th>authors</th>\n",
       "      <th>affiliations</th>\n",
       "      <th>abstract</th>\n",
       "      <th>text</th>\n",
       "      <th>bibliography</th>\n",
       "      <th>raw_authors</th>\n",
       "      <th>raw_bibliography</th>\n",
       "      <th>abstract_vector</th>\n",
       "    </tr>\n",
       "  </thead>\n",
       "  <tbody>\n",
       "    <tr>\n",
       "      <th>10486</th>\n",
       "      <td>ac93c3f7b9207fea7f888e2c53950c66e96b072f</td>\n",
       "      <td>Importance of Viral Disease in Dairy Cow Ferti...</td>\n",
       "      <td>D Claire Wathes, Chike F Oguejiofor, Carole Th...</td>\n",
       "      <td>D Claire Wathes (Royal Veterinary College, AL9...</td>\n",
       "      <td>Many viral diseases are endemic in cattle popu...</td>\n",
       "      <td>Although viral disease remains a major cause o...</td>\n",
       "      <td>Potential applications for antiviral therapy a...</td>\n",
       "      <td>[{'first': 'D', 'middle': ['Claire'], 'last': ...</td>\n",
       "      <td>{'BIBREF0': {'ref_id': 'b0', 'title': 'Potenti...</td>\n",
       "      <td>[-0.08560004, -0.09882225, -0.15302151, 0.1018...</td>\n",
       "    </tr>\n",
       "    <tr>\n",
       "      <th>10111</th>\n",
       "      <td>118eb919e64fc55d82d5071ae893561a3f4af4b6</td>\n",
       "      <td>Engineering RNA for Targeted siRNA Delivery an...</td>\n",
       "      <td>Peixuan Guo, Oana Coban, Nicholas M Snead, Joe...</td>\n",
       "      <td>Peixuan Guo (University of Cincinnati, 45221, ...</td>\n",
       "      <td>RNA engineering for nanotechnology and medical...</td>\n",
       "      <td>Cationic One research area in the emergent pop...</td>\n",
       "      <td>The developments of semisynthetic DNA-protein ...</td>\n",
       "      <td>[{'first': 'Peixuan', 'middle': [], 'last': 'G...</td>\n",
       "      <td>{'BIBREF0': {'ref_id': 'b0', 'title': 'The dev...</td>\n",
       "      <td>[0.19373953, -0.036176935, 0.15033433, -0.0580...</td>\n",
       "    </tr>\n",
       "    <tr>\n",
       "      <th>10160</th>\n",
       "      <td>88830e061b50d27536ef609ba2306bacdee78d57</td>\n",
       "      <td>Labouring geography: Negotiating scales, strat...</td>\n",
       "      <td>Steven Tufts, Lydia Savage</td>\n",
       "      <td>Steven Tufts (York University, 4700 Keele Stre...</td>\n",
       "      <td></td>\n",
       "      <td>In our editorial introduction to this themed i...</td>\n",
       "      <td>Geographies of the justice for janitors, L L M...</td>\n",
       "      <td>[{'first': 'Steven', 'middle': [], 'last': 'Tu...</td>\n",
       "      <td>{'BIBREF0': {'ref_id': 'b0', 'title': 'Geograp...</td>\n",
       "      <td>[1.174044e-07, 1.1362632e-07, 1.2430547e-07, 1...</td>\n",
       "    </tr>\n",
       "    <tr>\n",
       "      <th>3634</th>\n",
       "      <td>e10a3c96080f79b0406b3f938edd28236ab6b439</td>\n",
       "      <td>Immunogenicity of a killed Leishmania vaccine ...</td>\n",
       "      <td>Rodolfo Cordeiro Giunchetti, Rodrigo Corrêa-Ol...</td>\n",
       "      <td>Rodolfo Cordeiro Giunchetti (Universidade Fede...</td>\n",
       "      <td>Cellular and humoral immune responses of dogs ...</td>\n",
       "      <td>Canine visceral leishmaniasis (CVL) is caused ...</td>\n",
       "      <td>Leishmaniasis: current situation and new persp...</td>\n",
       "      <td>[{'first': 'Rodolfo', 'middle': ['Cordeiro'], ...</td>\n",
       "      <td>{'BIBREF0': {'ref_id': 'b0', 'title': 'Leishma...</td>\n",
       "      <td>[0.07127799, 0.11206261, -0.2715377, -0.019525...</td>\n",
       "    </tr>\n",
       "    <tr>\n",
       "      <th>3265</th>\n",
       "      <td>cb91fc4ab4d7aff52357bfc8830954bcacdf5f30</td>\n",
       "      <td>In vitro and ex vivo analyses of co-infections...</td>\n",
       "      <td>I Dobrescu, B Levast, K Lai, M Delgado-Ortega,...</td>\n",
       "      <td>I Dobrescu (University of Saskatchewan, 120 Ve...</td>\n",
       "      <td></td>\n",
       "      <td>In vitro and ex vivo analyses of co-infections...</td>\n",
       "      <td>Differential sensitivity of well-differentiate...</td>\n",
       "      <td>[{'first': 'I', 'middle': [], 'last': 'Dobresc...</td>\n",
       "      <td>{'BIBREF0': {'ref_id': 'b0', 'title': 'Differe...</td>\n",
       "      <td>[1.174044e-07, 1.1362632e-07, 1.2430547e-07, 1...</td>\n",
       "    </tr>\n",
       "  </tbody>\n",
       "</table>\n",
       "</div>"
      ],
      "text/plain": [
       "                                       paper_id  \\\n",
       "10486  ac93c3f7b9207fea7f888e2c53950c66e96b072f   \n",
       "10111  118eb919e64fc55d82d5071ae893561a3f4af4b6   \n",
       "10160  88830e061b50d27536ef609ba2306bacdee78d57   \n",
       "3634   e10a3c96080f79b0406b3f938edd28236ab6b439   \n",
       "3265   cb91fc4ab4d7aff52357bfc8830954bcacdf5f30   \n",
       "\n",
       "                                                   title  \\\n",
       "10486  Importance of Viral Disease in Dairy Cow Ferti...   \n",
       "10111  Engineering RNA for Targeted siRNA Delivery an...   \n",
       "10160  Labouring geography: Negotiating scales, strat...   \n",
       "3634   Immunogenicity of a killed Leishmania vaccine ...   \n",
       "3265   In vitro and ex vivo analyses of co-infections...   \n",
       "\n",
       "                                                 authors  \\\n",
       "10486  D Claire Wathes, Chike F Oguejiofor, Carole Th...   \n",
       "10111  Peixuan Guo, Oana Coban, Nicholas M Snead, Joe...   \n",
       "10160                         Steven Tufts, Lydia Savage   \n",
       "3634   Rodolfo Cordeiro Giunchetti, Rodrigo Corrêa-Ol...   \n",
       "3265   I Dobrescu, B Levast, K Lai, M Delgado-Ortega,...   \n",
       "\n",
       "                                            affiliations  \\\n",
       "10486  D Claire Wathes (Royal Veterinary College, AL9...   \n",
       "10111  Peixuan Guo (University of Cincinnati, 45221, ...   \n",
       "10160  Steven Tufts (York University, 4700 Keele Stre...   \n",
       "3634   Rodolfo Cordeiro Giunchetti (Universidade Fede...   \n",
       "3265   I Dobrescu (University of Saskatchewan, 120 Ve...   \n",
       "\n",
       "                                                abstract  \\\n",
       "10486  Many viral diseases are endemic in cattle popu...   \n",
       "10111  RNA engineering for nanotechnology and medical...   \n",
       "10160                                                      \n",
       "3634   Cellular and humoral immune responses of dogs ...   \n",
       "3265                                                       \n",
       "\n",
       "                                                    text  \\\n",
       "10486  Although viral disease remains a major cause o...   \n",
       "10111  Cationic One research area in the emergent pop...   \n",
       "10160  In our editorial introduction to this themed i...   \n",
       "3634   Canine visceral leishmaniasis (CVL) is caused ...   \n",
       "3265   In vitro and ex vivo analyses of co-infections...   \n",
       "\n",
       "                                            bibliography  \\\n",
       "10486  Potential applications for antiviral therapy a...   \n",
       "10111  The developments of semisynthetic DNA-protein ...   \n",
       "10160  Geographies of the justice for janitors, L L M...   \n",
       "3634   Leishmaniasis: current situation and new persp...   \n",
       "3265   Differential sensitivity of well-differentiate...   \n",
       "\n",
       "                                             raw_authors  \\\n",
       "10486  [{'first': 'D', 'middle': ['Claire'], 'last': ...   \n",
       "10111  [{'first': 'Peixuan', 'middle': [], 'last': 'G...   \n",
       "10160  [{'first': 'Steven', 'middle': [], 'last': 'Tu...   \n",
       "3634   [{'first': 'Rodolfo', 'middle': ['Cordeiro'], ...   \n",
       "3265   [{'first': 'I', 'middle': [], 'last': 'Dobresc...   \n",
       "\n",
       "                                        raw_bibliography  \\\n",
       "10486  {'BIBREF0': {'ref_id': 'b0', 'title': 'Potenti...   \n",
       "10111  {'BIBREF0': {'ref_id': 'b0', 'title': 'The dev...   \n",
       "10160  {'BIBREF0': {'ref_id': 'b0', 'title': 'Geograp...   \n",
       "3634   {'BIBREF0': {'ref_id': 'b0', 'title': 'Leishma...   \n",
       "3265   {'BIBREF0': {'ref_id': 'b0', 'title': 'Differe...   \n",
       "\n",
       "                                         abstract_vector  \n",
       "10486  [-0.08560004, -0.09882225, -0.15302151, 0.1018...  \n",
       "10111  [0.19373953, -0.036176935, 0.15033433, -0.0580...  \n",
       "10160  [1.174044e-07, 1.1362632e-07, 1.2430547e-07, 1...  \n",
       "3634   [0.07127799, 0.11206261, -0.2715377, -0.019525...  \n",
       "3265   [1.174044e-07, 1.1362632e-07, 1.2430547e-07, 1...  "
      ]
     },
     "execution_count": 36,
     "metadata": {},
     "output_type": "execute_result"
    }
   ],
   "source": [
    "train_df.head()"
   ]
  },
  {
   "cell_type": "code",
   "execution_count": 37,
   "metadata": {},
   "outputs": [],
   "source": [
    "list_of_tasks = [task_1, task_2, task_3, task_4, task_5, task_6, task_7, task_8, task_9]"
   ]
  },
  {
   "cell_type": "code",
   "execution_count": null,
   "metadata": {},
   "outputs": [],
   "source": [
    "def get_sif_vector(string, model):\n",
    "    tmp = (string.split(), 0)\n",
    "    return model.infer([tmp])\n",
    "\n",
    "array_of_tasks = [utils.get_doc_vector(task, model) for task in list_of_tasks]"
   ]
  }
 ],
 "metadata": {
  "kernelspec": {
   "display_name": "Python 3",
   "language": "python",
   "name": "python3"
  },
  "language_info": {
   "codemirror_mode": {
    "name": "ipython",
    "version": 3
   },
   "file_extension": ".py",
   "mimetype": "text/x-python",
   "name": "python",
   "nbconvert_exporter": "python",
   "pygments_lexer": "ipython3",
   "version": "3.7.7"
  }
 },
 "nbformat": 4,
 "nbformat_minor": 4
}
