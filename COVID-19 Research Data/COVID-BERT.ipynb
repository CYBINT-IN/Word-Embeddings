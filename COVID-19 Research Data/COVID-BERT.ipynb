{
 "cells": [
  {
   "cell_type": "code",
   "execution_count": 1,
   "metadata": {},
   "outputs": [],
   "source": [
    "import os\n",
    "import re\n",
    "import json\n",
    "import tokenizers\n",
    "import transformers\n",
    "\n",
    "import pandas as pd\n",
    "\n",
    "from tqdm import tqdm\n",
    "from pathlib import Path"
   ]
  },
  {
   "cell_type": "code",
   "execution_count": 2,
   "metadata": {},
   "outputs": [],
   "source": [
    "def basicPreprocess(text):\n",
    "    processed_text = text.lower()\n",
    "    processed_text = re.sub(r'\\W +', ' ', processed_text)\n",
    "    return processed_text"
   ]
  },
  {
   "cell_type": "code",
   "execution_count": 3,
   "metadata": {},
   "outputs": [],
   "source": [
    "complete_df = pd.read_csv(\"data/clean_df.csv\")"
   ]
  },
  {
   "cell_type": "code",
   "execution_count": 4,
   "metadata": {},
   "outputs": [],
   "source": [
    "data = complete_df.sample(frac = 1).sample(frac = 1)"
   ]
  },
  {
   "cell_type": "code",
   "execution_count": 5,
   "metadata": {},
   "outputs": [],
   "source": [
    "data.dropna(inplace = True)"
   ]
  },
  {
   "cell_type": "code",
   "execution_count": 6,
   "metadata": {},
   "outputs": [],
   "source": [
    "data = data[\"abstract\"].apply(basicPreprocess).replace(\"\\n\",\" \")"
   ]
  },
  {
   "cell_type": "code",
   "execution_count": 7,
   "metadata": {},
   "outputs": [],
   "source": [
    "txt_files_dir = \"text_splits\""
   ]
  },
  {
   "cell_type": "code",
   "execution_count": 8,
   "metadata": {},
   "outputs": [
    {
     "name": "stderr",
     "output_type": "stream",
     "text": [
      "100%|██████████| 40152/40152 [00:05<00:00, 6775.52it/s]\n"
     ]
    }
   ],
   "source": [
    "i = 0\n",
    "for row in tqdm(data.to_list()):\n",
    "    file_name = os.path.join(txt_files_dir, str(i)+'.txt')\n",
    "    f = open(file_name, 'w')\n",
    "    f.write(row)\n",
    "    f.close()\n",
    "    i += 1"
   ]
  },
  {
   "cell_type": "markdown",
   "metadata": {},
   "source": [
    "## Initialize Tokenizer"
   ]
  },
  {
   "cell_type": "code",
   "execution_count": 9,
   "metadata": {},
   "outputs": [],
   "source": [
    "paths = [str(x) for x in Path(txt_files_dir).glob(\"**/*.txt\")]\n",
    "\n",
    "tokenizer = tokenizers.ByteLevelBPETokenizer()\n",
    "\n",
    "vocab_size = 5000\n",
    "\n",
    "tokenizer.train(files = paths, vocab_size = vocab_size, min_frequency = 5, special_tokens = [\n",
    "    \"<s>\",\n",
    "    \"<pad>\",\n",
    "    \"</s>\",\n",
    "    \"<unk>\",\n",
    "    \"<mask>\",\n",
    "])"
   ]
  },
  {
   "cell_type": "markdown",
   "metadata": {},
   "source": [
    "## Train Test Split"
   ]
  },
  {
   "cell_type": "code",
   "execution_count": 10,
   "metadata": {},
   "outputs": [],
   "source": [
    "lm_data_dir = \"lm_data\""
   ]
  },
  {
   "cell_type": "code",
   "execution_count": 11,
   "metadata": {},
   "outputs": [],
   "source": [
    "train_split = 0.9\n",
    "train_data_size = int(len(data)*train_split)\n",
    "\n",
    "with open(os.path.join(lm_data_dir,'train.txt') , 'w') as f:\n",
    "    for item in data[:train_data_size].tolist():\n",
    "        f.write(\"%s\\n\" % item)\n",
    "\n",
    "with open(os.path.join(lm_data_dir,'eval.txt') , 'w') as f:\n",
    "    for item in data[train_data_size:].tolist():\n",
    "        f.write(\"%s\\n\" % item)"
   ]
  },
  {
   "cell_type": "code",
   "execution_count": 12,
   "metadata": {},
   "outputs": [
    {
     "data": {
      "text/plain": [
       "['models/COVID/COVID-BERT-vocab.json', 'models/COVID/COVID-BERT-merges.txt']"
      ]
     },
     "execution_count": 12,
     "metadata": {},
     "output_type": "execute_result"
    }
   ],
   "source": [
    "tokenizer.save(\"models/COVID\", \"COVID-BERT\")"
   ]
  },
  {
   "cell_type": "code",
   "execution_count": 13,
   "metadata": {},
   "outputs": [],
   "source": [
    "train_path = os.path.join(lm_data_dir,\"train.txt\")\n",
    "eval_path = os.path.join(lm_data_dir,\"eval.txt\")"
   ]
  },
  {
   "cell_type": "markdown",
   "metadata": {},
   "source": [
    "## Init Config"
   ]
  },
  {
   "cell_type": "code",
   "execution_count": 14,
   "metadata": {},
   "outputs": [],
   "source": [
    "config = {\n",
    "  \"attention_probs_dropout_prob\": 0.1,\n",
    "  \"hidden_act\": \"gelu\",\n",
    "  \"hidden_dropout_prob\": 0.3,\n",
    "  \"hidden_size\": 128,\n",
    "  \"initializer_range\": 0.02,\n",
    "  \"num_attention_heads\": 1,\n",
    "  \"num_hidden_layers\": 1,\n",
    "  \"vocab_size\": vocab_size,\n",
    "  \"intermediate_size\": 256,\n",
    "  \"max_position_embeddings\": 256\n",
    "}\n",
    "\n",
    "with open(\"models/COVID/config.json\", 'w') as fp:\n",
    "    json.dump(config, fp)"
   ]
  },
  {
   "cell_type": "code",
   "execution_count": null,
   "metadata": {},
   "outputs": [],
   "source": []
  }
 ],
 "metadata": {
  "kernelspec": {
   "display_name": "Python 3",
   "language": "python",
   "name": "python3"
  },
  "language_info": {
   "codemirror_mode": {
    "name": "ipython",
    "version": 3
   },
   "file_extension": ".py",
   "mimetype": "text/x-python",
   "name": "python",
   "nbconvert_exporter": "python",
   "pygments_lexer": "ipython3",
   "version": "3.8.3"
  }
 },
 "nbformat": 4,
 "nbformat_minor": 4
}
