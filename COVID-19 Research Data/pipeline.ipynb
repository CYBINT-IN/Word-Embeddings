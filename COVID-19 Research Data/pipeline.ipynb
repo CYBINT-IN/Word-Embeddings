{
 "cells": [
  {
   "cell_type": "code",
   "execution_count": 1,
   "metadata": {},
   "outputs": [],
   "source": [
    "import torch\n",
    "import transformers"
   ]
  },
  {
   "cell_type": "code",
   "execution_count": 2,
   "metadata": {},
   "outputs": [],
   "source": [
    "model = transformers.AutoModelWithLMHead.from_pretrained('models/COVID')"
   ]
  },
  {
   "cell_type": "code",
   "execution_count": 3,
   "metadata": {},
   "outputs": [],
   "source": [
    "tokenizer = transformers.AutoTokenizer.from_pretrained('models/COVID')"
   ]
  },
  {
   "cell_type": "code",
   "execution_count": 4,
   "metadata": {},
   "outputs": [
    {
     "data": {
      "text/plain": [
       "[{'sequence': '<s> Coronavirus or COVID-19 can be prevented by-</s>',\n",
       "  'score': 0.03687748312950134,\n",
       "  'token': 16},\n",
       " {'sequence': '<s> Coronavirus or COVID-19 can be prevented by and</s>',\n",
       "  'score': 0.025181042030453682,\n",
       "  'token': 289},\n",
       " {'sequence': '<s> Coronavirus or COVID-19 can be prevented by to</s>',\n",
       "  'score': 0.018805576488375664,\n",
       "  'token': 304},\n",
       " {'sequence': '<s> Coronavirus or COVID-19 can be prevented by a</s>',\n",
       "  'score': 0.0159444622695446,\n",
       "  'token': 261},\n",
       " {'sequence': '<s> Coronavirus or COVID-19 can be prevented by of</s>',\n",
       "  'score': 0.014084217138588428,\n",
       "  'token': 280}]"
      ]
     },
     "execution_count": 4,
     "metadata": {},
     "output_type": "execute_result"
    }
   ],
   "source": [
    "nlp_fill = transformers.pipeline('fill-mask', model = model, tokenizer = tokenizer)\n",
    "nlp_fill('Coronavirus or COVID-19 can be prevented by ' + nlp_fill.tokenizer.mask_token)"
   ]
  }
 ],
 "metadata": {
  "kernelspec": {
   "display_name": "Python 3",
   "language": "python",
   "name": "python3"
  },
  "language_info": {
   "codemirror_mode": {
    "name": "ipython",
    "version": 3
   },
   "file_extension": ".py",
   "mimetype": "text/x-python",
   "name": "python",
   "nbconvert_exporter": "python",
   "pygments_lexer": "ipython3",
   "version": "3.8.3"
  }
 },
 "nbformat": 4,
 "nbformat_minor": 4
}
