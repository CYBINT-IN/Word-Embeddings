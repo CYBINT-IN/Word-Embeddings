{
 "cells": [
  {
   "cell_type": "code",
   "execution_count": 1,
   "metadata": {},
   "outputs": [],
   "source": [
    "import torch\n",
    "import transformers"
   ]
  },
  {
   "cell_type": "code",
   "execution_count": 2,
   "metadata": {},
   "outputs": [],
   "source": [
    "model = transformers.AutoModelWithLMHead.from_pretrained('models/COVID')"
   ]
  },
  {
   "cell_type": "code",
   "execution_count": 3,
   "metadata": {},
   "outputs": [],
   "source": [
    "tokenizer = transformers.AutoTokenizer.from_pretrained('models/COVID')"
   ]
  },
  {
   "cell_type": "code",
   "execution_count": 4,
   "metadata": {},
   "outputs": [
    {
     "data": {
      "text/plain": [
       "[{'sequence': '<s> Coronavirus or COVID-19 can be prevented by a-</s>',\n",
       "  'score': 0.021010180935263634,\n",
       "  'token': 16},\n",
       " {'sequence': '<s> Coronavirus or COVID-19 can be prevented by a new</s>',\n",
       "  'score': 0.01093204878270626,\n",
       "  'token': 784},\n",
       " {'sequence': '<s> Coronavirus or COVID-19 can be prevented by a key</s>',\n",
       "  'score': 0.010452249087393284,\n",
       "  'token': 1627},\n",
       " {'sequence': '<s> Coronavirus or COVID-19 can be prevented by a p</s>',\n",
       "  'score': 0.009355433285236359,\n",
       "  'token': 273},\n",
       " {'sequence': '<s> Coronavirus or COVID-19 can be prevented by a s</s>',\n",
       "  'score': 0.007935981266200542,\n",
       "  'token': 269}]"
      ]
     },
     "execution_count": 4,
     "metadata": {},
     "output_type": "execute_result"
    }
   ],
   "source": [
    "nlp_fill = transformers.pipeline('fill-mask', model = model, tokenizer = tokenizer)\n",
    "nlp_fill('Coronavirus or COVID-19 can be prevented by a' + nlp_fill.tokenizer.mask_token)"
   ]
  }
 ],
 "metadata": {
  "kernelspec": {
   "display_name": "Python 3",
   "language": "python",
   "name": "python3"
  },
  "language_info": {
   "codemirror_mode": {
    "name": "ipython",
    "version": 3
   },
   "file_extension": ".py",
   "mimetype": "text/x-python",
   "name": "python",
   "nbconvert_exporter": "python",
   "pygments_lexer": "ipython3",
   "version": "3.8.3"
  }
 },
 "nbformat": 4,
 "nbformat_minor": 4
}
