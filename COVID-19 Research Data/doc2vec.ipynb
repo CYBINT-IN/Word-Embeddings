{
 "cells": [
  {
   "cell_type": "code",
   "execution_count": 1,
   "metadata": {},
   "outputs": [
    {
     "name": "stderr",
     "output_type": "stream",
     "text": [
      "/home/tanmay/anaconda3/lib/python3.7/site-packages/sklearn/utils/deprecation.py:144: FutureWarning: The sklearn.metrics.classification module is  deprecated in version 0.22 and will be removed in version 0.24. The corresponding classes / functions should instead be imported from sklearn.metrics. Anything that cannot be imported from sklearn.metrics is now part of the private API.\n",
      "  warnings.warn(message, FutureWarning)\n"
     ]
    }
   ],
   "source": [
    "import os\n",
    "import re\n",
    "import json\n",
    "import utils\n",
    "import random\n",
    "import gensim\n",
    "import warnings\n",
    "\n",
    "import numpy as np\n",
    "import pandas as pd\n",
    "\n",
    "from tasks import *\n",
    "from pprint import pprint\n",
    "from tqdm.notebook import tqdm\n",
    "from sklearn.cluster import KMeans\n",
    "from sklearn.neighbors import NearestNeighbors\n",
    "from yellowbrick.cluster import KElbowVisualizer\n",
    "\n",
    "warnings.filterwarnings('ignore')"
   ]
  },
  {
   "cell_type": "code",
   "execution_count": 2,
   "metadata": {},
   "outputs": [
    {
     "data": {
      "text/plain": [
       "(40152, 11)"
      ]
     },
     "execution_count": 2,
     "metadata": {},
     "output_type": "execute_result"
    }
   ],
   "source": [
    "complete_df = pd.read_csv(\"data/clean_df.csv\")\n",
    "complete_df.shape"
   ]
  },
  {
   "cell_type": "code",
   "execution_count": 3,
   "metadata": {},
   "outputs": [
    {
     "data": {
      "text/html": [
       "<div>\n",
       "<style scoped>\n",
       "    .dataframe tbody tr th:only-of-type {\n",
       "        vertical-align: middle;\n",
       "    }\n",
       "\n",
       "    .dataframe tbody tr th {\n",
       "        vertical-align: top;\n",
       "    }\n",
       "\n",
       "    .dataframe thead th {\n",
       "        text-align: right;\n",
       "    }\n",
       "</style>\n",
       "<table border=\"1\" class=\"dataframe\">\n",
       "  <thead>\n",
       "    <tr style=\"text-align: right;\">\n",
       "      <th></th>\n",
       "      <th>Unnamed: 0</th>\n",
       "      <th>Unnamed: 0.1</th>\n",
       "      <th>paper_id</th>\n",
       "      <th>title</th>\n",
       "      <th>authors</th>\n",
       "      <th>affiliations</th>\n",
       "      <th>abstract</th>\n",
       "      <th>text</th>\n",
       "      <th>bibliography</th>\n",
       "      <th>raw_authors</th>\n",
       "      <th>raw_bibliography</th>\n",
       "    </tr>\n",
       "  </thead>\n",
       "  <tbody>\n",
       "    <tr>\n",
       "      <th>0</th>\n",
       "      <td>0</td>\n",
       "      <td>0</td>\n",
       "      <td>6f005a0677f24f697c1ec3ce065ec4144519e357</td>\n",
       "      <td>Antiviral Mechanisms of Human Defensins Introd...</td>\n",
       "      <td>Sarah S Wilson, Mayim E Wiens, Jason G Smith</td>\n",
       "      <td>Sarah S Wilson (University of Washington, 1705...</td>\n",
       "      <td>Defensins are an effector component of the inn...</td>\n",
       "      <td>Defensins are one of the most abundant classes...</td>\n",
       "      <td>Direct inactivation of viruses by human granul...</td>\n",
       "      <td>[{'first': 'Sarah', 'middle': ['S'], 'last': '...</td>\n",
       "      <td>{'BIBREF0': {'ref_id': 'b0', 'title': 'Direct ...</td>\n",
       "    </tr>\n",
       "    <tr>\n",
       "      <th>1</th>\n",
       "      <td>1</td>\n",
       "      <td>1</td>\n",
       "      <td>4994fa72322bbf19120592304d92629226948d8e</td>\n",
       "      <td>Rapid Identification of Malaria Vaccine Candid...</td>\n",
       "      <td>V Villard, G W Agak, G Frank, A Jafarshad, C S...</td>\n",
       "      <td>V Villard, G W Agak, G Frank, A Jafarshad, C S...</td>\n",
       "      <td>To identify malaria antigens for vaccine devel...</td>\n",
       "      <td>Human Plasmodium falciparum (Pf) infection is ...</td>\n",
       "      <td>Identification of vaccine candidates against s...</td>\n",
       "      <td>[{'first': 'V', 'middle': [], 'last': 'Villard...</td>\n",
       "      <td>{'BIBREF0': {'ref_id': 'b0', 'title': 'Identif...</td>\n",
       "    </tr>\n",
       "  </tbody>\n",
       "</table>\n",
       "</div>"
      ],
      "text/plain": [
       "   Unnamed: 0  Unnamed: 0.1                                  paper_id  \\\n",
       "0           0             0  6f005a0677f24f697c1ec3ce065ec4144519e357   \n",
       "1           1             1  4994fa72322bbf19120592304d92629226948d8e   \n",
       "\n",
       "                                               title  \\\n",
       "0  Antiviral Mechanisms of Human Defensins Introd...   \n",
       "1  Rapid Identification of Malaria Vaccine Candid...   \n",
       "\n",
       "                                             authors  \\\n",
       "0       Sarah S Wilson, Mayim E Wiens, Jason G Smith   \n",
       "1  V Villard, G W Agak, G Frank, A Jafarshad, C S...   \n",
       "\n",
       "                                        affiliations  \\\n",
       "0  Sarah S Wilson (University of Washington, 1705...   \n",
       "1  V Villard, G W Agak, G Frank, A Jafarshad, C S...   \n",
       "\n",
       "                                            abstract  \\\n",
       "0  Defensins are an effector component of the inn...   \n",
       "1  To identify malaria antigens for vaccine devel...   \n",
       "\n",
       "                                                text  \\\n",
       "0  Defensins are one of the most abundant classes...   \n",
       "1  Human Plasmodium falciparum (Pf) infection is ...   \n",
       "\n",
       "                                        bibliography  \\\n",
       "0  Direct inactivation of viruses by human granul...   \n",
       "1  Identification of vaccine candidates against s...   \n",
       "\n",
       "                                         raw_authors  \\\n",
       "0  [{'first': 'Sarah', 'middle': ['S'], 'last': '...   \n",
       "1  [{'first': 'V', 'middle': [], 'last': 'Villard...   \n",
       "\n",
       "                                    raw_bibliography  \n",
       "0  {'BIBREF0': {'ref_id': 'b0', 'title': 'Direct ...  \n",
       "1  {'BIBREF0': {'ref_id': 'b0', 'title': 'Identif...  "
      ]
     },
     "execution_count": 3,
     "metadata": {},
     "output_type": "execute_result"
    }
   ],
   "source": [
    "complete_df.head(2)"
   ]
  },
  {
   "cell_type": "code",
   "execution_count": 4,
   "metadata": {},
   "outputs": [
    {
     "data": {
      "text/html": [
       "<div>\n",
       "<style scoped>\n",
       "    .dataframe tbody tr th:only-of-type {\n",
       "        vertical-align: middle;\n",
       "    }\n",
       "\n",
       "    .dataframe tbody tr th {\n",
       "        vertical-align: top;\n",
       "    }\n",
       "\n",
       "    .dataframe thead th {\n",
       "        text-align: right;\n",
       "    }\n",
       "</style>\n",
       "<table border=\"1\" class=\"dataframe\">\n",
       "  <thead>\n",
       "    <tr style=\"text-align: right;\">\n",
       "      <th></th>\n",
       "      <th>Unnamed: 0</th>\n",
       "      <th>Unnamed: 0.1</th>\n",
       "    </tr>\n",
       "  </thead>\n",
       "  <tbody>\n",
       "    <tr>\n",
       "      <th>count</th>\n",
       "      <td>40152.000000</td>\n",
       "      <td>40152.000000</td>\n",
       "    </tr>\n",
       "    <tr>\n",
       "      <th>mean</th>\n",
       "      <td>29705.053248</td>\n",
       "      <td>29705.053248</td>\n",
       "    </tr>\n",
       "    <tr>\n",
       "      <th>std</th>\n",
       "      <td>17183.494309</td>\n",
       "      <td>17183.494309</td>\n",
       "    </tr>\n",
       "    <tr>\n",
       "      <th>min</th>\n",
       "      <td>0.000000</td>\n",
       "      <td>0.000000</td>\n",
       "    </tr>\n",
       "    <tr>\n",
       "      <th>25%</th>\n",
       "      <td>14787.750000</td>\n",
       "      <td>14787.750000</td>\n",
       "    </tr>\n",
       "    <tr>\n",
       "      <th>50%</th>\n",
       "      <td>29717.000000</td>\n",
       "      <td>29717.000000</td>\n",
       "    </tr>\n",
       "    <tr>\n",
       "      <th>75%</th>\n",
       "      <td>44551.250000</td>\n",
       "      <td>44551.250000</td>\n",
       "    </tr>\n",
       "    <tr>\n",
       "      <th>max</th>\n",
       "      <td>59560.000000</td>\n",
       "      <td>59560.000000</td>\n",
       "    </tr>\n",
       "  </tbody>\n",
       "</table>\n",
       "</div>"
      ],
      "text/plain": [
       "         Unnamed: 0  Unnamed: 0.1\n",
       "count  40152.000000  40152.000000\n",
       "mean   29705.053248  29705.053248\n",
       "std    17183.494309  17183.494309\n",
       "min        0.000000      0.000000\n",
       "25%    14787.750000  14787.750000\n",
       "50%    29717.000000  29717.000000\n",
       "75%    44551.250000  44551.250000\n",
       "max    59560.000000  59560.000000"
      ]
     },
     "execution_count": 4,
     "metadata": {},
     "output_type": "execute_result"
    }
   ],
   "source": [
    "complete_df.describe()"
   ]
  },
  {
   "cell_type": "code",
   "execution_count": 5,
   "metadata": {},
   "outputs": [
    {
     "data": {
      "text/plain": [
       "(38265, 11)"
      ]
     },
     "execution_count": 5,
     "metadata": {},
     "output_type": "execute_result"
    }
   ],
   "source": [
    "# Keep only texts with minimal number of words \n",
    "\n",
    "complete_df = complete_df[complete_df['text'].apply(lambda x: len(re.findall(r\"(?i)\\b[a-z]+\\b\", x))) > 1000]                                         \n",
    "complete_df.shape"
   ]
  },
  {
   "cell_type": "code",
   "execution_count": 6,
   "metadata": {},
   "outputs": [
    {
     "data": {
      "text/plain": [
       "'The molecular analysis of disease pathogenesis in cattle has been limited by the lack of availability of tools to analyze both host and pathogen responses. These limitations are disappearing with the advent of methodologies such as microarrays that facilitate rapid characterization of global gene expression at the level of individual cells and tissues. The present review focuses on the use of microarray technologies to investigate the functional pathogenomics of infectious disease in cattle. We '"
      ]
     },
     "execution_count": 6,
     "metadata": {},
     "output_type": "execute_result"
    }
   ],
   "source": [
    "# See random text\n",
    "\n",
    "complete_df.reset_index(inplace = True, drop = True)\n",
    "complete_df.iloc[42]['abstract'][:500]"
   ]
  },
  {
   "cell_type": "code",
   "execution_count": 7,
   "metadata": {},
   "outputs": [],
   "source": [
    "frac_of_articles = 1\n",
    "train_df  = complete_df.sample(frac = frac_of_articles, random_state = 42)\n",
    "train_corpus = (list(utils.read_corpus(train_df, 'abstract'))) "
   ]
  },
  {
   "cell_type": "code",
   "execution_count": 8,
   "metadata": {},
   "outputs": [],
   "source": [
    "# Using distributed memory model\n",
    "\n",
    "model = gensim.models.doc2vec.Doc2Vec(dm = 1, vector_size = 50, min_count = 10, dm_mean = 1, epochs = 20, seed = 42, workers = 6)\n",
    "model.build_vocab(train_corpus)\n",
    "model.train(train_corpus, total_examples = model.corpus_count, epochs = model.epochs)"
   ]
  },
  {
   "cell_type": "code",
   "execution_count": 9,
   "metadata": {},
   "outputs": [],
   "source": [
    "list_of_tasks = [task_1, task_2, task_3, task_4, task_5, task_6, task_7, task_8, task_9]"
   ]
  },
  {
   "cell_type": "code",
   "execution_count": 10,
   "metadata": {},
   "outputs": [],
   "source": [
    "abstract_vectors = model.docvecs.vectors_docs\n",
    "array_of_tasks = [utils.get_doc_vector(task, model) for task in list_of_tasks]"
   ]
  },
  {
   "cell_type": "code",
   "execution_count": 11,
   "metadata": {},
   "outputs": [],
   "source": [
    "train_df['abstract_vector'] = [vec for vec in abstract_vectors]"
   ]
  },
  {
   "cell_type": "markdown",
   "metadata": {},
   "source": [
    "### Nearest Neigbors search"
   ]
  },
  {
   "cell_type": "code",
   "execution_count": 13,
   "metadata": {},
   "outputs": [
    {
     "data": {
      "text/plain": [
       "(37302, 12)"
      ]
     },
     "execution_count": 13,
     "metadata": {},
     "output_type": "execute_result"
    }
   ],
   "source": [
    "train_df = train_df[train_df['abstract'].apply(lambda x: len(re.findall(r\"(?i)\\b[a-z]+\\b\", x))) > 40]\n",
    "train_df.shape"
   ]
  },
  {
   "cell_type": "code",
   "execution_count": 14,
   "metadata": {},
   "outputs": [],
   "source": [
    "train_array = train_df['abstract_vector'].values.tolist()"
   ]
  },
  {
   "cell_type": "code",
   "execution_count": 15,
   "metadata": {},
   "outputs": [],
   "source": [
    "ball_tree = NearestNeighbors(algorithm = 'ball_tree', leaf_size = 20).fit(train_array)"
   ]
  },
  {
   "cell_type": "code",
   "execution_count": 16,
   "metadata": {},
   "outputs": [],
   "source": [
    "# Query for all tasks\n",
    "\n",
    "distances, indices = ball_tree.kneighbors(array_of_tasks, n_neighbors = 3)"
   ]
  },
  {
   "cell_type": "code",
   "execution_count": 17,
   "metadata": {},
   "outputs": [
    {
     "name": "stdout",
     "output_type": "stream",
     "text": [
      "================================================================================ \n",
      "\n",
      "Task = What is known about transmission, incubation, and environmental stability of COVID-19? What do we kn\n",
      "\n",
      " Text index = 30086 \n",
      " Distance = 5.472676729866679 \n",
      " Title: Cooperative virus propagation underlies COVID-19 transmission dynamics \n",
      " Abstract extract: The global pandemic due to the emergence of a novel coronavirus is a threat to the future health of humanity. There remains an urgent need to understand its transmission characteristics and design eff\n",
      "\n",
      "\n",
      " Text index = 1385 \n",
      " Distance = 5.490649947021904 \n",
      " Title: Issues Concerning Survival of Viruses on Surfaces \n",
      " Abstract extract: Viruses are the causative agents of an estimated 60% of human infections worldwide. The most common viral illnesses are produced by enteric and respiratory viruses. Transmission of these viruses from \n",
      "\n",
      "\n",
      " Text index = 31166 \n",
      " Distance = 5.568644791041079 \n",
      " Title: A Review and Update on Waterborne Viral Diseases Associated with Swimming Pools \n",
      " Abstract extract: Infectious agents, including bacteria, viruses, protozoa, and molds, may threaten the health of swimming pool bathers. Viruses are a major cause of recreationally-associated waterborne diseases linked\n",
      "\n",
      "\n",
      "================================================================================ \n",
      "\n",
      "Task = What do we know about COVID-19 risk factors? What have we learned from epidemiological studies?\n",
      "Data\n",
      "\n",
      " Text index = 32042 \n",
      " Distance = 3.012292333629344 \n",
      " Title: A mathematical model to investigate the transmission of COVID-19 in the Kingdom of Saudi Arabia \n",
      " Abstract extract: Since the first confirmed case of SARS-CoV-2 coronavirus in the 2 nd day of March, Saudi Arabia has not report a quite rapid COVD-19 spread compared to America and many European countries. Possible ca\n",
      "\n",
      "\n",
      " Text index = 5542 \n",
      " Distance = 3.170871233888958 \n",
      " Title: A stochastic epidemic model of COVID-19 disease \n",
      " Abstract extract: To model the evolution of diseases with extended latency periods and the presence of asymptomatic patients like COVID-19, we define a simple discrete time stochastic SIR-type epidemic model. We includ\n",
      "\n",
      "\n",
      " Text index = 318 \n",
      " Distance = 3.1907188240631306 \n",
      " Title: Title: Incidence, clinical outcomes, and transmission dynamics of \n",
      " Abstract extract: The United States is now the country reporting the highest number of 2019 coronavirus disease (COVID-19) cases and deaths. However, little is known about the epidemiology and burden of severe COVID-19\n",
      "\n",
      "\n",
      "================================================================================ \n",
      "\n",
      "Task = What do we know about virus genetics, origin, and evolution? What do we know about the virus origin \n",
      "\n",
      " Text index = 4248 \n",
      " Distance = 4.5590783401767325 \n",
      " Title: Epidemiologic data and pathogen genome sequences: a powerful synergy for public health \n",
      " Abstract extract: Epidemiologists aim to inform the design of public health interventions with evidence on the evolution, emergence and spread of infectious diseases. Sequencing of pathogen genomes, together with date,\n",
      "\n",
      "\n",
      " Text index = 23336 \n",
      " Distance = 4.612364944626825 \n",
      " Title: Middle East respiratory syndrome coronavirus (MERS-CoV): evidence and speculations \n",
      " Abstract extract: In 2012, a novel human coronavirus emerged and was tentatively named ''Middle East respiratory syndrome coronavirus'' (MERS-CoV). The high mortality rate of MERS-CoV focused attention on the ecology o\n",
      "\n",
      "\n",
      " Text index = 28910 \n",
      " Distance = 4.6434880517187835 \n",
      " Title: Understanding bat SARS-like coronaviruses for the preparation of future coronavirus outbreaks -Implications for coronavirus vaccine development \n",
      " Abstract extract: The severe acute respiratory syndrome coronavirus (SARS-CoV) first emerged in 2003, causing the SARS epidemic which resulted in a 10% fatality rate. The advancements in metagenomic techniques have all\n",
      "\n",
      "\n",
      "================================================================================ \n",
      "\n",
      "Task = What do we know about vaccines and therapeutics? What has been published concerning research and dev\n",
      "\n",
      " Text index = 19196 \n",
      " Distance = 3.6910830861633817 \n",
      " Title: Potential Vaccines and Post-Exposure Treatments for Filovirus Infections \n",
      " Abstract extract: Viruses of the family Filoviridae represent significant health risks as emerging infectious diseases as well as potentially engineered biothreats. While many research efforts have been published offer\n",
      "\n",
      "\n",
      " Text index = 30481 \n",
      " Distance = 3.697319252237428 \n",
      " Title: Discovery and development of safe-in-man broad-spectrum antiviral agents \n",
      " Abstract extract: Drug discovery and development Broad-spectrum antiviral agents BSAAs A B S T R A C T Viral diseases are one of the leading causes of morbidity and mortality in the world. Virus-specific vaccines and a\n",
      "\n",
      "\n",
      " Text index = 26291 \n",
      " Distance = 3.786016174184442 \n",
      " Title: Perspectives towards antiviral drug discovery against Ebola virus \n",
      " Abstract extract: Ebola virus disease (EVD), caused by Ebola viruses, resulted in more than 11 500 deaths according to a recent 2018 WHO report. With mortality rates up to 90%, it is nowadays one of the most deadly inf\n",
      "\n",
      "\n",
      "================================================================================ \n",
      "\n",
      "Task = What do we know about the effectiveness of non-pharmaceutical interventions? What is known about equ\n",
      "\n",
      " Text index = 17557 \n",
      " Distance = 4.305097676521292 \n",
      " Title: Journal Pre-proof Emerging from the other end: Key measures for a successful COVID-19 lockdown exit strategy and the potential contribution of pharmacists Emerging from the other end: Key measures for a successful COVID-19 lockdown exit strategy and the potential contribution of pharmacists Emerging from the other end: Key measures for a successful COVID-19 lockdown exit strategy and the potential contribution of pharmacists \n",
      " Abstract extract: As the world edges towards relaxing the lockdown measures taken to control the spread of the novel coronavirus SARS-CoV-2 (COVID-19), governments have started putting in place a variety of measures to\n",
      "\n",
      "\n",
      " Text index = 28342 \n",
      " Distance = 4.404030868308382 \n",
      " Title: Simulations of the spread of COVID-19 and control policies in Tunisia \n",
      " Abstract extract: We develop and analyze in this work an epidemiological model for COVID-19 using Tunisian data. Our aims are first to evaluate Tunisian control policies for COVID-19 and secondly to understand the effe\n",
      "\n",
      "\n",
      " Text index = 4544 \n",
      " Distance = 4.409850099622314 \n",
      " Title: Impacts of Early Interventions on the Age-Specific Incidence of COVID-19 in New York, Los Angeles, Daegu and Nairobi \n",
      " Abstract extract: medRxiv preprint are in critical conditions. Cities with ageing population should take targeted action for the elderly to avoid the severe impacts on the vulnerable populations. Increasing quarantine \n",
      "\n",
      "\n",
      "================================================================================ \n",
      "\n",
      "Task = What do we know about diagnostics and surveillance? What has been published concerning systematic, h\n",
      "\n",
      " Text index = 331 \n",
      " Distance = 5.912904790177429 \n",
      " Title: RAPID, LARGE-SCALE, AND EFFECTIVE DETECTION OF COVID-19 VIA NON-ADAPTIVE TESTING \n",
      " Abstract extract: Pooling of samples can increase lab capacity when using Polymerase chain reaction (PCR) to detect infections such as COVID-19. However, pool testing is typically performed via an adaptive testing stra\n",
      "\n",
      "\n",
      " Text index = 19900 \n",
      " Distance = 6.161170225949286 \n",
      " Title: A new role for Biofoundries in rapid prototyping, development, and validation of automated clinical diagnostic tests for SARS-CoV-2 \n",
      " Abstract extract: The SARS-CoV-2 pandemic has shown how the rapid rise in demand for patient and community sample testing, required for tracing and containing a highly infectious disease, has quickly overwhelmed testin\n",
      "\n",
      "\n",
      " Text index = 16315 \n",
      " Distance = 6.273455795923128 \n",
      " Title: control of infectious Diseases in the era of european clinical Microbiology Laboratory consolidation: New challenges and Opportunities for the Patient and for Public Health surveillance \n",
      " Abstract extract: Many new innovative diagnostic approaches have been made available during the last 10 years with major impact on patient care and public health surveillance. In parallel, to enhance the cost-effective\n",
      "\n",
      "\n",
      "================================================================================ \n",
      "\n",
      "Task = What has been published about medical care? What has been published concerning surge capacity and nu\n",
      "\n",
      " Text index = 10802 \n",
      " Distance = 5.331431290921994 \n",
      " Title: Caring for Tuberculosis Patients: Understanding the Plight of Nurses at a Regional Hospital in Limpopo Province, South Africa \n",
      " Abstract extract: Tuberculosis (TB) is a disease which is caused by a relatively large, non-motile, rod-shaped pathogen called Mycobacterium tuberculosis. TB is a major cause of illness and death worldwide, especially \n",
      "\n",
      "\n",
      " Text index = 1125 \n",
      " Distance = 5.439647725932278 \n",
      " Title: Health-care Development Tracheostomy in the COVID-19 era: global and multidisciplinary guidance \n",
      " Abstract extract: Global health care is experiencing an unprecedented surge in the number of critically ill patients who require mechanical ventilation due to the COVID-19 pandemic. The requirement for relatively long \n",
      "\n",
      "\n",
      " Text index = 15971 \n",
      " Distance = 5.4907636385163805 \n",
      " Title: PERSPECTIVE OPEN A digital embrace to blunt the curve of COVID19 pandemic \n",
      " Abstract extract: Digital health, virtual care, telehealth, and telemedicine are all terms often used interchangeably to refer to the practice of care delivered from a distance. Because virtual care collapses the barri\n",
      "\n",
      "\n",
      "================================================================================ \n",
      "\n",
      "Task = What has been published concerning ethical considerations for research? What has been published conc\n",
      "\n",
      " Text index = 1849 \n",
      " Distance = 3.7444033965980212 \n",
      " Title: Journal Pre-proof Collaborative Multi-Disciplinary Incident Command at Seattle Children's Hospital for Rapid Preparatory Pediatric Surgery Countermeasures to the COVID-19 Pandemic Collaborative Multi-Disciplinary Incident Command at Seattle Children's Hospital for Rapid Preparatory Pediatric Surgery Countermeasures to the COVID-19 Pandemic \n",
      " Abstract extract: Washington State was the first U.S. state to have a patient test positive for COVID-19. Prior to this, our children's hospital proactively implemented an incident command structure which allowed for c\n",
      "\n",
      "\n",
      " Text index = 2347 \n",
      " Distance = 3.9787364043820186 \n",
      " Title: A global needs assessment in times of a global crisis: world psychiatry response to the COVID-19 pandemic \n",
      " Abstract extract: The COVID-19 pandemic has stunned the global community with marked social and psychological ramifications. There are key challenges for psychiatry that require urgent attention to ensure mental health\n",
      "\n",
      "\n",
      " Text index = 12344 \n",
      " Distance = 4.097029910100531 \n",
      " Title: On the frontline against COVID-19: Community pharmacists' contribution during a public health crisis \n",
      " Abstract extract: The global spread of COVID-19 is placing unprecedented demands on healthcare services. In this time of crisis, innovative and adaptive methods of practising will be required across all health professi\n",
      "\n",
      "\n",
      "================================================================================ \n",
      "\n",
      "Task = What has been published about information sharing and inter-sectoral collaboration? What has been pu\n",
      "\n",
      " Text index = 28881 \n",
      " Distance = 5.7201960177498234 \n",
      " Title: Adherence to precautions for preventing the transmission of microorganisms in primary health care: a qualitative study \n",
      " Abstract extract: Background: Health care associated infections (HAIs) are a source of concern worldwide. No health service in any country can be considered HAI risk-free. However, there is scarcity of data on the risk\n",
      "\n",
      "\n",
      " Text index = 29473 \n",
      " Distance = 5.721818832996815 \n",
      " Title: Public Response to Community Mitigation Measures for Pandemic Infl uenza \n",
      " Abstract extract: We report the results of a national survey conducted to help public health offi cials understand the public's response to community mitigation interventions for a severe outbreak of pandemic infl uenz\n",
      "\n",
      "\n",
      " Text index = 14432 \n",
      " Distance = 5.755314267957243 \n",
      " Title: The influence of organizational jurisdiction, organizational attributes, and training measures on perceptions of public health preparedness in Alberta \n",
      " Abstract extract: Objectives Recent international events including the H1N1 influenza pandemic and the rising incidence of West Nile Virus throughout North America have brought critical attention to the Canadian public\n",
      "\n",
      "\n"
     ]
    }
   ],
   "source": [
    "for i, info in enumerate(list_of_tasks):\n",
    "    print(\"=\"*80, f\"\\n\\nTask = {info[:100]}\\n\", )\n",
    "    df =  train_df.iloc[indices[i]]\n",
    "    abstracts = df['abstract']\n",
    "    titles = df['title']\n",
    "    dist = distances[i]\n",
    "    for l in range(len(dist)):\n",
    "        print(f\" Text index = {indices[i][l]} \\n Distance = {distances[i][l]} \\n Title: {titles.iloc[l]} \\n Abstract extract: {abstracts.iloc[l][:200]}\\n\\n\")"
   ]
  },
  {
   "cell_type": "markdown",
   "metadata": {},
   "source": [
    "### Clustering and visualisation"
   ]
  },
  {
   "cell_type": "code",
   "execution_count": 18,
   "metadata": {},
   "outputs": [
    {
     "data": {
      "image/png": "[encoded data removed]",
      "text/plain": [
       "<Figure size 576x396 with 2 Axes>"
      ]
     },
     "metadata": {},
     "output_type": "display_data"
    },
    {
     "data": {
      "text/plain": [
       "<matplotlib.axes._subplots.AxesSubplot at 0x7f7c5be05bd0>"
      ]
     },
     "execution_count": 18,
     "metadata": {},
     "output_type": "execute_result"
    }
   ],
   "source": [
    "abstract_vectors = model.docvecs.vectors_docs\n",
    "kmeans = KMeans(init = 'k-means++', max_iter = 300, random_state = 42) \n",
    "visualizer = KElbowVisualizer(kmeans, k = (2, 16))\n",
    "visualizer.fit(abstract_vectors)\n",
    "visualizer.show()"
   ]
  },
  {
   "cell_type": "code",
   "execution_count": null,
   "metadata": {},
   "outputs": [],
   "source": [
    "# Clearly 7 clusters are here"
   ]
  },
  {
   "cell_type": "code",
   "execution_count": null,
   "metadata": {},
   "outputs": [],
   "source": [
    "kmeans = KMeans(n_clusters = 7, init = 'k-means++', max_iter = 100, random_state = 42) \n",
    "train_df['labels'] = kmeans.fit_predict(train_array)"
   ]
  },
  {
   "cell_type": "code",
   "execution_count": null,
   "metadata": {},
   "outputs": [],
   "source": [
    "train_df[['text','labels']][:20]"
   ]
  },
  {
   "cell_type": "markdown",
   "metadata": {},
   "source": [
    "### Save Binaries"
   ]
  },
  {
   "cell_type": "code",
   "execution_count": null,
   "metadata": {},
   "outputs": [],
   "source": [
    "model.save('models/CORD-doc2vec')"
   ]
  },
  {
   "cell_type": "markdown",
   "metadata": {},
   "source": [
    "### Save KeyedVectors and prep Spacy Model"
   ]
  },
  {
   "cell_type": "code",
   "execution_count": null,
   "metadata": {},
   "outputs": [],
   "source": [
    "model.wv.save_word2vec_format(\"data/word2vec.txt\")"
   ]
  }
 ],
 "metadata": {
  "kernelspec": {
   "display_name": "Python 3",
   "language": "python",
   "name": "python3"
  },
  "language_info": {
   "codemirror_mode": {
    "name": "ipython",
    "version": 3
   },
   "file_extension": ".py",
   "mimetype": "text/x-python",
   "name": "python",
   "nbconvert_exporter": "python",
   "pygments_lexer": "ipython3",
   "version": "3.7.7"
  }
 },
 "nbformat": 4,
 "nbformat_minor": 4
}
