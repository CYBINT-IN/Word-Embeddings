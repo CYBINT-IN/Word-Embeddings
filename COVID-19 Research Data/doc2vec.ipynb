{
 "cells": [
  {
   "cell_type": "code",
   "execution_count": 1,
   "metadata": {},
   "outputs": [
    {
     "name": "stderr",
     "output_type": "stream",
     "text": [
      "/home/tanmay/anaconda3/lib/python3.7/site-packages/sklearn/utils/deprecation.py:144: FutureWarning: The sklearn.metrics.classification module is  deprecated in version 0.22 and will be removed in version 0.24. The corresponding classes / functions should instead be imported from sklearn.metrics. Anything that cannot be imported from sklearn.metrics is now part of the private API.\n",
      "  warnings.warn(message, FutureWarning)\n"
     ]
    }
   ],
   "source": [
    "import os\n",
    "import re\n",
    "import json\n",
    "import utils\n",
    "import random\n",
    "import gensim\n",
    "import warnings\n",
    "\n",
    "import numpy as np\n",
    "import pandas as pd\n",
    "\n",
    "from tasks import *\n",
    "from pprint import pprint\n",
    "from tqdm.notebook import tqdm\n",
    "from sklearn.cluster import KMeans\n",
    "from sklearn.neighbors import NearestNeighbors\n",
    "from yellowbrick.cluster import KElbowVisualizer\n",
    "\n",
    "warnings.filterwarnings('ignore')"
   ]
  },
  {
   "cell_type": "code",
   "execution_count": 2,
   "metadata": {},
   "outputs": [
    {
     "name": "stdout",
     "output_type": "stream",
     "text": [
      "Number of articles retrieved from pdf_json articles: 59561\n"
     ]
    }
   ],
   "source": [
    "pdf_json = 'data/document_parses/pdf_json/'\n",
    "filenames = os.listdir(pdf_json)\n",
    "print(\"Number of articles retrieved from pdf_json articles:\", len(filenames))"
   ]
  },
  {
   "cell_type": "code",
   "execution_count": 4,
   "metadata": {},
   "outputs": [
    {
     "data": {
      "application/vnd.jupyter.widget-view+json": {
       "model_id": "413b5cb38c4c4cfbb0e1a810fc7f715f",
       "version_major": 2,
       "version_minor": 0
      },
      "text/plain": [
       "HBox(children=(FloatProgress(value=0.0, max=59561.0), HTML(value='')))"
      ]
     },
     "metadata": {},
     "output_type": "display_data"
    },
    {
     "name": "stdout",
     "output_type": "stream",
     "text": [
      "\n"
     ]
    }
   ],
   "source": [
    "cleaned_files = []\n",
    "\n",
    "for file in tqdm(os.listdir(pdf_json)):\n",
    "    filename = pdf_json + file\n",
    "    file = json.load(open(filename, 'rb'))\n",
    "    features = [\n",
    "        file['paper_id'],\n",
    "        file['metadata']['title'],\n",
    "        utils.format_authors(file['metadata']['authors']),\n",
    "        utils.format_authors(file['metadata']['authors'], \n",
    "                       with_affiliation = True),\n",
    "        utils.format_body(file['abstract']),\n",
    "        utils.format_body(file['body_text']),\n",
    "        utils.format_bib(file['bib_entries']),\n",
    "        file['metadata']['authors'],\n",
    "        file['bib_entries']\n",
    "    ]\n",
    "    \n",
    "    cleaned_files.append(features)\n",
    "    \n",
    "    del file\n",
    "    del features"
   ]
  },
  {
   "cell_type": "code",
   "execution_count": 5,
   "metadata": {},
   "outputs": [
    {
     "data": {
      "text/html": [
       "<div>\n",
       "<style scoped>\n",
       "    .dataframe tbody tr th:only-of-type {\n",
       "        vertical-align: middle;\n",
       "    }\n",
       "\n",
       "    .dataframe tbody tr th {\n",
       "        vertical-align: top;\n",
       "    }\n",
       "\n",
       "    .dataframe thead th {\n",
       "        text-align: right;\n",
       "    }\n",
       "</style>\n",
       "<table border=\"1\" class=\"dataframe\">\n",
       "  <thead>\n",
       "    <tr style=\"text-align: right;\">\n",
       "      <th></th>\n",
       "      <th>paper_id</th>\n",
       "      <th>title</th>\n",
       "      <th>authors</th>\n",
       "      <th>affiliations</th>\n",
       "      <th>abstract</th>\n",
       "      <th>text</th>\n",
       "      <th>bibliography</th>\n",
       "      <th>raw_authors</th>\n",
       "      <th>raw_bibliography</th>\n",
       "    </tr>\n",
       "  </thead>\n",
       "  <tbody>\n",
       "    <tr>\n",
       "      <th>0</th>\n",
       "      <td>6f005a0677f24f697c1ec3ce065ec4144519e357</td>\n",
       "      <td>Antiviral Mechanisms of Human Defensins Introd...</td>\n",
       "      <td>Sarah S Wilson, Mayim E Wiens, Jason G Smith</td>\n",
       "      <td>Sarah S Wilson (University of Washington, 1705...</td>\n",
       "      <td>Defensins are an effector component of the inn...</td>\n",
       "      <td>Defensins are one of the most abundant classes...</td>\n",
       "      <td>Direct inactivation of viruses by human granul...</td>\n",
       "      <td>[{'first': 'Sarah', 'middle': ['S'], 'last': '...</td>\n",
       "      <td>{'BIBREF0': {'ref_id': 'b0', 'title': 'Direct ...</td>\n",
       "    </tr>\n",
       "    <tr>\n",
       "      <th>1</th>\n",
       "      <td>4994fa72322bbf19120592304d92629226948d8e</td>\n",
       "      <td>Rapid Identification of Malaria Vaccine Candid...</td>\n",
       "      <td>V Villard, G W Agak, G Frank, A Jafarshad, C S...</td>\n",
       "      <td>V Villard, G W Agak, G Frank, A Jafarshad, C S...</td>\n",
       "      <td>To identify malaria antigens for vaccine devel...</td>\n",
       "      <td>Human Plasmodium falciparum (Pf) infection is ...</td>\n",
       "      <td>Identification of vaccine candidates against s...</td>\n",
       "      <td>[{'first': 'V', 'middle': [], 'last': 'Villard...</td>\n",
       "      <td>{'BIBREF0': {'ref_id': 'b0', 'title': 'Identif...</td>\n",
       "    </tr>\n",
       "  </tbody>\n",
       "</table>\n",
       "</div>"
      ],
      "text/plain": [
       "                                   paper_id  \\\n",
       "0  6f005a0677f24f697c1ec3ce065ec4144519e357   \n",
       "1  4994fa72322bbf19120592304d92629226948d8e   \n",
       "\n",
       "                                               title  \\\n",
       "0  Antiviral Mechanisms of Human Defensins Introd...   \n",
       "1  Rapid Identification of Malaria Vaccine Candid...   \n",
       "\n",
       "                                             authors  \\\n",
       "0       Sarah S Wilson, Mayim E Wiens, Jason G Smith   \n",
       "1  V Villard, G W Agak, G Frank, A Jafarshad, C S...   \n",
       "\n",
       "                                        affiliations  \\\n",
       "0  Sarah S Wilson (University of Washington, 1705...   \n",
       "1  V Villard, G W Agak, G Frank, A Jafarshad, C S...   \n",
       "\n",
       "                                            abstract  \\\n",
       "0  Defensins are an effector component of the inn...   \n",
       "1  To identify malaria antigens for vaccine devel...   \n",
       "\n",
       "                                                text  \\\n",
       "0  Defensins are one of the most abundant classes...   \n",
       "1  Human Plasmodium falciparum (Pf) infection is ...   \n",
       "\n",
       "                                        bibliography  \\\n",
       "0  Direct inactivation of viruses by human granul...   \n",
       "1  Identification of vaccine candidates against s...   \n",
       "\n",
       "                                         raw_authors  \\\n",
       "0  [{'first': 'Sarah', 'middle': ['S'], 'last': '...   \n",
       "1  [{'first': 'V', 'middle': [], 'last': 'Villard...   \n",
       "\n",
       "                                    raw_bibliography  \n",
       "0  {'BIBREF0': {'ref_id': 'b0', 'title': 'Direct ...  \n",
       "1  {'BIBREF0': {'ref_id': 'b0', 'title': 'Identif...  "
      ]
     },
     "execution_count": 5,
     "metadata": {},
     "output_type": "execute_result"
    }
   ],
   "source": [
    "col_names = [\n",
    "    'paper_id', \n",
    "    'title', \n",
    "    'authors',\n",
    "    'affiliations', \n",
    "    'abstract', \n",
    "    'text', \n",
    "    'bibliography',\n",
    "    'raw_authors',\n",
    "    'raw_bibliography'\n",
    "]\n",
    "\n",
    "clean_df = pd.DataFrame(cleaned_files, columns = col_names)\n",
    "del cleaned_files\n",
    "clean_df.head(2)"
   ]
  },
  {
   "cell_type": "code",
   "execution_count": 7,
   "metadata": {},
   "outputs": [],
   "source": [
    "clean_df.to_csv(\"clean.csv\")"
   ]
  },
  {
   "cell_type": "code",
   "execution_count": 6,
   "metadata": {},
   "outputs": [
    {
     "name": "stderr",
     "output_type": "stream",
     "text": [
      "  0%|          | 16/43753 [00:01<1:10:23, 10.36it/s]\n"
     ]
    },
    {
     "ename": "KeyboardInterrupt",
     "evalue": "",
     "output_type": "error",
     "traceback": [
      "\u001b[0;31m---------------------------------------------------------------------------\u001b[0m",
      "\u001b[0;31mKeyboardInterrupt\u001b[0m                         Traceback (most recent call last)",
      "\u001b[0;32m<ipython-input-6-80adb4d309d7>\u001b[0m in \u001b[0;36m<module>\u001b[0;34m\u001b[0m\n\u001b[1;32m      1\u001b[0m \u001b[0mpmc_dir\u001b[0m \u001b[0;34m=\u001b[0m \u001b[0;34m'data/document_parses/pmc_json/'\u001b[0m\u001b[0;34m\u001b[0m\u001b[0;34m\u001b[0m\u001b[0m\n\u001b[0;32m----> 2\u001b[0;31m \u001b[0mpmc_files\u001b[0m \u001b[0;34m=\u001b[0m \u001b[0mutils\u001b[0m\u001b[0;34m.\u001b[0m\u001b[0mload_files\u001b[0m\u001b[0;34m(\u001b[0m\u001b[0mpmc_dir\u001b[0m\u001b[0;34m)\u001b[0m\u001b[0;34m\u001b[0m\u001b[0;34m\u001b[0m\u001b[0m\n\u001b[0m\u001b[1;32m      3\u001b[0m \u001b[0mpmc_df\u001b[0m \u001b[0;34m=\u001b[0m \u001b[0mutils\u001b[0m\u001b[0;34m.\u001b[0m\u001b[0mgenerate_clean_df\u001b[0m\u001b[0;34m(\u001b[0m\u001b[0mpmc_files\u001b[0m\u001b[0;34m)\u001b[0m\u001b[0;34m\u001b[0m\u001b[0;34m\u001b[0m\u001b[0m\n",
      "\u001b[0;32m~/Github/word-embeddings/COVID-19 Research Data/utils.py\u001b[0m in \u001b[0;36mload_files\u001b[0;34m(dirname)\u001b[0m\n\u001b[1;32m     89\u001b[0m     \u001b[0;32mfor\u001b[0m \u001b[0mfilename\u001b[0m \u001b[0;32min\u001b[0m \u001b[0mtqdm\u001b[0m\u001b[0;34m(\u001b[0m\u001b[0mfilenames\u001b[0m\u001b[0;34m)\u001b[0m\u001b[0;34m:\u001b[0m\u001b[0;34m\u001b[0m\u001b[0;34m\u001b[0m\u001b[0m\n\u001b[1;32m     90\u001b[0m         \u001b[0mfilename\u001b[0m \u001b[0;34m=\u001b[0m \u001b[0mdirname\u001b[0m \u001b[0;34m+\u001b[0m \u001b[0mfilename\u001b[0m\u001b[0;34m\u001b[0m\u001b[0;34m\u001b[0m\u001b[0m\n\u001b[0;32m---> 91\u001b[0;31m         \u001b[0mfile\u001b[0m \u001b[0;34m=\u001b[0m \u001b[0mjson\u001b[0m\u001b[0;34m.\u001b[0m\u001b[0mload\u001b[0m\u001b[0;34m(\u001b[0m\u001b[0mopen\u001b[0m\u001b[0;34m(\u001b[0m\u001b[0mfilename\u001b[0m\u001b[0;34m,\u001b[0m \u001b[0;34m'rb'\u001b[0m\u001b[0;34m)\u001b[0m\u001b[0;34m)\u001b[0m\u001b[0;34m\u001b[0m\u001b[0;34m\u001b[0m\u001b[0m\n\u001b[0m\u001b[1;32m     92\u001b[0m         \u001b[0mraw_files\u001b[0m\u001b[0;34m.\u001b[0m\u001b[0mappend\u001b[0m\u001b[0;34m(\u001b[0m\u001b[0mfile\u001b[0m\u001b[0;34m)\u001b[0m\u001b[0;34m\u001b[0m\u001b[0;34m\u001b[0m\u001b[0m\n\u001b[1;32m     93\u001b[0m \u001b[0;34m\u001b[0m\u001b[0m\n",
      "\u001b[0;32m~/anaconda3/lib/python3.7/json/__init__.py\u001b[0m in \u001b[0;36mload\u001b[0;34m(fp, cls, object_hook, parse_float, parse_int, parse_constant, object_pairs_hook, **kw)\u001b[0m\n\u001b[1;32m    291\u001b[0m     \u001b[0mkwarg\u001b[0m\u001b[0;34m;\u001b[0m \u001b[0motherwise\u001b[0m\u001b[0;31m \u001b[0m\u001b[0;31m`\u001b[0m\u001b[0;31m`\u001b[0m\u001b[0mJSONDecoder\u001b[0m\u001b[0;31m`\u001b[0m\u001b[0;31m`\u001b[0m \u001b[0;32mis\u001b[0m \u001b[0mused\u001b[0m\u001b[0;34m.\u001b[0m\u001b[0;34m\u001b[0m\u001b[0;34m\u001b[0m\u001b[0m\n\u001b[1;32m    292\u001b[0m     \"\"\"\n\u001b[0;32m--> 293\u001b[0;31m     return loads(fp.read(),\n\u001b[0m\u001b[1;32m    294\u001b[0m         \u001b[0mcls\u001b[0m\u001b[0;34m=\u001b[0m\u001b[0mcls\u001b[0m\u001b[0;34m,\u001b[0m \u001b[0mobject_hook\u001b[0m\u001b[0;34m=\u001b[0m\u001b[0mobject_hook\u001b[0m\u001b[0;34m,\u001b[0m\u001b[0;34m\u001b[0m\u001b[0;34m\u001b[0m\u001b[0m\n\u001b[1;32m    295\u001b[0m         \u001b[0mparse_float\u001b[0m\u001b[0;34m=\u001b[0m\u001b[0mparse_float\u001b[0m\u001b[0;34m,\u001b[0m \u001b[0mparse_int\u001b[0m\u001b[0;34m=\u001b[0m\u001b[0mparse_int\u001b[0m\u001b[0;34m,\u001b[0m\u001b[0;34m\u001b[0m\u001b[0;34m\u001b[0m\u001b[0m\n",
      "\u001b[0;31mKeyboardInterrupt\u001b[0m: "
     ]
    }
   ],
   "source": [
    "pmc_dir = 'data/document_parses/pmc_json/'\n",
    "cleaned_files = []\n",
    "\n",
    "for file in tqdm(os.listdir(pdf_json)):\n",
    "    filename = pdf_json + file\n",
    "    file = json.load(open(filename, 'rb'))\n",
    "    features = [\n",
    "        file['paper_id'],\n",
    "        file['metadata']['title'],\n",
    "        utils.format_authors(file['metadata']['authors']),\n",
    "        utils.format_authors(file['metadata']['authors'], \n",
    "                       with_affiliation = True),\n",
    "        utils.format_body(file['abstract']),\n",
    "        utils.format_body(file['body_text']),\n",
    "        utils.format_bib(file['bib_entries']),\n",
    "        file['metadata']['authors'],\n",
    "        file['bib_entries']\n",
    "    ]\n",
    "    \n",
    "    cleaned_files.append(features)\n",
    "    \n",
    "    del file\n",
    "    del features"
   ]
  },
  {
   "cell_type": "code",
   "execution_count": null,
   "metadata": {},
   "outputs": [],
   "source": [
    "complete_df = pd.concat([clean_df, pmc_df, comm_df, noncomm_df])\n",
    "complete_df.shape"
   ]
  },
  {
   "cell_type": "code",
   "execution_count": null,
   "metadata": {},
   "outputs": [],
   "source": [
    "complete_df.head(2)"
   ]
  },
  {
   "cell_type": "code",
   "execution_count": null,
   "metadata": {},
   "outputs": [],
   "source": [
    "# Keep only texts with minimal number of words \n",
    "\n",
    "complete_df = complete_df[complete_df['text'].apply(lambda x: len(re.findall(r\"(?i)\\b[a-z]+\\b\", x))) > 1000]                                           \n",
    "complete_df.shape"
   ]
  },
  {
   "cell_type": "code",
   "execution_count": 15,
   "metadata": {},
   "outputs": [
    {
     "data": {
      "text/plain": [
       "'The flavivirus Zika virus (ZIKV) activates ribonuclease L (RNase L) catalytic antiviral 26 function during infection, yet deletion of RNase L decreases ZIKV production, suggesting 27 a proviral role of RNase L. In this study, we reveal that latent RNase L supports ZIKV 28 replication factory (RF) assembly. Deletion of RNase L induced broader cellular 29 distribution of ZIKV dsRNA and NS3 compared with densely concentrated RFs detected 30 in WT cells. An inactive form of RNase L was sufficient to'"
      ]
     },
     "execution_count": 15,
     "metadata": {},
     "output_type": "execute_result"
    }
   ],
   "source": [
    "# See random text\n",
    "\n",
    "complete_df.reset_index(inplace = True, drop = True)\n",
    "complete_df.iloc[42]['text'][:500]"
   ]
  },
  {
   "cell_type": "code",
   "execution_count": 16,
   "metadata": {},
   "outputs": [],
   "source": [
    "frac_of_articles = 1\n",
    "train_df  = complete_df.sample(frac = frac_of_articles, random_state = 42)\n",
    "train_corpus = (list(utils.read_corpus(train_df, 'abstract'))) "
   ]
  },
  {
   "cell_type": "code",
   "execution_count": 17,
   "metadata": {},
   "outputs": [],
   "source": [
    "# Using distributed memory model\n",
    "\n",
    "model = gensim.models.doc2vec.Doc2Vec(dm = 1, vector_size = 50, min_count = 10, dm_mean = 1, epochs = 20, seed = 42, workers = 6)\n",
    "model.build_vocab(train_corpus)\n",
    "model.train(train_corpus, total_examples = model.corpus_count, epochs = model.epochs)"
   ]
  },
  {
   "cell_type": "code",
   "execution_count": 18,
   "metadata": {},
   "outputs": [],
   "source": [
    "list_of_tasks = [task_1, task_2, task_3, task_4, task_5, task_6, task_7, task_8, task_9]"
   ]
  },
  {
   "cell_type": "code",
   "execution_count": 19,
   "metadata": {},
   "outputs": [],
   "source": [
    "abstract_vectors = model.docvecs.vectors_docs\n",
    "array_of_tasks = [utils.get_doc_vector(task, model) for task in list_of_tasks]"
   ]
  },
  {
   "cell_type": "code",
   "execution_count": 20,
   "metadata": {},
   "outputs": [],
   "source": [
    "train_df['abstract_vector'] = [vec for vec in abstract_vectors]"
   ]
  },
  {
   "cell_type": "markdown",
   "metadata": {},
   "source": [
    "### Nearest Neigbors search"
   ]
  },
  {
   "cell_type": "code",
   "execution_count": 21,
   "metadata": {},
   "outputs": [
    {
     "data": {
      "text/plain": [
       "(20123, 10)"
      ]
     },
     "execution_count": 21,
     "metadata": {},
     "output_type": "execute_result"
    }
   ],
   "source": [
    "train_df = train_df[train_df['abstract'].apply(lambda x: len(re.findall(r\"(?i)\\b[a-z]+\\b\", x))) > 40]\n",
    "train_df.shape"
   ]
  },
  {
   "cell_type": "code",
   "execution_count": 22,
   "metadata": {},
   "outputs": [],
   "source": [
    "train_array = train_df['abstract_vector'].values.tolist()"
   ]
  },
  {
   "cell_type": "code",
   "execution_count": 23,
   "metadata": {},
   "outputs": [],
   "source": [
    "ball_tree = NearestNeighbors(algorithm = 'ball_tree', leaf_size = 20).fit(train_array)"
   ]
  },
  {
   "cell_type": "code",
   "execution_count": 24,
   "metadata": {},
   "outputs": [],
   "source": [
    "# Query for all tasks\n",
    "\n",
    "distances, indices = ball_tree.kneighbors(array_of_tasks, n_neighbors = 3)"
   ]
  },
  {
   "cell_type": "code",
   "execution_count": 25,
   "metadata": {},
   "outputs": [
    {
     "name": "stdout",
     "output_type": "stream",
     "text": [
      "================================================================================ \n",
      "\n",
      "Task = What is known about transmission, incubation, and environmental stability of COVID-19? What do we kn\n",
      "\n",
      " Text index = 10154 \n",
      " Distance = 5.236969942415397 \n",
      " Title: Modeling Control Strategies of Respiratory Pathogens \n",
      " Abstract extract: Effectively controlling infectious diseases requires quantitative comparisons of quarantine, infection control precautions, case identification and isolation, and immunization interventions. We used c\n",
      "\n",
      "\n",
      " Text index = 11461 \n",
      " Distance = 5.48955226773919 \n",
      " Title: Dynamic Transmission Modeling: A Report of the ISPOR-SMDM Modeling Good Research Practices Task Force-5 \n",
      " Abstract extract: The transmissible nature of communicable diseases is what sets them apart from other diseases modeled by health economists. The probability of a susceptible individual becoming infected at any one poi\n",
      "\n",
      "\n",
      " Text index = 5139 \n",
      " Distance = 5.556756137886714 \n",
      " Title: Dynamic airflow simulation within an isolation room \n",
      " Abstract extract: In many hospitals, isolation rooms are used to contain patients who are highly infectious, and the spread of air and bacteria within the isolation room is closely relates to room air distribution. Thi\n",
      "\n",
      "\n",
      "================================================================================ \n",
      "\n",
      "Task = What do we know about COVID-19 risk factors? What have we learned from epidemiological studies?\n",
      "Data\n",
      "\n",
      " Text index = 6891 \n",
      " Distance = 3.036751124827708 \n",
      " Title: Department of Occupational and Environmental Health \n",
      " Abstract extract: 2-18. We compared epidemiological characteristics across periods and different demographic groups. We developed a susceptible-exposed-infectious-recovered model to study the epidemic and evaluate the \n",
      "\n",
      "\n",
      " Text index = 3997 \n",
      " Distance = 3.072594642826174 \n",
      " Title: Prediction of the Epidemic of COVID-19 Based on Quarantined Surveillance in China \n",
      " Abstract extract: To predict the epidemic of COVID-19 based on quarantined surveillance from real world in China by modified SEIR model different from the previous simply mathematical model.We forecasted the epidemic o\n",
      "\n",
      "\n",
      " Text index = 2426 \n",
      " Distance = 3.1339260922429877 \n",
      " Title: SEARCH STRATEGY PubMed databases were searched for studies on MERS cases during the 2015 outbreak in the Republic of Korea. The search terms used were combinations of 'Middle East respiratory syndrome' in all fields and 'Korea' in all \n",
      " Abstract extract: Middle East Respiratory Syndrome coronavirus (MERS-CoV) was first isolated from a patient with severe pneumonia in 2012. The 2015 Korea outbreak of MERS-CoV involved 186 cases, including 38 fatalities\n",
      "\n",
      "\n",
      "================================================================================ \n",
      "\n",
      "Task = What do we know about virus genetics, origin, and evolution? What do we know about the virus origin \n",
      "\n",
      " Text index = 15471 \n",
      " Distance = 3.92034876845291 \n",
      " Title: Detection of Group 1 Coronaviruses in Bats in North America \n",
      " Abstract extract: The epidemic of severe acute respiratory syndrome (SARS) was caused by a newly emerged coronavirus (SARS-CoV). Bats of several species in southern People's Republic of China harbor SARS-like CoVs and \n",
      "\n",
      "\n",
      " Text index = 4549 \n",
      " Distance = 3.998624719233847 \n",
      " Title: Understanding infectious agents from an in silico perspective \n",
      " Abstract extract: Knowledge of infectious diseases now emerging from genomic, proteomic, epidemiological and clinical data can provide insights into the mechanisms of immune function, disease pathogenesis and epidemiol\n",
      "\n",
      "\n",
      " Text index = 5353 \n",
      " Distance = 4.037015813944334 \n",
      " Title: Discovery and Characterization of Novel Bat Coronavirus Lineages from Kazakhstan \n",
      " Abstract extract: Coronaviruses are positive-stranded RNA viruses that infect a variety of hosts, resulting in a range of symptoms from gastrointestinal illness to respiratory distress. Bats are reservoirs for a high d\n",
      "\n",
      "\n",
      "================================================================================ \n",
      "\n",
      "Task = What do we know about vaccines and therapeutics? What has been published concerning research and dev\n",
      "\n",
      " Text index = 2439 \n",
      " Distance = 4.053034913223749 \n",
      " Title: Emergency department evaluation of the febrile traveler \n",
      " Abstract extract: The emergency department evaluation of the febrile traveler presents the emergency physician with a set of unique and often challenging circumstances. In addition to evaluating and managing the usual \n",
      "\n",
      "\n",
      " Text index = 10929 \n",
      " Distance = 4.098668397128207 \n",
      " Title: Mouse Models as Resources for Studying Infectious Diseases \n",
      " Abstract extract: Mouse models are important tools both for studying the pathogenesis of infectious diseases and for the preclinical evaluation of vaccines and therapies against a wide variety of human pathogens. The u\n",
      "\n",
      "\n",
      " Text index = 912 \n",
      " Distance = 4.210808734434987 \n",
      " Title: Inhibition of infection caused by severe acute respiratory syndrome-associated coronavirus by equine neutralizing antibody in aged mice ☆ \n",
      " Abstract extract: The high susceptibility of elderly to severe acute respiratory syndrome-associated coronavirus (SARS-CoV) indicates how crucial it is to protect the elderly by various strategies. Aged BALB/c mice dis\n",
      "\n",
      "\n",
      "================================================================================ \n",
      "\n",
      "Task = What do we know about the effectiveness of non-pharmaceutical interventions? What is known about equ\n",
      "\n",
      " Text index = 5791 \n",
      " Distance = 4.7387802775831 \n",
      " Title:  \n",
      " Abstract extract: Background: Universal access to information for health professionals is a need to achieve \"health for all strategy.\" A large proportion of the population including health professionals have limited ac\n",
      "\n",
      "\n",
      " Text index = 12361 \n",
      " Distance = 4.7531109485311465 \n",
      " Title: Review of Airline-within-Airline strategy: Case studies of the Singapore Airlines Group and Qantas Group \n",
      " Abstract extract: The growth of the aviation industry has seen a rapid increase in low-cost carriers (LCCs) commencing operations, threatening the sustainability of a number of legacy airlines. The response to this cha\n",
      "\n",
      "\n",
      " Text index = 12391 \n",
      " Distance = 4.84121307482918 \n",
      " Title: Advising the traveller \n",
      " Abstract extract: Global travel continues to increase, particularly to tropical destinations that have different health risks from those encountered closer to home. Currently, over a billion people travel annually, wit\n",
      "\n",
      "\n",
      "================================================================================ \n",
      "\n",
      "Task = What do we know about diagnostics and surveillance? What has been published concerning systematic, h\n",
      "\n",
      " Text index = 10764 \n",
      " Distance = 6.180938263514657 \n",
      " Title: control of infectious Diseases in the era of european clinical Microbiology Laboratory consolidation: New challenges and Opportunities for the Patient and for Public Health surveillance \n",
      " Abstract extract: Many new innovative diagnostic approaches have been made available during the last 10 years with major impact on patient care and public health surveillance. In parallel, to enhance the cost-effective\n",
      "\n",
      "\n",
      " Text index = 10017 \n",
      " Distance = 6.2369844297202315 \n",
      " Title: Advances in Directly Amplifying Nucleic Acids from Complex Samples \n",
      " Abstract extract: Advances in nucleic acid amplification technologies have revolutionized diagnostics for systemic, inherited, and infectious diseases. Current assays and platforms, however, often require lengthy exper\n",
      "\n",
      "\n",
      " Text index = 15418 \n",
      " Distance = 6.266441629879322 \n",
      " Title: Preparedness and vulnerability of African countries against importations of COVID-19: a modelling study \n",
      " Abstract extract: Background The novel coronavirus disease 2019 (COVID-19) epidemic has spread from China to 25 countries. Local cycles of transmission have already occurred in 12 countries after case importation. In A\n",
      "\n",
      "\n",
      "================================================================================ \n",
      "\n",
      "Task = What has been published about medical care? What has been published concerning surge capacity and nu\n",
      "\n",
      " Text index = 18235 \n",
      " Distance = 5.853223947520069 \n",
      " Title: Optimal Decision Model for Sustainable Hospital Building Renovation-A Case Study of a Vacant School Building Converting into a Community Public Hospital \n",
      " Abstract extract: Much attention has been paid to hospitals environments since modern pandemics have emerged. The building sector is considered to be the largest world energy consumer, so many global organizations are \n",
      "\n",
      "\n",
      " Text index = 19575 \n",
      " Distance = 6.025848519336073 \n",
      " Title:  \n",
      " Abstract extract: The novel coronavirus pneumonia (COVID-19) epidemic has brought serious social psychological impact to the Chinese people, especially those quarantined and thus with limited access to face-to-face com\n",
      "\n",
      "\n",
      " Text index = 10684 \n",
      " Distance = 6.068043813730941 \n",
      " Title: Pharmacodynamics and Systems Pharmacology Approaches to Repurposing Drugs in the Wake of Global Health Burden \n",
      " Abstract extract: There are emergent needs for cost-effective treatment worldwide, for which repurposing to develop a drug with existing marketing approval of disease(s) for new disease(s) is a valid option. Although s\n",
      "\n",
      "\n",
      "================================================================================ \n",
      "\n",
      "Task = What has been published concerning ethical considerations for research? What has been published conc\n",
      "\n",
      " Text index = 15105 \n",
      " Distance = 3.7988665606553766 \n",
      " Title: Preparedness and management of global public health threats at points of entry in Ireland and the EU in the context of a potential Brexit \n",
      " Abstract extract: Health security in the European Union (EU) aims to protect citizens from serious threats to health such as biological agents and infectious disease outbreaks-whether natural, intentional or accidental\n",
      "\n",
      "\n",
      " Text index = 16988 \n",
      " Distance = 3.8069493571740036 \n",
      " Title: Emerging respiratory tract infections 2 Emerging infectious diseases and pandemic potential: status quo and reducing risk of global spread \n",
      " Abstract extract: Emerging infectious diseases are an important public health threat and infections with pandemic potential are a major global risk. Although much has been learned from previous events the evidence for \n",
      "\n",
      "\n",
      " Text index = 5710 \n",
      " Distance = 3.9328143972707577 \n",
      " Title: Clinical Medicine Communicating the Risk of Death from Novel Coronavirus Disease (COVID-19) \n",
      " Abstract extract: To understand the severity of infection for a given disease, it is common epidemiological practice to estimate the case fatality risk, defined as the risk of death among cases. However, there are thre\n",
      "\n",
      "\n",
      "================================================================================ \n",
      "\n",
      "Task = What has been published about information sharing and inter-sectoral collaboration? What has been pu\n",
      "\n",
      " Text index = 2166 \n",
      " Distance = 6.094403216906697 \n",
      " Title: Casualties of war: the infection control assessment of civilians transferred from conflict zones to specialist units overseas for treatment \n",
      " Abstract extract: Casualties Civilian Infection control assessment Precautionary principle Risk management WarThe casualties of global conflict attract media attention and sympathy in public, governmental, and non-gove\n",
      "\n",
      "\n",
      " Text index = 18519 \n",
      " Distance = 6.275276233310256 \n",
      " Title: Adherence to precautions for preventing the transmission of microorganisms in primary health care: a qualitative study \n",
      " Abstract extract: Background: Health care associated infections (HAIs) are a source of concern worldwide. No health service in any country can be considered HAI risk-free. However, there is scarcity of data on the risk\n",
      "\n",
      "\n",
      " Text index = 19348 \n",
      " Distance = 6.36935030476214 \n",
      " Title: Public Response to Community Mitigation Measures for Pandemic Infl uenza \n",
      " Abstract extract: We report the results of a national survey conducted to help public health offi cials understand the public's response to community mitigation interventions for a severe outbreak of pandemic infl uenz\n",
      "\n",
      "\n"
     ]
    }
   ],
   "source": [
    "for i, info in enumerate(list_of_tasks):\n",
    "    print(\"=\"*80, f\"\\n\\nTask = {info[:100]}\\n\", )\n",
    "    df =  train_df.iloc[indices[i]]\n",
    "    abstracts = df['abstract']\n",
    "    titles = df['title']\n",
    "    dist = distances[i]\n",
    "    for l in range(len(dist)):\n",
    "        print(f\" Text index = {indices[i][l]} \\n Distance = {distances[i][l]} \\n Title: {titles.iloc[l]} \\n Abstract extract: {abstracts.iloc[l][:200]}\\n\\n\")"
   ]
  },
  {
   "cell_type": "markdown",
   "metadata": {},
   "source": [
    "### Clustering and visualisation"
   ]
  },
  {
   "cell_type": "code",
   "execution_count": 26,
   "metadata": {},
   "outputs": [
    {
     "data": {
      "image/png": "[encoded data removed]",
      "text/plain": [
       "<Figure size 576x396 with 2 Axes>"
      ]
     },
     "metadata": {},
     "output_type": "display_data"
    },
    {
     "data": {
      "text/plain": [
       "<matplotlib.axes._subplots.AxesSubplot at 0x7f2eaddce1d0>"
      ]
     },
     "execution_count": 26,
     "metadata": {},
     "output_type": "execute_result"
    }
   ],
   "source": [
    "abstract_vectors = model.docvecs.vectors_docs\n",
    "kmeans = KMeans(init = 'k-means++', max_iter = 300, random_state = 42) \n",
    "visualizer = KElbowVisualizer(kmeans, k = (2, 16))\n",
    "visualizer.fit(abstract_vectors)\n",
    "visualizer.show()"
   ]
  },
  {
   "cell_type": "code",
   "execution_count": 27,
   "metadata": {},
   "outputs": [],
   "source": [
    "# Clearly 6 clusters are here"
   ]
  },
  {
   "cell_type": "code",
   "execution_count": 28,
   "metadata": {},
   "outputs": [],
   "source": [
    "kmeans = KMeans(n_clusters = 6, init = 'k-means++', max_iter = 100, random_state = 42) \n",
    "train_df['labels'] = kmeans.fit_predict(train_array)"
   ]
  },
  {
   "cell_type": "code",
   "execution_count": 29,
   "metadata": {},
   "outputs": [
    {
     "data": {
      "text/html": [
       "<div>\n",
       "<style scoped>\n",
       "    .dataframe tbody tr th:only-of-type {\n",
       "        vertical-align: middle;\n",
       "    }\n",
       "\n",
       "    .dataframe tbody tr th {\n",
       "        vertical-align: top;\n",
       "    }\n",
       "\n",
       "    .dataframe thead th {\n",
       "        text-align: right;\n",
       "    }\n",
       "</style>\n",
       "<table border=\"1\" class=\"dataframe\">\n",
       "  <thead>\n",
       "    <tr style=\"text-align: right;\">\n",
       "      <th></th>\n",
       "      <th>text</th>\n",
       "      <th>labels</th>\n",
       "    </tr>\n",
       "  </thead>\n",
       "  <tbody>\n",
       "    <tr>\n",
       "      <th>10352</th>\n",
       "      <td>Although viral disease remains a major cause o...</td>\n",
       "      <td>1</td>\n",
       "    </tr>\n",
       "    <tr>\n",
       "      <th>10007</th>\n",
       "      <td>Cationic One research area in the emergent pop...</td>\n",
       "      <td>5</td>\n",
       "    </tr>\n",
       "    <tr>\n",
       "      <th>4093</th>\n",
       "      <td>Canine visceral leishmaniasis (CVL) is caused ...</td>\n",
       "      <td>0</td>\n",
       "    </tr>\n",
       "    <tr>\n",
       "      <th>5799</th>\n",
       "      <td>Coronaviruses are single stranded positive sen...</td>\n",
       "      <td>5</td>\n",
       "    </tr>\n",
       "    <tr>\n",
       "      <th>21052</th>\n",
       "      <td>E merging and re-emerging diseases caused by i...</td>\n",
       "      <td>5</td>\n",
       "    </tr>\n",
       "    <tr>\n",
       "      <th>18947</th>\n",
       "      <td>Presently, lack of proper therapeutics and vac...</td>\n",
       "      <td>5</td>\n",
       "    </tr>\n",
       "    <tr>\n",
       "      <th>20653</th>\n",
       "      <td>An essential step in understanding protein fun...</td>\n",
       "      <td>5</td>\n",
       "    </tr>\n",
       "    <tr>\n",
       "      <th>7998</th>\n",
       "      <td>The management of comprehensive and extensive,...</td>\n",
       "      <td>4</td>\n",
       "    </tr>\n",
       "    <tr>\n",
       "      <th>16598</th>\n",
       "      <td>Leptospirosis is a worldwide zoonotic disease ...</td>\n",
       "      <td>5</td>\n",
       "    </tr>\n",
       "    <tr>\n",
       "      <th>20763</th>\n",
       "      <td>inTrODUcTiOn Porcine epidemic diarrhea (PED) i...</td>\n",
       "      <td>1</td>\n",
       "    </tr>\n",
       "    <tr>\n",
       "      <th>23622</th>\n",
       "      <td>Febrile respiratory illness (FRI) results in s...</td>\n",
       "      <td>2</td>\n",
       "    </tr>\n",
       "    <tr>\n",
       "      <th>25976</th>\n",
       "      <td>Novel human viral pathogens are emerging with ...</td>\n",
       "      <td>1</td>\n",
       "    </tr>\n",
       "    <tr>\n",
       "      <th>15230</th>\n",
       "      <td>Since the beginning of the 21st century, there...</td>\n",
       "      <td>5</td>\n",
       "    </tr>\n",
       "    <tr>\n",
       "      <th>10735</th>\n",
       "      <td>H7N9 avian influenza virus has caused 5 waves ...</td>\n",
       "      <td>2</td>\n",
       "    </tr>\n",
       "    <tr>\n",
       "      <th>24102</th>\n",
       "      <td>Molecular docking-based virtual screening is w...</td>\n",
       "      <td>5</td>\n",
       "    </tr>\n",
       "    <tr>\n",
       "      <th>2141</th>\n",
       "      <td>Investigation of the secondary metabolites of ...</td>\n",
       "      <td>5</td>\n",
       "    </tr>\n",
       "    <tr>\n",
       "      <th>5456</th>\n",
       "      <td>A number of cellular and viral proteins have b...</td>\n",
       "      <td>5</td>\n",
       "    </tr>\n",
       "    <tr>\n",
       "      <th>22358</th>\n",
       "      <td>Protein epitope mimetics (PEMs) are rapidly ga...</td>\n",
       "      <td>5</td>\n",
       "    </tr>\n",
       "    <tr>\n",
       "      <th>5528</th>\n",
       "      <td>Pneumonia is a common illness that continues t...</td>\n",
       "      <td>2</td>\n",
       "    </tr>\n",
       "    <tr>\n",
       "      <th>8442</th>\n",
       "      <td>The Middle East respiratory syndrome coronavir...</td>\n",
       "      <td>2</td>\n",
       "    </tr>\n",
       "  </tbody>\n",
       "</table>\n",
       "</div>"
      ],
      "text/plain": [
       "                                                    text  labels\n",
       "10352  Although viral disease remains a major cause o...       1\n",
       "10007  Cationic One research area in the emergent pop...       5\n",
       "4093   Canine visceral leishmaniasis (CVL) is caused ...       0\n",
       "5799   Coronaviruses are single stranded positive sen...       5\n",
       "21052  E merging and re-emerging diseases caused by i...       5\n",
       "18947  Presently, lack of proper therapeutics and vac...       5\n",
       "20653  An essential step in understanding protein fun...       5\n",
       "7998   The management of comprehensive and extensive,...       4\n",
       "16598  Leptospirosis is a worldwide zoonotic disease ...       5\n",
       "20763  inTrODUcTiOn Porcine epidemic diarrhea (PED) i...       1\n",
       "23622  Febrile respiratory illness (FRI) results in s...       2\n",
       "25976  Novel human viral pathogens are emerging with ...       1\n",
       "15230  Since the beginning of the 21st century, there...       5\n",
       "10735  H7N9 avian influenza virus has caused 5 waves ...       2\n",
       "24102  Molecular docking-based virtual screening is w...       5\n",
       "2141   Investigation of the secondary metabolites of ...       5\n",
       "5456   A number of cellular and viral proteins have b...       5\n",
       "22358  Protein epitope mimetics (PEMs) are rapidly ga...       5\n",
       "5528   Pneumonia is a common illness that continues t...       2\n",
       "8442   The Middle East respiratory syndrome coronavir...       2"
      ]
     },
     "execution_count": 29,
     "metadata": {},
     "output_type": "execute_result"
    }
   ],
   "source": [
    "train_df[['text','labels']][:20]"
   ]
  },
  {
   "cell_type": "code",
   "execution_count": null,
   "metadata": {},
   "outputs": [],
   "source": []
  }
 ],
 "metadata": {
  "kernelspec": {
   "display_name": "Python 3",
   "language": "python",
   "name": "python3"
  },
  "language_info": {
   "codemirror_mode": {
    "name": "ipython",
    "version": 3
   },
   "file_extension": ".py",
   "mimetype": "text/x-python",
   "name": "python",
   "nbconvert_exporter": "python",
   "pygments_lexer": "ipython3",
   "version": "3.7.7"
  }
 },
 "nbformat": 4,
 "nbformat_minor": 4
}
