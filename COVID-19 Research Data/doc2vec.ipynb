{
 "cells": [
  {
   "cell_type": "code",
   "execution_count": 1,
   "metadata": {},
   "outputs": [
    {
     "name": "stderr",
     "output_type": "stream",
     "text": [
      "/home/tanmay/anaconda3/lib/python3.7/site-packages/sklearn/utils/deprecation.py:144: FutureWarning: The sklearn.metrics.classification module is  deprecated in version 0.22 and will be removed in version 0.24. The corresponding classes / functions should instead be imported from sklearn.metrics. Anything that cannot be imported from sklearn.metrics is now part of the private API.\n",
      "  warnings.warn(message, FutureWarning)\n"
     ]
    }
   ],
   "source": [
    "import os\n",
    "import re\n",
    "import json\n",
    "import utils\n",
    "import random\n",
    "import gensim\n",
    "import warnings\n",
    "\n",
    "import numpy as np\n",
    "import pandas as pd\n",
    "\n",
    "from tasks import *\n",
    "from pprint import pprint\n",
    "from tqdm.notebook import tqdm\n",
    "from sklearn.cluster import KMeans\n",
    "from sklearn.neighbors import NearestNeighbors\n",
    "from yellowbrick.cluster import KElbowVisualizer\n",
    "\n",
    "warnings.filterwarnings('ignore')"
   ]
  },
  {
   "cell_type": "code",
   "execution_count": 2,
   "metadata": {},
   "outputs": [
    {
     "data": {
      "text/plain": [
       "(59561, 10)"
      ]
     },
     "execution_count": 2,
     "metadata": {},
     "output_type": "execute_result"
    }
   ],
   "source": [
    "complete_df = pd.read_csv(\"clean_pdf.csv\")\n",
    "complete_df.shape"
   ]
  },
  {
   "cell_type": "code",
   "execution_count": 3,
   "metadata": {},
   "outputs": [
    {
     "data": {
      "text/html": [
       "<div>\n",
       "<style scoped>\n",
       "    .dataframe tbody tr th:only-of-type {\n",
       "        vertical-align: middle;\n",
       "    }\n",
       "\n",
       "    .dataframe tbody tr th {\n",
       "        vertical-align: top;\n",
       "    }\n",
       "\n",
       "    .dataframe thead th {\n",
       "        text-align: right;\n",
       "    }\n",
       "</style>\n",
       "<table border=\"1\" class=\"dataframe\">\n",
       "  <thead>\n",
       "    <tr style=\"text-align: right;\">\n",
       "      <th></th>\n",
       "      <th>Unnamed: 0</th>\n",
       "      <th>paper_id</th>\n",
       "      <th>title</th>\n",
       "      <th>authors</th>\n",
       "      <th>affiliations</th>\n",
       "      <th>abstract</th>\n",
       "      <th>text</th>\n",
       "      <th>bibliography</th>\n",
       "      <th>raw_authors</th>\n",
       "      <th>raw_bibliography</th>\n",
       "    </tr>\n",
       "  </thead>\n",
       "  <tbody>\n",
       "    <tr>\n",
       "      <th>0</th>\n",
       "      <td>0</td>\n",
       "      <td>6f005a0677f24f697c1ec3ce065ec4144519e357</td>\n",
       "      <td>Antiviral Mechanisms of Human Defensins Introd...</td>\n",
       "      <td>Sarah S Wilson, Mayim E Wiens, Jason G Smith</td>\n",
       "      <td>Sarah S Wilson (University of Washington, 1705...</td>\n",
       "      <td>Defensins are an effector component of the inn...</td>\n",
       "      <td>Defensins are one of the most abundant classes...</td>\n",
       "      <td>Direct inactivation of viruses by human granul...</td>\n",
       "      <td>[{'first': 'Sarah', 'middle': ['S'], 'last': '...</td>\n",
       "      <td>{'BIBREF0': {'ref_id': 'b0', 'title': 'Direct ...</td>\n",
       "    </tr>\n",
       "    <tr>\n",
       "      <th>1</th>\n",
       "      <td>1</td>\n",
       "      <td>4994fa72322bbf19120592304d92629226948d8e</td>\n",
       "      <td>Rapid Identification of Malaria Vaccine Candid...</td>\n",
       "      <td>V Villard, G W Agak, G Frank, A Jafarshad, C S...</td>\n",
       "      <td>V Villard, G W Agak, G Frank, A Jafarshad, C S...</td>\n",
       "      <td>To identify malaria antigens for vaccine devel...</td>\n",
       "      <td>Human Plasmodium falciparum (Pf) infection is ...</td>\n",
       "      <td>Identification of vaccine candidates against s...</td>\n",
       "      <td>[{'first': 'V', 'middle': [], 'last': 'Villard...</td>\n",
       "      <td>{'BIBREF0': {'ref_id': 'b0', 'title': 'Identif...</td>\n",
       "    </tr>\n",
       "  </tbody>\n",
       "</table>\n",
       "</div>"
      ],
      "text/plain": [
       "   Unnamed: 0                                  paper_id  \\\n",
       "0           0  6f005a0677f24f697c1ec3ce065ec4144519e357   \n",
       "1           1  4994fa72322bbf19120592304d92629226948d8e   \n",
       "\n",
       "                                               title  \\\n",
       "0  Antiviral Mechanisms of Human Defensins Introd...   \n",
       "1  Rapid Identification of Malaria Vaccine Candid...   \n",
       "\n",
       "                                             authors  \\\n",
       "0       Sarah S Wilson, Mayim E Wiens, Jason G Smith   \n",
       "1  V Villard, G W Agak, G Frank, A Jafarshad, C S...   \n",
       "\n",
       "                                        affiliations  \\\n",
       "0  Sarah S Wilson (University of Washington, 1705...   \n",
       "1  V Villard, G W Agak, G Frank, A Jafarshad, C S...   \n",
       "\n",
       "                                            abstract  \\\n",
       "0  Defensins are an effector component of the inn...   \n",
       "1  To identify malaria antigens for vaccine devel...   \n",
       "\n",
       "                                                text  \\\n",
       "0  Defensins are one of the most abundant classes...   \n",
       "1  Human Plasmodium falciparum (Pf) infection is ...   \n",
       "\n",
       "                                        bibliography  \\\n",
       "0  Direct inactivation of viruses by human granul...   \n",
       "1  Identification of vaccine candidates against s...   \n",
       "\n",
       "                                         raw_authors  \\\n",
       "0  [{'first': 'Sarah', 'middle': ['S'], 'last': '...   \n",
       "1  [{'first': 'V', 'middle': [], 'last': 'Villard...   \n",
       "\n",
       "                                    raw_bibliography  \n",
       "0  {'BIBREF0': {'ref_id': 'b0', 'title': 'Direct ...  \n",
       "1  {'BIBREF0': {'ref_id': 'b0', 'title': 'Identif...  "
      ]
     },
     "execution_count": 3,
     "metadata": {},
     "output_type": "execute_result"
    }
   ],
   "source": [
    "complete_df.head(2)"
   ]
  },
  {
   "cell_type": "code",
   "execution_count": 4,
   "metadata": {},
   "outputs": [
    {
     "data": {
      "text/plain": [
       "Unnamed: 0              0\n",
       "paper_id                0\n",
       "title                5988\n",
       "authors              5612\n",
       "affiliations         5612\n",
       "abstract            17257\n",
       "text                    0\n",
       "bibliography            0\n",
       "raw_authors             0\n",
       "raw_bibliography        0\n",
       "dtype: int64"
      ]
     },
     "execution_count": 4,
     "metadata": {},
     "output_type": "execute_result"
    }
   ],
   "source": [
    "complete_df.isna().sum()"
   ]
  },
  {
   "cell_type": "code",
   "execution_count": 5,
   "metadata": {},
   "outputs": [
    {
     "data": {
      "text/plain": [
       "(38265, 10)"
      ]
     },
     "execution_count": 5,
     "metadata": {},
     "output_type": "execute_result"
    }
   ],
   "source": [
    "# Keep only texts with minimal number of words \n",
    "\n",
    "complete_df = complete_df[complete_df['text'].apply(lambda x: len(re.findall(r\"(?i)\\b[a-z]+\\b\", x))) > 1000].dropna()                                           \n",
    "complete_df.shape"
   ]
  },
  {
   "cell_type": "code",
   "execution_count": 6,
   "metadata": {},
   "outputs": [
    {
     "data": {
      "text/plain": [
       "'The molecular analysis of disease pathogenesis in cattle has been limited by the lack of availability of tools to analyze both host and pathogen responses. These limitations are disappearing with the advent of methodologies such as microarrays that facilitate rapid characterization of global gene expression at the level of individual cells and tissues. The present review focuses on the use of microarray technologies to investigate the functional pathogenomics of infectious disease in cattle. We '"
      ]
     },
     "execution_count": 6,
     "metadata": {},
     "output_type": "execute_result"
    }
   ],
   "source": [
    "# See random text\n",
    "\n",
    "complete_df.reset_index(inplace = True, drop = True)\n",
    "complete_df.iloc[42]['abstract'][:500]"
   ]
  },
  {
   "cell_type": "code",
   "execution_count": 7,
   "metadata": {},
   "outputs": [],
   "source": [
    "frac_of_articles = 1\n",
    "train_df  = complete_df.sample(frac = frac_of_articles, random_state = 42)\n",
    "train_corpus = (list(utils.read_corpus(train_df, 'abstract'))) "
   ]
  },
  {
   "cell_type": "code",
   "execution_count": 8,
   "metadata": {},
   "outputs": [],
   "source": [
    "# Using distributed memory model\n",
    "\n",
    "model = gensim.models.doc2vec.Doc2Vec(dm = 1, vector_size = 50, min_count = 10, dm_mean = 1, epochs = 20, seed = 42, workers = 6)\n",
    "model.build_vocab(train_corpus)\n",
    "model.train(train_corpus, total_examples = model.corpus_count, epochs = model.epochs)"
   ]
  },
  {
   "cell_type": "code",
   "execution_count": 9,
   "metadata": {},
   "outputs": [],
   "source": [
    "list_of_tasks = [task_1, task_2, task_3, task_4, task_5, task_6, task_7, task_8, task_9]"
   ]
  },
  {
   "cell_type": "code",
   "execution_count": 10,
   "metadata": {},
   "outputs": [],
   "source": [
    "abstract_vectors = model.docvecs.vectors_docs\n",
    "array_of_tasks = [utils.get_doc_vector(task, model) for task in list_of_tasks]"
   ]
  },
  {
   "cell_type": "code",
   "execution_count": 11,
   "metadata": {},
   "outputs": [],
   "source": [
    "train_df['abstract_vector'] = [vec for vec in abstract_vectors]"
   ]
  },
  {
   "cell_type": "markdown",
   "metadata": {},
   "source": [
    "### Nearest Neigbors search"
   ]
  },
  {
   "cell_type": "code",
   "execution_count": 12,
   "metadata": {},
   "outputs": [
    {
     "data": {
      "text/plain": [
       "(37302, 11)"
      ]
     },
     "execution_count": 12,
     "metadata": {},
     "output_type": "execute_result"
    }
   ],
   "source": [
    "train_df = train_df[train_df['abstract'].apply(lambda x: len(re.findall(r\"(?i)\\b[a-z]+\\b\", x))) > 40].drop_na()\n",
    "train_df.shape"
   ]
  },
  {
   "cell_type": "code",
   "execution_count": 13,
   "metadata": {},
   "outputs": [],
   "source": [
    "train_array = train_df['abstract_vector'].values.tolist()"
   ]
  },
  {
   "cell_type": "code",
   "execution_count": 14,
   "metadata": {},
   "outputs": [],
   "source": [
    "ball_tree = NearestNeighbors(algorithm = 'ball_tree', leaf_size = 20).fit(train_array)"
   ]
  },
  {
   "cell_type": "code",
   "execution_count": 15,
   "metadata": {},
   "outputs": [],
   "source": [
    "# Query for all tasks\n",
    "\n",
    "distances, indices = ball_tree.kneighbors(array_of_tasks, n_neighbors = 3)"
   ]
  },
  {
   "cell_type": "code",
   "execution_count": 16,
   "metadata": {},
   "outputs": [
    {
     "name": "stdout",
     "output_type": "stream",
     "text": [
      "================================================================================ \n",
      "\n",
      "Task = What is known about transmission, incubation, and environmental stability of COVID-19? What do we kn\n",
      "\n",
      " Text index = 25300 \n",
      " Distance = 5.139900733187483 \n",
      " Title: Dynamic Transmission Modeling: A Report of the ISPOR-SMDM Modeling Good Research Practices Task Force-5 \n",
      " Abstract extract: The transmissible nature of communicable diseases is what sets them apart from other diseases modeled by health economists. The probability of a susceptible individual becoming infected at any one poi\n",
      "\n",
      "\n",
      " Text index = 30086 \n",
      " Distance = 5.421220697986603 \n",
      " Title: Cooperative virus propagation underlies COVID-19 transmission dynamics \n",
      " Abstract extract: The global pandemic due to the emergence of a novel coronavirus is a threat to the future health of humanity. There remains an urgent need to understand its transmission characteristics and design eff\n",
      "\n",
      "\n",
      " Text index = 1385 \n",
      " Distance = 5.43494778777184 \n",
      " Title: Issues Concerning Survival of Viruses on Surfaces \n",
      " Abstract extract: Viruses are the causative agents of an estimated 60% of human infections worldwide. The most common viral illnesses are produced by enteric and respiratory viruses. Transmission of these viruses from \n",
      "\n",
      "\n",
      "================================================================================ \n",
      "\n",
      "Task = What do we know about COVID-19 risk factors? What have we learned from epidemiological studies?\n",
      "Data\n",
      "\n",
      " Text index = 11139 \n",
      " Distance = 3.112882672117149 \n",
      " Title: A model for 2019-nCoV infection with treatment \n",
      " Abstract extract: The current emergence of coronavirus (2019-nCoV or COVID-19) puts the world in threat. 2019-nCoV remains the outbreak of SARS-CoV 2002-2003. The structural research on the receptor recognition by SARS\n",
      "\n",
      "\n",
      " Text index = 318 \n",
      " Distance = 3.196525791952663 \n",
      " Title: Title: Incidence, clinical outcomes, and transmission dynamics of \n",
      " Abstract extract: The United States is now the country reporting the highest number of 2019 coronavirus disease (COVID-19) cases and deaths. However, little is known about the epidemiology and burden of severe COVID-19\n",
      "\n",
      "\n",
      " Text index = 16586 \n",
      " Distance = 3.2610377840407443 \n",
      " Title: Evaluation by polymerase chain reaction of cytomegalovirus reactivation in intensive care patients under mechanical ventilation \n",
      " Abstract extract: Objective: The study was undertaken to determine if critically ill patients under mechanical ventilation could reactivate latent cytomegalovirus (CMV) in either lung or blood.Design: Prospective study\n",
      "\n",
      "\n",
      "================================================================================ \n",
      "\n",
      "Task = What do we know about virus genetics, origin, and evolution? What do we know about the virus origin \n",
      "\n",
      " Text index = 6463 \n",
      " Distance = 4.68371450272142 \n",
      " Title: Tropical Medicine and Infectious Disease Potential Intermediate Hosts for Coronavirus Transmission: No Evidence of Clade 2c Coronaviruses in Domestic Livestock from Ghana \n",
      " Abstract extract: The emergence of Middle East Respiratory Syndrome Coronavirus (MERS-CoV), nearly a decade ago with worldwide distribution, was believed to be of zoonotic origin from bats with dromedary camels as inte\n",
      "\n",
      "\n",
      " Text index = 28910 \n",
      " Distance = 4.717806400219014 \n",
      " Title: Understanding bat SARS-like coronaviruses for the preparation of future coronavirus outbreaks -Implications for coronavirus vaccine development \n",
      " Abstract extract: The severe acute respiratory syndrome coronavirus (SARS-CoV) first emerged in 2003, causing the SARS epidemic which resulted in a 10% fatality rate. The advancements in metagenomic techniques have all\n",
      "\n",
      "\n",
      " Text index = 19769 \n",
      " Distance = 4.720122842670001 \n",
      " Title: Short Communication First Isolation of Rotavirus Associated with Neonatal Diarrhoea in Guanacos (Lama guanicoe) in the Argentinean Patagonia Region Addresses of authors: 1 Instituto de Virologõ Âa/Patobiologõ Âa, CICV y A, INTA, Castelar \n",
      " Abstract extract: Group A rotavirus (RV) and coronavirus (CV) are common viral pathogens associated with neonatal diarrhoea in numerous animal species. The purpose of this work was to investigate the presence of these \n",
      "\n",
      "\n",
      "================================================================================ \n",
      "\n",
      "Task = What do we know about vaccines and therapeutics? What has been published concerning research and dev\n",
      "\n",
      " Text index = 30481 \n",
      " Distance = 3.646436403339848 \n",
      " Title: Discovery and development of safe-in-man broad-spectrum antiviral agents \n",
      " Abstract extract: Drug discovery and development Broad-spectrum antiviral agents BSAAs A B S T R A C T Viral diseases are one of the leading causes of morbidity and mortality in the world. Virus-specific vaccines and a\n",
      "\n",
      "\n",
      " Text index = 19196 \n",
      " Distance = 3.648741336866569 \n",
      " Title: Potential Vaccines and Post-Exposure Treatments for Filovirus Infections \n",
      " Abstract extract: Viruses of the family Filoviridae represent significant health risks as emerging infectious diseases as well as potentially engineered biothreats. While many research efforts have been published offer\n",
      "\n",
      "\n",
      " Text index = 31158 \n",
      " Distance = 3.678350188327246 \n",
      " Title: PEGylated Adenoviruses: From Mice to Monkeys \n",
      " Abstract extract: Covalent modification with polyethylene glycol (PEG), a non-toxic polymer used in food, cosmetic and pharmaceutical preparations for over 60 years, can profoundly influence the pharmacokinetic, pharma\n",
      "\n",
      "\n",
      "================================================================================ \n",
      "\n",
      "Task = What do we know about the effectiveness of non-pharmaceutical interventions? What is known about equ\n",
      "\n",
      " Text index = 21668 \n",
      " Distance = 4.482644872806715 \n",
      " Title: A Broker-Based Framework for the Recommendation of Cloud Services: A Research Proposal \n",
      " Abstract extract: Finding and comparing appropriate cloud services that best fit cloud service consumer requirements can be a complex, time-consuming and costintensive process, especially for small and medium-sized ent\n",
      "\n",
      "\n",
      " Text index = 17557 \n",
      " Distance = 4.508589938089993 \n",
      " Title: Journal Pre-proof Emerging from the other end: Key measures for a successful COVID-19 lockdown exit strategy and the potential contribution of pharmacists Emerging from the other end: Key measures for a successful COVID-19 lockdown exit strategy and the potential contribution of pharmacists Emerging from the other end: Key measures for a successful COVID-19 lockdown exit strategy and the potential contribution of pharmacists \n",
      " Abstract extract: As the world edges towards relaxing the lockdown measures taken to control the spread of the novel coronavirus SARS-CoV-2 (COVID-19), governments have started putting in place a variety of measures to\n",
      "\n",
      "\n",
      " Text index = 35202 \n",
      " Distance = 4.635403873283298 \n",
      " Title: Institutional Effects on National Health Insurance Digital Platform Development and Use: The Case of Ghana \n",
      " Abstract extract: The purpose of this study is to understand institutional effects on digital platform development and use for national health insurance in a developing country. Information systems research on digital \n",
      "\n",
      "\n",
      "================================================================================ \n",
      "\n",
      "Task = What do we know about diagnostics and surveillance? What has been published concerning systematic, h\n",
      "\n",
      " Text index = 9326 \n",
      " Distance = 6.099801880754615 \n",
      " Title: Diagnostics-in-a-Suitcase: Development of a portable and rapid assay for the detection of the emerging avian influenza A (H7N9) virus \n",
      " Abstract extract: Background: In developing countries, equipment necessary for diagnosis is only available in few central laboratories, which are less accessible and of limited capacity to test large numbers of incomin\n",
      "\n",
      "\n",
      " Text index = 36208 \n",
      " Distance = 6.151043179445268 \n",
      " Title: Diagnostics in a digital age: an opportunity to strengthen health systems and improve health outcomes \n",
      " Abstract extract: Diagnostics play a critical role in clinical decision making, and in disease control and prevention. Rapid pointof-care (POC) tests for infectious diseases can improve access to diagnosis and patient \n",
      "\n",
      "\n",
      " Text index = 331 \n",
      " Distance = 6.29480833583412 \n",
      " Title: RAPID, LARGE-SCALE, AND EFFECTIVE DETECTION OF COVID-19 VIA NON-ADAPTIVE TESTING \n",
      " Abstract extract: Pooling of samples can increase lab capacity when using Polymerase chain reaction (PCR) to detect infections such as COVID-19. However, pool testing is typically performed via an adaptive testing stra\n",
      "\n",
      "\n",
      "================================================================================ \n",
      "\n",
      "Task = What has been published about medical care? What has been published concerning surge capacity and nu\n",
      "\n",
      " Text index = 18975 \n",
      " Distance = 5.787192366032185 \n",
      " Title: Reasoned Decision Making Without Math? Adaptability and Robustness in Response to Surprise \n",
      " Abstract extract: Many real-world planning and decision problems are far too uncertain, too variable, and too complicated to support realistic mathematical models. Nonetheless, we explain the usefulness, in these situa\n",
      "\n",
      "\n",
      " Text index = 26562 \n",
      " Distance = 5.8367771580398395 \n",
      " Title: SARS-CoV-2 (COVID-19) and intravascular volume management strategies in the critically ill \n",
      " Abstract extract: The severe acute respiratory syndrome coronavirus 2 (SARS-CoV-2) continues to spread across the globe, and millions of people may be affected. While knowledge regarding epidemiologic features and diag\n",
      "\n",
      "\n",
      " Text index = 8364 \n",
      " Distance = 5.8398110024370125 \n",
      " Title: WORKSHEET for Evidence-Based Review of Science for Emergency Cardiac Care Worksheet author(s) Summary of evidence Evidence Supporting Clinical Question Level of evidence Summary of evidence Evidence Supporting Clinical Question Good Fair Poor 1 2 3 4 5 Level of evidence Evidence Neutral to Clinical Question Level of evidence A = Return of spontaneous circulation C = Survival to hospital discharge E = Other endpoint B = Survival of event D = Intact neurological survival Italics = Animal studies Evidence Opposing Clinical Question Poor 1 2 3 4 A = Return of spontaneous circulation C = Survival to hospital discharge E = Other endpoint B = Survival of event D = Intact neurological survival Italics = Animal studies REVIEWER'S FINAL COMMENTS AND ASSESSMENT OF BENEFIT / RISK \n",
      " Abstract extract: In laypersons and HCP's performing CPR, does the use of CPR feedback devices when compared to no device improves CPR skill acquisition, retention and real life performance? Is this question addressing\n",
      "\n",
      "\n",
      "================================================================================ \n",
      "\n",
      "Task = What has been published concerning ethical considerations for research? What has been published conc\n",
      "\n",
      " Text index = 9291 \n",
      " Distance = 3.950886647170299 \n",
      " Title: Community pharmacists and communication in the time of COVID-19: Applying the health belief model \n",
      " Abstract extract: The emergence of the novel coronavirus disease (COVID-19) pandemic presents an unprecedented health communications challenge. Healthcare providers should reinforce behaviors that limit the spread of t\n",
      "\n",
      "\n",
      " Text index = 24094 \n",
      " Distance = 3.9857513028356766 \n",
      " Title: Cosmopolitanism and foreign policy for health: ethics for and beyond the state \n",
      " Abstract extract: Background: Foreign policy holds great potential to improve the health of a global citizenship. Our contemporary political order is, in part, characterized by sovereign states acting either in opposit\n",
      "\n",
      "\n",
      " Text index = 2347 \n",
      " Distance = 4.124041248952369 \n",
      " Title: A global needs assessment in times of a global crisis: world psychiatry response to the COVID-19 pandemic \n",
      " Abstract extract: The COVID-19 pandemic has stunned the global community with marked social and psychological ramifications. There are key challenges for psychiatry that require urgent attention to ensure mental health\n",
      "\n",
      "\n",
      "================================================================================ \n",
      "\n",
      "Task = What has been published about information sharing and inter-sectoral collaboration? What has been pu\n",
      "\n",
      " Text index = 14432 \n",
      " Distance = 5.327972533319607 \n",
      " Title: The influence of organizational jurisdiction, organizational attributes, and training measures on perceptions of public health preparedness in Alberta \n",
      " Abstract extract: Objectives Recent international events including the H1N1 influenza pandemic and the rising incidence of West Nile Virus throughout North America have brought critical attention to the Canadian public\n",
      "\n",
      "\n",
      " Text index = 29473 \n",
      " Distance = 5.395942446455684 \n",
      " Title: Public Response to Community Mitigation Measures for Pandemic Infl uenza \n",
      " Abstract extract: We report the results of a national survey conducted to help public health offi cials understand the public's response to community mitigation interventions for a severe outbreak of pandemic infl uenz\n",
      "\n",
      "\n",
      " Text index = 8593 \n",
      " Distance = 5.442206601689031 \n",
      " Title: Regional public goods and international organizations \n",
      " Abstract extract: This article focuses on the provision prognosis for regional public goods (RPGs) and the role of international organizations in fostering supply in developing countries. All three properties of public\n",
      "\n",
      "\n"
     ]
    }
   ],
   "source": [
    "for i, info in enumerate(list_of_tasks):\n",
    "    print(\"=\"*80, f\"\\n\\nTask = {info[:100]}\\n\", )\n",
    "    df =  train_df.iloc[indices[i]]\n",
    "    abstracts = df['abstract']\n",
    "    titles = df['title']\n",
    "    dist = distances[i]\n",
    "    for l in range(len(dist)):\n",
    "        print(f\" Text index = {indices[i][l]} \\n Distance = {distances[i][l]} \\n Title: {titles.iloc[l]} \\n Abstract extract: {abstracts.iloc[l][:200]}\\n\\n\")"
   ]
  },
  {
   "cell_type": "markdown",
   "metadata": {},
   "source": [
    "### Clustering and visualisation"
   ]
  },
  {
   "cell_type": "code",
   "execution_count": 17,
   "metadata": {},
   "outputs": [
    {
     "data": {
      "image/png": "[encoded data removed]",
      "text/plain": [
       "<Figure size 576x396 with 2 Axes>"
      ]
     },
     "metadata": {},
     "output_type": "display_data"
    },
    {
     "data": {
      "text/plain": [
       "<matplotlib.axes._subplots.AxesSubplot at 0x7fe647ca8bd0>"
      ]
     },
     "execution_count": 17,
     "metadata": {},
     "output_type": "execute_result"
    }
   ],
   "source": [
    "abstract_vectors = model.docvecs.vectors_docs\n",
    "kmeans = KMeans(init = 'k-means++', max_iter = 300, random_state = 42) \n",
    "visualizer = KElbowVisualizer(kmeans, k = (2, 16))\n",
    "visualizer.fit(abstract_vectors)\n",
    "visualizer.show()"
   ]
  },
  {
   "cell_type": "code",
   "execution_count": 21,
   "metadata": {},
   "outputs": [],
   "source": [
    "# Clearly 7 clusters are here"
   ]
  },
  {
   "cell_type": "code",
   "execution_count": 22,
   "metadata": {},
   "outputs": [],
   "source": [
    "kmeans = KMeans(n_clusters = 7, init = 'k-means++', max_iter = 100, random_state = 42) \n",
    "train_df['labels'] = kmeans.fit_predict(train_array)"
   ]
  },
  {
   "cell_type": "code",
   "execution_count": 23,
   "metadata": {},
   "outputs": [
    {
     "data": {
      "text/html": [
       "<div>\n",
       "<style scoped>\n",
       "    .dataframe tbody tr th:only-of-type {\n",
       "        vertical-align: middle;\n",
       "    }\n",
       "\n",
       "    .dataframe tbody tr th {\n",
       "        vertical-align: top;\n",
       "    }\n",
       "\n",
       "    .dataframe thead th {\n",
       "        text-align: right;\n",
       "    }\n",
       "</style>\n",
       "<table border=\"1\" class=\"dataframe\">\n",
       "  <thead>\n",
       "    <tr style=\"text-align: right;\">\n",
       "      <th></th>\n",
       "      <th>text</th>\n",
       "      <th>labels</th>\n",
       "    </tr>\n",
       "  </thead>\n",
       "  <tbody>\n",
       "    <tr>\n",
       "      <th>2496</th>\n",
       "      <td>J o u r n a l P r e -p r o o f radiológicas in...</td>\n",
       "      <td>4</td>\n",
       "    </tr>\n",
       "    <tr>\n",
       "      <th>26308</th>\n",
       "      <td>SARS-CoV-2 is the responsible pathogen for pan...</td>\n",
       "      <td>2</td>\n",
       "    </tr>\n",
       "    <tr>\n",
       "      <th>9960</th>\n",
       "      <td>The Millennium Development Goals (MDGs) repres...</td>\n",
       "      <td>0</td>\n",
       "    </tr>\n",
       "    <tr>\n",
       "      <th>30026</th>\n",
       "      <td>In the asset pricing literature, a variety of ...</td>\n",
       "      <td>0</td>\n",
       "    </tr>\n",
       "    <tr>\n",
       "      <th>13468</th>\n",
       "      <td>Shiga toxins (Stx1 and Stx2) are the main viru...</td>\n",
       "      <td>6</td>\n",
       "    </tr>\n",
       "    <tr>\n",
       "      <th>25374</th>\n",
       "      <td>The aims of this review are to examine the his...</td>\n",
       "      <td>1</td>\n",
       "    </tr>\n",
       "    <tr>\n",
       "      <th>6119</th>\n",
       "      <td>The plasmacytoid dendritic cell (pDC) is a spe...</td>\n",
       "      <td>5</td>\n",
       "    </tr>\n",
       "    <tr>\n",
       "      <th>26407</th>\n",
       "      <td>Pneumocystis pneumonia (PCP) is a severe oppor...</td>\n",
       "      <td>3</td>\n",
       "    </tr>\n",
       "    <tr>\n",
       "      <th>22979</th>\n",
       "      <td>With the development of the international econ...</td>\n",
       "      <td>1</td>\n",
       "    </tr>\n",
       "    <tr>\n",
       "      <th>3568</th>\n",
       "      <td>During autumn 2005, we conducted 3,436 intervi...</td>\n",
       "      <td>1</td>\n",
       "    </tr>\n",
       "    <tr>\n",
       "      <th>6018</th>\n",
       "      <td>In the real world, many of the natural languag...</td>\n",
       "      <td>4</td>\n",
       "    </tr>\n",
       "    <tr>\n",
       "      <th>374</th>\n",
       "      <td>Scrub and murine typhus, caused by Orientia ts...</td>\n",
       "      <td>3</td>\n",
       "    </tr>\n",
       "    <tr>\n",
       "      <th>32782</th>\n",
       "      <td>Ribonucleic acid (RNA) is the third, and (unti...</td>\n",
       "      <td>1</td>\n",
       "    </tr>\n",
       "    <tr>\n",
       "      <th>22847</th>\n",
       "      <td>On 11th March 2020, WHO Director-General Tedro...</td>\n",
       "      <td>0</td>\n",
       "    </tr>\n",
       "    <tr>\n",
       "      <th>10876</th>\n",
       "      <td>Recently, healthcare institutions around the w...</td>\n",
       "      <td>2</td>\n",
       "    </tr>\n",
       "    <tr>\n",
       "      <th>20867</th>\n",
       "      <td>Acute rhinosinusitis (ARS) is a complex entity...</td>\n",
       "      <td>3</td>\n",
       "    </tr>\n",
       "    <tr>\n",
       "      <th>27954</th>\n",
       "      <td>An important problem in the field of string ma...</td>\n",
       "      <td>1</td>\n",
       "    </tr>\n",
       "    <tr>\n",
       "      <th>5570</th>\n",
       "      <td>Cell homeostasis is maintained by a precisely ...</td>\n",
       "      <td>2</td>\n",
       "    </tr>\n",
       "    <tr>\n",
       "      <th>2138</th>\n",
       "      <td>Ebola virus disease (EVD) is a disease of huma...</td>\n",
       "      <td>1</td>\n",
       "    </tr>\n",
       "    <tr>\n",
       "      <th>33083</th>\n",
       "      <td>Adenoviruses (Ads) cause mild disease in human...</td>\n",
       "      <td>2</td>\n",
       "    </tr>\n",
       "  </tbody>\n",
       "</table>\n",
       "</div>"
      ],
      "text/plain": [
       "                                                    text  labels\n",
       "2496   J o u r n a l P r e -p r o o f radiológicas in...       4\n",
       "26308  SARS-CoV-2 is the responsible pathogen for pan...       2\n",
       "9960   The Millennium Development Goals (MDGs) repres...       0\n",
       "30026  In the asset pricing literature, a variety of ...       0\n",
       "13468  Shiga toxins (Stx1 and Stx2) are the main viru...       6\n",
       "25374  The aims of this review are to examine the his...       1\n",
       "6119   The plasmacytoid dendritic cell (pDC) is a spe...       5\n",
       "26407  Pneumocystis pneumonia (PCP) is a severe oppor...       3\n",
       "22979  With the development of the international econ...       1\n",
       "3568   During autumn 2005, we conducted 3,436 intervi...       1\n",
       "6018   In the real world, many of the natural languag...       4\n",
       "374    Scrub and murine typhus, caused by Orientia ts...       3\n",
       "32782  Ribonucleic acid (RNA) is the third, and (unti...       1\n",
       "22847  On 11th March 2020, WHO Director-General Tedro...       0\n",
       "10876  Recently, healthcare institutions around the w...       2\n",
       "20867  Acute rhinosinusitis (ARS) is a complex entity...       3\n",
       "27954  An important problem in the field of string ma...       1\n",
       "5570   Cell homeostasis is maintained by a precisely ...       2\n",
       "2138   Ebola virus disease (EVD) is a disease of huma...       1\n",
       "33083  Adenoviruses (Ads) cause mild disease in human...       2"
      ]
     },
     "execution_count": 23,
     "metadata": {},
     "output_type": "execute_result"
    }
   ],
   "source": [
    "train_df[['text','labels']][:20]"
   ]
  },
  {
   "cell_type": "markdown",
   "metadata": {},
   "source": [
    "### Save Binaries"
   ]
  },
  {
   "cell_type": "code",
   "execution_count": null,
   "metadata": {},
   "outputs": [],
   "source": []
  }
 ],
 "metadata": {
  "kernelspec": {
   "display_name": "Python 3",
   "language": "python",
   "name": "python3"
  },
  "language_info": {
   "codemirror_mode": {
    "name": "ipython",
    "version": 3
   },
   "file_extension": ".py",
   "mimetype": "text/x-python",
   "name": "python",
   "nbconvert_exporter": "python",
   "pygments_lexer": "ipython3",
   "version": "3.7.7"
  }
 },
 "nbformat": 4,
 "nbformat_minor": 4
}
